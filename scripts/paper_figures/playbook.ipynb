{
 "cells": [
  {
   "cell_type": "code",
   "execution_count": 1,
   "metadata": {
    "collapsed": true,
    "ExecuteTime": {
     "start_time": "2023-09-05T20:27:50.845251Z",
     "end_time": "2023-09-05T20:27:51.825128Z"
    }
   },
   "outputs": [],
   "source": [
    "import pandas as pd\n",
    "import numpy as np\n",
    "import os\n",
    "import matplotlib.pyplot as plt\n",
    "\n",
    "plt.rcParams[\"svg.fonttype\"] = \"none\"\n",
    "plt.rcParams[\"pdf.fonttype\"] = 42\n",
    "\n",
    "import seaborn as sns\n",
    "sns.set_theme(style=\"dark\")\n",
    "\n",
    "from scripts.paper_figures.data_processing.data_processing import main as init_data\n",
    "from scripts.paper_figures.data_processing.process_pumping import ProboscisProcessing\n"
   ]
  },
  {
   "cell_type": "code",
   "execution_count": 2,
   "outputs": [
    {
     "name": "stdout",
     "output_type": "stream",
     "text": [
      "Data Loading and Preprocessing...\n"
     ]
    },
    {
     "ename": "AttributeError",
     "evalue": "'Args' object has no attribute 'TMP_RESULT_FOLDER'",
     "output_type": "error",
     "traceback": [
      "\u001B[1;31m---------------------------------------------------------------------------\u001B[0m",
      "\u001B[1;31mAttributeError\u001B[0m                            Traceback (most recent call last)",
      "Cell \u001B[1;32mIn[2], line 1\u001B[0m\n\u001B[1;32m----> 1\u001B[0m llh, processed_data , io_process \u001B[38;5;241m=\u001B[39m \u001B[43minit_data\u001B[49m\u001B[43m(\u001B[49m\u001B[43m)\u001B[49m\n",
      "File \u001B[1;32m~\\Documents\\GitHub\\basty\\scripts\\paper_figures\\data_processing\\data_processing.py:19\u001B[0m, in \u001B[0;36mmain\u001B[1;34m()\u001B[0m\n\u001B[0;32m     17\u001B[0m \u001B[38;5;28;01mdef\u001B[39;00m \u001B[38;5;21mmain\u001B[39m():\n\u001B[0;32m     18\u001B[0m     args \u001B[38;5;241m=\u001B[39m Args()\n\u001B[1;32m---> 19\u001B[0m     df_data, expt_info_df, project, io_process \u001B[38;5;241m=\u001B[39m \u001B[43mprepare_data\u001B[49m\u001B[43m(\u001B[49m\u001B[43margs\u001B[49m\u001B[43m)\u001B[49m\n\u001B[0;32m     20\u001B[0m     llh, processed_data\u001B[38;5;241m=\u001B[39m process_data(args, df_data, expt_info_df, project)\n\u001B[0;32m     21\u001B[0m     \u001B[38;5;28;01mreturn\u001B[39;00m llh, processed_data, io_process\n",
      "File \u001B[1;32m~\\Documents\\GitHub\\basty\\scripts\\paper_figures\\data_processing\\data_preperation.py:13\u001B[0m, in \u001B[0;36mprepare_data\u001B[1;34m(args)\u001B[0m\n\u001B[0;32m     11\u001B[0m \u001B[38;5;28mprint\u001B[39m(\u001B[38;5;124m\"\u001B[39m\u001B[38;5;124mData Loading and Preprocessing...\u001B[39m\u001B[38;5;124m\"\u001B[39m)\n\u001B[0;32m     12\u001B[0m \u001B[38;5;66;03m# Data Loading and Preprocessing\u001B[39;00m\n\u001B[1;32m---> 13\u001B[0m io_process \u001B[38;5;241m=\u001B[39m Input(project, args\u001B[38;5;241m.\u001B[39mRESULTS_FOLDER, \u001B[43margs\u001B[49m\u001B[38;5;241;43m.\u001B[39;49m\u001B[43mTMP_RESULT_FOLDER\u001B[49m)\n\u001B[0;32m     14\u001B[0m expt_info_df \u001B[38;5;241m=\u001B[39m io_process\u001B[38;5;241m.\u001B[39mload_expt_info()\n\u001B[0;32m     15\u001B[0m df_data \u001B[38;5;241m=\u001B[39m io_process\u001B[38;5;241m.\u001B[39mload_predictions()\n",
      "\u001B[1;31mAttributeError\u001B[0m: 'Args' object has no attribute 'TMP_RESULT_FOLDER'"
     ]
    }
   ],
   "source": [
    "llh, processed_data , io_process = init_data()"
   ],
   "metadata": {
    "collapsed": false,
    "ExecuteTime": {
     "start_time": "2023-07-19T17:44:20.239501Z",
     "end_time": "2023-07-19T17:49:32.934495Z"
    }
   }
  },
  {
   "cell_type": "code",
   "execution_count": 3,
   "outputs": [
    {
     "data": {
      "text/plain": "<scripts.paper_figures.process_results.BehaviorData at 0x1d9adcc50d0>"
     },
     "execution_count": 3,
     "metadata": {},
     "output_type": "execute_result"
    }
   ],
   "source": [
    "from filter_timeseries import ProboscisAnalysis\n",
    "import filter_timeseries\n",
    "import importlib\n",
    "\n",
    "importlib.reload(filter_timeseries)\n",
    "from filter_timeseries import ProboscisAnalysis\n",
    "\n",
    "prob_dat = ProboscisAnalysis(bouts_dict)\n",
    "proc_bouts = prob_dat.preprocess_all_data()\n",
    "import filter_timeseries\n",
    "import importlib\n",
    "\n",
    "importlib.reload(filter_timeseries)\n",
    "from filter_timeseries import ProboscisAnalysis\n",
    "\n",
    "shortest_length = prob_dat.find_shortest_series('distance.origin-prob')\n",
    "\n",
    "# Now, you can segment each time series in each dataframe in your data dictionary\n",
    "for key in bouts_dict.keys():\n",
    "    bouts_dict[key] = prob_dat.segment_timeseries_column(bouts_dict[key], 'distance.origin-prob', shortest_length)\n",
    "unpacked_df = prob_dat.unpack_dataframes('distance.origin-prob_segmented')\n",
    "unpacked_df = ProboscisAnalysis.calculate_spectral_density_for_dataframe(unpacked_df)\n",
    "import plotly.subplots as sp\n",
    "import plotly.graph_objects as go\n",
    "\n",
    "# Assuming your DataFrame is named `df` and contains the 'time_series' and 'PSDs' columns\n",
    "\n",
    "# Select the row you want to plot (e.g., row with index 0)\n",
    "row_index = 15\n",
    "selected_row = unpacked_df.iloc[row_index]\n",
    "\n",
    "# Extract the time series and PSDs from the selected row\n",
    "time_series = selected_row['time_series']\n",
    "psds = selected_row['PSDs']\n",
    "\n",
    "# Create subplots with shared x-axis\n",
    "fig = sp.make_subplots(rows=1, cols=2, shared_xaxes=True)\n",
    "\n",
    "# Add the time series subplot as a line plot\n",
    "fig.add_trace(go.Scatter(x=list(range(len(time_series))), y=time_series, mode='lines', name='Time Series'), row=1,\n",
    "              col=1)\n",
    "\n",
    "# Add the PSDs subplot as a line plot\n",
    "fig.add_trace(go.Scatter(x=psds[0], y=psds[1], mode='lines', name='PSDs'), row=1, col=2)\n",
    "\n",
    "# Update subplot titles and layout\n",
    "fig.update_layout(\n",
    "    title='Time Series and Power Spectral Density',\n",
    "    xaxis=dict(title='Time/Frequency'),\n",
    "    yaxis1=dict(title='Value', domain=[0.2, 1]),\n",
    "    yaxis2=dict(title='Power', domain=[0, 0.8]),\n",
    "    width=800,\n",
    "    height=400,\n",
    "    showlegend=True,\n",
    "    legend=dict(x=0, y=1),\n",
    ")\n",
    "\n",
    "# Show the plot\n",
    "fig.show()\n",
    "\n",
    "import numpy as np\n",
    "import matplotlib.pyplot as plt\n",
    "\n",
    "# Define the number of bins for the histogram\n",
    "n_bins = 50\n",
    "\n",
    "# Initialize a list to store the histogram for each instance\n",
    "histograms = []\n",
    "\n",
    "# For each instance in the dataset\n",
    "for psd in unpacked_df['PSDs']:\n",
    "    # Get the frequencies and powers\n",
    "    frequencies = psd[0]\n",
    "    powers = psd[1]\n",
    "\n",
    "    # Filter out frequencies higher than 5 Hz\n",
    "    powers = [power for freq, power in zip(frequencies, powers) if freq <= 5]\n",
    "\n",
    "    # Compute the histogram of the powers\n",
    "    hist, bin_edges = np.histogram(powers, bins=n_bins)\n",
    "\n",
    "    # Normalize the histogram\n",
    "    hist = hist / np.sum(hist)\n",
    "\n",
    "    # Add the histogram to the list\n",
    "    histograms.append(hist)\n",
    "\n",
    "# Convert the list of histograms into a 2D array\n",
    "histograms = np.array(histograms)\n",
    "\n",
    "# Now, 'histograms' is a 2D array where each row is an instance and each column is a histogram bin.\n",
    "# You can use this array as input to your machine learning algorithm.\n",
    "\n",
    "from sklearn.decomposition import PCA\n",
    "\n",
    "# Create a PCA object\n",
    "pca = PCA(n_components=3)  # Change this to the number of components you want\n",
    "\n",
    "# Fit the PCA model to your data and apply the dimensionality reduction\n",
    "pca_result = pca.fit_transform(histograms)\n",
    "\n",
    "# Print the explained variance ratio\n",
    "print('Explained variance ratio:', pca.explained_variance_ratio_)\n",
    "\n",
    "import matplotlib.pyplot as plt\n",
    "\n",
    "# Get the weights of the original features for the first principal component\n",
    "component = pca.components_[0]\n",
    "\n",
    "# Create a list of frequency bands corresponding to your histogram bins\n",
    "frequency_bands = [f\"{0.1 * i}-{0.1 * (i + 1)}Hz\" for i in range(50)]\n",
    "\n",
    "# Create a bar plot\n",
    "plt.figure(figsize=(15, 5))  # Increase the figure size for better visibility\n",
    "plt.bar(frequency_bands, component)\n",
    "plt.xlabel('Frequency Band')\n",
    "plt.ylabel('Importance')\n",
    "plt.title('Importance of Frequency Bands for First Principal Component')\n",
    "plt.xticks(rotation=90)  # Rotate the x-axis labels for better visibility\n",
    "plt.show()\n",
    "\n",
    "print('Components:', pca.components_)\n",
    "expt_name = 'Fly06292022_5d_A'\n",
    "#plt.plot(bouts_dict[expt_name]['distance.origin-prob_segmented'][1][200])\n",
    "len(bouts_dict[expt_name]['distance.origin-prob_segmented'][1])\n",
    "pds2 = spect_density_dict[expt_name]['PSD_50']\n",
    "psd = (spect_density_dict[expt_name]['PSD_50'][50])\n",
    "\n",
    "import plotly.express as px\n",
    "\n",
    "# Plot the spectral density using Plotly\n",
    "fig = px.line(\n",
    "    x=psd[0],\n",
    "    y=psd[1],\n",
    "    title=\"PSD for\",\n",
    "    width=700,\n",
    "    height=400\n",
    ")\n",
    "fig.show()\n",
    "len(bouts_dict[expt_name]['distance.origin-prob_segmented'][2])\n",
    "expt_name = 'Fly06292022_5d_A'\n",
    "plt.plot(bouts_dict[expt_name]['distance.origin-prob_segmented'][1][1])\n",
    "expt_name = 'Fly06292022_5d_A'\n",
    "\n",
    "dt = np.diff(bouts_dict[expt_name]['distance.origin-prob_segmented'][1][1])\n",
    "#plt.plot(bouts_dict[expt_name]['distance.origin-prob'][9])\n",
    "plt.plot(dt)\n",
    "sig = bouts_dict[expt_name]['distance.origin-prob']\n",
    "print(type(sig.iloc[0]))\n",
    "import numpy as np\n",
    "import matplotlib.pyplot as plt\n",
    "from scipy.signal import stft\n",
    "\n",
    "# let's assume your dictionary is named `experiments`\n",
    "# get the first key and dataframe from the dictionary\n",
    "first_key = list(bouts_dict.keys())[0]\n",
    "first_key = 'Fly06292022_5d_A'\n",
    "first_df = bouts_dict[first_key]\n",
    "\n",
    "# choose the time series feature you want to transform\n",
    "feature = 'distance.origin-prob'\n",
    "\n",
    "# perform STFT on each row\n",
    "for i, row in first_df.iterrows():\n",
    "    f, t, Zxx = stft(row[feature], fs=30, nperseg=64, noverlap=32)  # fs=30Hz is the sample rate\n",
    "\n",
    "    # Plot the spectrogram\n",
    "    plt.pcolormesh(t, f, np.abs(Zxx), shading='gouraud')\n",
    "    plt.title(f'Spectrogram for row {i + 1} in experiment {first_key}')\n",
    "    plt.ylabel('Frequency [Hz]')\n",
    "    plt.xlabel('Time [sec]')\n",
    "    plt.ylim([0.2, 1.1])\n",
    "    plt.pcolormesh(t, f, 10 * np.log10(np.abs(Zxx)), shading='gouraud')\n",
    "    plt.colorbar(label='dB')\n",
    "\n",
    "    plt.show()\n",
    "\n",
    "    # To avoid plotting all rows, break the loop after first one (remove this to plot all rows)\n",
    "\n"
   ],
   "metadata": {
    "collapsed": false,
    "ExecuteTime": {
     "start_time": "2023-07-19T17:49:38.206795Z",
     "end_time": "2023-07-19T17:49:38.217819Z"
    }
   }
  },
  {
   "cell_type": "code",
   "execution_count": 4,
   "outputs": [
    {
     "data": {
      "text/plain": "[]"
     },
     "execution_count": 4,
     "metadata": {},
     "output_type": "execute_result"
    }
   ],
   "source": [],
   "metadata": {
    "collapsed": false,
    "ExecuteTime": {
     "start_time": "2023-07-19T17:49:55.320317Z",
     "end_time": "2023-07-19T17:49:55.330317Z"
    }
   }
  },
  {
   "cell_type": "code",
   "execution_count": null,
   "outputs": [],
   "source": [],
   "metadata": {
    "collapsed": false
   }
  }
 ],
 "metadata": {
  "kernelspec": {
   "display_name": "Python 3",
   "language": "python",
   "name": "python3"
  },
  "language_info": {
   "codemirror_mode": {
    "name": "ipython",
    "version": 2
   },
   "file_extension": ".py",
   "mimetype": "text/x-python",
   "name": "python",
   "nbconvert_exporter": "python",
   "pygments_lexer": "ipython2",
   "version": "2.7.6"
  }
 },
 "nbformat": 4,
 "nbformat_minor": 0
}
