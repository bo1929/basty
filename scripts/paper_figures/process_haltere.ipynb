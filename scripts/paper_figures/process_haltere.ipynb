{
 "cells": [
  {
   "cell_type": "code",
   "execution_count": null,
   "id": "initial_id",
   "metadata": {
    "collapsed": true
   },
   "outputs": [],
   "source": [
    "import os\n",
    "from scripts.paper_figures.input import Input\n",
    "\n",
    "import basty.project.experiment_processing as experiment_processing\n",
    "from scripts.paper_figures.process_results import BehaviorData\n",
    "\n",
    "from basty.utils import misc"
   ]
  },
  {
   "cell_type": "code",
   "execution_count": null,
   "outputs": [],
   "source": [
    "\n",
    "RESULTS_FOLDER = r'Z:\\mfk\\basty-projects\\backup-allHaltere\\results\\semisupervised_pair_kNN\\predictions.100NN.neighbor_weights-distance.neighbor_weights_norm-count.activation-standard.voting-soft.voting_weights-None\\exports'\n",
    "\n",
    "BODY_PART_SETS = {\"HaltereSwitch\": \"prob\", \"Feeding\": \"prob\"}\n",
    "\n",
    "CONFIG_PATH = r\"Z:\\mfk\\basty-projects\\main_cfg.yaml\"\n",
    "\n",
    "PROJECT_PATH = os.path.dirname(CONFIG_PATH)\n",
    "\n",
    "TMP_RESULT_FOLDER = os.path.join(PROJECT_PATH,'tmp_results')\n",
    "\n",
    "project = experiment_processing.Project(CONFIG_PATH)\n",
    "\n",
    "BEHAVIORS = ['HaltereSwitch']\n",
    "\n",
    "BODY_PART_SETS = {\"ProboscisPumping\": \"prob\", \"Feeding\": \"prob\", \"HaltereSwitch\": \"halt\"}"
   ],
   "metadata": {
    "collapsed": false
   },
   "id": "db08ebaf9b7a90d9"
  },
  {
   "cell_type": "code",
   "execution_count": null,
   "outputs": [],
   "source": [
    "io_process = Input(project, RESULTS_FOLDER, TMP_RESULT_FOLDER)"
   ],
   "metadata": {
    "collapsed": false
   },
   "id": "19b5b32d14d3938b"
  },
  {
   "cell_type": "code",
   "execution_count": null,
   "outputs": [],
   "source": [
    "expt_info_df = io_process.load_expt_info()\n",
    "df_data = io_process.load_predictions()"
   ],
   "metadata": {
    "collapsed": false
   },
   "id": "31b7daec2971eb90"
  },
  {
   "cell_type": "code",
   "execution_count": null,
   "outputs": [],
   "source": [
    "# Drop Noise, Feeding, Grooming, ProboscisPumping from df_data\n",
    "df_data.drop(['Noise','Feeding', 'Grooming', 'ProboscisPumping'], axis=1, inplace=True)\n",
    "\n",
    "io_process.create_binary_masks_subfolders(BEHAVIORS)"
   ],
   "metadata": {
    "collapsed": false
   },
   "id": "773a0d840e4a7683"
  },
  {
   "cell_type": "code",
   "execution_count": null,
   "outputs": [],
   "source": [
    "llh = misc.get_likelihood(project.data_path_dict, CONFIG_PATH)"
   ],
   "metadata": {
    "collapsed": false
   },
   "id": "66e0797794b26e06"
  },
  {
   "cell_type": "code",
   "execution_count": null,
   "outputs": [],
   "source": [
    "llh = llh[llh[\"ExptNames\"].isin(df_data.ExptNames.unique())]"
   ],
   "metadata": {
    "collapsed": false
   },
   "id": "106d55cf8892aa63"
  },
  {
   "cell_type": "code",
   "execution_count": null,
   "outputs": [],
   "source": [
    "from importlib import reload\n",
    "import scripts.paper_figures.process_results\n",
    "reload(scripts.paper_figures.process_results)\n",
    "from scripts.paper_figures.process_results import BehaviorData\n",
    "\n",
    "process_data = BehaviorData(df_data, binary_mask_threshold=0.7,body_parts=BODY_PART_SETS['HaltereSwitch'])\n",
    "\n",
    "process_data.process_expt_names_parallel(llh,io_process.get_binary_mask_subfolder(behavior='HaltereSwitch'))"
   ],
   "metadata": {
    "collapsed": false
   },
   "id": "59c0611caedee75d"
  },
  {
   "cell_type": "code",
   "execution_count": null,
   "outputs": [],
   "source": [
    "masks_based_on_llh = io_process.load_binary_mask('HaltereSwitch')\n",
    "beh_masks = process_data.create_binary_mask_from_behaviors(BEHAVIORS,'HaltereSwitch')\n",
    "masked_data = process_data.update_dictionary_with_final_masked(masks_based_on_llh,beh_masks)"
   ],
   "metadata": {
    "collapsed": false
   },
   "id": "7fad93c87957c2ed"
  },
  {
   "cell_type": "code",
   "execution_count": null,
   "outputs": [],
   "source": [
    "# Remove all the haltere switch events that scored less than 0.5\n",
    "\n",
    "# Masked data is a dictionary, so for each key, we have a dataframe get the column name that ends with _final_masked\n",
    "\n",
    "for key in masked_data.keys():\n",
    "    # Get the DataFrame associated with the current key\n",
    "    df = masked_data[key]\n",
    "    \n",
    "    # Filter the column(s) of interest\n",
    "    column_filtered = df.filter(regex='_final_masked$').columns[0]\n",
    "    \n",
    "    # Apply the transformation to the filtered column\n",
    "    df[column_filtered] = df[column_filtered].apply(lambda x: x if x > 0.5 else 0)\n",
    "    \n",
    "    # Update the modified DataFrame back into the dictionary\n",
    "    masked_data[key] = df\n",
    "\n"
   ],
   "metadata": {
    "collapsed": false
   },
   "id": "fb4a4ad78f2dda90"
  },
  {
   "cell_type": "code",
   "execution_count": null,
   "outputs": [],
   "source": [
    "bouts_dict = BehaviorData.find_consecutive_bouts_and_snap_fts(masked_data, io_process, 'HaltereSwitch', 6, 30*5, 60, True)"
   ],
   "metadata": {
    "collapsed": false
   },
   "id": "e432628dddfbd2b8"
  },
  {
   "cell_type": "code",
   "execution_count": null,
   "outputs": [],
   "source": [
    "import pickle\n",
    "folder_path = io_process.get_prediction_result_folder('HaltereSwitch')\n",
    "\n",
    "if not bouts_dict:\n",
    "    raise ValueError(\"Bouts are not processed\")\n",
    "\n",
    "with open(os.path.join(folder_path, 'bouts_dict.pkl'), 'wb') as f:\n",
    "    pickle.dump(bouts_dict, f)"
   ],
   "metadata": {
    "collapsed": false
   },
   "id": "fd9e81dbce83dc6b"
  },
  {
   "cell_type": "code",
   "execution_count": 238,
   "outputs": [],
   "source": [
    "import pandas as pd\n",
    "\n",
    "import pandas as pd\n",
    "\n",
    "def find_largest_change(timeseries):\n",
    "    # Convert the input list/array to a pandas Series\n",
    "    timeseries = pd.Series(timeseries)\n",
    "    \n",
    "    # Compute the difference between consecutive points in the series\n",
    "    diffs = timeseries.diff().abs()\n",
    "    \n",
    "    # Create a rolling window and find the maximum absolute difference\n",
    "    rolling_max_diff = diffs.rolling(window=30).max()\n",
    "    \n",
    "    # Return the index of the largest change\n",
    "    return rolling_max_diff.idxmax()\n",
    "\n",
    "def filter_small_ranges(timeseries,value=5):\n",
    "    \"\"\"Returns True if the range of the timeseries is >= 4, otherwise False\"\"\"\n",
    "    return (max(timeseries) - min(timeseries)) >= value\n",
    "\n",
    "# Create an empty dictionary to store the results\n",
    "index_of_max_changes = {}\n",
    "mod_dict = {}\n",
    "\n",
    "# Process each unique key in the bouts_dict\n",
    "for key in bouts_dict:\n",
    "    df = bouts_dict[key]\n",
    "    \n",
    "    # Filter rows where the timeseries range is less than 4 pixels\n",
    "    df = df[df['distance.thor_post-halt'].apply(filter_small_ranges)]\n",
    "    \n",
    "    # Apply the find_largest_change function to each row of the 'distance.thor_post-halt' column\n",
    "    indices = df['distance.thor_post-halt'].apply(find_largest_change)\n",
    "    \n",
    "    # Store the result in the index_of_max_changes dictionary\n",
    "    index_of_max_changes[key] = indices\n",
    "    \n",
    "    mod_dict[key] = df\n",
    "\n",
    "# Create an empty dictionary to store the final results\n",
    "final_dataframes = {}\n",
    "\n",
    "# Process each unique key in the bouts_dict\n",
    "for key in mod_dict:\n",
    "    df = mod_dict[key]\n",
    "    \n",
    "    # Create a new dataframe with start_index, stop_index, and index_of_max_changes\n",
    "    result_df = pd.DataFrame({\n",
    "        'start_index': df['start_index'].values + index_of_max_changes[key].values-15,\n",
    "        'stop_index': df['start_index'].values + index_of_max_changes[key].values + 15,\n",
    "        'index_of_max_changes': index_of_max_changes[key].values\n",
    "    })\n",
    "    \n",
    "    # Store the result dataframe in the final_dataframes dictionary\n",
    "    final_dataframes[key] = result_df"
   ],
   "metadata": {
    "collapsed": false,
    "ExecuteTime": {
     "end_time": "2023-10-28T20:48:43.236128800Z",
     "start_time": "2023-10-28T20:48:42.335128600Z"
    }
   },
   "id": "86aefdb8ccf9b5ca"
  },
  {
   "cell_type": "code",
   "execution_count": null,
   "outputs": [],
   "source": [
    "# Save the dataframe to disk \n",
    "import pickle\n",
    "folder_path = io_process.get_prediction_result_folder('HaltereSwitch')\n",
    "\n",
    "if not bouts_dict:\n",
    "    raise ValueError(\"Bouts are not processed\")\n",
    "\n",
    "with open(os.path.join(folder_path, 'haltere_final.pkl'), 'wb') as f:\n",
    "    pickle.dump(final_dataframes, f)"
   ],
   "metadata": {
    "collapsed": false
   },
   "id": "8c911b3625a151f2"
  },
  {
   "cell_type": "code",
   "execution_count": 239,
   "outputs": [
    {
     "data": {
      "text/plain": "    start_index  stop_index  index_of_max_changes\n0        139813      139843                   857\n1        194644      194674                   234\n2        208583      208613                   327\n3        209066      209096                   266\n4        221578      221608                   177\n5        234327      234357                   201\n6        234815      234845                   128\n7        237333      237363                   336\n8        251256      251286                   407\n9        255505      255535                   662\n10       259076      259106                  1217\n11       260589      260619                   137\n12       290697      290727                   116\n13       308151      308181                   256\n14       348094      348124                   140\n15       364390      364420                   198\n16       365851      365881                    38\n17       370109      370139                   143\n18       371542      371572                   736\n19       373947      373977                   643\n20       378531      378561                    72\n21       393960      393990                    40\n22       408330      408360                    73\n23       414737      414767                    62\n24       418910      418940                   366\n25       420393      420423                   298\n26       421521      421551                   727\n27       427499      427529                   518\n28       428649      428679                   569\n29       430915      430945                   167\n30       436178      436208                  3957\n31       439660      439690                  1278\n32       441446      441476                   316\n33       442715      442745                   183\n34       445754      445784                  1973\n35       448988      449018                  1036\n36       470945      470975                   101\n37       518280      518310                    95\n38       521289      521319                   405\n39       550286      550316                   503\n40       625949      625979                   142\n41       629429      629459                   192\n42       632284      632314                   550\n43       634313      634343                    65",
      "text/html": "<div>\n<style scoped>\n    .dataframe tbody tr th:only-of-type {\n        vertical-align: middle;\n    }\n\n    .dataframe tbody tr th {\n        vertical-align: top;\n    }\n\n    .dataframe thead th {\n        text-align: right;\n    }\n</style>\n<table border=\"1\" class=\"dataframe\">\n  <thead>\n    <tr style=\"text-align: right;\">\n      <th></th>\n      <th>start_index</th>\n      <th>stop_index</th>\n      <th>index_of_max_changes</th>\n    </tr>\n  </thead>\n  <tbody>\n    <tr>\n      <th>0</th>\n      <td>139813</td>\n      <td>139843</td>\n      <td>857</td>\n    </tr>\n    <tr>\n      <th>1</th>\n      <td>194644</td>\n      <td>194674</td>\n      <td>234</td>\n    </tr>\n    <tr>\n      <th>2</th>\n      <td>208583</td>\n      <td>208613</td>\n      <td>327</td>\n    </tr>\n    <tr>\n      <th>3</th>\n      <td>209066</td>\n      <td>209096</td>\n      <td>266</td>\n    </tr>\n    <tr>\n      <th>4</th>\n      <td>221578</td>\n      <td>221608</td>\n      <td>177</td>\n    </tr>\n    <tr>\n      <th>5</th>\n      <td>234327</td>\n      <td>234357</td>\n      <td>201</td>\n    </tr>\n    <tr>\n      <th>6</th>\n      <td>234815</td>\n      <td>234845</td>\n      <td>128</td>\n    </tr>\n    <tr>\n      <th>7</th>\n      <td>237333</td>\n      <td>237363</td>\n      <td>336</td>\n    </tr>\n    <tr>\n      <th>8</th>\n      <td>251256</td>\n      <td>251286</td>\n      <td>407</td>\n    </tr>\n    <tr>\n      <th>9</th>\n      <td>255505</td>\n      <td>255535</td>\n      <td>662</td>\n    </tr>\n    <tr>\n      <th>10</th>\n      <td>259076</td>\n      <td>259106</td>\n      <td>1217</td>\n    </tr>\n    <tr>\n      <th>11</th>\n      <td>260589</td>\n      <td>260619</td>\n      <td>137</td>\n    </tr>\n    <tr>\n      <th>12</th>\n      <td>290697</td>\n      <td>290727</td>\n      <td>116</td>\n    </tr>\n    <tr>\n      <th>13</th>\n      <td>308151</td>\n      <td>308181</td>\n      <td>256</td>\n    </tr>\n    <tr>\n      <th>14</th>\n      <td>348094</td>\n      <td>348124</td>\n      <td>140</td>\n    </tr>\n    <tr>\n      <th>15</th>\n      <td>364390</td>\n      <td>364420</td>\n      <td>198</td>\n    </tr>\n    <tr>\n      <th>16</th>\n      <td>365851</td>\n      <td>365881</td>\n      <td>38</td>\n    </tr>\n    <tr>\n      <th>17</th>\n      <td>370109</td>\n      <td>370139</td>\n      <td>143</td>\n    </tr>\n    <tr>\n      <th>18</th>\n      <td>371542</td>\n      <td>371572</td>\n      <td>736</td>\n    </tr>\n    <tr>\n      <th>19</th>\n      <td>373947</td>\n      <td>373977</td>\n      <td>643</td>\n    </tr>\n    <tr>\n      <th>20</th>\n      <td>378531</td>\n      <td>378561</td>\n      <td>72</td>\n    </tr>\n    <tr>\n      <th>21</th>\n      <td>393960</td>\n      <td>393990</td>\n      <td>40</td>\n    </tr>\n    <tr>\n      <th>22</th>\n      <td>408330</td>\n      <td>408360</td>\n      <td>73</td>\n    </tr>\n    <tr>\n      <th>23</th>\n      <td>414737</td>\n      <td>414767</td>\n      <td>62</td>\n    </tr>\n    <tr>\n      <th>24</th>\n      <td>418910</td>\n      <td>418940</td>\n      <td>366</td>\n    </tr>\n    <tr>\n      <th>25</th>\n      <td>420393</td>\n      <td>420423</td>\n      <td>298</td>\n    </tr>\n    <tr>\n      <th>26</th>\n      <td>421521</td>\n      <td>421551</td>\n      <td>727</td>\n    </tr>\n    <tr>\n      <th>27</th>\n      <td>427499</td>\n      <td>427529</td>\n      <td>518</td>\n    </tr>\n    <tr>\n      <th>28</th>\n      <td>428649</td>\n      <td>428679</td>\n      <td>569</td>\n    </tr>\n    <tr>\n      <th>29</th>\n      <td>430915</td>\n      <td>430945</td>\n      <td>167</td>\n    </tr>\n    <tr>\n      <th>30</th>\n      <td>436178</td>\n      <td>436208</td>\n      <td>3957</td>\n    </tr>\n    <tr>\n      <th>31</th>\n      <td>439660</td>\n      <td>439690</td>\n      <td>1278</td>\n    </tr>\n    <tr>\n      <th>32</th>\n      <td>441446</td>\n      <td>441476</td>\n      <td>316</td>\n    </tr>\n    <tr>\n      <th>33</th>\n      <td>442715</td>\n      <td>442745</td>\n      <td>183</td>\n    </tr>\n    <tr>\n      <th>34</th>\n      <td>445754</td>\n      <td>445784</td>\n      <td>1973</td>\n    </tr>\n    <tr>\n      <th>35</th>\n      <td>448988</td>\n      <td>449018</td>\n      <td>1036</td>\n    </tr>\n    <tr>\n      <th>36</th>\n      <td>470945</td>\n      <td>470975</td>\n      <td>101</td>\n    </tr>\n    <tr>\n      <th>37</th>\n      <td>518280</td>\n      <td>518310</td>\n      <td>95</td>\n    </tr>\n    <tr>\n      <th>38</th>\n      <td>521289</td>\n      <td>521319</td>\n      <td>405</td>\n    </tr>\n    <tr>\n      <th>39</th>\n      <td>550286</td>\n      <td>550316</td>\n      <td>503</td>\n    </tr>\n    <tr>\n      <th>40</th>\n      <td>625949</td>\n      <td>625979</td>\n      <td>142</td>\n    </tr>\n    <tr>\n      <th>41</th>\n      <td>629429</td>\n      <td>629459</td>\n      <td>192</td>\n    </tr>\n    <tr>\n      <th>42</th>\n      <td>632284</td>\n      <td>632314</td>\n      <td>550</td>\n    </tr>\n    <tr>\n      <th>43</th>\n      <td>634313</td>\n      <td>634343</td>\n      <td>65</td>\n    </tr>\n  </tbody>\n</table>\n</div>"
     },
     "execution_count": 239,
     "metadata": {},
     "output_type": "execute_result"
    }
   ],
   "source": [
    "# Remove the following key from the final_dataframes 'Fly05252022_SD_5d\n",
    "final_dataframes.pop('Fly05252022_SD_5d')"
   ],
   "metadata": {
    "collapsed": false,
    "ExecuteTime": {
     "end_time": "2023-10-28T20:48:59.101764400Z",
     "start_time": "2023-10-28T20:48:59.090776700Z"
    }
   },
   "id": "5f40ed021c2f35cf"
  },
  {
   "cell_type": "code",
   "execution_count": 240,
   "outputs": [],
   "source": [
    "result_list = []\n",
    "\n",
    "for name, df in final_dataframes.items():\n",
    "    df = df.copy()  # Make a copy of the dataframe to avoid modifying the original\n",
    "    df['ExptNames'] = name\n",
    "    result_list.append(df)\n",
    "\n",
    "concatenated_df = pd.concat(result_list, ignore_index=True)\n",
    "\n"
   ],
   "metadata": {
    "collapsed": false,
    "ExecuteTime": {
     "end_time": "2023-10-28T20:49:07.488771400Z",
     "start_time": "2023-10-28T20:49:07.454754200Z"
    }
   },
   "id": "9490c15966a02650"
  },
  {
   "cell_type": "code",
   "execution_count": 241,
   "outputs": [
    {
     "data": {
      "text/plain": "     start_index stop_index index_of_max_changes            ExptNames\n0         439944     439974                  895  Fly07132022_5d_SD_A\n1         443391     443421                  436  Fly07132022_5d_SD_A\n2         381894     381924                   34  Fly07062022_5d_SD_A\n3         439419     439449                  558  Fly07062022_5d_SD_A\n4         205175     205205                   60  Fly06302022_5d_SD_B\n...          ...        ...                  ...                  ...\n1346     1648082    1648112                  500       Fly06182022_4d\n1347     1664745    1664775                 1855       Fly06182022_4d\n1348     1673851    1673881                 2585       Fly06182022_4d\n1349     1674857    1674887                  374       Fly06182022_4d\n1350     1689534    1689564                 7485       Fly06182022_4d\n\n[1351 rows x 4 columns]",
      "text/html": "<div>\n<style scoped>\n    .dataframe tbody tr th:only-of-type {\n        vertical-align: middle;\n    }\n\n    .dataframe tbody tr th {\n        vertical-align: top;\n    }\n\n    .dataframe thead th {\n        text-align: right;\n    }\n</style>\n<table border=\"1\" class=\"dataframe\">\n  <thead>\n    <tr style=\"text-align: right;\">\n      <th></th>\n      <th>start_index</th>\n      <th>stop_index</th>\n      <th>index_of_max_changes</th>\n      <th>ExptNames</th>\n    </tr>\n  </thead>\n  <tbody>\n    <tr>\n      <th>0</th>\n      <td>439944</td>\n      <td>439974</td>\n      <td>895</td>\n      <td>Fly07132022_5d_SD_A</td>\n    </tr>\n    <tr>\n      <th>1</th>\n      <td>443391</td>\n      <td>443421</td>\n      <td>436</td>\n      <td>Fly07132022_5d_SD_A</td>\n    </tr>\n    <tr>\n      <th>2</th>\n      <td>381894</td>\n      <td>381924</td>\n      <td>34</td>\n      <td>Fly07062022_5d_SD_A</td>\n    </tr>\n    <tr>\n      <th>3</th>\n      <td>439419</td>\n      <td>439449</td>\n      <td>558</td>\n      <td>Fly07062022_5d_SD_A</td>\n    </tr>\n    <tr>\n      <th>4</th>\n      <td>205175</td>\n      <td>205205</td>\n      <td>60</td>\n      <td>Fly06302022_5d_SD_B</td>\n    </tr>\n    <tr>\n      <th>...</th>\n      <td>...</td>\n      <td>...</td>\n      <td>...</td>\n      <td>...</td>\n    </tr>\n    <tr>\n      <th>1346</th>\n      <td>1648082</td>\n      <td>1648112</td>\n      <td>500</td>\n      <td>Fly06182022_4d</td>\n    </tr>\n    <tr>\n      <th>1347</th>\n      <td>1664745</td>\n      <td>1664775</td>\n      <td>1855</td>\n      <td>Fly06182022_4d</td>\n    </tr>\n    <tr>\n      <th>1348</th>\n      <td>1673851</td>\n      <td>1673881</td>\n      <td>2585</td>\n      <td>Fly06182022_4d</td>\n    </tr>\n    <tr>\n      <th>1349</th>\n      <td>1674857</td>\n      <td>1674887</td>\n      <td>374</td>\n      <td>Fly06182022_4d</td>\n    </tr>\n    <tr>\n      <th>1350</th>\n      <td>1689534</td>\n      <td>1689564</td>\n      <td>7485</td>\n      <td>Fly06182022_4d</td>\n    </tr>\n  </tbody>\n</table>\n<p>1351 rows × 4 columns</p>\n</div>"
     },
     "execution_count": 241,
     "metadata": {},
     "output_type": "execute_result"
    }
   ],
   "source": [
    "concatenated_df"
   ],
   "metadata": {
    "collapsed": false,
    "ExecuteTime": {
     "end_time": "2023-10-28T20:49:15.645846500Z",
     "start_time": "2023-10-28T20:49:15.626996300Z"
    }
   },
   "id": "610bab8630c9fc0a"
  },
  {
   "cell_type": "code",
   "execution_count": 242,
   "outputs": [],
   "source": [
    "import matplotlib.pyplot as plt\n",
    "import matplotlib as mpl\n",
    "\n",
    "mpl.rcParams['pdf.fonttype'] = 42\n",
    "mpl.rcParams['font.family'] = 'Arial'\n",
    "\n",
    "# Plot haltere switch events\n",
    "name_to_sd = dict(zip(expt_info_df['ExptNames'], expt_info_df['SD']))\n",
    "name_to_sex = dict(zip(expt_info_df['ExptNames'], expt_info_df['Sex']))\n",
    "\n",
    "# \n"
   ],
   "metadata": {
    "collapsed": false,
    "ExecuteTime": {
     "end_time": "2023-10-28T20:49:34.371689900Z",
     "start_time": "2023-10-28T20:49:34.353685800Z"
    }
   },
   "id": "971d5f86510c3c00"
  },
  {
   "cell_type": "code",
   "execution_count": 243,
   "outputs": [],
   "source": [
    "name_to_sd = dict(zip(expt_info_df['ExptNames'], expt_info_df['SD']))\n",
    "name_to_sex = dict(zip(expt_info_df['ExptNames'], expt_info_df['Sex']))\n",
    "\n",
    "\n",
    "# Possible values for sd and sex\n",
    "sd_values = [False, True]\n",
    "sex_values = ['M', 'F']\n",
    "\n",
    "grouped_dict = {}\n",
    "\n",
    "# Initialize an empty dictionary for each group\n",
    "for sd_value in sd_values:\n",
    "    for sex_value in sex_values:\n",
    "        grouped_name = f'SD_{sd_value}_Sex_{sex_value}'\n",
    "        grouped_dict[grouped_name] = {}\n",
    "\n",
    "# Loop over each key in final_dataframe to segregate it into one of the 4 groups\n",
    "for key in final_dataframes.keys():\n",
    "    sd = name_to_sd.get(key)\n",
    "    sex = name_to_sex.get(key)\n",
    "    \n",
    "    grouped_name = f'SD_{sd}_Sex_{sex}'\n",
    "    grouped_dict[grouped_name][key] = final_dataframes[key]"
   ],
   "metadata": {
    "collapsed": false,
    "ExecuteTime": {
     "end_time": "2023-10-28T20:49:41.205702600Z",
     "start_time": "2023-10-28T20:49:41.184696800Z"
    }
   },
   "id": "5bc15955b318ef2e"
  },
  {
   "cell_type": "code",
   "execution_count": 244,
   "outputs": [],
   "source": [
    "import numpy as np\n",
    "def plot_data(group_dict, color='#d62728',sd=False,sex='F',behavior='Haltere_Switch',fig_path = r'C:\\Users\\Grover\\Documents\\GitHub\\deepsleepfigs\\Fig_4_5'):\n",
    "    target_dict_name = f'SD_{sd}_Sex_{sex}'\n",
    "    data_dict = group_dict[target_dict_name]\n",
    "    \n",
    "    fig, ax = plt.subplots(figsize=(15, len(data_dict) / 4))\n",
    "    unique_names = list(data_dict.keys())\n",
    "\n",
    "    for idx, name in enumerate(unique_names):\n",
    "        subset_df = data_dict[name]\n",
    "        subset_df['start_index_hr'] = subset_df['start_index'] / (30*60*60)\n",
    "        subset_df['stop_index_hr'] = subset_df['stop_index'] / (30*60*60)\n",
    "        \n",
    "        for _, row in subset_df.iterrows():\n",
    "            start_pos = row['start_index_hr']\n",
    "            width = row['stop_index_hr'] - start_pos\n",
    "            ax.barh(idx, width, left=start_pos, color=color, edgecolor='none')\n",
    "            \n",
    "    ax.set_yticks(range(len(unique_names)))\n",
    "    ax.set_yticklabels(unique_names)\n",
    "    # Set xticks to be in hours\n",
    "    if sd:\n",
    "        ax.set_xticks(np.arange(0, 7, 1))\n",
    "        ax.set_xticklabels( [tick % 24 for tick in np.arange(0, 7,1)])\n",
    "    else:\n",
    "        ax.set_xticks(np.arange(0, 17,2))\n",
    "        ax.set_xticklabels( [tick % 24 for tick in np.arange(10, 27,2)])\n",
    "    \n",
    "    # Add a title\n",
    "    plt.title(target_dict_name)\n",
    "    \n",
    "    plt.tight_layout()\n",
    "    # Save the figure to disk\n",
    "    plt.savefig(os.path.join(fig_path,f'{target_dict_name}_{behavior}_greater_than_%.pdf'))\n",
    "    \n",
    "    plt.show()\n"
   ],
   "metadata": {
    "collapsed": false,
    "ExecuteTime": {
     "end_time": "2023-10-28T20:49:52.915154200Z",
     "start_time": "2023-10-28T20:49:52.893609200Z"
    }
   },
   "id": "3dd47b36b05917fc"
  },
  {
   "cell_type": "code",
   "execution_count": 248,
   "outputs": [
    {
     "name": "stdout",
     "output_type": "stream",
     "text": [
      "[2023-10-28 16:50:24] INFO - maxp pruned\n",
      "[2023-10-28 16:50:24] INFO - LTSH dropped\n",
      "[2023-10-28 16:50:24] INFO - cmap pruned\n",
      "[2023-10-28 16:50:24] INFO - kern dropped\n",
      "[2023-10-28 16:50:24] INFO - post pruned\n",
      "[2023-10-28 16:50:24] INFO - PCLT dropped\n",
      "[2023-10-28 16:50:24] INFO - JSTF dropped\n",
      "[2023-10-28 16:50:24] INFO - meta dropped\n",
      "[2023-10-28 16:50:24] INFO - DSIG dropped\n",
      "[2023-10-28 16:50:24] INFO - GPOS pruned\n",
      "[2023-10-28 16:50:24] INFO - GSUB pruned\n",
      "[2023-10-28 16:50:24] INFO - glyf pruned\n",
      "[2023-10-28 16:50:24] INFO - Added gid0 to subset\n",
      "[2023-10-28 16:50:24] INFO - Added first four glyphs to subset\n",
      "[2023-10-28 16:50:24] INFO - Closing glyph list over 'GSUB': 27 glyphs before\n",
      "[2023-10-28 16:50:24] INFO - Glyph names: ['.notdef', 'A', 'B', 'D', 'F', 'S', 'T', 'd', 'e', 'eight', 'five', 'four', 'glyph00001', 'glyph00002', 'l', 'one', 'r', 'seven', 'six', 'space', 'three', 'two', 'u', 'underscore', 'x', 'y', 'zero']\n",
      "[2023-10-28 16:50:24] INFO - Glyph IDs:   [0, 1, 2, 3, 19, 20, 21, 22, 23, 24, 25, 26, 27, 36, 37, 39, 41, 54, 55, 66, 71, 72, 79, 85, 88, 91, 92]\n",
      "[2023-10-28 16:50:24] INFO - Closed glyph list over 'GSUB': 45 glyphs after\n",
      "[2023-10-28 16:50:24] INFO - Glyph names: ['.notdef', 'A', 'B', 'D', 'F', 'S', 'T', 'd', 'e', 'eight', 'five', 'four', 'glyph00001', 'glyph00002', 'glyph03674', 'glyph03675', 'glyph03676', 'glyph03677', 'glyph03678', 'glyph03679', 'glyph03680', 'glyph03681', 'glyph03682', 'l', 'one', 'r', 'seven', 'six', 'space', 'three', 'two', 'u', 'underscore', 'uni00B2', 'uni00B3', 'uni00B9', 'uni2070', 'uni2074', 'uni2075', 'uni2076', 'uni2077', 'uni2078', 'x', 'y', 'zero']\n",
      "[2023-10-28 16:50:24] INFO - Glyph IDs:   [0, 1, 2, 3, 19, 20, 21, 22, 23, 24, 25, 26, 27, 36, 37, 39, 41, 54, 55, 66, 71, 72, 79, 85, 88, 91, 92, 239, 240, 241, 3674, 3675, 3676, 3677, 3678, 3679, 3680, 3681, 3682, 3684, 3686, 3774, 3775, 3776, 3777]\n",
      "[2023-10-28 16:50:24] INFO - Closing glyph list over 'glyf': 45 glyphs before\n",
      "[2023-10-28 16:50:24] INFO - Glyph names: ['.notdef', 'A', 'B', 'D', 'F', 'S', 'T', 'd', 'e', 'eight', 'five', 'four', 'glyph00001', 'glyph00002', 'glyph03674', 'glyph03675', 'glyph03676', 'glyph03677', 'glyph03678', 'glyph03679', 'glyph03680', 'glyph03681', 'glyph03682', 'l', 'one', 'r', 'seven', 'six', 'space', 'three', 'two', 'u', 'underscore', 'uni00B2', 'uni00B3', 'uni00B9', 'uni2070', 'uni2074', 'uni2075', 'uni2076', 'uni2077', 'uni2078', 'x', 'y', 'zero']\n",
      "[2023-10-28 16:50:24] INFO - Glyph IDs:   [0, 1, 2, 3, 19, 20, 21, 22, 23, 24, 25, 26, 27, 36, 37, 39, 41, 54, 55, 66, 71, 72, 79, 85, 88, 91, 92, 239, 240, 241, 3674, 3675, 3676, 3677, 3678, 3679, 3680, 3681, 3682, 3684, 3686, 3774, 3775, 3776, 3777]\n",
      "[2023-10-28 16:50:24] INFO - Closed glyph list over 'glyf': 51 glyphs after\n",
      "[2023-10-28 16:50:24] INFO - Glyph names: ['.notdef', 'A', 'B', 'D', 'F', 'S', 'T', 'd', 'e', 'eight', 'five', 'four', 'glyph00001', 'glyph00002', 'glyph03384', 'glyph03388', 'glyph03389', 'glyph03390', 'glyph03391', 'glyph03392', 'glyph03674', 'glyph03675', 'glyph03676', 'glyph03677', 'glyph03678', 'glyph03679', 'glyph03680', 'glyph03681', 'glyph03682', 'l', 'one', 'r', 'seven', 'six', 'space', 'three', 'two', 'u', 'underscore', 'uni00B2', 'uni00B3', 'uni00B9', 'uni2070', 'uni2074', 'uni2075', 'uni2076', 'uni2077', 'uni2078', 'x', 'y', 'zero']\n",
      "[2023-10-28 16:50:24] INFO - Glyph IDs:   [0, 1, 2, 3, 19, 20, 21, 22, 23, 24, 25, 26, 27, 36, 37, 39, 41, 54, 55, 66, 71, 72, 79, 85, 88, 91, 92, 239, 240, 241, 3384, 3388, 3389, 3390, 3391, 3392, 3674, 3675, 3676, 3677, 3678, 3679, 3680, 3681, 3682, 3684, 3686, 3774, 3775, 3776, 3777]\n",
      "[2023-10-28 16:50:24] INFO - Retaining 51 glyphs\n",
      "[2023-10-28 16:50:24] INFO - head subsetting not needed\n",
      "[2023-10-28 16:50:24] INFO - hhea subsetting not needed\n",
      "[2023-10-28 16:50:24] INFO - maxp subsetting not needed\n",
      "[2023-10-28 16:50:24] INFO - OS/2 subsetting not needed\n",
      "[2023-10-28 16:50:24] INFO - hmtx subsetted\n",
      "[2023-10-28 16:50:24] INFO - VDMX subsetting not needed\n",
      "[2023-10-28 16:50:24] INFO - hdmx subsetted\n",
      "[2023-10-28 16:50:24] INFO - cmap subsetted\n",
      "[2023-10-28 16:50:24] INFO - fpgm subsetting not needed\n",
      "[2023-10-28 16:50:24] INFO - prep subsetting not needed\n",
      "[2023-10-28 16:50:24] INFO - cvt  subsetting not needed\n",
      "[2023-10-28 16:50:24] INFO - loca subsetting not needed\n",
      "[2023-10-28 16:50:24] INFO - post subsetted\n",
      "[2023-10-28 16:50:24] INFO - gasp subsetting not needed\n",
      "[2023-10-28 16:50:24] INFO - GDEF subsetted\n",
      "[2023-10-28 16:50:24] INFO - GPOS subsetted\n",
      "[2023-10-28 16:50:24] INFO - GSUB subsetted\n",
      "[2023-10-28 16:50:24] INFO - name subsetting not needed\n",
      "[2023-10-28 16:50:24] INFO - glyf subsetted\n",
      "[2023-10-28 16:50:24] INFO - head pruned\n",
      "[2023-10-28 16:50:24] INFO - OS/2 Unicode ranges pruned: [0]\n",
      "[2023-10-28 16:50:24] INFO - glyf pruned\n",
      "[2023-10-28 16:50:24] INFO - GDEF pruned\n",
      "[2023-10-28 16:50:24] INFO - GPOS pruned\n",
      "[2023-10-28 16:50:24] INFO - GSUB pruned\n",
      "[2023-10-28 16:50:24] INFO - name pruned\n"
     ]
    },
    {
     "data": {
      "text/plain": "<Figure size 1500x325 with 1 Axes>",
      "image/png": "[encoded data removed]"
     },
     "metadata": {},
     "output_type": "display_data"
    }
   ],
   "source": [
    "plot_data(grouped_dict,sd=True,sex='F',behavior='Haltere_Switch')"
   ],
   "metadata": {
    "collapsed": false,
    "ExecuteTime": {
     "end_time": "2023-10-28T20:50:25.106361Z",
     "start_time": "2023-10-28T20:50:24.328121100Z"
    }
   },
   "id": "97ae70168bf97788"
  },
  {
   "cell_type": "code",
   "execution_count": 249,
   "outputs": [],
   "source": [
    "import numpy as np\n",
    "# Initialize an empty dictionary to store the final results\n",
    "grouped_binned = {}\n",
    "\n",
    "# Process each key-value pair in the grouped_dict\n",
    "for key, value_dict in grouped_dict.items():\n",
    "    tmp_results = []\n",
    "    \n",
    "    for name, df in value_dict.items():\n",
    "        df = df.copy()  # Make a copy of the dataframe to avoid modifying the original\n",
    "        df['ExptNames'] = name\n",
    "        tmp_results.append(df)\n",
    "\n",
    "    # Concatenate the dataframes in the result_list\n",
    "    binned_df = pd.concat(tmp_results, ignore_index=True)\n",
    "    \n",
    "    # Add a 'bin' column to the concatenated_df using the 'start_index' column\n",
    "    binned_df['bin'] = pd.cut(binned_df['start_index'], bins=np.arange(0, 17*60*60*30, 30*60*60*1))\n",
    "    \n",
    "    # Store the resulting dataframe in the grouped_binned dictionary\n",
    "    grouped_binned[key] = binned_df\n"
   ],
   "metadata": {
    "collapsed": false,
    "ExecuteTime": {
     "end_time": "2023-10-28T20:51:46.754156800Z",
     "start_time": "2023-10-28T20:51:46.710936700Z"
    }
   },
   "id": "93df9136cae2dd3f"
  },
  {
   "cell_type": "code",
   "execution_count": 193,
   "outputs": [
    {
     "data": {
      "text/plain": "      start_index  stop_index  index_of_max_changes  start_index_hr  \\\n0           34568       34598                   241        0.320074   \n1           36248       36278                    56        0.335630   \n2           61981       62011                   274        0.573898   \n3           69312       69342                   404        0.641778   \n4           79167       79197                   279        0.733028   \n...           ...         ...                   ...             ...   \n1024      1666207     1666237                    52       15.427843   \n1025      1673851     1673881                  2585       15.498620   \n1026      1674857     1674887                   374       15.507935   \n1027      1689534     1689564                  7485       15.643833   \n1028      1727577     1727607                   234       15.996083   \n\n      stop_index_hr         ExptNames                 bin  \n0          0.320352  Fly06282022_5d_B         (0, 108000]  \n1          0.335907  Fly06282022_5d_B         (0, 108000]  \n2          0.574176  Fly06282022_5d_B         (0, 108000]  \n3          0.642056  Fly06282022_5d_B         (0, 108000]  \n4          0.733306  Fly06282022_5d_B         (0, 108000]  \n...             ...               ...                 ...  \n1024      15.428120    Fly06182022_4d  (1620000, 1728000]  \n1025      15.498898    Fly06182022_4d  (1620000, 1728000]  \n1026      15.508213    Fly06182022_4d  (1620000, 1728000]  \n1027      15.644111    Fly06182022_4d  (1620000, 1728000]  \n1028      15.996361    Fly06182022_4d  (1620000, 1728000]  \n\n[1029 rows x 7 columns]",
      "text/html": "<div>\n<style scoped>\n    .dataframe tbody tr th:only-of-type {\n        vertical-align: middle;\n    }\n\n    .dataframe tbody tr th {\n        vertical-align: top;\n    }\n\n    .dataframe thead th {\n        text-align: right;\n    }\n</style>\n<table border=\"1\" class=\"dataframe\">\n  <thead>\n    <tr style=\"text-align: right;\">\n      <th></th>\n      <th>start_index</th>\n      <th>stop_index</th>\n      <th>index_of_max_changes</th>\n      <th>start_index_hr</th>\n      <th>stop_index_hr</th>\n      <th>ExptNames</th>\n      <th>bin</th>\n    </tr>\n  </thead>\n  <tbody>\n    <tr>\n      <th>0</th>\n      <td>34568</td>\n      <td>34598</td>\n      <td>241</td>\n      <td>0.320074</td>\n      <td>0.320352</td>\n      <td>Fly06282022_5d_B</td>\n      <td>(0, 108000]</td>\n    </tr>\n    <tr>\n      <th>1</th>\n      <td>36248</td>\n      <td>36278</td>\n      <td>56</td>\n      <td>0.335630</td>\n      <td>0.335907</td>\n      <td>Fly06282022_5d_B</td>\n      <td>(0, 108000]</td>\n    </tr>\n    <tr>\n      <th>2</th>\n      <td>61981</td>\n      <td>62011</td>\n      <td>274</td>\n      <td>0.573898</td>\n      <td>0.574176</td>\n      <td>Fly06282022_5d_B</td>\n      <td>(0, 108000]</td>\n    </tr>\n    <tr>\n      <th>3</th>\n      <td>69312</td>\n      <td>69342</td>\n      <td>404</td>\n      <td>0.641778</td>\n      <td>0.642056</td>\n      <td>Fly06282022_5d_B</td>\n      <td>(0, 108000]</td>\n    </tr>\n    <tr>\n      <th>4</th>\n      <td>79167</td>\n      <td>79197</td>\n      <td>279</td>\n      <td>0.733028</td>\n      <td>0.733306</td>\n      <td>Fly06282022_5d_B</td>\n      <td>(0, 108000]</td>\n    </tr>\n    <tr>\n      <th>...</th>\n      <td>...</td>\n      <td>...</td>\n      <td>...</td>\n      <td>...</td>\n      <td>...</td>\n      <td>...</td>\n      <td>...</td>\n    </tr>\n    <tr>\n      <th>1024</th>\n      <td>1666207</td>\n      <td>1666237</td>\n      <td>52</td>\n      <td>15.427843</td>\n      <td>15.428120</td>\n      <td>Fly06182022_4d</td>\n      <td>(1620000, 1728000]</td>\n    </tr>\n    <tr>\n      <th>1025</th>\n      <td>1673851</td>\n      <td>1673881</td>\n      <td>2585</td>\n      <td>15.498620</td>\n      <td>15.498898</td>\n      <td>Fly06182022_4d</td>\n      <td>(1620000, 1728000]</td>\n    </tr>\n    <tr>\n      <th>1026</th>\n      <td>1674857</td>\n      <td>1674887</td>\n      <td>374</td>\n      <td>15.507935</td>\n      <td>15.508213</td>\n      <td>Fly06182022_4d</td>\n      <td>(1620000, 1728000]</td>\n    </tr>\n    <tr>\n      <th>1027</th>\n      <td>1689534</td>\n      <td>1689564</td>\n      <td>7485</td>\n      <td>15.643833</td>\n      <td>15.644111</td>\n      <td>Fly06182022_4d</td>\n      <td>(1620000, 1728000]</td>\n    </tr>\n    <tr>\n      <th>1028</th>\n      <td>1727577</td>\n      <td>1727607</td>\n      <td>234</td>\n      <td>15.996083</td>\n      <td>15.996361</td>\n      <td>Fly06182022_4d</td>\n      <td>(1620000, 1728000]</td>\n    </tr>\n  </tbody>\n</table>\n<p>1029 rows × 7 columns</p>\n</div>"
     },
     "execution_count": 193,
     "metadata": {},
     "output_type": "execute_result"
    }
   ],
   "source": [
    "grouped_binned['SD_False_Sex_F']"
   ],
   "metadata": {
    "collapsed": false,
    "ExecuteTime": {
     "end_time": "2023-10-28T18:56:41.499582Z",
     "start_time": "2023-10-28T18:56:41.448570600Z"
    }
   },
   "id": "61c0c140e4f703cc"
  },
  {
   "cell_type": "code",
   "execution_count": 250,
   "outputs": [],
   "source": [
    "def adjust_interval(interval):\n",
    "    # Adjust the start and end of the interval\n",
    "    start = interval.left / (30 * 60 * 60)\n",
    "    end = interval.right / (30 * 60 * 60)\n",
    "    \n",
    "    # Return the new interval\n",
    "    return pd.Interval(start, end)\n"
   ],
   "metadata": {
    "collapsed": false,
    "ExecuteTime": {
     "end_time": "2023-10-28T20:51:53.895741200Z",
     "start_time": "2023-10-28T20:51:53.861733300Z"
    }
   },
   "id": "4750c6b75b3274cf"
  },
  {
   "cell_type": "code",
   "execution_count": 251,
   "outputs": [],
   "source": [
    "import numpy as np\n",
    "import os\n",
    "import matplotlib.pyplot as plt\n",
    "\n",
    "def plot_binned_data(group_dict, sd=False,sex='F',behavior='Haltere_Switch',ylim_val = None,fig_path = r'C:\\Users\\Grover\\Documents\\GitHub\\deepsleepfigs\\Fig_4_5'):\n",
    "    target_dict_name = f'SD_{sd}_Sex_{sex}'\n",
    "    data_df = group_dict[target_dict_name]\n",
    "    \n",
    "    count_per_bin_per_experiment = data_df.groupby(['ExptNames', 'bin']).size().reset_index(name='Count')\n",
    "    \n",
    "    import seaborn as sns\n",
    "    # Plot\n",
    "    plt.figure(figsize=(12, 8))\n",
    "    sns.boxplot(data=count_per_bin_per_experiment, x='bin', y='Count', showfliers=False, color=\"skyblue\",width=0.5, notch=False, boxprops=dict(edgecolor='none'),showcaps=False, whiskerprops={'visible': False})\n",
    "    \n",
    "    \n",
    "    # Calculate the median values for each time bin\n",
    "    medians = count_per_bin_per_experiment.groupby('bin')['Count'].median().reset_index()\n",
    "    \n",
    "    # Plot the medians using the mid_points for the x-axis\n",
    "    plt.plot(range(len(medians)), medians['Count'], color='black', linestyle='-', marker='o', label=\"Median\")\n",
    "\n",
    "\n",
    "    plt.title(\"Boxplot of Counts per Bin for Each Experiment\")\n",
    "\n",
    "\n",
    "    if sd:\n",
    "        xticklabels = [f'{x%24} - {(x+1)%24}' for x in np.arange(0, 6, 1)]\n",
    "        plt.xticks(ticks=range(len(xticklabels)), labels=xticklabels)\n",
    "        plt.xlabel(\"Time (ZT)\")\n",
    "    else:\n",
    "        xticklabels = [f'{x%24} - {(x+1)%24}' for x in np.arange(10, 26, 1)]\n",
    "        plt.xticks(ticks=range(len(xticklabels)), labels=xticklabels)\n",
    "        plt.xlabel(\"Time (ZT)\")\n",
    "\n",
    "    plt.xlabel(\"ZT Time\")\n",
    "    \n",
    "    if ylim_val is not None:\n",
    "        plt.ylim(ylim_val)\n",
    "\n",
    "    plt.tight_layout()\n",
    "    # Save the figure to disk\n",
    "    plt.savefig(os.path.join(fig_path,f'{target_dict_name}_{behavior}_binned_greater_than_5.pdf'))\n",
    "    \n",
    "    plt.show()\n"
   ],
   "metadata": {
    "collapsed": false,
    "ExecuteTime": {
     "end_time": "2023-10-28T20:52:04.247244800Z",
     "start_time": "2023-10-28T20:52:04.233241400Z"
    }
   },
   "id": "accd16efa8f21342"
  },
  {
   "cell_type": "code",
   "execution_count": 256,
   "outputs": [
    {
     "name": "stdout",
     "output_type": "stream",
     "text": [
      "[2023-10-28 16:52:59] INFO - maxp pruned\n",
      "[2023-10-28 16:52:59] INFO - LTSH dropped\n",
      "[2023-10-28 16:52:59] INFO - cmap pruned\n",
      "[2023-10-28 16:52:59] INFO - kern dropped\n",
      "[2023-10-28 16:52:59] INFO - post pruned\n",
      "[2023-10-28 16:52:59] INFO - PCLT dropped\n",
      "[2023-10-28 16:52:59] INFO - JSTF dropped\n",
      "[2023-10-28 16:52:59] INFO - meta dropped\n",
      "[2023-10-28 16:52:59] INFO - DSIG dropped\n",
      "[2023-10-28 16:52:59] INFO - GPOS pruned\n",
      "[2023-10-28 16:52:59] INFO - GSUB pruned\n",
      "[2023-10-28 16:52:59] INFO - glyf pruned\n",
      "[2023-10-28 16:52:59] INFO - Added gid0 to subset\n",
      "[2023-10-28 16:52:59] INFO - Added first four glyphs to subset\n",
      "[2023-10-28 16:52:59] INFO - Closing glyph list over 'GSUB': 34 glyphs before\n",
      "[2023-10-28 16:52:59] INFO - Glyph names: ['.notdef', 'B', 'C', 'E', 'T', 'Z', 'a', 'c', 'e', 'eight', 'f', 'five', 'four', 'glyph00001', 'glyph00002', 'h', 'hyphen', 'i', 'l', 'm', 'n', 'o', 'one', 'p', 'r', 's', 'six', 'space', 't', 'three', 'two', 'u', 'x', 'zero']\n",
      "[2023-10-28 16:52:59] INFO - Glyph IDs:   [0, 1, 2, 3, 16, 19, 20, 21, 22, 23, 24, 25, 27, 37, 38, 40, 55, 61, 68, 70, 72, 73, 75, 76, 79, 80, 81, 82, 83, 85, 86, 87, 88, 91]\n",
      "[2023-10-28 16:52:59] INFO - Closed glyph list over 'GSUB': 51 glyphs after\n",
      "[2023-10-28 16:52:59] INFO - Glyph names: ['.notdef', 'B', 'C', 'E', 'T', 'Z', 'a', 'c', 'e', 'eight', 'f', 'five', 'four', 'glyph00001', 'glyph00002', 'glyph03464', 'glyph03674', 'glyph03675', 'glyph03676', 'glyph03677', 'glyph03678', 'glyph03679', 'glyph03680', 'glyph03682', 'h', 'hyphen', 'i', 'l', 'm', 'n', 'o', 'one', 'p', 'r', 's', 'six', 'space', 't', 'three', 'two', 'u', 'uni00B2', 'uni00B3', 'uni00B9', 'uni2070', 'uni2074', 'uni2075', 'uni2076', 'uni2078', 'x', 'zero']\n",
      "[2023-10-28 16:52:59] INFO - Glyph IDs:   [0, 1, 2, 3, 16, 19, 20, 21, 22, 23, 24, 25, 27, 37, 38, 40, 55, 61, 68, 70, 72, 73, 75, 76, 79, 80, 81, 82, 83, 85, 86, 87, 88, 91, 239, 240, 241, 3464, 3674, 3675, 3676, 3677, 3678, 3679, 3680, 3682, 3684, 3686, 3774, 3775, 3777]\n",
      "[2023-10-28 16:52:59] INFO - Closing glyph list over 'glyf': 51 glyphs before\n",
      "[2023-10-28 16:52:59] INFO - Glyph names: ['.notdef', 'B', 'C', 'E', 'T', 'Z', 'a', 'c', 'e', 'eight', 'f', 'five', 'four', 'glyph00001', 'glyph00002', 'glyph03464', 'glyph03674', 'glyph03675', 'glyph03676', 'glyph03677', 'glyph03678', 'glyph03679', 'glyph03680', 'glyph03682', 'h', 'hyphen', 'i', 'l', 'm', 'n', 'o', 'one', 'p', 'r', 's', 'six', 'space', 't', 'three', 'two', 'u', 'uni00B2', 'uni00B3', 'uni00B9', 'uni2070', 'uni2074', 'uni2075', 'uni2076', 'uni2078', 'x', 'zero']\n",
      "[2023-10-28 16:52:59] INFO - Glyph IDs:   [0, 1, 2, 3, 16, 19, 20, 21, 22, 23, 24, 25, 27, 37, 38, 40, 55, 61, 68, 70, 72, 73, 75, 76, 79, 80, 81, 82, 83, 85, 86, 87, 88, 91, 239, 240, 241, 3464, 3674, 3675, 3676, 3677, 3678, 3679, 3680, 3682, 3684, 3686, 3774, 3775, 3777]\n",
      "[2023-10-28 16:52:59] INFO - Closed glyph list over 'glyf': 56 glyphs after\n",
      "[2023-10-28 16:52:59] INFO - Glyph names: ['.notdef', 'B', 'C', 'E', 'T', 'Z', 'a', 'c', 'e', 'eight', 'f', 'five', 'four', 'glyph00001', 'glyph00002', 'glyph03384', 'glyph03388', 'glyph03389', 'glyph03390', 'glyph03392', 'glyph03464', 'glyph03674', 'glyph03675', 'glyph03676', 'glyph03677', 'glyph03678', 'glyph03679', 'glyph03680', 'glyph03682', 'h', 'hyphen', 'i', 'l', 'm', 'n', 'o', 'one', 'p', 'r', 's', 'six', 'space', 't', 'three', 'two', 'u', 'uni00B2', 'uni00B3', 'uni00B9', 'uni2070', 'uni2074', 'uni2075', 'uni2076', 'uni2078', 'x', 'zero']\n",
      "[2023-10-28 16:52:59] INFO - Glyph IDs:   [0, 1, 2, 3, 16, 19, 20, 21, 22, 23, 24, 25, 27, 37, 38, 40, 55, 61, 68, 70, 72, 73, 75, 76, 79, 80, 81, 82, 83, 85, 86, 87, 88, 91, 239, 240, 241, 3384, 3388, 3389, 3390, 3392, 3464, 3674, 3675, 3676, 3677, 3678, 3679, 3680, 3682, 3684, 3686, 3774, 3775, 3777]\n",
      "[2023-10-28 16:52:59] INFO - Retaining 56 glyphs\n",
      "[2023-10-28 16:52:59] INFO - head subsetting not needed\n",
      "[2023-10-28 16:52:59] INFO - hhea subsetting not needed\n",
      "[2023-10-28 16:52:59] INFO - maxp subsetting not needed\n",
      "[2023-10-28 16:52:59] INFO - OS/2 subsetting not needed\n",
      "[2023-10-28 16:52:59] INFO - hmtx subsetted\n",
      "[2023-10-28 16:52:59] INFO - VDMX subsetting not needed\n",
      "[2023-10-28 16:52:59] INFO - hdmx subsetted\n",
      "[2023-10-28 16:52:59] INFO - cmap subsetted\n",
      "[2023-10-28 16:52:59] INFO - fpgm subsetting not needed\n",
      "[2023-10-28 16:52:59] INFO - prep subsetting not needed\n",
      "[2023-10-28 16:52:59] INFO - cvt  subsetting not needed\n",
      "[2023-10-28 16:52:59] INFO - loca subsetting not needed\n",
      "[2023-10-28 16:52:59] INFO - post subsetted\n",
      "[2023-10-28 16:52:59] INFO - gasp subsetting not needed\n",
      "[2023-10-28 16:52:59] INFO - GDEF subsetted\n",
      "[2023-10-28 16:52:59] INFO - GPOS subsetted\n",
      "[2023-10-28 16:52:59] INFO - GSUB subsetted\n",
      "[2023-10-28 16:52:59] INFO - name subsetting not needed\n",
      "[2023-10-28 16:52:59] INFO - glyf subsetted\n",
      "[2023-10-28 16:52:59] INFO - head pruned\n",
      "[2023-10-28 16:52:59] INFO - OS/2 Unicode ranges pruned: [0]\n",
      "[2023-10-28 16:52:59] INFO - glyf pruned\n",
      "[2023-10-28 16:52:59] INFO - GDEF pruned\n",
      "[2023-10-28 16:52:59] INFO - GPOS pruned\n",
      "[2023-10-28 16:52:59] INFO - GSUB pruned\n",
      "[2023-10-28 16:52:59] INFO - name pruned\n"
     ]
    },
    {
     "data": {
      "text/plain": "<Figure size 1200x800 with 1 Axes>",
      "image/png": "[encoded data removed]"
     },
     "metadata": {},
     "output_type": "display_data"
    }
   ],
   "source": [
    "plot_binned_data(grouped_binned,sd=True,sex='F',behavior='Haltere_Switch',ylim_val=None)\n"
   ],
   "metadata": {
    "collapsed": false,
    "ExecuteTime": {
     "end_time": "2023-10-28T20:52:59.376886500Z",
     "start_time": "2023-10-28T20:52:58.916269100Z"
    }
   },
   "id": "e0947d9e67805eca"
  },
  {
   "cell_type": "code",
   "execution_count": 259,
   "outputs": [],
   "source": [
    "# Save the dataframe to disk\n",
    "import pickle\n",
    "folder_path = io_process.get_prediction_result_folder('HaltereSwitch')\n",
    "\n",
    "\n",
    "# Save grouped_dict and grouped_binned to disk\n",
    "with open(os.path.join(folder_path, 'grouped_dict.pkl'), 'wb') as f:\n",
    "    pickle.dump(grouped_dict, f)\n",
    "    \n",
    "with open(os.path.join(folder_path, 'grouped_binned.pkl'), 'wb') as f:\n",
    "    pickle.dump(grouped_binned, f)\n",
    "\n"
   ],
   "metadata": {
    "collapsed": false,
    "ExecuteTime": {
     "end_time": "2023-10-28T22:24:55.921631Z",
     "start_time": "2023-10-28T22:24:55.789997100Z"
    }
   },
   "id": "3b641981d9d6bf9c"
  },
  {
   "cell_type": "code",
   "execution_count": null,
   "outputs": [],
   "source": [
    "import plotter\n",
    "ploting = plotter.Plotter()\n",
    "\n",
    "ploting.plot_time_series(bouts_dict,'distance.thor_post-halt','multipage_haltere_switch.pdf')"
   ],
   "metadata": {
    "collapsed": false
   },
   "id": "d951fbd9ec654691"
  }
 ],
 "metadata": {
  "kernelspec": {
   "display_name": "Python 3",
   "language": "python",
   "name": "python3"
  },
  "language_info": {
   "codemirror_mode": {
    "name": "ipython",
    "version": 2
   },
   "file_extension": ".py",
   "mimetype": "text/x-python",
   "name": "python",
   "nbconvert_exporter": "python",
   "pygments_lexer": "ipython2",
   "version": "2.7.6"
  }
 },
 "nbformat": 4,
 "nbformat_minor": 5
}
