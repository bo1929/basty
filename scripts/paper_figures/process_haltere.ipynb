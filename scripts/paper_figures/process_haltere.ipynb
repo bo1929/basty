{
 "cells": [
  {
   "cell_type": "code",
   "execution_count": 1,
   "id": "initial_id",
   "metadata": {
    "collapsed": true,
    "ExecuteTime": {
     "end_time": "2023-10-30T04:05:34.442992700Z",
     "start_time": "2023-10-30T04:05:33.854142500Z"
    }
   },
   "outputs": [],
   "source": [
    "import os\n",
    "from scripts.paper_figures.input import Input\n",
    "\n",
    "import basty.project.experiment_processing as experiment_processing\n",
    "from scripts.paper_figures.process_results import BehaviorData\n",
    "\n",
    "from basty.utils import misc"
   ]
  },
  {
   "cell_type": "code",
   "execution_count": 2,
   "outputs": [],
   "source": [
    "\n",
    "RESULTS_FOLDER = r'Z:\\mfk\\basty-projects\\backup-allHaltere\\results\\semisupervised_pair_kNN\\predictions.100NN.neighbor_weights-distance.neighbor_weights_norm-count.activation-standard.voting-soft.voting_weights-None\\exports'\n",
    "\n",
    "BODY_PART_SETS = {\"HaltereSwitch\": \"prob\", \"Feeding\": \"prob\"}\n",
    "\n",
    "CONFIG_PATH = r\"Z:\\mfk\\basty-projects\\main_cfg.yaml\"\n",
    "\n",
    "PROJECT_PATH = os.path.dirname(CONFIG_PATH)\n",
    "\n",
    "TMP_RESULT_FOLDER = os.path.join(PROJECT_PATH,'tmp_results')\n",
    "\n",
    "project = experiment_processing.Project(CONFIG_PATH)\n",
    "\n",
    "BEHAVIORS = ['HaltereSwitch']\n",
    "\n",
    "BODY_PART_SETS = {\"ProboscisPumping\": \"prob\", \"Feeding\": \"prob\", \"HaltereSwitch\": \"halt\"}"
   ],
   "metadata": {
    "collapsed": false,
    "ExecuteTime": {
     "end_time": "2023-10-30T04:05:35.216956100Z",
     "start_time": "2023-10-30T04:05:34.444992900Z"
    }
   },
   "id": "db08ebaf9b7a90d9"
  },
  {
   "cell_type": "code",
   "execution_count": 3,
   "outputs": [],
   "source": [
    "io_process = Input(project, RESULTS_FOLDER, TMP_RESULT_FOLDER)"
   ],
   "metadata": {
    "collapsed": false,
    "ExecuteTime": {
     "end_time": "2023-10-30T04:05:35.822925700Z",
     "start_time": "2023-10-30T04:05:35.790980400Z"
    }
   },
   "id": "19b5b32d14d3938b"
  },
  {
   "cell_type": "code",
   "execution_count": 4,
   "outputs": [],
   "source": [
    "expt_info_df = io_process.load_expt_info()\n",
    "df_data = io_process.load_predictions()"
   ],
   "metadata": {
    "collapsed": false,
    "ExecuteTime": {
     "end_time": "2023-10-30T04:06:21.671603300Z",
     "start_time": "2023-10-30T04:05:35.960961600Z"
    }
   },
   "id": "31b7daec2971eb90"
  },
  {
   "cell_type": "code",
   "execution_count": 5,
   "outputs": [],
   "source": [
    "# Drop Noise, Feeding, Grooming, ProboscisPumping from df_data\n",
    "df_data.drop(['Noise','Feeding', 'Grooming', 'ProboscisPumping'], axis=1, inplace=True)\n",
    "\n",
    "io_process.create_binary_masks_subfolders(BEHAVIORS)"
   ],
   "metadata": {
    "collapsed": false,
    "ExecuteTime": {
     "end_time": "2023-10-30T04:06:23.160816700Z",
     "start_time": "2023-10-30T04:06:21.673603300Z"
    }
   },
   "id": "773a0d840e4a7683"
  },
  {
   "cell_type": "code",
   "execution_count": 6,
   "outputs": [
    {
     "name": "stdout",
     "output_type": "stream",
     "text": [
      "Loading existing llh_df.pickle file...\n"
     ]
    }
   ],
   "source": [
    "llh = misc.get_likelihood(project.data_path_dict, CONFIG_PATH)"
   ],
   "metadata": {
    "collapsed": false,
    "ExecuteTime": {
     "end_time": "2023-10-30T04:10:40.144725700Z",
     "start_time": "2023-10-30T04:06:23.161817100Z"
    }
   },
   "id": "66e0797794b26e06"
  },
  {
   "cell_type": "code",
   "execution_count": 7,
   "outputs": [],
   "source": [
    "llh = llh[llh[\"ExptNames\"].isin(df_data.ExptNames.unique())]"
   ],
   "metadata": {
    "collapsed": false,
    "ExecuteTime": {
     "end_time": "2023-10-30T04:10:59.367560500Z",
     "start_time": "2023-10-30T04:10:40.146726100Z"
    }
   },
   "id": "106d55cf8892aa63"
  },
  {
   "cell_type": "code",
   "execution_count": 8,
   "outputs": [
    {
     "name": "stdout",
     "output_type": "stream",
     "text": [
      "File Fly05182022_5d_median6_threshold0.7.pkl already exists. Skipping calculation.File Fly05202022_5d_median6_threshold0.7.pkl already exists. Skipping calculation.\n",
      "File Fly05252022_SD_5d_median6_threshold0.7.pkl already exists. Skipping calculation.\n",
      "File Fly05222022_5d_median6_threshold0.7.pkl already exists. Skipping calculation.\n",
      "File Fly05272022_SD_5d_median6_threshold0.7.pkl already exists. Skipping calculation.\n",
      "File Fly06072022_5d_median6_threshold0.7.pkl already exists. Skipping calculation.\n",
      "File Fly06142022_SD_5d_median6_threshold0.7.pkl already exists. Skipping calculation.\n",
      "File Fly06082022_5d_median6_threshold0.7.pkl already exists. Skipping calculation.\n",
      "File Fly06152022_6d_median6_threshold0.7.pkl already exists. Skipping calculation.\n",
      "File Fly06182022_4d_median6_threshold0.7.pkl already exists. Skipping calculation.\n",
      "File Fly06202022_5d_median6_threshold0.7.pkl already exists. Skipping calculation.\n",
      "File Fly06212022_5d_median6_threshold0.7.pkl already exists. Skipping calculation.\n",
      "File Fly06232022_4d_B_median6_threshold0.7.pkl already exists. Skipping calculation.\n",
      "File Fly06232022_5d_A_SD_median6_threshold0.7.pkl already exists. Skipping calculation.\n",
      "File Fly06302022_5d_SD_A_median6_threshold0.7.pkl already exists. Skipping calculation.\n",
      "File Fly07012022_5d_A_median6_threshold0.7.pkl already exists. Skipping calculation.\n",
      "File Fly06262022_5d_SD_A_median6_threshold0.7.pkl already exists. Skipping calculation.\n",
      "File Fly06242022_5_SD_A_median6_threshold0.7.pkl already exists. Skipping calculation.\n",
      "File Fly06272022_5d_A_median6_threshold0.7.pkl already exists. Skipping calculation.\n",
      "\n",
      "File Fly06292022_5d_B_median6_threshold0.7.pkl already exists. Skipping calculation.\n",
      "File Fly06252022_5d_SD_A_median6_threshold0.7.pkl already exists. Skipping calculation.\n",
      "File Fly06292022_5d_A_median6_threshold0.7.pkl already exists. Skipping calculation.\n",
      "File Fly06282022_5d_SD_B_median6_threshold0.7.pkl already exists. Skipping calculation.\n",
      "File Fly06282022_5d_B_median6_threshold0.7.pkl already exists. Skipping calculation.\n",
      "File Fly06272022_5d_SD_A_median6_threshold0.7.pkl already exists. Skipping calculation.\n",
      "File Fly06252022_5d_SD_B_median6_threshold0.7.pkl already exists. Skipping calculation.\n",
      "File Fly06302022_5d_B_median6_threshold0.7.pkl already exists. Skipping calculation.\n",
      "File Fly06302022_5d_A_median6_threshold0.7.pkl already exists. Skipping calculation.\n",
      "File Fly06242022_5d_SD_B_median6_threshold0.7.pkl already exists. Skipping calculation.\n",
      "File Fly06302022_5d_SD_B_median6_threshold0.7.pkl already exists. Skipping calculation.\n",
      "File Fly06232022_5d_B_SD_median6_threshold0.7.pkl already exists. Skipping calculation.\n",
      "File Fly07012022_5d_B_median6_threshold0.7.pkl already exists. Skipping calculation.\n",
      "File Fly07052022_5d_A_median6_threshold0.7.pkl already exists. Skipping calculation.\n",
      "File Fly07052022_5d_SD_A_median6_threshold0.7.pkl already exists. Skipping calculation.\n",
      "File Fly07062022_5d_A_median6_threshold0.7.pkl already exists. Skipping calculation.\n",
      "File Fly07062022_5d_B_median6_threshold0.7.pkl already exists. Skipping calculation.\n",
      "File Fly07062022_5d_SD_A_median6_threshold0.7.pkl already exists. Skipping calculation.\n",
      "File Fly07062022_5d_SD_B_median6_threshold0.7.pkl already exists. Skipping calculation.\n",
      "File Fly07082022_5d_B_median6_threshold0.7.pkl already exists. Skipping calculation.\n",
      "File Fly07112022_5d_A_median6_threshold0.7.pkl already exists. Skipping calculation.\n",
      "File Fly07122022_5d_A_median6_threshold0.7.pkl already exists. Skipping calculation.\n",
      "File Fly07122022_5d_SD_A_median6_threshold0.7.pkl already exists. Skipping calculation.\n",
      "File Fly07132022_5d_SD_A_median6_threshold0.7.pkl already exists. Skipping calculation.\n",
      "File Fly07132022_5d_SD_B_median6_threshold0.7.pkl already exists. Skipping calculation.\n",
      "File Fly07142022_5d_SD_A_median6_threshold0.7.pkl already exists. Skipping calculation.\n",
      "File Fly07152022_4d_SD_A_median6_threshold0.7.pkl already exists. Skipping calculation.\n",
      "File Fly07182022_7d_SD_A_median6_threshold0.7.pkl already exists. Skipping calculation.\n",
      "File Fly07192022_5d_SD_B_median6_threshold0.7.pkl already exists. Skipping calculation.\n",
      "File Fly07202022_6d_SD_B_median6_threshold0.7.pkl already exists. Skipping calculation.\n",
      "File Fly07212022_6d_SD_A_median6_threshold0.7.pkl already exists. Skipping calculation.\n",
      "File Fly07222022_6d_SD_B_median6_threshold0.7.pkl already exists. Skipping calculation.\n",
      "File Fly07222022_6d_SD_A_median6_threshold0.7.pkl already exists. Skipping calculation.\n",
      "File Fly07252022_6d_A_median6_threshold0.7.pkl already exists. Skipping calculation.\n",
      "File Fly07282022_6d_SD_A_median6_threshold0.7.pkl already exists. Skipping calculation.\n",
      "File Fly07262022_6d_SD_A_median6_threshold0.7.pkl already exists. Skipping calculation.\n",
      "File Fly08022022_6d_B_median6_threshold0.7.pkl already exists. Skipping calculation.\n",
      "File Fly07282022_6d_SD_B_median6_threshold0.7.pkl already exists. Skipping calculation.\n",
      "File Fly08022022_6d_SD_B_median6_threshold0.7.pkl already exists. Skipping calculation.\n",
      "File Fly08032022_6d_B_median6_threshold0.7.pkl already exists. Skipping calculation.\n",
      "File Fly08032022_6d_SD_B_median6_threshold0.7.pkl already exists. Skipping calculation.\n",
      "File Fly08012022_6d_B_median6_threshold0.7.pkl already exists. Skipping calculation.\n"
     ]
    }
   ],
   "source": [
    "from importlib import reload\n",
    "import scripts.paper_figures.process_results\n",
    "reload(scripts.paper_figures.process_results)\n",
    "from scripts.paper_figures.process_results import BehaviorData\n",
    "\n",
    "process_data = BehaviorData(df_data, binary_mask_threshold=0.7,body_parts=BODY_PART_SETS['HaltereSwitch'])\n",
    "\n",
    "process_data.process_expt_names_parallel(llh,io_process.get_binary_mask_subfolder(behavior='HaltereSwitch'))"
   ],
   "metadata": {
    "collapsed": false,
    "ExecuteTime": {
     "end_time": "2023-10-30T04:11:03.044174Z",
     "start_time": "2023-10-30T04:10:59.368104400Z"
    }
   },
   "id": "59c0611caedee75d"
  },
  {
   "cell_type": "code",
   "execution_count": 9,
   "outputs": [],
   "source": [
    "masks_based_on_llh = io_process.load_binary_mask('HaltereSwitch')\n",
    "beh_masks = process_data.create_binary_mask_from_behaviors(BEHAVIORS,'HaltereSwitch')\n",
    "masked_data = process_data.update_dictionary_with_final_masked(masks_based_on_llh,beh_masks)"
   ],
   "metadata": {
    "collapsed": false,
    "ExecuteTime": {
     "end_time": "2023-10-30T04:12:28.368235Z",
     "start_time": "2023-10-30T04:11:03.038172700Z"
    }
   },
   "id": "7fad93c87957c2ed"
  },
  {
   "cell_type": "code",
   "execution_count": 10,
   "outputs": [],
   "source": [
    "# Remove all the haltere switch events that scored less than 0.5\n",
    "\n",
    "# Masked data is a dictionary, so for each key, we have a dataframe get the column name that ends with _final_masked\n",
    "\n",
    "for key in masked_data.keys():\n",
    "    # Get the DataFrame associated with the current key\n",
    "    df = masked_data[key]\n",
    "    \n",
    "    # Filter the column(s) of interest\n",
    "    column_filtered = df.filter(regex='_final_masked$').columns[0]\n",
    "    \n",
    "    # Apply the transformation to the filtered column\n",
    "    df[column_filtered] = df[column_filtered].apply(lambda x: x if x > 0.5 else 0)\n",
    "    \n",
    "    # Update the modified DataFrame back into the dictionary\n",
    "    masked_data[key] = df\n",
    "\n"
   ],
   "metadata": {
    "collapsed": false,
    "ExecuteTime": {
     "end_time": "2023-10-30T04:12:48.370903300Z",
     "start_time": "2023-10-30T04:12:28.368235Z"
    }
   },
   "id": "fb4a4ad78f2dda90"
  },
  {
   "cell_type": "code",
   "execution_count": 11,
   "outputs": [
    {
     "name": "stderr",
     "output_type": "stream",
     "text": [
      "Processing Experiments: 100%|██████████| 61/61 [00:03<00:00, 16.51it/s]\n"
     ]
    }
   ],
   "source": [
    "bouts_dict = BehaviorData.find_consecutive_bouts_and_snap_fts(masked_data, io_process, 'HaltereSwitch', 6, 30*5, 60, False)"
   ],
   "metadata": {
    "collapsed": false,
    "ExecuteTime": {
     "end_time": "2023-10-30T04:12:52.114514Z",
     "start_time": "2023-10-30T04:12:48.371903600Z"
    }
   },
   "id": "e432628dddfbd2b8"
  },
  {
   "cell_type": "code",
   "execution_count": 12,
   "outputs": [],
   "source": [
    "import pickle\n",
    "folder_path = io_process.get_prediction_result_folder('HaltereSwitch')\n",
    "\n",
    "if not bouts_dict:\n",
    "    raise ValueError(\"Bouts are not processed\")\n",
    "\n",
    "with open(os.path.join(folder_path, 'bouts_dict.pkl'), 'wb') as f:\n",
    "    pickle.dump(bouts_dict, f)"
   ],
   "metadata": {
    "collapsed": false,
    "ExecuteTime": {
     "end_time": "2023-10-30T04:12:56.246059700Z",
     "start_time": "2023-10-30T04:12:52.107004300Z"
    }
   },
   "id": "fd9e81dbce83dc6b"
  },
  {
   "cell_type": "code",
   "execution_count": 13,
   "outputs": [],
   "source": [
    "import pandas as pd\n",
    "\n",
    "import pandas as pd\n",
    "\n",
    "def find_largest_change(timeseries):\n",
    "    # Convert the input list/array to a pandas Series\n",
    "    timeseries = pd.Series(timeseries)\n",
    "    \n",
    "    # Compute the difference between consecutive points in the series\n",
    "    diffs = timeseries.diff().abs()\n",
    "    \n",
    "    # Create a rolling window and find the maximum absolute difference\n",
    "    rolling_max_diff = diffs.rolling(window=30).max()\n",
    "    \n",
    "    # Return the index of the largest change\n",
    "    return rolling_max_diff.idxmax()\n",
    "\n",
    "def filter_small_ranges(timeseries,value=4):\n",
    "    \"\"\"Returns True if the range of the timeseries is >= 4, otherwise False\"\"\"\n",
    "    return (max(timeseries) - min(timeseries)) >= value\n",
    "\n",
    "# Create an empty dictionary to store the results\n",
    "index_of_max_changes = {}\n",
    "mod_dict = {}\n",
    "\n",
    "# Process each unique key in the bouts_dict\n",
    "for key in bouts_dict:\n",
    "    df = bouts_dict[key]\n",
    "    \n",
    "    # Filter rows where the timeseries range is less than 4 pixels\n",
    "    df = df[df['distance.thor_post-halt'].apply(filter_small_ranges)]\n",
    "    \n",
    "    # Apply the find_largest_change function to each row of the 'distance.thor_post-halt' column\n",
    "    indices = df['distance.thor_post-halt'].apply(find_largest_change)\n",
    "    \n",
    "    # Store the result in the index_of_max_changes dictionary\n",
    "    index_of_max_changes[key] = indices\n",
    "    \n",
    "    mod_dict[key] = df\n",
    "\n",
    "# Create an empty dictionary to store the final results\n",
    "final_dataframes = {}\n",
    "\n",
    "# Process each unique key in the bouts_dict\n",
    "for key in mod_dict:\n",
    "    df = mod_dict[key]\n",
    "    \n",
    "    # Create a new dataframe with start_index, stop_index, and index_of_max_changes\n",
    "    result_df = pd.DataFrame({\n",
    "        'start_index': df['start_index'].values + index_of_max_changes[key].values-15,\n",
    "        'stop_index': df['start_index'].values + index_of_max_changes[key].values + 15,\n",
    "        'index_of_max_changes': index_of_max_changes[key].values\n",
    "    })\n",
    "    \n",
    "    # Store the result dataframe in the final_dataframes dictionary\n",
    "    final_dataframes[key] = result_df"
   ],
   "metadata": {
    "collapsed": false,
    "ExecuteTime": {
     "end_time": "2023-10-30T04:12:57.413300Z",
     "start_time": "2023-10-30T04:12:56.250990700Z"
    }
   },
   "id": "86aefdb8ccf9b5ca"
  },
  {
   "cell_type": "code",
   "execution_count": 14,
   "outputs": [],
   "source": [
    "# Save the dataframe to disk \n",
    "import pickle\n",
    "folder_path = io_process.get_prediction_result_folder('HaltereSwitch')\n",
    "\n",
    "if not bouts_dict:\n",
    "    raise ValueError(\"Bouts are not processed\")\n",
    "\n",
    "with open(os.path.join(folder_path, 'haltere_final.pkl'), 'wb') as f:\n",
    "    pickle.dump(final_dataframes, f)"
   ],
   "metadata": {
    "collapsed": false,
    "ExecuteTime": {
     "end_time": "2023-10-30T04:12:57.476087900Z",
     "start_time": "2023-10-30T04:12:57.413300Z"
    }
   },
   "id": "8c911b3625a151f2"
  },
  {
   "cell_type": "code",
   "execution_count": 15,
   "outputs": [
    {
     "data": {
      "text/plain": "    start_index  stop_index  index_of_max_changes\n0        139813      139843                   857\n1        194644      194674                   234\n2        196379      196409                    30\n3        208583      208613                   327\n4        209066      209096                   266\n5        221578      221608                   177\n6        233056      233086                   615\n7        234327      234357                   201\n8        234815      234845                   128\n9        237333      237363                   336\n10       240711      240741                   105\n11       242958      242988                   494\n12       244202      244232                    98\n13       248432      248462                   208\n14       249713      249743                   137\n15       251256      251286                   407\n16       253806      253836                   532\n17       255505      255535                   662\n18       259076      259106                  1217\n19       260589      260619                   137\n20       261466      261496                   299\n21       290697      290727                   116\n22       308151      308181                   256\n23       314748      314778                   613\n24       348094      348124                   140\n25       364390      364420                   198\n26       365851      365881                    38\n27       370109      370139                   143\n28       371542      371572                   736\n29       373947      373977                   643\n30       378531      378561                    72\n31       393960      393990                    40\n32       408330      408360                    73\n33       414737      414767                    62\n34       418910      418940                   366\n35       420393      420423                   298\n36       421521      421551                   727\n37       427499      427529                   518\n38       428649      428679                   569\n39       430915      430945                   167\n40       436178      436208                  3957\n41       439660      439690                  1278\n42       441446      441476                   316\n43       442715      442745                   183\n44       445754      445784                  1973\n45       448988      449018                  1036\n46       470945      470975                   101\n47       509483      509513                   167\n48       518280      518310                    95\n49       521289      521319                   405\n50       550286      550316                   503\n51       581111      581141                    42\n52       604349      604379                   378\n53       625949      625979                   142\n54       629429      629459                   192\n55       632284      632314                   550\n56       634313      634343                    65",
      "text/html": "<div>\n<style scoped>\n    .dataframe tbody tr th:only-of-type {\n        vertical-align: middle;\n    }\n\n    .dataframe tbody tr th {\n        vertical-align: top;\n    }\n\n    .dataframe thead th {\n        text-align: right;\n    }\n</style>\n<table border=\"1\" class=\"dataframe\">\n  <thead>\n    <tr style=\"text-align: right;\">\n      <th></th>\n      <th>start_index</th>\n      <th>stop_index</th>\n      <th>index_of_max_changes</th>\n    </tr>\n  </thead>\n  <tbody>\n    <tr>\n      <th>0</th>\n      <td>139813</td>\n      <td>139843</td>\n      <td>857</td>\n    </tr>\n    <tr>\n      <th>1</th>\n      <td>194644</td>\n      <td>194674</td>\n      <td>234</td>\n    </tr>\n    <tr>\n      <th>2</th>\n      <td>196379</td>\n      <td>196409</td>\n      <td>30</td>\n    </tr>\n    <tr>\n      <th>3</th>\n      <td>208583</td>\n      <td>208613</td>\n      <td>327</td>\n    </tr>\n    <tr>\n      <th>4</th>\n      <td>209066</td>\n      <td>209096</td>\n      <td>266</td>\n    </tr>\n    <tr>\n      <th>5</th>\n      <td>221578</td>\n      <td>221608</td>\n      <td>177</td>\n    </tr>\n    <tr>\n      <th>6</th>\n      <td>233056</td>\n      <td>233086</td>\n      <td>615</td>\n    </tr>\n    <tr>\n      <th>7</th>\n      <td>234327</td>\n      <td>234357</td>\n      <td>201</td>\n    </tr>\n    <tr>\n      <th>8</th>\n      <td>234815</td>\n      <td>234845</td>\n      <td>128</td>\n    </tr>\n    <tr>\n      <th>9</th>\n      <td>237333</td>\n      <td>237363</td>\n      <td>336</td>\n    </tr>\n    <tr>\n      <th>10</th>\n      <td>240711</td>\n      <td>240741</td>\n      <td>105</td>\n    </tr>\n    <tr>\n      <th>11</th>\n      <td>242958</td>\n      <td>242988</td>\n      <td>494</td>\n    </tr>\n    <tr>\n      <th>12</th>\n      <td>244202</td>\n      <td>244232</td>\n      <td>98</td>\n    </tr>\n    <tr>\n      <th>13</th>\n      <td>248432</td>\n      <td>248462</td>\n      <td>208</td>\n    </tr>\n    <tr>\n      <th>14</th>\n      <td>249713</td>\n      <td>249743</td>\n      <td>137</td>\n    </tr>\n    <tr>\n      <th>15</th>\n      <td>251256</td>\n      <td>251286</td>\n      <td>407</td>\n    </tr>\n    <tr>\n      <th>16</th>\n      <td>253806</td>\n      <td>253836</td>\n      <td>532</td>\n    </tr>\n    <tr>\n      <th>17</th>\n      <td>255505</td>\n      <td>255535</td>\n      <td>662</td>\n    </tr>\n    <tr>\n      <th>18</th>\n      <td>259076</td>\n      <td>259106</td>\n      <td>1217</td>\n    </tr>\n    <tr>\n      <th>19</th>\n      <td>260589</td>\n      <td>260619</td>\n      <td>137</td>\n    </tr>\n    <tr>\n      <th>20</th>\n      <td>261466</td>\n      <td>261496</td>\n      <td>299</td>\n    </tr>\n    <tr>\n      <th>21</th>\n      <td>290697</td>\n      <td>290727</td>\n      <td>116</td>\n    </tr>\n    <tr>\n      <th>22</th>\n      <td>308151</td>\n      <td>308181</td>\n      <td>256</td>\n    </tr>\n    <tr>\n      <th>23</th>\n      <td>314748</td>\n      <td>314778</td>\n      <td>613</td>\n    </tr>\n    <tr>\n      <th>24</th>\n      <td>348094</td>\n      <td>348124</td>\n      <td>140</td>\n    </tr>\n    <tr>\n      <th>25</th>\n      <td>364390</td>\n      <td>364420</td>\n      <td>198</td>\n    </tr>\n    <tr>\n      <th>26</th>\n      <td>365851</td>\n      <td>365881</td>\n      <td>38</td>\n    </tr>\n    <tr>\n      <th>27</th>\n      <td>370109</td>\n      <td>370139</td>\n      <td>143</td>\n    </tr>\n    <tr>\n      <th>28</th>\n      <td>371542</td>\n      <td>371572</td>\n      <td>736</td>\n    </tr>\n    <tr>\n      <th>29</th>\n      <td>373947</td>\n      <td>373977</td>\n      <td>643</td>\n    </tr>\n    <tr>\n      <th>30</th>\n      <td>378531</td>\n      <td>378561</td>\n      <td>72</td>\n    </tr>\n    <tr>\n      <th>31</th>\n      <td>393960</td>\n      <td>393990</td>\n      <td>40</td>\n    </tr>\n    <tr>\n      <th>32</th>\n      <td>408330</td>\n      <td>408360</td>\n      <td>73</td>\n    </tr>\n    <tr>\n      <th>33</th>\n      <td>414737</td>\n      <td>414767</td>\n      <td>62</td>\n    </tr>\n    <tr>\n      <th>34</th>\n      <td>418910</td>\n      <td>418940</td>\n      <td>366</td>\n    </tr>\n    <tr>\n      <th>35</th>\n      <td>420393</td>\n      <td>420423</td>\n      <td>298</td>\n    </tr>\n    <tr>\n      <th>36</th>\n      <td>421521</td>\n      <td>421551</td>\n      <td>727</td>\n    </tr>\n    <tr>\n      <th>37</th>\n      <td>427499</td>\n      <td>427529</td>\n      <td>518</td>\n    </tr>\n    <tr>\n      <th>38</th>\n      <td>428649</td>\n      <td>428679</td>\n      <td>569</td>\n    </tr>\n    <tr>\n      <th>39</th>\n      <td>430915</td>\n      <td>430945</td>\n      <td>167</td>\n    </tr>\n    <tr>\n      <th>40</th>\n      <td>436178</td>\n      <td>436208</td>\n      <td>3957</td>\n    </tr>\n    <tr>\n      <th>41</th>\n      <td>439660</td>\n      <td>439690</td>\n      <td>1278</td>\n    </tr>\n    <tr>\n      <th>42</th>\n      <td>441446</td>\n      <td>441476</td>\n      <td>316</td>\n    </tr>\n    <tr>\n      <th>43</th>\n      <td>442715</td>\n      <td>442745</td>\n      <td>183</td>\n    </tr>\n    <tr>\n      <th>44</th>\n      <td>445754</td>\n      <td>445784</td>\n      <td>1973</td>\n    </tr>\n    <tr>\n      <th>45</th>\n      <td>448988</td>\n      <td>449018</td>\n      <td>1036</td>\n    </tr>\n    <tr>\n      <th>46</th>\n      <td>470945</td>\n      <td>470975</td>\n      <td>101</td>\n    </tr>\n    <tr>\n      <th>47</th>\n      <td>509483</td>\n      <td>509513</td>\n      <td>167</td>\n    </tr>\n    <tr>\n      <th>48</th>\n      <td>518280</td>\n      <td>518310</td>\n      <td>95</td>\n    </tr>\n    <tr>\n      <th>49</th>\n      <td>521289</td>\n      <td>521319</td>\n      <td>405</td>\n    </tr>\n    <tr>\n      <th>50</th>\n      <td>550286</td>\n      <td>550316</td>\n      <td>503</td>\n    </tr>\n    <tr>\n      <th>51</th>\n      <td>581111</td>\n      <td>581141</td>\n      <td>42</td>\n    </tr>\n    <tr>\n      <th>52</th>\n      <td>604349</td>\n      <td>604379</td>\n      <td>378</td>\n    </tr>\n    <tr>\n      <th>53</th>\n      <td>625949</td>\n      <td>625979</td>\n      <td>142</td>\n    </tr>\n    <tr>\n      <th>54</th>\n      <td>629429</td>\n      <td>629459</td>\n      <td>192</td>\n    </tr>\n    <tr>\n      <th>55</th>\n      <td>632284</td>\n      <td>632314</td>\n      <td>550</td>\n    </tr>\n    <tr>\n      <th>56</th>\n      <td>634313</td>\n      <td>634343</td>\n      <td>65</td>\n    </tr>\n  </tbody>\n</table>\n</div>"
     },
     "execution_count": 15,
     "metadata": {},
     "output_type": "execute_result"
    }
   ],
   "source": [
    "# Remove the following key from the final_dataframes 'Fly05252022_SD_5d\n",
    "final_dataframes.pop('Fly05252022_SD_5d')"
   ],
   "metadata": {
    "collapsed": false,
    "ExecuteTime": {
     "end_time": "2023-10-30T04:12:57.500093800Z",
     "start_time": "2023-10-30T04:12:57.476087900Z"
    }
   },
   "id": "5f40ed021c2f35cf"
  },
  {
   "cell_type": "code",
   "execution_count": 16,
   "outputs": [],
   "source": [
    "result_list = []\n",
    "\n",
    "for name, df in final_dataframes.items():\n",
    "    df = df.copy()  # Make a copy of the dataframe to avoid modifying the original\n",
    "    df['ExptNames'] = name\n",
    "    result_list.append(df)\n",
    "\n",
    "concatenated_df = pd.concat(result_list, ignore_index=True)\n",
    "\n"
   ],
   "metadata": {
    "collapsed": false,
    "ExecuteTime": {
     "end_time": "2023-10-30T04:12:57.533100500Z",
     "start_time": "2023-10-30T04:12:57.492091500Z"
    }
   },
   "id": "9490c15966a02650"
  },
  {
   "cell_type": "code",
   "execution_count": 17,
   "outputs": [
    {
     "data": {
      "text/plain": "     start_index stop_index index_of_max_changes            ExptNames\n0          68907      68937                  903  Fly06252022_5d_SD_A\n1         218623     218653                 2050  Fly06252022_5d_SD_A\n2         236105     236135                  186  Fly06252022_5d_SD_A\n3         312164     312194                   44  Fly06252022_5d_SD_A\n4         350368     350398                  129  Fly06252022_5d_SD_A\n...          ...        ...                  ...                  ...\n2241     1666207    1666237                   52       Fly06182022_4d\n2242     1673851    1673881                 2585       Fly06182022_4d\n2243     1674857    1674887                  374       Fly06182022_4d\n2244     1689534    1689564                 7485       Fly06182022_4d\n2245     1727577    1727607                  234       Fly06182022_4d\n\n[2246 rows x 4 columns]",
      "text/html": "<div>\n<style scoped>\n    .dataframe tbody tr th:only-of-type {\n        vertical-align: middle;\n    }\n\n    .dataframe tbody tr th {\n        vertical-align: top;\n    }\n\n    .dataframe thead th {\n        text-align: right;\n    }\n</style>\n<table border=\"1\" class=\"dataframe\">\n  <thead>\n    <tr style=\"text-align: right;\">\n      <th></th>\n      <th>start_index</th>\n      <th>stop_index</th>\n      <th>index_of_max_changes</th>\n      <th>ExptNames</th>\n    </tr>\n  </thead>\n  <tbody>\n    <tr>\n      <th>0</th>\n      <td>68907</td>\n      <td>68937</td>\n      <td>903</td>\n      <td>Fly06252022_5d_SD_A</td>\n    </tr>\n    <tr>\n      <th>1</th>\n      <td>218623</td>\n      <td>218653</td>\n      <td>2050</td>\n      <td>Fly06252022_5d_SD_A</td>\n    </tr>\n    <tr>\n      <th>2</th>\n      <td>236105</td>\n      <td>236135</td>\n      <td>186</td>\n      <td>Fly06252022_5d_SD_A</td>\n    </tr>\n    <tr>\n      <th>3</th>\n      <td>312164</td>\n      <td>312194</td>\n      <td>44</td>\n      <td>Fly06252022_5d_SD_A</td>\n    </tr>\n    <tr>\n      <th>4</th>\n      <td>350368</td>\n      <td>350398</td>\n      <td>129</td>\n      <td>Fly06252022_5d_SD_A</td>\n    </tr>\n    <tr>\n      <th>...</th>\n      <td>...</td>\n      <td>...</td>\n      <td>...</td>\n      <td>...</td>\n    </tr>\n    <tr>\n      <th>2241</th>\n      <td>1666207</td>\n      <td>1666237</td>\n      <td>52</td>\n      <td>Fly06182022_4d</td>\n    </tr>\n    <tr>\n      <th>2242</th>\n      <td>1673851</td>\n      <td>1673881</td>\n      <td>2585</td>\n      <td>Fly06182022_4d</td>\n    </tr>\n    <tr>\n      <th>2243</th>\n      <td>1674857</td>\n      <td>1674887</td>\n      <td>374</td>\n      <td>Fly06182022_4d</td>\n    </tr>\n    <tr>\n      <th>2244</th>\n      <td>1689534</td>\n      <td>1689564</td>\n      <td>7485</td>\n      <td>Fly06182022_4d</td>\n    </tr>\n    <tr>\n      <th>2245</th>\n      <td>1727577</td>\n      <td>1727607</td>\n      <td>234</td>\n      <td>Fly06182022_4d</td>\n    </tr>\n  </tbody>\n</table>\n<p>2246 rows × 4 columns</p>\n</div>"
     },
     "execution_count": 17,
     "metadata": {},
     "output_type": "execute_result"
    }
   ],
   "source": [
    "concatenated_df"
   ],
   "metadata": {
    "collapsed": false,
    "ExecuteTime": {
     "end_time": "2023-10-29T11:08:32.056476600Z",
     "start_time": "2023-10-29T11:08:32.018469200Z"
    }
   },
   "id": "610bab8630c9fc0a"
  },
  {
   "cell_type": "code",
   "execution_count": 17,
   "outputs": [],
   "source": [
    "import matplotlib.pyplot as plt\n",
    "import matplotlib as mpl\n",
    "\n",
    "mpl.rcParams['pdf.fonttype'] = 42\n",
    "mpl.rcParams['font.family'] = 'Arial'\n",
    "\n",
    "# Plot haltere switch events\n",
    "name_to_sd = dict(zip(expt_info_df['ExptNames'], expt_info_df['SD']))\n",
    "name_to_sex = dict(zip(expt_info_df['ExptNames'], expt_info_df['Sex']))\n",
    "\n",
    "# \n"
   ],
   "metadata": {
    "collapsed": false,
    "ExecuteTime": {
     "end_time": "2023-10-30T04:12:57.552104800Z",
     "start_time": "2023-10-30T04:12:57.521098900Z"
    }
   },
   "id": "971d5f86510c3c00"
  },
  {
   "cell_type": "code",
   "execution_count": 18,
   "outputs": [],
   "source": [
    "name_to_sd = dict(zip(expt_info_df['ExptNames'], expt_info_df['SD']))\n",
    "name_to_sex = dict(zip(expt_info_df['ExptNames'], expt_info_df['Sex']))\n",
    "\n",
    "\n",
    "# Possible values for sd and sex\n",
    "sd_values = [False, True]\n",
    "sex_values = ['M', 'F']\n",
    "\n",
    "grouped_dict = {}\n",
    "\n",
    "# Initialize an empty dictionary for each group\n",
    "for sd_value in sd_values:\n",
    "    for sex_value in sex_values:\n",
    "        grouped_name = f'SD_{sd_value}_Sex_{sex_value}'\n",
    "        grouped_dict[grouped_name] = {}\n",
    "\n",
    "# Loop over each key in final_dataframe to segregate it into one of the 4 groups\n",
    "for key in final_dataframes.keys():\n",
    "    sd = name_to_sd.get(key)\n",
    "    sex = name_to_sex.get(key)\n",
    "    \n",
    "    grouped_name = f'SD_{sd}_Sex_{sex}'\n",
    "    grouped_dict[grouped_name][key] = final_dataframes[key]"
   ],
   "metadata": {
    "collapsed": false,
    "ExecuteTime": {
     "end_time": "2023-10-30T04:12:57.600116100Z",
     "start_time": "2023-10-30T04:12:57.538102500Z"
    }
   },
   "id": "5bc15955b318ef2e"
  },
  {
   "cell_type": "code",
   "execution_count": 19,
   "outputs": [],
   "source": [
    "import numpy as np\n",
    "def plot_data(group_dict, color='#d62728',sd=False,sex='F',behavior='Haltere_Switch',fig_path = r'C:\\Users\\Grover\\Documents\\GitHub\\deepsleepfigs\\Fig_4_5'):\n",
    "    target_dict_name = f'SD_{sd}_Sex_{sex}'\n",
    "    data_dict = group_dict[target_dict_name]\n",
    "    \n",
    "    fig, ax = plt.subplots(figsize=(15, len(data_dict) / 4))\n",
    "    unique_names = list(data_dict.keys())\n",
    "\n",
    "    for idx, name in enumerate(unique_names):\n",
    "        subset_df = data_dict[name]\n",
    "        subset_df['start_index_hr'] = subset_df['start_index'] / (30*60*60)\n",
    "        subset_df['stop_index_hr'] = subset_df['stop_index'] / (30*60*60)\n",
    "        \n",
    "        for _, row in subset_df.iterrows():\n",
    "            start_pos = row['start_index_hr']\n",
    "            width = row['stop_index_hr'] - start_pos\n",
    "            ax.barh(idx, width, left=start_pos, color=color, edgecolor='none')\n",
    "            \n",
    "    ax.set_yticks(range(len(unique_names)))\n",
    "    ax.set_yticklabels(unique_names)\n",
    "    # Set xticks to be in hours\n",
    "    if sd:\n",
    "        ax.set_xticks(np.arange(0, 7, 1))\n",
    "        ax.set_xticklabels( [tick % 24 for tick in np.arange(0, 7,1)])\n",
    "    else:\n",
    "        ax.set_xticks(np.arange(0, 17,2))\n",
    "        ax.set_xticklabels( [tick % 24 for tick in np.arange(10, 27,2)])\n",
    "    \n",
    "    # Add a title\n",
    "    plt.title(target_dict_name)\n",
    "    plt.xlim(0,16)\n",
    "    \n",
    "    plt.tight_layout()\n",
    "    # Save the figure to disk\n",
    "    plt.savefig(os.path.join(fig_path,f'{target_dict_name}_{behavior}_greater_than_4.pdf'))\n",
    "    \n",
    "    plt.show()\n"
   ],
   "metadata": {
    "collapsed": false,
    "ExecuteTime": {
     "end_time": "2023-10-30T04:12:57.645126500Z",
     "start_time": "2023-10-30T04:12:57.552104800Z"
    }
   },
   "id": "3dd47b36b05917fc"
  },
  {
   "cell_type": "code",
   "execution_count": 26,
   "outputs": [
    {
     "name": "stdout",
     "output_type": "stream",
     "text": [
      "[2023-10-30 00:16:57] INFO - maxp pruned\n",
      "[2023-10-30 00:16:57] INFO - LTSH dropped\n",
      "[2023-10-30 00:16:57] INFO - cmap pruned\n",
      "[2023-10-30 00:16:57] INFO - kern dropped\n",
      "[2023-10-30 00:16:57] INFO - post pruned\n",
      "[2023-10-30 00:16:57] INFO - PCLT dropped\n",
      "[2023-10-30 00:16:57] INFO - JSTF dropped\n",
      "[2023-10-30 00:16:57] INFO - meta dropped\n",
      "[2023-10-30 00:16:57] INFO - DSIG dropped\n",
      "[2023-10-30 00:16:57] INFO - GPOS pruned\n",
      "[2023-10-30 00:16:57] INFO - GSUB pruned\n",
      "[2023-10-30 00:16:57] INFO - glyf pruned\n",
      "[2023-10-30 00:16:57] INFO - Added gid0 to subset\n",
      "[2023-10-30 00:16:57] INFO - Added first four glyphs to subset\n",
      "[2023-10-30 00:16:57] INFO - Closing glyph list over 'GSUB': 25 glyphs before\n",
      "[2023-10-30 00:16:57] INFO - Glyph names: ['.notdef', 'A', 'B', 'D', 'F', 'S', 'a', 'd', 'e', 'eight', 'five', 'four', 'glyph00001', 'glyph00002', 'l', 'one', 's', 'seven', 'six', 'space', 'two', 'underscore', 'x', 'y', 'zero']\n",
      "[2023-10-30 00:16:57] INFO - Glyph IDs:   [0, 1, 2, 3, 19, 20, 21, 23, 24, 25, 26, 27, 36, 37, 39, 41, 54, 66, 68, 71, 72, 79, 86, 91, 92]\n",
      "[2023-10-30 00:16:57] INFO - Closed glyph list over 'GSUB': 41 glyphs after\n",
      "[2023-10-30 00:16:57] INFO - Glyph names: ['.notdef', 'A', 'B', 'D', 'F', 'S', 'a', 'd', 'e', 'eight', 'five', 'four', 'glyph00001', 'glyph00002', 'glyph03674', 'glyph03675', 'glyph03676', 'glyph03678', 'glyph03679', 'glyph03680', 'glyph03681', 'glyph03682', 'l', 'one', 's', 'seven', 'six', 'space', 'two', 'underscore', 'uni00B2', 'uni00B9', 'uni2070', 'uni2074', 'uni2075', 'uni2076', 'uni2077', 'uni2078', 'x', 'y', 'zero']\n",
      "[2023-10-30 00:16:57] INFO - Glyph IDs:   [0, 1, 2, 3, 19, 20, 21, 23, 24, 25, 26, 27, 36, 37, 39, 41, 54, 66, 68, 71, 72, 79, 86, 91, 92, 239, 240, 3674, 3675, 3676, 3678, 3679, 3680, 3681, 3682, 3684, 3686, 3774, 3775, 3776, 3777]\n",
      "[2023-10-30 00:16:57] INFO - Closing glyph list over 'glyf': 41 glyphs before\n",
      "[2023-10-30 00:16:57] INFO - Glyph names: ['.notdef', 'A', 'B', 'D', 'F', 'S', 'a', 'd', 'e', 'eight', 'five', 'four', 'glyph00001', 'glyph00002', 'glyph03674', 'glyph03675', 'glyph03676', 'glyph03678', 'glyph03679', 'glyph03680', 'glyph03681', 'glyph03682', 'l', 'one', 's', 'seven', 'six', 'space', 'two', 'underscore', 'uni00B2', 'uni00B9', 'uni2070', 'uni2074', 'uni2075', 'uni2076', 'uni2077', 'uni2078', 'x', 'y', 'zero']\n",
      "[2023-10-30 00:16:57] INFO - Glyph IDs:   [0, 1, 2, 3, 19, 20, 21, 23, 24, 25, 26, 27, 36, 37, 39, 41, 54, 66, 68, 71, 72, 79, 86, 91, 92, 239, 240, 3674, 3675, 3676, 3678, 3679, 3680, 3681, 3682, 3684, 3686, 3774, 3775, 3776, 3777]\n",
      "[2023-10-30 00:16:57] INFO - Closed glyph list over 'glyf': 47 glyphs after\n",
      "[2023-10-30 00:16:57] INFO - Glyph names: ['.notdef', 'A', 'B', 'D', 'F', 'S', 'a', 'd', 'e', 'eight', 'five', 'four', 'glyph00001', 'glyph00002', 'glyph03384', 'glyph03388', 'glyph03389', 'glyph03390', 'glyph03391', 'glyph03392', 'glyph03674', 'glyph03675', 'glyph03676', 'glyph03678', 'glyph03679', 'glyph03680', 'glyph03681', 'glyph03682', 'l', 'one', 's', 'seven', 'six', 'space', 'two', 'underscore', 'uni00B2', 'uni00B9', 'uni2070', 'uni2074', 'uni2075', 'uni2076', 'uni2077', 'uni2078', 'x', 'y', 'zero']\n",
      "[2023-10-30 00:16:57] INFO - Glyph IDs:   [0, 1, 2, 3, 19, 20, 21, 23, 24, 25, 26, 27, 36, 37, 39, 41, 54, 66, 68, 71, 72, 79, 86, 91, 92, 239, 240, 3384, 3388, 3389, 3390, 3391, 3392, 3674, 3675, 3676, 3678, 3679, 3680, 3681, 3682, 3684, 3686, 3774, 3775, 3776, 3777]\n",
      "[2023-10-30 00:16:57] INFO - Retaining 47 glyphs\n",
      "[2023-10-30 00:16:57] INFO - head subsetting not needed\n",
      "[2023-10-30 00:16:57] INFO - hhea subsetting not needed\n",
      "[2023-10-30 00:16:57] INFO - maxp subsetting not needed\n",
      "[2023-10-30 00:16:57] INFO - OS/2 subsetting not needed\n",
      "[2023-10-30 00:16:57] INFO - hmtx subsetted\n",
      "[2023-10-30 00:16:57] INFO - VDMX subsetting not needed\n",
      "[2023-10-30 00:16:57] INFO - hdmx subsetted\n",
      "[2023-10-30 00:16:57] INFO - cmap subsetted\n",
      "[2023-10-30 00:16:57] INFO - fpgm subsetting not needed\n",
      "[2023-10-30 00:16:57] INFO - prep subsetting not needed\n",
      "[2023-10-30 00:16:57] INFO - cvt  subsetting not needed\n",
      "[2023-10-30 00:16:57] INFO - loca subsetting not needed\n",
      "[2023-10-30 00:16:57] INFO - post subsetted\n",
      "[2023-10-30 00:16:57] INFO - gasp subsetting not needed\n",
      "[2023-10-30 00:16:57] INFO - GDEF subsetted\n",
      "[2023-10-30 00:16:57] INFO - GPOS subsetted\n",
      "[2023-10-30 00:16:57] INFO - GSUB subsetted\n",
      "[2023-10-30 00:16:57] INFO - name subsetting not needed\n",
      "[2023-10-30 00:16:57] INFO - glyf subsetted\n",
      "[2023-10-30 00:16:57] INFO - head pruned\n",
      "[2023-10-30 00:16:57] INFO - OS/2 Unicode ranges pruned: [0]\n",
      "[2023-10-30 00:16:57] INFO - glyf pruned\n",
      "[2023-10-30 00:16:57] INFO - GDEF pruned\n",
      "[2023-10-30 00:16:57] INFO - GPOS pruned\n",
      "[2023-10-30 00:16:57] INFO - GSUB pruned\n",
      "[2023-10-30 00:16:57] INFO - name pruned\n"
     ]
    },
    {
     "data": {
      "text/plain": "<Figure size 1500x250 with 1 Axes>",
      "image/png": "[encoded data removed]"
     },
     "metadata": {},
     "output_type": "display_data"
    }
   ],
   "source": [
    "plot_data(grouped_dict,sd=False,sex='F',behavior='Haltere_Switch')"
   ],
   "metadata": {
    "collapsed": false,
    "ExecuteTime": {
     "end_time": "2023-10-30T04:16:58.319917900Z",
     "start_time": "2023-10-30T04:16:56.307284200Z"
    }
   },
   "id": "97ae70168bf97788"
  },
  {
   "cell_type": "code",
   "execution_count": 20,
   "outputs": [],
   "source": [
    "import numpy as np\n",
    "# Initialize an empty dictionary to store the final results\n",
    "grouped_binned = {}\n",
    "\n",
    "# Process each key-value pair in the grouped_dict\n",
    "for key, value_dict in grouped_dict.items():\n",
    "    tmp_results = []\n",
    "    \n",
    "    for name, df in value_dict.items():\n",
    "        df = df.copy()  # Make a copy of the dataframe to avoid modifying the original\n",
    "        df['ExptNames'] = name\n",
    "        tmp_results.append(df)\n",
    "\n",
    "    # Concatenate the dataframes in the result_list\n",
    "    binned_df = pd.concat(tmp_results, ignore_index=True)\n",
    "    \n",
    "    # Add a 'bin' column to the concatenated_df using the 'start_index' column\n",
    "    binned_df['bin'] = pd.cut(binned_df['start_index'], bins=np.arange(0, 17*60*60*30, 30*60*60*1))\n",
    "    \n",
    "    # Store the resulting dataframe in the grouped_binned dictionary\n",
    "    grouped_binned[key] = binned_df\n"
   ],
   "metadata": {
    "collapsed": false,
    "ExecuteTime": {
     "end_time": "2023-10-30T04:12:57.645126500Z",
     "start_time": "2023-10-30T04:12:57.568108800Z"
    }
   },
   "id": "93df9136cae2dd3f"
  },
  {
   "cell_type": "code",
   "execution_count": 25,
   "outputs": [
    {
     "data": {
      "text/plain": "      start_index  stop_index  index_of_max_changes         ExptNames  \\\n0            3354        3384                   390  Fly08012022_6d_B   \n1            6308        6338                   222  Fly08012022_6d_B   \n2           21134       21164                   313  Fly08012022_6d_B   \n3           22671       22701                   129  Fly08012022_6d_B   \n4           38488       38518                   219  Fly08012022_6d_B   \n...           ...         ...                   ...               ...   \n1024      1346498     1346528                   712  Fly07052022_5d_A   \n1025      1347917     1347947                   221  Fly07052022_5d_A   \n1026      1353027     1353057                   270  Fly07052022_5d_A   \n1027      1356992     1357022                   435  Fly07052022_5d_A   \n1028      1367975     1368005                   292  Fly07052022_5d_A   \n\n                     bin  \n0            (0, 108000]  \n1            (0, 108000]  \n2            (0, 108000]  \n3            (0, 108000]  \n4            (0, 108000]  \n...                  ...  \n1024  (1296000, 1404000]  \n1025  (1296000, 1404000]  \n1026  (1296000, 1404000]  \n1027  (1296000, 1404000]  \n1028  (1296000, 1404000]  \n\n[1029 rows x 5 columns]",
      "text/html": "<div>\n<style scoped>\n    .dataframe tbody tr th:only-of-type {\n        vertical-align: middle;\n    }\n\n    .dataframe tbody tr th {\n        vertical-align: top;\n    }\n\n    .dataframe thead th {\n        text-align: right;\n    }\n</style>\n<table border=\"1\" class=\"dataframe\">\n  <thead>\n    <tr style=\"text-align: right;\">\n      <th></th>\n      <th>start_index</th>\n      <th>stop_index</th>\n      <th>index_of_max_changes</th>\n      <th>ExptNames</th>\n      <th>bin</th>\n    </tr>\n  </thead>\n  <tbody>\n    <tr>\n      <th>0</th>\n      <td>3354</td>\n      <td>3384</td>\n      <td>390</td>\n      <td>Fly08012022_6d_B</td>\n      <td>(0, 108000]</td>\n    </tr>\n    <tr>\n      <th>1</th>\n      <td>6308</td>\n      <td>6338</td>\n      <td>222</td>\n      <td>Fly08012022_6d_B</td>\n      <td>(0, 108000]</td>\n    </tr>\n    <tr>\n      <th>2</th>\n      <td>21134</td>\n      <td>21164</td>\n      <td>313</td>\n      <td>Fly08012022_6d_B</td>\n      <td>(0, 108000]</td>\n    </tr>\n    <tr>\n      <th>3</th>\n      <td>22671</td>\n      <td>22701</td>\n      <td>129</td>\n      <td>Fly08012022_6d_B</td>\n      <td>(0, 108000]</td>\n    </tr>\n    <tr>\n      <th>4</th>\n      <td>38488</td>\n      <td>38518</td>\n      <td>219</td>\n      <td>Fly08012022_6d_B</td>\n      <td>(0, 108000]</td>\n    </tr>\n    <tr>\n      <th>...</th>\n      <td>...</td>\n      <td>...</td>\n      <td>...</td>\n      <td>...</td>\n      <td>...</td>\n    </tr>\n    <tr>\n      <th>1024</th>\n      <td>1346498</td>\n      <td>1346528</td>\n      <td>712</td>\n      <td>Fly07052022_5d_A</td>\n      <td>(1296000, 1404000]</td>\n    </tr>\n    <tr>\n      <th>1025</th>\n      <td>1347917</td>\n      <td>1347947</td>\n      <td>221</td>\n      <td>Fly07052022_5d_A</td>\n      <td>(1296000, 1404000]</td>\n    </tr>\n    <tr>\n      <th>1026</th>\n      <td>1353027</td>\n      <td>1353057</td>\n      <td>270</td>\n      <td>Fly07052022_5d_A</td>\n      <td>(1296000, 1404000]</td>\n    </tr>\n    <tr>\n      <th>1027</th>\n      <td>1356992</td>\n      <td>1357022</td>\n      <td>435</td>\n      <td>Fly07052022_5d_A</td>\n      <td>(1296000, 1404000]</td>\n    </tr>\n    <tr>\n      <th>1028</th>\n      <td>1367975</td>\n      <td>1368005</td>\n      <td>292</td>\n      <td>Fly07052022_5d_A</td>\n      <td>(1296000, 1404000]</td>\n    </tr>\n  </tbody>\n</table>\n<p>1029 rows × 5 columns</p>\n</div>"
     },
     "execution_count": 25,
     "metadata": {},
     "output_type": "execute_result"
    }
   ],
   "source": [
    "grouped_binned['SD_False_Sex_F']"
   ],
   "metadata": {
    "collapsed": false,
    "ExecuteTime": {
     "end_time": "2023-10-30T04:16:11.693960600Z",
     "start_time": "2023-10-30T04:16:11.651950800Z"
    }
   },
   "id": "61c0c140e4f703cc"
  },
  {
   "cell_type": "code",
   "execution_count": null,
   "outputs": [],
   "source": [
    "def adjust_interval(interval):\n",
    "    # Adjust the start and end of the interval\n",
    "    start = interval.left / (30 * 60 * 60)\n",
    "    end = interval.right / (30 * 60 * 60)\n",
    "    \n",
    "    # Return the new interval\n",
    "    return pd.Interval(start, end)\n"
   ],
   "metadata": {
    "collapsed": false
   },
   "id": "4750c6b75b3274cf"
  },
  {
   "cell_type": "code",
   "execution_count": null,
   "outputs": [],
   "source": [
    "import numpy as np\n",
    "import os\n",
    "import matplotlib.pyplot as plt\n",
    "\n",
    "def plot_binned_data(group_dict, sd=False,sex='F',behavior='Haltere_Switch',ylim_val = None,fig_path = r'C:\\Users\\Grover\\Documents\\GitHub\\deepsleepfigs\\Fig_4_5'):\n",
    "    target_dict_name = f'SD_{sd}_Sex_{sex}'\n",
    "    data_df = group_dict[target_dict_name]\n",
    "    \n",
    "    count_per_bin_per_experiment = data_df.groupby(['ExptNames', 'bin']).size().reset_index(name='Count')\n",
    "    \n",
    "    import seaborn as sns\n",
    "    # Plot\n",
    "    plt.figure(figsize=(12, 8))\n",
    "    sns.boxplot(data=count_per_bin_per_experiment, x='bin', y='Count', showfliers=False, color=\"skyblue\",width=0.5, notch=False, boxprops=dict(edgecolor='none'),showcaps=False, whiskerprops={'visible': False})\n",
    "    \n",
    "    \n",
    "    # Calculate the median values for each time bin\n",
    "    medians = count_per_bin_per_experiment.groupby('bin')['Count'].median().reset_index()\n",
    "    \n",
    "    # Plot the medians using the mid_points for the x-axis\n",
    "    plt.plot(range(len(medians)), medians['Count'], color='black', linestyle='-', marker='o', label=\"Median\")\n",
    "\n",
    "\n",
    "    plt.title(\"Boxplot of Counts per Bin for Each Experiment\")\n",
    "\n",
    "\n",
    "    if sd:\n",
    "        xticklabels = [f'{x%24} - {(x+1)%24}' for x in np.arange(0, 6, 1)]\n",
    "        plt.xticks(ticks=range(len(xticklabels)), labels=xticklabels)\n",
    "        plt.xlabel(\"Time (ZT)\")\n",
    "    else:\n",
    "        xticklabels = [f'{x%24} - {(x+1)%24}' for x in np.arange(10, 26, 1)]\n",
    "        plt.xticks(ticks=range(len(xticklabels)), labels=xticklabels)\n",
    "        plt.xlabel(\"Time (ZT)\")\n",
    "\n",
    "    plt.xlabel(\"ZT Time\")\n",
    "    \n",
    "    if ylim_val is not None:\n",
    "        plt.ylim(ylim_val)\n",
    "\n",
    "    plt.tight_layout()\n",
    "    # Save the figure to disk\n",
    "    plt.savefig(os.path.join(fig_path,f'{target_dict_name}_{behavior}_binned_greater_than_5.pdf'))\n",
    "    \n",
    "    plt.show()\n"
   ],
   "metadata": {
    "collapsed": false
   },
   "id": "accd16efa8f21342"
  },
  {
   "cell_type": "code",
   "execution_count": null,
   "outputs": [],
   "source": [
    "plot_binned_data(grouped_binned,sd=True,sex='F',behavior='Haltere_Switch',ylim_val=None)\n"
   ],
   "metadata": {
    "collapsed": false
   },
   "id": "e0947d9e67805eca"
  },
  {
   "cell_type": "code",
   "execution_count": null,
   "outputs": [],
   "source": [
    "# Save the dataframe to disk\n",
    "import pickle\n",
    "folder_path = io_process.get_prediction_result_folder('HaltereSwitch')\n",
    "\n",
    "\n",
    "# Save grouped_dict and grouped_binned to disk\n",
    "with open(os.path.join(folder_path, 'grouped_dict.pkl'), 'wb') as f:\n",
    "    pickle.dump(grouped_dict, f)\n",
    "    \n",
    "with open(os.path.join(folder_path, 'grouped_binned.pkl'), 'wb') as f:\n",
    "    pickle.dump(grouped_binned, f)\n",
    "\n"
   ],
   "metadata": {
    "collapsed": false
   },
   "id": "3b641981d9d6bf9c"
  },
  {
   "cell_type": "code",
   "execution_count": null,
   "outputs": [],
   "source": [
    "import plotter\n",
    "ploting = plotter.Plotter()\n",
    "\n",
    "ploting.plot_time_series(bouts_dict,'distance.thor_post-halt','multipage_haltere_switch.pdf')"
   ],
   "metadata": {
    "collapsed": false
   },
   "id": "d951fbd9ec654691"
  },
  {
   "cell_type": "code",
   "execution_count": 33,
   "outputs": [],
   "source": [
    "import pandas as pd\n",
    "path = r'Z:\\mfk\\basty-projects\\tmp_results\\predictions\\HaltereSwitch\\grouped_binned.pkl'\n",
    "\n",
    "#grouped_binned = pd.read_pickle(path)"
   ],
   "metadata": {
    "collapsed": false,
    "ExecuteTime": {
     "end_time": "2023-10-30T03:39:10.587097Z",
     "start_time": "2023-10-30T03:39:10.529081500Z"
    }
   },
   "id": "8ac00e4c6694ea8a"
  },
  {
   "cell_type": "code",
   "execution_count": 37,
   "outputs": [],
   "source": [
    "sd_true_sex_f = grouped_binned['SD_True_Sex_F']\n",
    "count_per_bin_per_experiment = sd_true_sex_f.groupby(['ExptNames', 'bin']).size().reset_index(name='Count')\n",
    "sd=True\n",
    "if sd:\n",
    "    #remove bins larger than 30*60*60*6\n",
    "    count_per_bin_per_experiment = count_per_bin_per_experiment[count_per_bin_per_experiment['bin'].apply(lambda x: x.left < 30*60*60*6)]\n",
    "else:\n",
    "    #remove bins larger than 30*60*60*16\n",
    "    count_per_bin_per_experiment = count_per_bin_per_experiment[count_per_bin_per_experiment['bin'].apply(lambda x: x.left < 30*60*60*16)]\n",
    "    \n",
    "\n",
    "# Group by 'ExptNames' and grab the last two rows\n",
    "last_two_bins = count_per_bin_per_experiment.groupby('ExptNames').apply(lambda group: group.head(2))\n",
    "\n",
    "last_two_bins.reset_index(drop=True, inplace=True)\n",
    "\n",
    "# Sum the counts for these rows\n",
    "combined_counts = last_two_bins.groupby('ExptNames').agg({\"Count\": \"sum\"}).reset_index()\n",
    "\n",
    "\n",
    "combined_counts['bin'] = 'Last 2 Bins Combined'  # Naming the bin column for clarity\n",
    "first_2_hours_sd_true_sex_f = combined_counts"
   ],
   "metadata": {
    "collapsed": false,
    "ExecuteTime": {
     "end_time": "2023-10-30T04:21:33.432060100Z",
     "start_time": "2023-10-30T04:21:33.395569700Z"
    }
   },
   "id": "420c6274a7ca609f"
  },
  {
   "cell_type": "code",
   "execution_count": 38,
   "outputs": [],
   "source": [
    "sd_false_sex_f = grouped_binned['SD_False_Sex_F']\n",
    "count_per_bin_per_experiment = sd_false_sex_f.groupby(['ExptNames', 'bin']).size().reset_index(name='Count')\n",
    "sd=False\n",
    "if sd:\n",
    "    #remove bins larger than 30*60*60*6\n",
    "    count_per_bin_per_experiment = count_per_bin_per_experiment[count_per_bin_per_experiment['bin'].apply(lambda x: x.left < 30*60*60*6)]\n",
    "    \n",
    "\n",
    "# Group by 'ExptNames' and grab the last two rows\n",
    "last_two_bins = count_per_bin_per_experiment.groupby('ExptNames').apply(lambda group: group.tail(2))\n",
    "\n",
    "last_two_bins.reset_index(drop=True, inplace=True)\n",
    "\n",
    "# Sum the counts for these rows\n",
    "combined_counts = last_two_bins.groupby('ExptNames').agg({\"Count\": \"sum\"}).reset_index()\n",
    "\n",
    "\n",
    "combined_counts['bin'] = 'Last 2 Bins Combined'  # Naming the bin column for clarity\n",
    "last_2_hours_sd_false_sex_f= combined_counts"
   ],
   "metadata": {
    "collapsed": false,
    "ExecuteTime": {
     "end_time": "2023-10-30T04:21:33.733040100Z",
     "start_time": "2023-10-30T04:21:33.702629600Z"
    }
   },
   "id": "eab01053de8795e9"
  },
  {
   "cell_type": "code",
   "execution_count": 45,
   "outputs": [
    {
     "name": "stdout",
     "output_type": "stream",
     "text": [
      "[2023-10-30 00:59:35] INFO - maxp pruned\n",
      "[2023-10-30 00:59:35] INFO - LTSH dropped\n",
      "[2023-10-30 00:59:35] INFO - cmap pruned\n",
      "[2023-10-30 00:59:35] INFO - kern dropped\n",
      "[2023-10-30 00:59:35] INFO - post pruned\n",
      "[2023-10-30 00:59:35] INFO - PCLT dropped\n",
      "[2023-10-30 00:59:35] INFO - JSTF dropped\n",
      "[2023-10-30 00:59:35] INFO - meta dropped\n",
      "[2023-10-30 00:59:35] INFO - DSIG dropped\n",
      "[2023-10-30 00:59:35] INFO - GPOS pruned\n",
      "[2023-10-30 00:59:35] INFO - GSUB pruned\n",
      "[2023-10-30 00:59:35] INFO - glyf pruned\n",
      "[2023-10-30 00:59:35] INFO - Added gid0 to subset\n",
      "[2023-10-30 00:59:35] INFO - Added first four glyphs to subset\n",
      "[2023-10-30 00:59:35] INFO - Closing glyph list over 'GSUB': 28 glyphs before\n",
      "[2023-10-30 00:59:35] INFO - Glyph names: ['.notdef', 'C', 'D', 'F', 'S', 'a', 'b', 'c', 'd', 'e', 'f', 'five', 'glyph00001', 'glyph00002', 'i', 'm', 'n', 'o', 'one', 'p', 'r', 's', 'space', 't', 'two', 'u', 'w', 'zero']\n",
      "[2023-10-30 00:59:35] INFO - Glyph IDs:   [0, 1, 2, 3, 19, 20, 21, 24, 38, 39, 41, 54, 68, 69, 70, 71, 72, 73, 76, 80, 81, 82, 83, 85, 86, 87, 88, 90]\n",
      "[2023-10-30 00:59:35] INFO - Closed glyph list over 'GSUB': 37 glyphs after\n",
      "[2023-10-30 00:59:35] INFO - Glyph names: ['.notdef', 'C', 'D', 'F', 'S', 'a', 'b', 'c', 'd', 'e', 'f', 'five', 'glyph00001', 'glyph00002', 'glyph03464', 'glyph03674', 'glyph03675', 'glyph03676', 'glyph03679', 'i', 'm', 'n', 'o', 'one', 'p', 'r', 's', 'space', 't', 'two', 'u', 'uni00B2', 'uni00B9', 'uni2070', 'uni2075', 'w', 'zero']\n",
      "[2023-10-30 00:59:35] INFO - Glyph IDs:   [0, 1, 2, 3, 19, 20, 21, 24, 38, 39, 41, 54, 68, 69, 70, 71, 72, 73, 76, 80, 81, 82, 83, 85, 86, 87, 88, 90, 239, 240, 3464, 3674, 3675, 3676, 3679, 3686, 3775]\n",
      "[2023-10-30 00:59:35] INFO - Closing glyph list over 'glyf': 37 glyphs before\n",
      "[2023-10-30 00:59:35] INFO - Glyph names: ['.notdef', 'C', 'D', 'F', 'S', 'a', 'b', 'c', 'd', 'e', 'f', 'five', 'glyph00001', 'glyph00002', 'glyph03464', 'glyph03674', 'glyph03675', 'glyph03676', 'glyph03679', 'i', 'm', 'n', 'o', 'one', 'p', 'r', 's', 'space', 't', 'two', 'u', 'uni00B2', 'uni00B9', 'uni2070', 'uni2075', 'w', 'zero']\n",
      "[2023-10-30 00:59:35] INFO - Glyph IDs:   [0, 1, 2, 3, 19, 20, 21, 24, 38, 39, 41, 54, 68, 69, 70, 71, 72, 73, 76, 80, 81, 82, 83, 85, 86, 87, 88, 90, 239, 240, 3464, 3674, 3675, 3676, 3679, 3686, 3775]\n",
      "[2023-10-30 00:59:35] INFO - Closed glyph list over 'glyf': 39 glyphs after\n",
      "[2023-10-30 00:59:35] INFO - Glyph names: ['.notdef', 'C', 'D', 'F', 'S', 'a', 'b', 'c', 'd', 'e', 'f', 'five', 'glyph00001', 'glyph00002', 'glyph03384', 'glyph03389', 'glyph03464', 'glyph03674', 'glyph03675', 'glyph03676', 'glyph03679', 'i', 'm', 'n', 'o', 'one', 'p', 'r', 's', 'space', 't', 'two', 'u', 'uni00B2', 'uni00B9', 'uni2070', 'uni2075', 'w', 'zero']\n",
      "[2023-10-30 00:59:35] INFO - Glyph IDs:   [0, 1, 2, 3, 19, 20, 21, 24, 38, 39, 41, 54, 68, 69, 70, 71, 72, 73, 76, 80, 81, 82, 83, 85, 86, 87, 88, 90, 239, 240, 3384, 3389, 3464, 3674, 3675, 3676, 3679, 3686, 3775]\n",
      "[2023-10-30 00:59:35] INFO - Retaining 39 glyphs\n",
      "[2023-10-30 00:59:35] INFO - head subsetting not needed\n",
      "[2023-10-30 00:59:35] INFO - hhea subsetting not needed\n",
      "[2023-10-30 00:59:35] INFO - maxp subsetting not needed\n",
      "[2023-10-30 00:59:35] INFO - OS/2 subsetting not needed\n",
      "[2023-10-30 00:59:35] INFO - hmtx subsetted\n",
      "[2023-10-30 00:59:35] INFO - VDMX subsetting not needed\n",
      "[2023-10-30 00:59:35] INFO - hdmx subsetted\n",
      "[2023-10-30 00:59:35] INFO - cmap subsetted\n",
      "[2023-10-30 00:59:35] INFO - fpgm subsetting not needed\n",
      "[2023-10-30 00:59:35] INFO - prep subsetting not needed\n",
      "[2023-10-30 00:59:35] INFO - cvt  subsetting not needed\n",
      "[2023-10-30 00:59:35] INFO - loca subsetting not needed\n",
      "[2023-10-30 00:59:35] INFO - post subsetted\n",
      "[2023-10-30 00:59:35] INFO - gasp subsetting not needed\n",
      "[2023-10-30 00:59:35] INFO - GDEF subsetted\n",
      "[2023-10-30 00:59:35] INFO - GPOS subsetted\n",
      "[2023-10-30 00:59:35] INFO - GSUB subsetted\n",
      "[2023-10-30 00:59:35] INFO - name subsetting not needed\n",
      "[2023-10-30 00:59:35] INFO - glyf subsetted\n",
      "[2023-10-30 00:59:35] INFO - head pruned\n",
      "[2023-10-30 00:59:35] INFO - OS/2 Unicode ranges pruned: [0]\n",
      "[2023-10-30 00:59:35] INFO - glyf pruned\n",
      "[2023-10-30 00:59:35] INFO - GDEF pruned\n",
      "[2023-10-30 00:59:35] INFO - GPOS pruned\n",
      "[2023-10-30 00:59:35] INFO - GSUB pruned\n",
      "[2023-10-30 00:59:35] INFO - name pruned\n"
     ]
    },
    {
     "data": {
      "text/plain": "<Figure size 1000x600 with 1 Axes>",
      "image/png": "[encoded data removed]"
     },
     "metadata": {},
     "output_type": "display_data"
    }
   ],
   "source": [
    "\n",
    "import pandas as pd\n",
    "\n",
    "last_2_hours_sd_false_sex_f['Source'] = 'DF1'\n",
    "first_2_hours_sd_true_sex_f['Source'] = 'DF2'\n",
    "\n",
    "combined_df = pd.concat([last_2_hours_sd_false_sex_f, first_2_hours_sd_true_sex_f], ignore_index=True)\n",
    "\n",
    "import seaborn as sns\n",
    "import matplotlib.pyplot as plt\n",
    "\n",
    "plt.figure(figsize=(10, 6))\n",
    "sns.boxplot(data=combined_df, x='Source', y='Count', palette=\"pastel\", showfliers=False,showcaps=False, whiskerprops={'visible': False})\n",
    "plt.title('Comparison of Counts between DF1 and DF2')\n",
    "# Save the figure\n",
    "plt.savefig('boxplot_comparison_haltere_last_two_hours_female.pdf', dpi=300, bbox_inches='tight')\n",
    "plt.show()\n"
   ],
   "metadata": {
    "collapsed": false,
    "ExecuteTime": {
     "end_time": "2023-10-30T04:59:35.528335800Z",
     "start_time": "2023-10-30T04:59:35.080651800Z"
    }
   },
   "id": "286f51bb1bf35a6d"
  },
  {
   "cell_type": "code",
   "execution_count": 32,
   "outputs": [
    {
     "name": "stdout",
     "output_type": "stream",
     "text": [
      "Statistic: 44.5, P-value: 0.20774416772696913\n"
     ]
    }
   ],
   "source": [
    "from scipy.stats import mannwhitneyu\n",
    "\n",
    "statistic, p_value = mannwhitneyu(last_2_hours_sd_false_sex_f['Count'], first_2_hours_sd_true_sex_f['Count'])\n",
    "print(f\"Statistic: {statistic}, P-value: {p_value}\")\n",
    "\n",
    "\n",
    "\n",
    "\n"
   ],
   "metadata": {
    "collapsed": false,
    "ExecuteTime": {
     "end_time": "2023-10-30T04:19:03.585354700Z",
     "start_time": "2023-10-30T04:19:03.556344800Z"
    }
   },
   "id": "73ccfe7811ce0d"
  },
  {
   "cell_type": "code",
   "execution_count": 34,
   "outputs": [],
   "source": [
    "sd_true_sex_m = grouped_binned['SD_True_Sex_M']\n",
    "count_per_bin_per_experiment = sd_true_sex_m.groupby(['ExptNames', 'bin']).size().reset_index(name='Count')\n",
    "sd = True\n",
    "if sd:\n",
    "    #remove bins larger than 30*60*60*6\n",
    "    count_per_bin_per_experiment = count_per_bin_per_experiment[\n",
    "        count_per_bin_per_experiment['bin'].apply(lambda x: x.left < 30 * 60 * 60 * 6)]\n",
    "else:\n",
    "    #remove bins larger than 30*60*60*16\n",
    "    count_per_bin_per_experiment = count_per_bin_per_experiment[\n",
    "        count_per_bin_per_experiment['bin'].apply(lambda x: x.left < 30 * 60 * 60 * 16)]\n",
    "\n",
    "# Group by 'ExptNames' and grab the last two rows\n",
    "last_two_bins = count_per_bin_per_experiment.groupby('ExptNames').apply(lambda group: group.head(2))\n",
    "\n",
    "last_two_bins.reset_index(drop=True, inplace=True)\n",
    "\n",
    "# Sum the counts for these rows\n",
    "combined_counts = last_two_bins.groupby('ExptNames').agg({\"Count\": \"sum\"}).reset_index()\n",
    "\n",
    "combined_counts['bin'] = 'Last 2 Bins Combined'  # Naming the bin column for clarity\n",
    "first_2_hours_sd_true_sex_m = combined_counts\n",
    "sd_false_sex_m = grouped_binned['SD_False_Sex_M']\n",
    "count_per_bin_per_experiment = sd_false_sex_m.groupby(['ExptNames', 'bin']).size().reset_index(name='Count')\n",
    "sd = False\n",
    "if sd:\n",
    "    #remove bins larger than 30*60*60*6\n",
    "    count_per_bin_per_experiment = count_per_bin_per_experiment[\n",
    "        count_per_bin_per_experiment['bin'].apply(lambda x: x.left < 30 * 60 * 60 * 6)]\n",
    "\n",
    "# Group by 'ExptNames' and grab the last two rows\n",
    "last_two_bins = count_per_bin_per_experiment.groupby('ExptNames').apply(lambda group: group.tail(2))\n",
    "\n",
    "last_two_bins.reset_index(drop=True, inplace=True)\n",
    "\n",
    "# Sum the counts for these rows\n",
    "combined_counts = last_two_bins.groupby('ExptNames').agg({\"Count\": \"sum\"}).reset_index()\n",
    "\n",
    "combined_counts['bin'] = 'Last 2 Bins Combined'  # Naming the bin column for clarity\n",
    "last_2_hours_sd_false_sex_m = combined_counts"
   ],
   "metadata": {
    "collapsed": false,
    "ExecuteTime": {
     "end_time": "2023-10-30T04:20:53.006322800Z",
     "start_time": "2023-10-30T04:20:52.953309800Z"
    }
   },
   "id": "3181d47bb6d94ecb"
  },
  {
   "cell_type": "code",
   "execution_count": 43,
   "outputs": [
    {
     "name": "stdout",
     "output_type": "stream",
     "text": [
      "[2023-10-30 00:36:09] INFO - maxp pruned\n",
      "[2023-10-30 00:36:09] INFO - LTSH dropped\n",
      "[2023-10-30 00:36:09] INFO - cmap pruned\n",
      "[2023-10-30 00:36:09] INFO - kern dropped\n",
      "[2023-10-30 00:36:09] INFO - post pruned\n",
      "[2023-10-30 00:36:09] INFO - PCLT dropped\n",
      "[2023-10-30 00:36:09] INFO - JSTF dropped\n",
      "[2023-10-30 00:36:09] INFO - meta dropped\n",
      "[2023-10-30 00:36:09] INFO - DSIG dropped\n",
      "[2023-10-30 00:36:09] INFO - GPOS pruned\n",
      "[2023-10-30 00:36:09] INFO - GSUB pruned\n",
      "[2023-10-30 00:36:09] INFO - glyf pruned\n",
      "[2023-10-30 00:36:09] INFO - Added gid0 to subset\n",
      "[2023-10-30 00:36:09] INFO - Added first four glyphs to subset\n",
      "[2023-10-30 00:36:09] INFO - Closing glyph list over 'GSUB': 30 glyphs before\n",
      "[2023-10-30 00:36:09] INFO - Glyph names: ['.notdef', 'C', 'D', 'F', 'S', 'a', 'b', 'c', 'd', 'e', 'eight', 'f', 'four', 'glyph00001', 'glyph00002', 'i', 'm', 'n', 'o', 'one', 'p', 'r', 's', 'six', 'space', 't', 'two', 'u', 'w', 'zero']\n",
      "[2023-10-30 00:36:09] INFO - Glyph IDs:   [0, 1, 2, 3, 19, 20, 21, 23, 25, 27, 38, 39, 41, 54, 68, 69, 70, 71, 72, 73, 76, 80, 81, 82, 83, 85, 86, 87, 88, 90]\n",
      "[2023-10-30 00:36:09] INFO - Closed glyph list over 'GSUB': 43 glyphs after\n",
      "[2023-10-30 00:36:09] INFO - Glyph names: ['.notdef', 'C', 'D', 'F', 'S', 'a', 'b', 'c', 'd', 'e', 'eight', 'f', 'four', 'glyph00001', 'glyph00002', 'glyph03464', 'glyph03674', 'glyph03675', 'glyph03676', 'glyph03678', 'glyph03680', 'glyph03682', 'i', 'm', 'n', 'o', 'one', 'p', 'r', 's', 'six', 'space', 't', 'two', 'u', 'uni00B2', 'uni00B9', 'uni2070', 'uni2074', 'uni2076', 'uni2078', 'w', 'zero']\n",
      "[2023-10-30 00:36:09] INFO - Glyph IDs:   [0, 1, 2, 3, 19, 20, 21, 23, 25, 27, 38, 39, 41, 54, 68, 69, 70, 71, 72, 73, 76, 80, 81, 82, 83, 85, 86, 87, 88, 90, 239, 240, 3464, 3674, 3675, 3676, 3678, 3680, 3682, 3684, 3686, 3774, 3777]\n",
      "[2023-10-30 00:36:09] INFO - Closing glyph list over 'glyf': 43 glyphs before\n",
      "[2023-10-30 00:36:09] INFO - Glyph names: ['.notdef', 'C', 'D', 'F', 'S', 'a', 'b', 'c', 'd', 'e', 'eight', 'f', 'four', 'glyph00001', 'glyph00002', 'glyph03464', 'glyph03674', 'glyph03675', 'glyph03676', 'glyph03678', 'glyph03680', 'glyph03682', 'i', 'm', 'n', 'o', 'one', 'p', 'r', 's', 'six', 'space', 't', 'two', 'u', 'uni00B2', 'uni00B9', 'uni2070', 'uni2074', 'uni2076', 'uni2078', 'w', 'zero']\n",
      "[2023-10-30 00:36:09] INFO - Glyph IDs:   [0, 1, 2, 3, 19, 20, 21, 23, 25, 27, 38, 39, 41, 54, 68, 69, 70, 71, 72, 73, 76, 80, 81, 82, 83, 85, 86, 87, 88, 90, 239, 240, 3464, 3674, 3675, 3676, 3678, 3680, 3682, 3684, 3686, 3774, 3777]\n",
      "[2023-10-30 00:36:09] INFO - Closed glyph list over 'glyf': 47 glyphs after\n",
      "[2023-10-30 00:36:09] INFO - Glyph names: ['.notdef', 'C', 'D', 'F', 'S', 'a', 'b', 'c', 'd', 'e', 'eight', 'f', 'four', 'glyph00001', 'glyph00002', 'glyph03384', 'glyph03388', 'glyph03390', 'glyph03392', 'glyph03464', 'glyph03674', 'glyph03675', 'glyph03676', 'glyph03678', 'glyph03680', 'glyph03682', 'i', 'm', 'n', 'o', 'one', 'p', 'r', 's', 'six', 'space', 't', 'two', 'u', 'uni00B2', 'uni00B9', 'uni2070', 'uni2074', 'uni2076', 'uni2078', 'w', 'zero']\n",
      "[2023-10-30 00:36:09] INFO - Glyph IDs:   [0, 1, 2, 3, 19, 20, 21, 23, 25, 27, 38, 39, 41, 54, 68, 69, 70, 71, 72, 73, 76, 80, 81, 82, 83, 85, 86, 87, 88, 90, 239, 240, 3384, 3388, 3390, 3392, 3464, 3674, 3675, 3676, 3678, 3680, 3682, 3684, 3686, 3774, 3777]\n",
      "[2023-10-30 00:36:09] INFO - Retaining 47 glyphs\n",
      "[2023-10-30 00:36:09] INFO - head subsetting not needed\n",
      "[2023-10-30 00:36:09] INFO - hhea subsetting not needed\n",
      "[2023-10-30 00:36:09] INFO - maxp subsetting not needed\n",
      "[2023-10-30 00:36:09] INFO - OS/2 subsetting not needed\n",
      "[2023-10-30 00:36:09] INFO - hmtx subsetted\n",
      "[2023-10-30 00:36:09] INFO - VDMX subsetting not needed\n",
      "[2023-10-30 00:36:09] INFO - hdmx subsetted\n",
      "[2023-10-30 00:36:09] INFO - cmap subsetted\n",
      "[2023-10-30 00:36:09] INFO - fpgm subsetting not needed\n",
      "[2023-10-30 00:36:09] INFO - prep subsetting not needed\n",
      "[2023-10-30 00:36:09] INFO - cvt  subsetting not needed\n",
      "[2023-10-30 00:36:09] INFO - loca subsetting not needed\n",
      "[2023-10-30 00:36:09] INFO - post subsetted\n",
      "[2023-10-30 00:36:09] INFO - gasp subsetting not needed\n",
      "[2023-10-30 00:36:09] INFO - GDEF subsetted\n",
      "[2023-10-30 00:36:09] INFO - GPOS subsetted\n",
      "[2023-10-30 00:36:09] INFO - GSUB subsetted\n",
      "[2023-10-30 00:36:09] INFO - name subsetting not needed\n",
      "[2023-10-30 00:36:09] INFO - glyf subsetted\n",
      "[2023-10-30 00:36:09] INFO - head pruned\n",
      "[2023-10-30 00:36:09] INFO - OS/2 Unicode ranges pruned: [0]\n",
      "[2023-10-30 00:36:09] INFO - glyf pruned\n",
      "[2023-10-30 00:36:09] INFO - GDEF pruned\n",
      "[2023-10-30 00:36:09] INFO - GPOS pruned\n",
      "[2023-10-30 00:36:09] INFO - GSUB pruned\n",
      "[2023-10-30 00:36:09] INFO - name pruned\n"
     ]
    },
    {
     "data": {
      "text/plain": "<Figure size 1000x600 with 1 Axes>",
      "image/png": "[encoded data removed]"
     },
     "metadata": {},
     "output_type": "display_data"
    }
   ],
   "source": [
    "import pandas as pd\n",
    "\n",
    "last_2_hours_sd_false_sex_m['Source'] = 'DF1'\n",
    "first_2_hours_sd_true_sex_m['Source'] = 'DF2'\n",
    "\n",
    "combined_df = pd.concat([last_2_hours_sd_false_sex_m, first_2_hours_sd_true_sex_m], ignore_index=True)\n",
    "\n",
    "import seaborn as sns\n",
    "import matplotlib.pyplot as plt\n",
    "\n",
    "plt.figure(figsize=(10, 6))\n",
    "sns.boxplot(data=combined_df, x='Source', y='Count', palette=\"pastel\", showfliers=False,showcaps=False, whiskerprops={'visible': False})\n",
    "plt.title('Comparison of Counts between DF1 and DF2')\n",
    "# Save the figure\n",
    "plt.savefig('boxplot_comparison_haltere_last_two_hours_male.pdf', dpi=300, bbox_inches='tight')\n",
    "plt.show()\n"
   ],
   "metadata": {
    "collapsed": false,
    "ExecuteTime": {
     "end_time": "2023-10-30T04:36:09.475287100Z",
     "start_time": "2023-10-30T04:36:09.109631500Z"
    }
   },
   "id": "7084fd0e2d803070"
  },
  {
   "cell_type": "code",
   "execution_count": 41,
   "outputs": [
    {
     "name": "stdout",
     "output_type": "stream",
     "text": [
      "Statistic: 9.0, P-value: 2.2553684686052665e-07\n"
     ]
    }
   ],
   "source": [
    "from scipy.stats import mannwhitneyu\n",
    "\n",
    "statistic, p_value = mannwhitneyu(last_2_hours_sd_false_sex_m['Count'], first_2_hours_sd_true_sex_m['Count'])\n",
    "print(f\"Statistic: {statistic}, P-value: {p_value}\")\n",
    "\n",
    "\n",
    "\n"
   ],
   "metadata": {
    "collapsed": false,
    "ExecuteTime": {
     "end_time": "2023-10-30T04:21:55.829911200Z",
     "start_time": "2023-10-30T04:21:55.785377100Z"
    }
   },
   "id": "1ccadaa04de9aa8b"
  },
  {
   "cell_type": "code",
   "execution_count": 42,
   "outputs": [
    {
     "data": {
      "text/plain": "True"
     },
     "execution_count": 42,
     "metadata": {},
     "output_type": "execute_result"
    }
   ],
   "source": [
    "p_value<0.001"
   ],
   "metadata": {
    "collapsed": false,
    "ExecuteTime": {
     "end_time": "2023-10-30T04:22:05.103298100Z",
     "start_time": "2023-10-30T04:22:04.999770200Z"
    }
   },
   "id": "cd7a61e6f84e1b7a"
  },
  {
   "cell_type": "code",
   "execution_count": null,
   "outputs": [],
   "source": [],
   "metadata": {
    "collapsed": false
   },
   "id": "e084f75d22f872"
  }
 ],
 "metadata": {
  "kernelspec": {
   "display_name": "Python 3",
   "language": "python",
   "name": "python3"
  },
  "language_info": {
   "codemirror_mode": {
    "name": "ipython",
    "version": 2
   },
   "file_extension": ".py",
   "mimetype": "text/x-python",
   "name": "python",
   "nbconvert_exporter": "python",
   "pygments_lexer": "ipython2",
   "version": "2.7.6"
  }
 },
 "nbformat": 4,
 "nbformat_minor": 5
}
