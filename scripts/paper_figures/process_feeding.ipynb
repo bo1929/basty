{
 "cells": [
  {
   "cell_type": "code",
   "execution_count": null,
   "id": "initial_id",
   "metadata": {
    "collapsed": true
   },
   "outputs": [],
   "source": [
    "import os\n",
    "from scripts.paper_figures.input import Input\n",
    "\n",
    "import basty.project.experiment_processing as experiment_processing\n",
    "from scripts.paper_figures.process_results import BehaviorData\n",
    "\n",
    "from basty.utils import misc"
   ]
  },
  {
   "cell_type": "code",
   "execution_count": null,
   "outputs": [],
   "source": [
    "\n",
    "RESULTS_FOLDER = r'Z:\\mfk\\basty-projects\\backup-allHaltere\\results\\semisupervised_pair_kNN\\predictions.100NN.neighbor_weights-distance.neighbor_weights_norm-count.activation-standard.voting-soft.voting_weights-None\\exports'\n",
    "\n",
    "BODY_PART_SETS = {\"HaltereSwitch\": \"prob\", \"Feeding\": \"prob\"}\n",
    "\n",
    "CONFIG_PATH = r\"Z:\\mfk\\basty-projects\\main_cfg.yaml\"\n",
    "\n",
    "PROJECT_PATH = os.path.dirname(CONFIG_PATH)\n",
    "\n",
    "TMP_RESULT_FOLDER = os.path.join(PROJECT_PATH,'tmp_results')\n",
    "\n",
    "project = experiment_processing.Project(CONFIG_PATH)\n",
    "\n",
    "BEHAVIORS = ['HaltereSwitch']\n",
    "\n",
    "BODY_PART_SETS = {\"ProboscisPumping\": \"prob\", \"Feeding\": \"prob\", \"HaltereSwitch\": \"halt\"}"
   ],
   "metadata": {
    "collapsed": false
   },
   "id": "ac7868b690897433"
  },
  {
   "cell_type": "code",
   "execution_count": null,
   "outputs": [],
   "source": [
    "io_process = Input(project, RESULTS_FOLDER, TMP_RESULT_FOLDER)"
   ],
   "metadata": {
    "collapsed": false
   },
   "id": "b4ef623bd61b2d97"
  },
  {
   "cell_type": "code",
   "execution_count": null,
   "outputs": [],
   "source": [
    "expt_info_df = io_process.load_expt_info()\n",
    "df_data = io_process.load_predictions()"
   ],
   "metadata": {
    "collapsed": false
   },
   "id": "fbfcb6bd12928d4f"
  },
  {
   "cell_type": "code",
   "execution_count": null,
   "outputs": [],
   "source": [
    "# Drop Noise, Feeding, Grooming, ProboscisPumping from df_data\n",
    "df_data.drop(['Noise','HaltereSwitch'], axis=1, inplace=True)\n",
    "\n",
    "io_process.create_binary_masks_subfolders(BEHAVIORS)"
   ],
   "metadata": {
    "collapsed": false
   },
   "id": "bcc91aad9cda5f63"
  }
 ],
 "metadata": {
  "kernelspec": {
   "display_name": "Python 3",
   "language": "python",
   "name": "python3"
  },
  "language_info": {
   "codemirror_mode": {
    "name": "ipython",
    "version": 2
   },
   "file_extension": ".py",
   "mimetype": "text/x-python",
   "name": "python",
   "nbconvert_exporter": "python",
   "pygments_lexer": "ipython2",
   "version": "2.7.6"
  }
 },
 "nbformat": 4,
 "nbformat_minor": 5
}
