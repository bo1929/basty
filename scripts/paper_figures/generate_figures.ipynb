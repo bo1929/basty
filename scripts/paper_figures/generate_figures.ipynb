{
 "cells": [
  {
   "cell_type": "code",
   "execution_count": 6,
   "outputs": [],
   "source": [
    "import pandas as pd\n",
    "import numpy as np\n",
    "import os\n",
    "import matplotlib.pyplot as plt\n",
    "\n",
    "plt.rcParams[\"svg.fonttype\"] = \"none\"\n",
    "plt.rcParams[\"pdf.fonttype\"] = 42\n",
    "\n",
    "import seaborn as sns\n",
    "\n",
    "sns.set_theme(style=\"dark\")\n",
    "import sys\n",
    "\n",
    "\n",
    "\n",
    "from scripts.paper_figures.data_processing.data_processing import main as init_data\n",
    "from scripts.paper_figures.data_processing.process_pumping import ProboscisProcessing"
   ],
   "metadata": {
    "collapsed": false,
    "ExecuteTime": {
     "start_time": "2023-07-21T14:00:18.940178Z",
     "end_time": "2023-07-21T14:00:18.960186Z"
    }
   }
  },
  {
   "cell_type": "code",
   "execution_count": 7,
   "outputs": [
    {
     "name": "stdout",
     "output_type": "stream",
     "text": [
      "Data Loading and Preprocessing...\n",
      "Saving Experiment Info...\n",
      "Data already exists. No data was saved.\n",
      "Loading Likelihood data...\n",
      "Loading existing llh_df.pickle file...\n"
     ]
    }
   ],
   "source": [
    "# Initialize Data\n",
    "llh, process_data, io_process = init_data()"
   ],
   "metadata": {
    "collapsed": false,
    "ExecuteTime": {
     "start_time": "2023-07-21T14:00:19.653368Z",
     "end_time": "2023-07-21T14:05:37.679243Z"
    }
   }
  },
  {
   "cell_type": "code",
   "execution_count": 12,
   "outputs": [
    {
     "ename": "TypeError",
     "evalue": "generate_prob_bouts() got an unexpected keyword argument 'load_bouts'",
     "output_type": "error",
     "traceback": [
      "\u001B[1;31m---------------------------------------------------------------------------\u001B[0m",
      "\u001B[1;31mTypeError\u001B[0m                                 Traceback (most recent call last)",
      "Cell \u001B[1;32mIn[12], line 2\u001B[0m\n\u001B[0;32m      1\u001B[0m proboscis \u001B[38;5;241m=\u001B[39m ProboscisProcessing(process_data, llh, io_process,force_recalculate\u001B[38;5;241m=\u001B[39m\u001B[38;5;28;01mFalse\u001B[39;00m)\n\u001B[1;32m----> 2\u001B[0m \u001B[43mproboscis\u001B[49m\u001B[38;5;241;43m.\u001B[39;49m\u001B[43mgenerate_prob_bouts\u001B[49m\u001B[43m(\u001B[49m\u001B[43mload_bouts\u001B[49m\u001B[38;5;241;43m=\u001B[39;49m\u001B[38;5;28;43;01mTrue\u001B[39;49;00m\u001B[43m)\u001B[49m\n",
      "\u001B[1;31mTypeError\u001B[0m: generate_prob_bouts() got an unexpected keyword argument 'load_bouts'"
     ]
    }
   ],
   "source": [
    "# Process proboscis bouts, change \"load_bouts=True\" if you want to load\n",
    "proboscis = ProboscisProcessing(process_data, llh, io_process,force_recalculate=False)\n",
    "proboscis.generate_prob_bouts(load_bouts=True)"
   ],
   "metadata": {
    "collapsed": false,
    "ExecuteTime": {
     "start_time": "2023-07-21T14:18:45.244905Z",
     "end_time": "2023-07-21T14:18:45.255929Z"
    }
   }
  },
  {
   "cell_type": "code",
   "execution_count": null,
   "outputs": [],
   "source": [
    "newDf = pd.merge(df_data, expt_info_df, left_on=\"ExptNames\", right_on=\"ExptNames\")"
   ],
   "metadata": {
    "collapsed": false
   }
  },
  {
   "cell_type": "code",
   "execution_count": null,
   "metadata": {
    "collapsed": false,
    "jupyter": {
     "outputs_hidden": false
    },
    "ExecuteTime": {
     "start_time": "2023-04-11T09:23:09.108511Z",
     "end_time": "2023-04-11T09:23:09.411596Z"
    }
   },
   "outputs": [],
   "source": [
    "# Create a folder named binary mask and a subfolder for each predicted behavior.\n",
    "# Within that folder save binary mask generated using the likelihood score"
   ]
  },
  {
   "cell_type": "code",
   "execution_count": null,
   "metadata": {
    "ExecuteTime": {
     "start_time": "2023-04-11T09:23:09.411596Z",
     "end_time": "2023-04-11T09:23:09.430020Z"
    },
    "collapsed": false,
    "jupyter": {
     "outputs_hidden": false
    }
   },
   "outputs": [],
   "source": [
    "wt_all = newDf[newDf[\"SD\"] == False]\n",
    "male_wt = wt_all[wt_all[\"Sex\"] == \"M\"]\n",
    "female_wt = wt_all[wt_all[\"Sex\"] == \"F\"]"
   ]
  },
  {
   "cell_type": "code",
   "execution_count": null,
   "metadata": {
    "ExecuteTime": {
     "start_time": "2023-04-11T15:27:10.383044Z",
     "end_time": "2023-04-11T15:27:10.398672Z"
    },
    "collapsed": false,
    "jupyter": {
     "outputs_hidden": false
    }
   },
   "outputs": [],
   "source": [
    "newDf"
   ]
  },
  {
   "cell_type": "code",
   "execution_count": null,
   "metadata": {
    "ExecuteTime": {
     "start_time": "2023-04-11T15:37:33.723749Z",
     "end_time": "2023-04-11T15:37:33.958276Z"
    },
    "collapsed": false,
    "jupyter": {
     "outputs_hidden": false
    }
   },
   "outputs": [],
   "source": [
    "filterer = FilterData(newDf, llh)"
   ]
  },
  {
   "cell_type": "code",
   "execution_count": null,
   "metadata": {
    "ExecuteTime": {
     "start_time": "2023-04-07T13:31:30.769099Z",
     "end_time": "2023-04-07T13:31:31.105199Z"
    },
    "collapsed": false,
    "jupyter": {
     "outputs_hidden": false
    }
   },
   "outputs": [],
   "source": [
    "filterer.plot_mean_likelihood()"
   ]
  },
  {
   "cell_type": "code",
   "execution_count": null,
   "metadata": {
    "ExecuteTime": {
     "start_time": "2023-04-07T13:32:03.923372Z",
     "end_time": "2023-04-07T13:32:04.254912Z"
    },
    "collapsed": false,
    "jupyter": {
     "outputs_hidden": false
    }
   },
   "outputs": [],
   "source": [
    "binary_mask = filterer.create_binary_masks(llh, BODY_PART_SETS, 0.7)"
   ]
  },
  {
   "cell_type": "code",
   "execution_count": null,
   "metadata": {
    "ExecuteTime": {
     "end_time": "2023-04-04T21:31:22.895378Z",
     "start_time": "2023-04-04T21:30:53.991830Z"
    },
    "collapsed": false,
    "jupyter": {
     "outputs_hidden": false
    }
   },
   "outputs": [],
   "source": [
    "masked_data_df = filterer.apply_binary_masks(binary_mask, newDf)"
   ]
  },
  {
   "cell_type": "code",
   "execution_count": null,
   "metadata": {
    "ExecuteTime": {
     "end_time": "2023-04-04T08:39:18.478504Z",
     "start_time": "2023-04-04T08:39:18.468658Z"
    },
    "collapsed": false,
    "jupyter": {
     "outputs_hidden": false
    }
   },
   "outputs": [],
   "source": [
    "masked_data_df"
   ]
  },
  {
   "cell_type": "code",
   "execution_count": null,
   "metadata": {
    "ExecuteTime": {
     "end_time": "2023-04-04T08:17:51.471252Z",
     "start_time": "2023-04-04T08:17:51.437764Z"
    },
    "collapsed": false,
    "jupyter": {
     "outputs_hidden": false
    }
   },
   "outputs": [],
   "source": [
    "binary_mask"
   ]
  },
  {
   "cell_type": "code",
   "execution_count": null,
   "metadata": {
    "ExecuteTime": {
     "end_time": "2023-04-04T08:39:23.731518Z",
     "start_time": "2023-04-04T08:39:23.721518Z"
    },
    "collapsed": false,
    "jupyter": {
     "outputs_hidden": false
    }
   },
   "outputs": [],
   "source": [
    "masked_data_df"
   ]
  },
  {
   "cell_type": "code",
   "execution_count": null,
   "metadata": {
    "ExecuteTime": {
     "end_time": "2023-04-04T09:53:03.149746Z",
     "start_time": "2023-04-04T09:33:16.208548Z"
    },
    "collapsed": false,
    "jupyter": {
     "outputs_hidden": false
    }
   },
   "outputs": [],
   "source": [
    "import pandas as pd\n",
    "import seaborn as sns\n",
    "import matplotlib.pyplot as plt\n",
    "\n",
    "# Assuming your DataFrame is called 'masked_data_df'\n",
    "# and has columns 'ExptNames', 'ValueColumn' (replace with your actual column name)\n",
    "# Add row numbers if they don't exist\n",
    "masked_data_df[\"Row\"] = masked_data_df.index\n",
    "\n",
    "# Pivot the DataFrame\n",
    "pivoted_df = masked_data_df.pivot(\n",
    "    index=\"ExptNames\", columns=\"Row\", values=\"ProboscisPumping\"\n",
    ")\n",
    "\n",
    "# Create a heatmap using Seaborn, handling NaN values with a different color (e.g., gray)\n",
    "plt.figure(figsize=(16, 9))\n",
    "sns.heatmap(\n",
    "    pivoted_df,\n",
    "    cmap=\"coolwarm\",\n",
    "    linewidths=0.5,\n",
    "    cbar_kws={\"ticks\": [0, 1]},\n",
    "    mask=pivoted_df.isna(),\n",
    "    linecolor=\"gray\",\n",
    ")\n",
    "\n",
    "# Set plot attributes\n",
    "plt.xlabel(\"Rows\")\n",
    "plt.ylabel(\"ExptNames\")\n",
    "plt.title(\"Heatmap of Data\")\n",
    "\n",
    "# Save the plot as a PNG file\n",
    "FIG_PATH = r\"C:\\Users\\Grover\\Documents\\GitHub\\deepsleepfigs\"\n",
    "plt.savefig(f\"{FIG_PATH}\\\\heatmap.png\", dpi=300, bbox_inches=\"tight\")\n",
    "\n",
    "# Display the plot in the notebook (optional)\n",
    "plt.show()"
   ]
  },
  {
   "cell_type": "code",
   "execution_count": null,
   "metadata": {
    "ExecuteTime": {
     "end_time": "2023-04-04T21:17:07.622165Z",
     "start_time": "2023-04-04T21:17:07.605162Z"
    },
    "collapsed": false,
    "jupyter": {
     "outputs_hidden": false
    }
   },
   "outputs": [],
   "source": [
    "plot_folder = r\"C:\\Users\\Grover\\Documents\\GitHub\\deepsleepfigs\\score_plots\"\n",
    "if not os.path.isdir(plot_folder):\n",
    "    os.makedirs(plot_folder)"
   ]
  },
  {
   "cell_type": "code",
   "execution_count": null,
   "metadata": {
    "ExecuteTime": {
     "end_time": "2023-04-04T21:18:18.025577Z",
     "start_time": "2023-04-04T21:17:07.619165Z"
    },
    "collapsed": false,
    "jupyter": {
     "outputs_hidden": false
    }
   },
   "outputs": [],
   "source": [
    "male_wt[\"Time\"] = male_wt[\"Idx\"].apply(BehaviorData.get_time_stamp)\n",
    "male_wt.index = pd.to_datetime(list(male_wt[\"Time\"]))\n",
    "rate = \"1S\"\n",
    "male_wt_rs = BehaviorData.resample_df(male_wt, rate, BEHAVIORS)\n",
    "male_wt_rs[\"TimeStamp\"] = male_wt_rs.index"
   ]
  },
  {
   "cell_type": "code",
   "execution_count": null,
   "metadata": {
    "ExecuteTime": {
     "end_time": "2023-04-04T15:36:53.791586Z",
     "start_time": "2023-04-04T15:36:53.741585Z"
    },
    "collapsed": false,
    "jupyter": {
     "outputs_hidden": false
    }
   },
   "outputs": [],
   "source": [
    "male_wt"
   ]
  },
  {
   "cell_type": "code",
   "execution_count": null,
   "metadata": {
    "ExecuteTime": {
     "end_time": "2023-04-04T12:25:54.326013Z",
     "start_time": "2023-04-04T12:25:54.298730Z"
    },
    "collapsed": false,
    "jupyter": {
     "outputs_hidden": false
    }
   },
   "outputs": [],
   "source": [
    "llh[\"Time\"] = llh[\"Idx\"].apply(BehaviorData.get_time_stamp)"
   ]
  },
  {
   "cell_type": "code",
   "execution_count": null,
   "metadata": {
    "ExecuteTime": {
     "end_time": "2023-04-04T21:30:52.769212Z",
     "start_time": "2023-04-04T21:18:18.053583Z"
    },
    "collapsed": false,
    "jupyter": {
     "outputs_hidden": false
    }
   },
   "outputs": [],
   "source": [
    "BehaviorData.pivot_and_plot(male_wt_rs, \"mal_b_scr_\", plot_folder, rate, BEHAVIORS)"
   ]
  },
  {
   "cell_type": "code",
   "execution_count": null,
   "metadata": {
    "ExecuteTime": {
     "end_time": "2023-04-04T15:30:16.892051Z",
     "start_time": "2023-04-04T15:30:16.862051Z"
    },
    "collapsed": false,
    "jupyter": {
     "outputs_hidden": false
    }
   },
   "outputs": [],
   "source": [
    "import os"
   ]
  },
  {
   "cell_type": "code",
   "execution_count": null,
   "metadata": {
    "ExecuteTime": {
     "end_time": "2023-04-04T15:32:09.208182Z",
     "start_time": "2023-04-04T15:32:09.178182Z"
    },
    "collapsed": false,
    "jupyter": {
     "outputs_hidden": false
    }
   },
   "outputs": [],
   "source": [
    "os.listdir(plot_folder)"
   ]
  },
  {
   "cell_type": "code",
   "execution_count": null,
   "metadata": {
    "ExecuteTime": {
     "end_time": "2023-04-04T15:36:19.689442Z",
     "start_time": "2023-04-04T15:36:16.560783Z"
    },
    "collapsed": false,
    "jupyter": {
     "outputs_hidden": false
    }
   },
   "outputs": [],
   "source": [
    "df_pivoted = male_wt_rs.pivot(\n",
    "    index=\"ExptNames\", columns=\"TimeStamp\", values=\"ProboscisPumping\"\n",
    ")\n",
    "a4_dims = (25.7, 5.27)\n",
    "fig, ax = plt.subplots(figsize=a4_dims)\n",
    "plt.title(\"ProboscisPumping\")\n",
    "ax = sns.heatmap(df_pivoted, cmap=\"YlGnBu\")"
   ]
  },
  {
   "cell_type": "code",
   "execution_count": null,
   "metadata": {
    "ExecuteTime": {
     "end_time": "2023-04-04T15:36:28.774090Z",
     "start_time": "2023-04-04T15:36:28.704090Z"
    },
    "collapsed": false,
    "jupyter": {
     "outputs_hidden": false
    }
   },
   "outputs": [],
   "source": [
    "male_wt_rs"
   ]
  },
  {
   "cell_type": "code",
   "execution_count": null,
   "metadata": {
    "ExecuteTime": {
     "end_time": "2023-04-05T13:13:12.747942Z",
     "start_time": "2023-04-05T13:13:11.844120Z"
    },
    "collapsed": false,
    "jupyter": {
     "outputs_hidden": false
    }
   },
   "outputs": [],
   "source": [
    "unique_expt_names = male_wt[\"ExptNames\"].unique()\n",
    "\n",
    "a4_dims = (25.7, 5.27)\n",
    "# Plot the unmasked data heatmap\n",
    "# plt.figure(figsize=(a4_dims))\n",
    "# sns.heatmap(unmasked_data, cmap='YlGnBu', yticklabels=unique_expt_names)\n",
    "# plt.xlabel('Data')\n",
    "# plt.ylabel('ExptNames')\n",
    "# plt.title('Unmasked Data')\n",
    "# plt.savefig(os.path.join(plot_folder,'unmasked_data_heatmap_full_07.png'), dpi=300)  # Save the figure as a PNG file\n",
    "# plt.show()"
   ]
  },
  {
   "cell_type": "code",
   "execution_count": null,
   "metadata": {
    "ExecuteTime": {
     "end_time": "2023-04-05T13:15:44.991104Z",
     "start_time": "2023-04-05T13:13:19.470299Z"
    },
    "collapsed": false,
    "jupyter": {
     "outputs_hidden": false
    }
   },
   "outputs": [],
   "source": [
    "# Plot the masked data heatmap\n",
    "plt.figure(figsize=(a4_dims))\n",
    "sns.heatmap(masked_data, cmap=\"YlGnBu\", yticklabels=unique_expt_names)\n",
    "plt.xlabel(\"Data\")\n",
    "plt.ylabel(\"ExptNames\")\n",
    "plt.title(\"Masked Data\")\n",
    "plt.savefig(os.path.join(plot_folder, \"masked_data_heatmap_full_09.png\"), dpi=300)\n",
    "plt.show()"
   ]
  },
  {
   "cell_type": "code",
   "execution_count": null,
   "metadata": {
    "ExecuteTime": {
     "end_time": "2023-04-05T22:05:54.402754Z",
     "start_time": "2023-04-05T22:05:54.377485Z"
    },
    "collapsed": false,
    "jupyter": {
     "outputs_hidden": false
    }
   },
   "outputs": [],
   "source": [
    "snap_paths = [\n",
    "    {expt_names: os.path.join(project.project_path, expt_names, \"snap_stft.pkl\")}\n",
    "    for expt_names in project.expt_names\n",
    "]\n",
    "snap_col_names = [\n",
    "    os.path.join(project.project_path, expt_names, \"ftname_to_snapft.yaml\")\n",
    "    for expt_names in project.expt_names\n",
    "]"
   ]
  },
  {
   "cell_type": "code",
   "execution_count": null,
   "metadata": {
    "ExecuteTime": {
     "end_time": "2023-04-06T09:39:04.845527Z",
     "start_time": "2023-04-06T09:39:04.806500Z"
    },
    "collapsed": false,
    "jupyter": {
     "outputs_hidden": false
    }
   },
   "outputs": [],
   "source": [
    "df_data"
   ]
  },
  {
   "cell_type": "code",
   "execution_count": null,
   "metadata": {
    "ExecuteTime": {
     "end_time": "2023-04-06T09:39:56.867058Z",
     "start_time": "2023-04-06T09:39:56.827057Z"
    },
    "collapsed": false,
    "jupyter": {
     "outputs_hidden": false
    }
   },
   "outputs": [],
   "source": [
    "df_data"
   ]
  },
  {
   "cell_type": "code",
   "execution_count": null,
   "metadata": {
    "collapsed": false,
    "jupyter": {
     "outputs_hidden": false
    }
   },
   "outputs": [],
   "source": []
  }
 ],
 "metadata": {
  "kernelspec": {
   "display_name": "Python 3 (ipykernel)",
   "language": "python",
   "name": "python3"
  },
  "language_info": {
   "codemirror_mode": {
    "name": "ipython",
    "version": 3
   },
   "file_extension": ".py",
   "mimetype": "text/x-python",
   "name": "python",
   "nbconvert_exporter": "python",
   "pygments_lexer": "ipython3",
   "version": "3.9.0"
  }
 },
 "nbformat": 4,
 "nbformat_minor": 4
}
