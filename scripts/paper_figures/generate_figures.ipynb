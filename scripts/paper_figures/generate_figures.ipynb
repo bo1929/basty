{
 "cells": [
  {
   "cell_type": "code",
   "execution_count": 1,
   "metadata": {
    "ExecuteTime": {
     "start_time": "2023-04-12T16:43:09.609265Z",
     "end_time": "2023-04-12T16:43:10.090934Z"
    },
    "collapsed": true,
    "jupyter": {
     "outputs_hidden": true
    },
    "tags": []
   },
   "outputs": [],
   "source": [
    "import pandas as pd\n",
    "import numpy as np\n",
    "import os\n",
    "import matplotlib.pyplot as plt\n",
    "\n",
    "plt.rcParams[\"svg.fonttype\"] = \"none\"\n",
    "plt.rcParams[\"pdf.fonttype\"] = 42\n",
    "import basty.project.experiment_processing as experiment_processing\n",
    "import seaborn as sns\n",
    "\n",
    "sns.set_theme(style=\"dark\")\n",
    "from basty.utils import misc\n",
    "from process_results import BehaviorData\n",
    "from filter_flies import FilterData\n",
    "from input import Input\n",
    "\n",
    "import sys\n",
    "\n",
    "sys.path.append(r\"C:\\Users\\Grover\\Documents\\GitHub>basty\")"
   ]
  },
  {
   "cell_type": "code",
   "execution_count": 2,
   "metadata": {
    "ExecuteTime": {
     "start_time": "2023-04-12T16:43:10.090934Z",
     "end_time": "2023-04-12T16:43:10.689324Z"
    },
    "collapsed": false,
    "jupyter": {
     "outputs_hidden": false
    },
    "tags": []
   },
   "outputs": [],
   "source": [
    "CONFIG_PATH = r\"Z:\\mfk\\basty-projects\\main_cfg.yaml\"\n",
    "project = experiment_processing.Project(CONFIG_PATH)\n",
    "FPS = project.fps\n",
    "FIG_PATH = r\"C:\\Users\\Grover\\Documents\\GitHub\\deepsleepfigs\"\n",
    "\n",
    "RESULTS_FOLDER = r\"Z:\\mfk\\basty-projects\\backup-allnohaltere\\results\\semisupervised_pair_kNN\\predictions.15NN.neighbor_weights-distance.neighbor_weights_norm-log_count.activation-standard.voting-soft.voting_weights-None\\exports\"\n",
    "\n",
    "BODY_PART_SETS = {\"ProboscisPumping\": \"prob\"}\n",
    "\n",
    "TMP_RESULT_FOLDER = r\"Z:\\mfk\\basty-projects\"\n",
    "\n",
    "BEHAVIORS = [\n",
    "    \"Idle&Other\",\n",
    "    \"PosturalAdjustment&Moving\",\n",
    "    \"Feeding\",\n",
    "    \"Grooming\",\n",
    "    \"ProboscisPumping\",\n",
    "]"
   ]
  },
  {
   "cell_type": "code",
   "execution_count": 3,
   "metadata": {
    "ExecuteTime": {
     "start_time": "2023-04-12T16:43:10.882183Z",
     "end_time": "2023-04-12T16:43:57.077663Z"
    },
    "collapsed": false,
    "jupyter": {
     "outputs_hidden": false
    },
    "tags": []
   },
   "outputs": [],
   "source": [
    "io_process = Input(project, RESULTS_FOLDER, TMP_RESULT_FOLDER)\n",
    "expt_info_df = io_process.load_expt_info()\n",
    "df_data = io_process.load_predictions()\n",
    "df_data.drop([\"HaltereSwitch\", \"Noise\"], axis=1, inplace=True)\n",
    "io_process.create_binary_masks_subfolders(BEHAVIORS)"
   ]
  },
  {
   "cell_type": "code",
   "execution_count": 4,
   "metadata": {
    "ExecuteTime": {
     "start_time": "2023-04-12T16:43:57.077663Z",
     "end_time": "2023-04-12T16:48:24.403831Z"
    },
    "collapsed": false,
    "jupyter": {
     "outputs_hidden": false
    },
    "tags": []
   },
   "outputs": [
    {
     "name": "stdout",
     "output_type": "stream",
     "text": [
      "Loading existing llh_df.pickle file...\n"
     ]
    }
   ],
   "source": [
    "llh = misc.get_likelihood(project.data_path_dict, CONFIG_PATH)\n",
    "llh = llh[llh[\"ExptNames\"].isin(df_data.ExptNames.unique())]"
   ]
  },
  {
   "cell_type": "code",
   "execution_count": 5,
   "metadata": {
    "ExecuteTime": {
     "start_time": "2023-04-12T16:48:24.403831Z",
     "end_time": "2023-04-12T16:48:24.421803Z"
    },
    "collapsed": false,
    "jupyter": {
     "outputs_hidden": false
    },
    "tags": []
   },
   "outputs": [],
   "source": [
    "process_data = BehaviorData(df_data, binary_mask_threshold=0.8)"
   ]
  },
  {
   "cell_type": "code",
   "execution_count": 6,
   "metadata": {
    "ExecuteTime": {
     "start_time": "2023-04-12T16:48:24.421803Z",
     "end_time": "2023-04-12T16:48:27.869239Z"
    },
    "collapsed": false,
    "jupyter": {
     "outputs_hidden": false
    },
    "tags": []
   },
   "outputs": [
    {
     "name": "stdout",
     "output_type": "stream",
     "text": [
      "File Fly05182022_5d_median6_threshold0.8.pkl already exists. Skipping calculation.File Fly05202022_5d_median6_threshold0.8.pkl already exists. Skipping calculation.\n",
      "File Fly05222022_5d_median6_threshold0.8.pkl already exists. Skipping calculation.\n",
      "File Fly05252022_SD_5d_median6_threshold0.8.pkl already exists. Skipping calculation.\n",
      "File Fly05272022_SD_5d_median6_threshold0.8.pkl already exists. Skipping calculation.\n",
      "\n",
      "File Fly06072022_5d_median6_threshold0.8.pkl already exists. Skipping calculation.\n",
      "File Fly06082022_5d_median6_threshold0.8.pkl already exists. Skipping calculation.\n",
      "File Fly06142022_SD_5d_median6_threshold0.8.pkl already exists. Skipping calculation.\n",
      "File Fly06152022_6d_median6_threshold0.8.pkl already exists. Skipping calculation.\n",
      "File Fly06182022_4d_median6_threshold0.8.pkl already exists. Skipping calculation.\n",
      "File Fly06202022_5d_median6_threshold0.8.pkl already exists. Skipping calculation.\n",
      "File Fly06212022_5d_median6_threshold0.8.pkl already exists. Skipping calculation.\n",
      "File Fly06232022_4d_B_median6_threshold0.8.pkl already exists. Skipping calculation.\n",
      "File Fly06232022_5d_A_SD_median6_threshold0.8.pkl already exists. Skipping calculation.\n",
      "File Fly06232022_5d_B_SD_median6_threshold0.8.pkl already exists. Skipping calculation.\n",
      "File Fly06242022_5d_SD_B_median6_threshold0.8.pkl already exists. Skipping calculation.\n",
      "File Fly06242022_5_SD_A_median6_threshold0.8.pkl already exists. Skipping calculation.\n",
      "File Fly06252022_5d_SD_A_median6_threshold0.8.pkl already exists. Skipping calculation.\n",
      "File Fly06252022_5d_SD_B_median6_threshold0.8.pkl already exists. Skipping calculation.\n",
      "File Fly06262022_5d_SD_A_median6_threshold0.8.pkl already exists. Skipping calculation.\n",
      "File Fly06272022_5d_A_median6_threshold0.8.pkl already exists. Skipping calculation.\n",
      "File Fly06272022_5d_SD_A_median6_threshold0.8.pkl already exists. Skipping calculation.\n",
      "File Fly06282022_5d_B_median6_threshold0.8.pkl already exists. Skipping calculation.\n",
      "File Fly06282022_5d_SD_B_median6_threshold0.8.pkl already exists. Skipping calculation.\n",
      "File Fly06292022_5d_A_median6_threshold0.8.pkl already exists. Skipping calculation.\n",
      "File Fly06292022_5d_B_median6_threshold0.8.pkl already exists. Skipping calculation.\n",
      "File Fly06302022_5d_A_median6_threshold0.8.pkl already exists. Skipping calculation.\n",
      "File Fly06302022_5d_B_median6_threshold0.8.pkl already exists. Skipping calculation.\n",
      "File Fly06302022_5d_SD_B_median6_threshold0.8.pkl already exists. Skipping calculation.\n",
      "File Fly06302022_5d_SD_A_median6_threshold0.8.pkl already exists. Skipping calculation.\n",
      "File Fly07012022_5d_A_median6_threshold0.8.pkl already exists. Skipping calculation.\n",
      "File Fly07012022_5d_B_median6_threshold0.8.pkl already exists. Skipping calculation.\n",
      "File Fly07052022_5d_A_median6_threshold0.8.pkl already exists. Skipping calculation.\n",
      "File Fly07052022_5d_SD_A_median6_threshold0.8.pkl already exists. Skipping calculation.\n",
      "File Fly07062022_5d_A_median6_threshold0.8.pkl already exists. Skipping calculation.\n",
      "File Fly07062022_5d_B_median6_threshold0.8.pkl already exists. Skipping calculation.\n",
      "File Fly07062022_5d_SD_B_median6_threshold0.8.pkl already exists. Skipping calculation.\n",
      "File Fly07062022_5d_SD_A_median6_threshold0.8.pkl already exists. Skipping calculation.\n",
      "File Fly07082022_5d_B_median6_threshold0.8.pkl already exists. Skipping calculation.\n",
      "File Fly07112022_5d_A_median6_threshold0.8.pkl already exists. Skipping calculation.\n",
      "File Fly07122022_5d_A_median6_threshold0.8.pkl already exists. Skipping calculation.\n",
      "File Fly07122022_5d_SD_A_median6_threshold0.8.pkl already exists. Skipping calculation.\n",
      "File Fly07132022_5d_SD_A_median6_threshold0.8.pkl already exists. Skipping calculation.\n",
      "File Fly07132022_5d_SD_B_median6_threshold0.8.pkl already exists. Skipping calculation.\n",
      "File Fly07142022_5d_SD_A_median6_threshold0.8.pkl already exists. Skipping calculation.\n",
      "File Fly07152022_4d_SD_A_median6_threshold0.8.pkl already exists. Skipping calculation.\n",
      "File Fly07182022_7d_SD_A_median6_threshold0.8.pkl already exists. Skipping calculation.\n",
      "File Fly07202022_6d_SD_B_median6_threshold0.8.pkl already exists. Skipping calculation.\n",
      "File Fly07192022_5d_SD_B_median6_threshold0.8.pkl already exists. Skipping calculation.\n",
      "File Fly07212022_6d_SD_A_median6_threshold0.8.pkl already exists. Skipping calculation.\n",
      "File Fly07222022_6d_SD_A_median6_threshold0.8.pkl already exists. Skipping calculation.\n",
      "File Fly07222022_6d_SD_B_median6_threshold0.8.pkl already exists. Skipping calculation.\n",
      "File Fly07252022_6d_A_median6_threshold0.8.pkl already exists. Skipping calculation.\n",
      "File Fly07262022_6d_SD_A_median6_threshold0.8.pkl already exists. Skipping calculation.\n",
      "File Fly07282022_6d_SD_A_median6_threshold0.8.pkl already exists. Skipping calculation.\n",
      "File Fly07282022_6d_SD_B_median6_threshold0.8.pkl already exists. Skipping calculation.\n",
      "File Fly08012022_6d_B_median6_threshold0.8.pkl already exists. Skipping calculation.\n",
      "File Fly08022022_6d_B_median6_threshold0.8.pkl already exists. Skipping calculation.\n",
      "File Fly08022022_6d_SD_B_median6_threshold0.8.pkl already exists. Skipping calculation.\n",
      "File Fly08032022_6d_SD_B_median6_threshold0.8.pkl already exists. Skipping calculation.\n",
      "File Fly08032022_6d_B_median6_threshold0.8.pkl already exists. Skipping calculation.\n"
     ]
    }
   ],
   "source": [
    "process_data.process_expt_names_parallel(\n",
    "    llh, io_process.get_binary_mask_subfolder(\"ProboscisPumping\")\n",
    ")"
   ]
  },
  {
   "cell_type": "code",
   "execution_count": 7,
   "outputs": [],
   "source": [
    "masks_based_on_likelihood = io_process.load_binary_mask('ProboscisPumping')\n",
    "beh_masks = process_data.create_binary_mask_from_behaviors(BEHAVIORS,'ProboscisPumping')\n",
    "masked_data = process_data.update_dictionary_with_final_masked(masks_based_on_likelihood,beh_masks,'ProboscisPumping')"
   ],
   "metadata": {
    "collapsed": false,
    "ExecuteTime": {
     "start_time": "2023-04-12T16:48:27.870925Z",
     "end_time": "2023-04-12T16:49:57.181527Z"
    }
   }
  },
  {
   "cell_type": "code",
   "execution_count": 75,
   "outputs": [
    {
     "name": "stderr",
     "output_type": "stream",
     "text": [
      "Processing Experiments: 100%|██████████| 61/61 [01:15<00:00,  1.24s/it] \n"
     ]
    }
   ],
   "source": [
    "import process_results\n",
    "from process_results import BehaviorData\n",
    "import importlib\n",
    "importlib.reload(process_results)\n",
    "from process_results import BehaviorData\n",
    "bouts_dict = BehaviorData.find_consecutive_bouts_and_snap_fts(masked_data,io_process,'ProboscisPumping',60,30*6,60,force_recalculate=True )"
   ],
   "metadata": {
    "collapsed": false,
    "ExecuteTime": {
     "start_time": "2023-04-12T18:06:53.076124Z",
     "end_time": "2023-04-12T18:08:08.700969Z"
    }
   }
  },
  {
   "cell_type": "code",
   "execution_count": 83,
   "outputs": [
    {
     "data": {
      "text/plain": "[<matplotlib.lines.Line2D at 0x21a58d272e0>]"
     },
     "execution_count": 83,
     "metadata": {},
     "output_type": "execute_result"
    },
    {
     "data": {
      "text/plain": "<Figure size 640x480 with 1 Axes>",
      "image/png": "[encoded data removed]"
     },
     "metadata": {},
     "output_type": "display_data"
    }
   ],
   "source": [
    "plt.plot(bouts_dict[expt_name]['distance.origin-prob'][10])"
   ],
   "metadata": {
    "collapsed": false,
    "ExecuteTime": {
     "start_time": "2023-04-12T18:09:18.194007Z",
     "end_time": "2023-04-12T18:09:18.605937Z"
    }
   }
  },
  {
   "cell_type": "code",
   "execution_count": 77,
   "outputs": [
    {
     "data": {
      "text/plain": "    start_index  stop_index          region  \\\n0          2709        4150  Fly05182022_5d   \n1         17293       17716  Fly05182022_5d   \n2         40744       41143  Fly05182022_5d   \n3         42625       43946  Fly05182022_5d   \n4         44281       44650  Fly05182022_5d   \n5         55235       56248  Fly05182022_5d   \n6        239032      239423  Fly05182022_5d   \n7        239857      240276  Fly05182022_5d   \n8        240561      240987  Fly05182022_5d   \n9        242662      243375  Fly05182022_5d   \n10       247726      248497  Fly05182022_5d   \n11       319408      320219  Fly05182022_5d   \n12       331975      333226  Fly05182022_5d   \n13       350453      350932  Fly05182022_5d   \n14       386015      387782  Fly05182022_5d   \n15       447068      448221  Fly05182022_5d   \n16       517209      517721  Fly05182022_5d   \n17       598929      599329  Fly05182022_5d   \n18       599643      600050  Fly05182022_5d   \n19       672814      674404  Fly05182022_5d   \n20       699216      700306  Fly05182022_5d   \n21       712546      713018  Fly05182022_5d   \n22       728627      732591  Fly05182022_5d   \n23       789913      790645  Fly05182022_5d   \n24       791023      792883  Fly05182022_5d   \n25       809634      810066  Fly05182022_5d   \n26       837510      838258  Fly05182022_5d   \n27       854575      856199  Fly05182022_5d   \n28       895796      896942  Fly05182022_5d   \n29       923161      923608  Fly05182022_5d   \n30       959506      960266  Fly05182022_5d   \n\n                                          pose.prob_x  \\\n0   [760.1754768614968, 759.9495791122317, 759.314...   \n1   [758.7271022001902, 758.4068006873131, 758.230...   \n2   [759.6926031112671, 759.2866978794336, 759.059...   \n3   [761.6069444616636, 761.594204823176, 761.5814...   \n4   [760.4150972912709, 760.6770641406378, 760.878...   \n5   [760.5242028236389, 760.3326519727707, 759.766...   \n6   [776.0454722593228, 778.9373902493354, 782.008...   \n7   [794.0693646768729, 794.1094507177671, 794.353...   \n8   [803.4494095395008, 803.504308650891, 803.6652...   \n9   [794.571901957194, 794.7476263046265, 794.7316...   \n10  [277.34384231766063, 277.5435997049014, 277.71...   \n11  [632.4637533028921, 632.6559468110403, 633.329...   \n12  [623.8969354629517, 623.8536516427994, 623.722...   \n13  [633.6370299259821, 633.6872559785843, 633.374...   \n14  [632.4714070012172, 632.1141226440668, 631.793...   \n15  [632.1491978764534, 631.961159735918, 632.0730...   \n16  [633.1778450012207, 633.1735335985819, 633.169...   \n17  [652.6434857000908, 652.556431889534, 652.1994...   \n18  [638.3746841081107, 638.2871019300073, 638.199...   \n19  [628.2447902957598, 628.2989924748739, 628.353...   \n20  [612.9632729192575, 612.6525548398495, 612.341...   \n21  [626.458322490255, 626.5941529472669, 626.8175...   \n22  [631.5622665286064, 631.6042859653631, 631.419...   \n23  [611.385766034325, 611.6261665821075, 611.6615...   \n24  [613.625085880359, 613.4451269805431, 613.2044...   \n25  [615.1691812972227, 614.9017111957073, 614.587...   \n26  [614.5088415145874, 614.4643047650655, 614.238...   \n27  [615.9772973060608, 616.1435537338257, 616.309...   \n28  [631.9464137206475, 631.7031472971042, 631.292...   \n29  [622.7009754727284, 622.708009754618, 622.7150...   \n30  [644.2749670843283, 645.3773735066255, 646.549...   \n\n                                          pose.prob_y  \\\n0   [643.7969501589736, 643.8115276272098, 643.826...   \n1   [638.5467662215233, 638.1820163726807, 638.222...   \n2   [639.9879573980967, 639.7481879691283, 639.540...   \n3   [644.0867912769318, 644.1721591552099, 644.257...   \n4   [640.9290861487389, 641.3210790356001, 641.713...   \n5   [637.855410794417, 637.6589689850807, 637.5401...   \n6   [150.7809226910273, 151.3586023172053, 151.936...   \n7   [156.76418046156564, 156.6704297264417, 156.57...   \n8   [167.89062529802322, 167.97879003485045, 168.0...   \n9   [171.93233853578568, 171.88155408700308, 171.9...   \n10  [175.87658816576004, 175.63861854871115, 175.5...   \n11  [199.06202824910483, 199.06869792938232, 198.9...   \n12  [195.53179674595594, 195.51225631808242, 195.5...   \n13  [190.84422194957733, 190.70116877555847, 190.5...   \n14  [184.20729307333627, 183.90937316417694, 183.7...   \n15  [193.33504605293274, 193.31787798802057, 193.2...   \n16  [208.4911611278852, 208.63673162460327, 208.55...   \n17  [174.0350201924642, 173.85298784573874, 174.11...   \n18  [178.08403872450194, 177.8978779812654, 177.44...   \n19  [155.56894326210022, 155.7837305267652, 155.99...   \n20  [169.14798925320306, 169.2336807847023, 169.31...   \n21  [205.33512302239737, 205.60454054673514, 205.7...   \n22  [205.54612175623575, 205.90421668688455, 206.0...   \n23  [181.83716785907745, 182.33783650398254, 182.8...   \n24  [182.96357146898904, 183.23749136924744, 183.5...   \n25  [175.69617593288422, 175.58754042784372, 175.4...   \n26  [186.75273470083872, 186.99537259340286, 186.9...   \n27  [190.38250374794006, 190.47932263215384, 190.5...   \n28  [192.910717792809, 193.1535320157806, 193.6682...   \n29  [224.19721993803978, 224.4604733089606, 224.72...   \n30  [179.83023717006049, 180.44879519939423, 180.9...   \n\n                                          pose.halt_x  \\\n0   [592.9317913154761, 593.1565224826336, 593.309...   \n1   [590.5506588419279, 590.6575207511584, 590.918...   \n2   [592.1261249979337, 591.8743076920509, 591.752...   \n3   [592.2852558692297, 592.3059625228246, 592.150...   \n4   [590.754028836886, 590.893727918466, 591.01071...   \n5   [592.7593403061231, 592.7425736586252, 592.725...   \n6   [671.3068369229635, 671.4367252190908, 671.419...   \n7   [665.6782191644112, 665.4777902762095, 665.361...   \n8   [656.6225496431192, 656.7063519308964, 656.942...   \n9   [654.8781910439333, 654.9950656120976, 655.085...   \n10  [424.9882451693217, 425.09938820203143, 425.21...   \n11  [791.7854805787405, 791.5248389840126, 791.517...   \n12  [785.0987470895052, 785.0471597860256, 785.009...   \n13  [802.7654727846384, 802.7235368192196, 802.631...   \n14  [802.6162367661794, 802.2742930452029, 802.133...   \n15  [797.4763005673885, 797.5054052372774, 797.653...   \n16  [808.2598917285601, 808.5147679845492, 808.588...   \n17  [778.4344340587655, 778.4559727733334, 778.190...   \n18  [773.4471476078033, 773.4058021306992, 773.596...   \n19  [786.1865109006563, 786.1407417754332, 785.749...   \n20  [784.031018336614, 783.8103747367859, 783.5897...   \n21  [804.1685733795166, 804.208340148131, 804.2463...   \n22  [805.534535219272, 805.5184231698513, 805.5178...   \n23  [763.6702656870087, 763.9671032155553, 764.317...   \n24  [764.9947490145763, 764.661602601409, 764.1835...   \n25  [764.5568095048269, 764.5014495849609, 764.061...   \n26  [771.7335662841797, 771.5703420837721, 771.334...   \n27  [773.2201968058944, 773.2390102172891, 773.339...   \n28  [777.9420357545217, 777.8841240406036, 777.868...   \n29  [782.5045413635671, 782.3094651661813, 782.114...   \n30  [804.3057213226954, 804.2790681918462, 804.324...   \n\n                                          pose.halt_y  \\\n0   [589.5367262363434, 589.5722079674402, 589.688...   \n1   [591.6648944218954, 591.6889579296112, 591.683...   \n2   [588.0913710395495, 587.9285125136375, 587.765...   \n3   [590.3180412054062, 590.1743007302284, 590.229...   \n4   [590.3676739931107, 590.1936082442602, 590.019...   \n5   [587.735853433609, 587.8489045699438, 587.9385...   \n6   [249.69610353310904, 249.648293197155, 249.600...   \n7   [252.4083529661099, 252.5441803187132, 252.680...   \n8   [259.36573167641956, 259.16207685073215, 258.8...   \n9   [263.42030596733093, 263.3985363642375, 263.39...   \n10  [243.24663479439914, 243.1104249842465, 242.97...   \n11  [242.6285574833552, 242.6283479332924, 242.501...   \n12  [230.69644331932068, 230.6148909330368, 230.57...   \n13  [225.3466184536616, 225.27216778198877, 225.38...   \n14  [222.0084795554479, 221.94424402713776, 221.92...   \n15  [229.489899456501, 229.50340822339058, 229.487...   \n16  [244.82004015147686, 244.91950024167696, 244.9...   \n17  [198.4152613480886, 198.27476263046265, 198.37...   \n18  [197.00070015589395, 197.18103909492493, 197.4...   \n19  [196.86641892790794, 197.17053028941154, 197.5...   \n20  [203.22068762779236, 203.4147359530131, 203.47...   \n21  [236.77683715025583, 237.10014069080353, 237.0...   \n22  [232.08210833867392, 232.36059180895487, 232.5...   \n23  [212.78667805592218, 212.84157401323318, 213.0...   \n24  [214.62277162075043, 214.81572624047598, 215.1...   \n25  [215.1367613474528, 215.2460251649221, 215.355...   \n26  [219.98312494158745, 220.38225094477335, 220.4...   \n27  [223.64260894060135, 223.66679642597833, 223.5...   \n28  [223.1099929412206, 223.45437109470367, 223.82...   \n29  [229.75553413232169, 229.88779799143472, 229.8...   \n30  [257.2240908543269, 257.055628101031, 256.8871...   \n\n                                     pose.thor_post_x  \\\n0   [600.0360213716825, 600.215499907732, 600.2907...   \n1   [597.7585718631744, 597.6210833986601, 597.596...   \n2   [598.5428354740143, 598.5527556339899, 598.584...   \n3   [598.3000665505728, 598.3225275675455, 598.248...   \n4   [599.1158301631609, 599.4093454480171, 599.628...   \n5   [598.9661300579706, 598.9320390224457, 598.832...   \n6   [689.2612283627192, 689.3716955383619, 689.482...   \n7   [684.5835049549738, 684.7260815103849, 684.853...   \n8   [671.929959932963, 671.9721517562866, 672.0678...   \n9   [668.1787179311117, 668.2209820747375, 668.207...   \n10  [429.3101900915305, 429.46806317567825, 429.61...   \n11  [785.610911766688, 785.3116054137548, 785.3477...   \n12  [785.3819104333719, 785.3345517280201, 785.287...   \n13  [794.6224561134974, 794.5239035685858, 794.437...   \n14  [795.2844945987066, 794.9844816823801, 794.923...   \n15  [793.0879441301028, 792.9508422017097, 792.990...   \n16  [799.5534758840998, 799.7985577583313, 799.714...   \n17  [793.801680525144, 793.7369753022989, 793.5555...   \n18  [794.411412914594, 794.3659940461317, 794.3393...   \n19  [786.6807822187742, 786.5193472703298, 786.141...   \n20  [784.6368352174759, 784.5393249591192, 784.312...   \n21  [795.3636760363976, 795.3475085745255, 795.351...   \n22  [797.9127123573174, 797.7824939110627, 797.797...   \n23  [777.0475923617681, 777.1539882421494, 777.244...   \n24  [775.9623447259268, 775.937823176384, 775.7478...   \n25  [771.5048348226895, 771.5164129454643, 771.166...   \n26  [777.4930911858877, 777.2517401774725, 776.974...   \n27  [779.1681407193342, 779.5948290179173, 780.015...   \n28  [786.5719879865646, 786.5792047679424, 786.573...   \n29  [793.6533025503159, 793.4318836132685, 793.206...   \n30  [786.9411469300588, 786.8131757974625, 786.743...   \n\n                                     pose.thor_post_y  \\\n0   [551.202330638965, 551.2019241551558, 551.2332...   \n1   [550.7174514184395, 550.6946945736805, 550.692...   \n2   [552.3590522607168, 552.3876703381538, 552.316...   \n3   [553.3872932493687, 553.4285546938578, 553.511...   \n4   [553.2011853506168, 553.0687080522379, 552.847...   \n5   [552.61060631151, 552.5111976750195, 552.52677...   \n6   [279.55273779233295, 279.5597091118495, 279.56...   \n7   [285.2859474023183, 285.1660426855087, 285.133...   \n8   [293.8973509147763, 293.64235663910705, 293.31...   \n9   [297.816536039114, 297.96799887220067, 298.186...   \n10  [270.28729073206586, 270.05476236343384, 269.9...   \n11  [275.61123550186556, 275.5341631695628, 275.59...   \n12  [264.87140105168027, 264.61696767807007, 264.6...   \n13  [257.45850270986557, 257.26318102081615, 257.3...   \n14  [254.1436693072319, 254.028994957606, 253.9558...   \n15  [263.47585519154865, 263.68375839789707, 263.7...   \n16  [275.523891672492, 275.49473917484283, 275.482...   \n17  [235.11593122780323, 235.12655080854893, 235.3...   \n18  [235.6802014708519, 235.648222108682, 235.8074...   \n19  [229.7547708749771, 230.07828279336294, 230.36...   \n20  [236.93934520085654, 236.98745075861612, 236.9...   \n21  [269.30977380275726, 269.6142761707306, 269.84...   \n22  [269.6715641816457, 269.8069674173991, 269.846...   \n23  [243.63332851727804, 243.7110728820165, 243.78...   \n24  [246.05509297053018, 246.34941832224527, 246.6...   \n25  [252.76095402240753, 252.726941883564, 252.690...   \n26  [256.2114908198516, 256.5422347287337, 256.608...   \n27  [260.4128201007843, 260.70985130469006, 260.57...   \n28  [260.21784083048504, 260.2884424527486, 260.29...   \n29  [269.7157757282257, 269.7677713235219, 269.819...   \n30  [291.2649683107932, 291.16558058559895, 290.89...   \n\n                                 distance.origin-halt  \\\n0   [836.1349536612165, 836.3193460462898, 836.509...   \n1   [835.9530058262293, 836.0455309106881, 836.226...   \n2   [834.5446714204373, 834.2512402942192, 834.049...   \n3   [836.2279677771287, 836.1411713834594, 836.069...   \n4   [835.1792101597406, 835.1550113037467, 835.114...   \n5   [834.7437145205006, 834.8114117760572, 834.862...   \n6   [716.2408906360565, 716.3459682787288, 716.313...   \n7   [711.9251843536414, 711.785959656242, 711.7258...   \n8   [705.9913281817809, 705.9944863410557, 706.087...   \n9   [705.8722991454592, 705.9726091960074, 706.056...   \n10  [489.67737733215665, 489.7062063990637, 489.73...   \n11  [828.1261160969148, 827.8768543385579, 827.832...   \n12  [818.2914466384793, 818.2189627527354, 818.170...   \n13  [833.7946406301999, 833.7341459606614, 833.675...   \n14  [832.7548189684798, 832.4081263046137, 832.266...   \n15  [829.839782077964, 829.8714875020266, 830.0095...   \n16  [844.5240698978535, 844.7968345393715, 844.871...   \n17  [803.3235861495795, 803.3097677998464, 803.076...   \n18  [798.1414448608465, 798.1459120661989, 798.386...   \n19  [810.4601266093517, 810.4896568703614, 810.192...   \n20  [809.9402975490606, 809.7754369872273, 809.576...   \n21  [838.3020726576582, 838.4315899818009, 838.467...   \n22  [838.3006575458786, 838.3623170752913, 838.403...   \n23  [792.7612787293166, 793.0619587547984, 793.456...   \n24  [794.5312455265981, 794.2626534926455, 793.890...   \n25  [794.2486644894475, 794.2249793143029, 793.831...   \n26  [802.4744684965151, 802.4270242923989, 802.226...   \n27  [804.9133427160372, 804.9381359739846, 805.006...   \n28  [809.3033299969309, 809.3426755063314, 809.429...   \n29  [815.5372233804138, 815.387330631245, 815.1949...   \n30  [844.435862732189, 844.3591744453068, 844.3512...   \n\n                                 distance.origin-prob  \\\n0   [996.1632740949648, 996.0003242462021, 995.524...   \n1   [991.6696971598268, 991.1897706041292, 991.080...   \n2   [993.3365174182218, 992.8716098199391, 992.563...   \n3   [997.4431976557088, 997.488598155854, 997.5340...   \n4   [994.4954568322323, 994.9484018405208, 995.354...   \n5   [992.6009208943169, 992.3279207918432, 991.817...   \n6   [790.557690280572, 793.5067009319224, 796.6316...   \n7   [809.3955548396092, 809.4167302878917, 809.637...   \n8   [820.8033965282635, 820.8751719488894, 821.045...   \n9   [812.960784056806, 813.1217978582307, 813.1150...   \n10  [328.40855825686356, 328.44995671008115, 328.5...   \n11  [663.0505940971842, 663.2359259951721, 663.836...   \n12  [653.8196002100001, 653.7724535636561, 653.659...   \n13  [661.753279360941, 661.7601334033593, 661.4264...   \n14  [658.7506413625002, 658.3243285674006, 657.959...   \n15  [661.0529845694164, 660.8681482448354, 660.953...   \n16  [666.6203924789908, 666.6618403903971, 666.633...   \n17  [675.4492635869522, 675.318264363767, 675.0399...   \n18  [662.7489435363591, 662.6145783790489, 662.408...   \n19  [647.2196015584276, 647.3238715216498, 647.428...   \n20  [635.8734278268671, 635.5967209353217, 635.320...   \n21  [659.2515017532592, 659.4645248996621, 659.707...   \n22  [664.168732079266, 664.319592138645, 664.19735...   \n23  [637.853674853715, 638.2269614086175, 638.3970...   \n24  [640.3213369132454, 640.2272268964119, 640.090...   \n25  [639.7673544776526, 639.4803349477673, 639.148...   \n26  [642.2598385527793, 642.2878258240311, 642.069...   \n27  [644.727483926204, 644.9149177667949, 645.0852...   \n28  [660.7350564740185, 660.5733518960919, 660.331...   \n29  [661.8314727199314, 661.9273143560704, 662.023...   \n30  [668.9014482060512, 670.1296306859019, 671.385...   \n\n                            distance.origin-thor_post  \\\n0   [814.7804834710912, 814.9123925440297, 814.988...   \n1   [812.7761201786893, 812.6595879912987, 812.640...   \n2   [814.4654986625462, 814.4921973958104, 814.467...   \n3   [814.9849483053553, 815.029454771635, 815.0318...   \n4   [815.4577422683661, 815.5835697443837, 815.594...   \n5   [814.9471805979799, 814.8547176790896, 814.792...   \n6   [743.7948468033866, 743.8998357091751, 744.004...   \n7   [741.6486007818494, 741.7341023584393, 741.839...   \n8   [733.3931578152584, 733.3296709860732, 733.285...   \n9   [731.5445907355211, 731.6448655166183, 731.721...   \n10  [507.30903682834816, 507.318826738215, 507.399...   \n11  [832.5539368844229, 832.2459928837628, 832.299...   \n12  [828.8435342880182, 828.7173810901922, 828.671...   \n13  [835.2902060825644, 835.1362629240887, 835.091...   \n14  [834.9050437014163, 834.5843614608256, 834.503...   \n15  [835.7080910182879, 835.6435619277165, 835.699...   \n16  [845.6944931124365, 845.9167123927282, 845.832...   \n17  [827.8892493091452, 827.830224657911, 827.7215...   \n18  [828.6342077987747, 828.5815693580697, 828.601...   \n19  [819.5449394951785, 819.4807501361386, 819.197...   \n20  [819.6311466045609, 819.5517093047748, 819.332...   \n21  [839.7208651830821, 839.8032610741469, 839.879...   \n22  [842.251416780991, 842.1714239143527, 842.1980...   \n23  [814.3464616240611, 814.471244726284, 814.5813...   \n24  [814.0397221323382, 814.1053625566004, 814.021...   \n25  [811.8545498013194, 811.8549640163903, 811.510...   \n26  [818.6206904726498, 818.4950737839062, 818.252...   \n27  [821.5338266832765, 822.0326781818283, 822.390...   \n28  [828.4979281637438, 828.5269571038992, 828.522...   \n29  [838.2315696307923, 838.0386652052274, 837.841...   \n30  [839.1136100056319, 838.9590984823024, 838.800...   \n\n                                   distance.head-prob  \\\n0   [84.65729132821554, 84.64979844544531, 84.4619...   \n1   [79.6449913530045, 79.3272881367462, 79.436532...   \n2   [80.19642398013795, 79.8390946901891, 79.48949...   \n3   [84.69840259536306, 84.69937791288184, 84.7005...   \n4   [83.16290996944717, 83.58437798241583, 84.0878...   \n5   [80.2691479289311, 80.08612476973009, 79.86481...   \n6   [91.30274461131012, 89.34207770989212, 87.9098...   \n7   [80.87340018588213, 80.82176150310579, 80.7530...   \n8   [87.87655069149038, 87.65897208523322, 87.3342...   \n9   [84.8295133878834, 84.86673738097633, 84.84990...   \n10  [79.51854195347123, 79.94554563849883, 80.2148...   \n11  [71.52372083911801, 71.50390015215245, 71.4938...   \n12  [73.37655121639098, 73.36554922223169, 73.6592...   \n13  [77.63571151322331, 77.68255681163167, 77.8842...   \n14  [78.4619325927953, 78.73715594316087, 79.07506...   \n15  [74.79621874399942, 74.82371275832126, 75.0100...   \n16  [81.87034397663042, 81.83219303443413, 81.9036...   \n17  [74.39159150246003, 74.55543028009411, 74.3916...   \n18  [73.42287927119204, 73.75884438938694, 74.7206...   \n19  [84.78955444648727, 84.81191901032253, 84.7440...   \n20  [89.64614369650434, 89.79025548687099, 89.9232...   \n21  [81.45019745242644, 81.3992682373581, 81.36022...   \n22  [81.52025495889524, 81.2756689317863, 81.35223...   \n23  [79.20548623901476, 78.88711364063789, 78.6938...   \n24  [77.27550243725928, 77.30296580922158, 77.3092...   \n25  [74.94019626172246, 75.01302954115279, 75.0634...   \n26  [79.20164697746283, 79.11323130902409, 79.0045...   \n27  [79.86412613483373, 79.89496628711456, 79.8833...   \n28  [74.47124098208673, 74.58010616609471, 74.4563...   \n29  [79.1583966945352, 78.78550545488355, 78.41400...   \n30  [86.93496629564336, 86.11927665881254, 85.3862...   \n\n                              distance.thor_post-halt  \\\n0   [38.98712570205464, 39.01420051882787, 39.0835...   \n1   [41.577002040107736, 41.58149627948809, 41.531...   \n2   [36.30389481372433, 36.16286948592203, 36.1012...   \n3   [37.41735014835722, 37.23504943875871, 37.2206...   \n4   [38.09550628922939, 38.08902671606637, 38.1576...   \n5   [35.6694158126001, 35.87566041317584, 35.93452...   \n6   [34.83932808280083, 34.876295135449425, 34.988...   \n7   [37.92553291299478, 37.877204486521784, 37.857...   \n8   [37.772338251748025, 37.70854463637517, 37.666...   \n9   [36.878240991505955, 37.01314096866412, 37.180...   \n10  [27.38386900074342, 27.29620189383205, 27.3509...   \n11  [33.55566046567253, 33.48726545662015, 33.6611...   \n12  [34.17613081505679, 34.003291268691264, 34.043...   \n13  [33.128263325902275, 33.02512548790282, 33.037...   \n14  [32.96095968859922, 32.902470909883384, 32.835...   \n15  [34.268102653127514, 34.482464855297756, 34.57...   \n16  [31.914388214114553, 31.793357113205385, 31.81...   \n17  [39.78808155186945, 39.894402241577566, 40.049...   \n18  [43.99550251818181, 43.80700645040296, 43.6435...   \n19  [32.892065881154416, 32.909930370362154, 32.85...   \n20  [33.72409943382767, 33.58062756776586, 33.5169...   \n21  [33.70338535605193, 33.69990121918545, 33.9306...   \n22  [38.354391851647684, 38.23709779397058, 38.124...   \n23  [33.62244360019502, 33.56813812403698, 33.3408...   \n24  [33.29082427822196, 33.489205526009854, 33.582...   \n25  [38.26035716325422, 38.13172995051463, 38.0052...   \n26  [36.683328928857684, 36.60358877972732, 36.570...   \n27  [37.24817398963162, 37.584363069947955, 37.611...   \n28  [38.09814234972788, 37.84644291957282, 37.4930...   \n29  [41.48633250122471, 41.4019379387015, 41.46171...   \n30  [38.21399981477424, 38.321616036274825, 38.283...   \n\n   distance.avg(thor_post-joint1,thor_post-joint2,thor_post-joint3)  \\\n0   [144.6017774786682, 144.77250681017924, 144.94...                 \n1   [145.50830084533752, 145.4614443291837, 145.47...                 \n2   [141.61848695652114, 141.46218148145627, 141.4...                 \n3   [141.11870621140284, 141.0854485033127, 141.02...                 \n4   [141.4047962102637, 141.27562914386826, 141.24...                 \n5   [140.37094735694427, 140.51121251508826, 140.6...                 \n6   [171.73368616488108, 171.6765076885806, 171.47...                 \n7   [180.8238502322246, 180.4373524747588, 180.035...                 \n8   [188.14489910010477, 188.04981271375445, 187.8...                 \n9   [187.417860281631, 187.49183413721107, 187.651...                 \n10  [162.24611611015322, 161.93286940219016, 161.9...                 \n11  [169.0267340009979, 168.91969973975924, 168.91...                 \n12  [161.33438198123415, 161.14924440446626, 161.1...                 \n13  [157.0551402464048, 156.99069665323717, 157.08...                 \n14  [173.63698068010368, 173.50438353226582, 173.4...                 \n15  [175.3247529466627, 174.86410934099538, 174.34...                 \n16  [169.719226417382, 169.698524143197, 169.67298...                 \n17  [152.5347959095433, 152.40643328905742, 152.50...                 \n18  [153.43437450564804, 153.48117874951103, 153.6...                 \n19  [152.1735345037937, 152.14512450753134, 152.15...                 \n20  [144.30826840564933, 144.16636301031437, 144.0...                 \n21  [178.9138109623526, 178.89189516227955, 178.77...                 \n22  [162.66739523633512, 162.52713756687544, 162.5...                 \n23  [155.20747676371906, 155.1775703144017, 155.18...                 \n24  [153.87931052943446, 154.05179286001055, 154.2...                 \n25  [163.54572607844304, 163.6272671993878, 163.61...                 \n26  [169.4634783476093, 169.67257174396735, 169.67...                 \n27  [171.4637162294283, 171.82121079868776, 171.88...                 \n28  [159.57332385249353, 161.01975390813382, 162.4...                 \n29  [171.7662136242719, 171.71027867917869, 171.67...                 \n30  [167.66386857405533, 167.64746168428434, 167.5...                 \n\n   distance.avg(origin-joint1,origin-joint2,origin-joint3)  \n0   [916.5625149785716, 916.7090515324326, 916.876...       \n1   [915.177028051619, 914.9951738749593, 914.8545...       \n2   [916.53306033963, 916.291036151094, 916.174096...       \n3   [917.3948898518914, 917.5254430268642, 917.608...       \n4   [917.7660986029651, 917.5736803048885, 917.377...       \n5   [916.750845734431, 916.6986183008103, 916.6570...       \n6   [723.1491109784207, 723.1614998435169, 723.173...       \n7   [702.4987081885932, 702.0522609730224, 701.625...       \n8   [706.6168531057662, 706.658657180681, 706.7099...       \n9   [704.5707927053072, 704.6318569660649, 704.658...       \n10  [392.18051329056334, 392.20825498721547, 392.3...       \n11  [767.6450352682032, 767.542065321555, 767.6233...       \n12  [754.4346786393213, 754.2613166584123, 754.305...       \n13  [763.0680561234145, 762.9871230455824, 762.944...       \n14  [758.8242518326833, 758.8030853676431, 758.773...       \n15  [742.3939284167587, 742.3378211120036, 742.338...       \n16  [758.6603572522193, 758.8540709556237, 758.840...       \n17  [730.1060742675767, 729.8356148257039, 729.421...       \n18  [724.5966216887413, 724.3300054716645, 724.041...       \n19  [754.3103014121389, 754.3859318600686, 754.337...       \n20  [769.9145965501493, 769.926553285428, 769.8586...       \n21  [759.9655920223892, 760.0181201055858, 760.184...       \n22  [778.8519096927084, 778.8679675907651, 778.822...       \n23  [717.5184119405662, 717.7023201044585, 717.963...       \n24  [720.523226720019, 720.4363502624761, 720.3136...       \n25  [735.7565238826483, 735.7304621909311, 735.524...       \n26  [736.1546589866065, 736.0055849146875, 735.797...       \n27  [737.032975275332, 737.1399437775017, 737.2370...       \n28  [753.2753990739592, 751.4420411172181, 749.539...       \n29  [747.7187758811962, 747.6552423597242, 747.504...       \n30  [810.145191589083, 810.1866647003086, 810.2839...       ",
      "text/html": "<div>\n<style scoped>\n    .dataframe tbody tr th:only-of-type {\n        vertical-align: middle;\n    }\n\n    .dataframe tbody tr th {\n        vertical-align: top;\n    }\n\n    .dataframe thead th {\n        text-align: right;\n    }\n</style>\n<table border=\"1\" class=\"dataframe\">\n  <thead>\n    <tr style=\"text-align: right;\">\n      <th></th>\n      <th>start_index</th>\n      <th>stop_index</th>\n      <th>region</th>\n      <th>pose.prob_x</th>\n      <th>pose.prob_y</th>\n      <th>pose.halt_x</th>\n      <th>pose.halt_y</th>\n      <th>pose.thor_post_x</th>\n      <th>pose.thor_post_y</th>\n      <th>distance.origin-halt</th>\n      <th>distance.origin-prob</th>\n      <th>distance.origin-thor_post</th>\n      <th>distance.head-prob</th>\n      <th>distance.thor_post-halt</th>\n      <th>distance.avg(thor_post-joint1,thor_post-joint2,thor_post-joint3)</th>\n      <th>distance.avg(origin-joint1,origin-joint2,origin-joint3)</th>\n    </tr>\n  </thead>\n  <tbody>\n    <tr>\n      <th>0</th>\n      <td>2709</td>\n      <td>4150</td>\n      <td>Fly05182022_5d</td>\n      <td>[760.1754768614968, 759.9495791122317, 759.314...</td>\n      <td>[643.7969501589736, 643.8115276272098, 643.826...</td>\n      <td>[592.9317913154761, 593.1565224826336, 593.309...</td>\n      <td>[589.5367262363434, 589.5722079674402, 589.688...</td>\n      <td>[600.0360213716825, 600.215499907732, 600.2907...</td>\n      <td>[551.202330638965, 551.2019241551558, 551.2332...</td>\n      <td>[836.1349536612165, 836.3193460462898, 836.509...</td>\n      <td>[996.1632740949648, 996.0003242462021, 995.524...</td>\n      <td>[814.7804834710912, 814.9123925440297, 814.988...</td>\n      <td>[84.65729132821554, 84.64979844544531, 84.4619...</td>\n      <td>[38.98712570205464, 39.01420051882787, 39.0835...</td>\n      <td>[144.6017774786682, 144.77250681017924, 144.94...</td>\n      <td>[916.5625149785716, 916.7090515324326, 916.876...</td>\n    </tr>\n    <tr>\n      <th>1</th>\n      <td>17293</td>\n      <td>17716</td>\n      <td>Fly05182022_5d</td>\n      <td>[758.7271022001902, 758.4068006873131, 758.230...</td>\n      <td>[638.5467662215233, 638.1820163726807, 638.222...</td>\n      <td>[590.5506588419279, 590.6575207511584, 590.918...</td>\n      <td>[591.6648944218954, 591.6889579296112, 591.683...</td>\n      <td>[597.7585718631744, 597.6210833986601, 597.596...</td>\n      <td>[550.7174514184395, 550.6946945736805, 550.692...</td>\n      <td>[835.9530058262293, 836.0455309106881, 836.226...</td>\n      <td>[991.6696971598268, 991.1897706041292, 991.080...</td>\n      <td>[812.7761201786893, 812.6595879912987, 812.640...</td>\n      <td>[79.6449913530045, 79.3272881367462, 79.436532...</td>\n      <td>[41.577002040107736, 41.58149627948809, 41.531...</td>\n      <td>[145.50830084533752, 145.4614443291837, 145.47...</td>\n      <td>[915.177028051619, 914.9951738749593, 914.8545...</td>\n    </tr>\n    <tr>\n      <th>2</th>\n      <td>40744</td>\n      <td>41143</td>\n      <td>Fly05182022_5d</td>\n      <td>[759.6926031112671, 759.2866978794336, 759.059...</td>\n      <td>[639.9879573980967, 639.7481879691283, 639.540...</td>\n      <td>[592.1261249979337, 591.8743076920509, 591.752...</td>\n      <td>[588.0913710395495, 587.9285125136375, 587.765...</td>\n      <td>[598.5428354740143, 598.5527556339899, 598.584...</td>\n      <td>[552.3590522607168, 552.3876703381538, 552.316...</td>\n      <td>[834.5446714204373, 834.2512402942192, 834.049...</td>\n      <td>[993.3365174182218, 992.8716098199391, 992.563...</td>\n      <td>[814.4654986625462, 814.4921973958104, 814.467...</td>\n      <td>[80.19642398013795, 79.8390946901891, 79.48949...</td>\n      <td>[36.30389481372433, 36.16286948592203, 36.1012...</td>\n      <td>[141.61848695652114, 141.46218148145627, 141.4...</td>\n      <td>[916.53306033963, 916.291036151094, 916.174096...</td>\n    </tr>\n    <tr>\n      <th>3</th>\n      <td>42625</td>\n      <td>43946</td>\n      <td>Fly05182022_5d</td>\n      <td>[761.6069444616636, 761.594204823176, 761.5814...</td>\n      <td>[644.0867912769318, 644.1721591552099, 644.257...</td>\n      <td>[592.2852558692297, 592.3059625228246, 592.150...</td>\n      <td>[590.3180412054062, 590.1743007302284, 590.229...</td>\n      <td>[598.3000665505728, 598.3225275675455, 598.248...</td>\n      <td>[553.3872932493687, 553.4285546938578, 553.511...</td>\n      <td>[836.2279677771287, 836.1411713834594, 836.069...</td>\n      <td>[997.4431976557088, 997.488598155854, 997.5340...</td>\n      <td>[814.9849483053553, 815.029454771635, 815.0318...</td>\n      <td>[84.69840259536306, 84.69937791288184, 84.7005...</td>\n      <td>[37.41735014835722, 37.23504943875871, 37.2206...</td>\n      <td>[141.11870621140284, 141.0854485033127, 141.02...</td>\n      <td>[917.3948898518914, 917.5254430268642, 917.608...</td>\n    </tr>\n    <tr>\n      <th>4</th>\n      <td>44281</td>\n      <td>44650</td>\n      <td>Fly05182022_5d</td>\n      <td>[760.4150972912709, 760.6770641406378, 760.878...</td>\n      <td>[640.9290861487389, 641.3210790356001, 641.713...</td>\n      <td>[590.754028836886, 590.893727918466, 591.01071...</td>\n      <td>[590.3676739931107, 590.1936082442602, 590.019...</td>\n      <td>[599.1158301631609, 599.4093454480171, 599.628...</td>\n      <td>[553.2011853506168, 553.0687080522379, 552.847...</td>\n      <td>[835.1792101597406, 835.1550113037467, 835.114...</td>\n      <td>[994.4954568322323, 994.9484018405208, 995.354...</td>\n      <td>[815.4577422683661, 815.5835697443837, 815.594...</td>\n      <td>[83.16290996944717, 83.58437798241583, 84.0878...</td>\n      <td>[38.09550628922939, 38.08902671606637, 38.1576...</td>\n      <td>[141.4047962102637, 141.27562914386826, 141.24...</td>\n      <td>[917.7660986029651, 917.5736803048885, 917.377...</td>\n    </tr>\n    <tr>\n      <th>5</th>\n      <td>55235</td>\n      <td>56248</td>\n      <td>Fly05182022_5d</td>\n      <td>[760.5242028236389, 760.3326519727707, 759.766...</td>\n      <td>[637.855410794417, 637.6589689850807, 637.5401...</td>\n      <td>[592.7593403061231, 592.7425736586252, 592.725...</td>\n      <td>[587.735853433609, 587.8489045699438, 587.9385...</td>\n      <td>[598.9661300579706, 598.9320390224457, 598.832...</td>\n      <td>[552.61060631151, 552.5111976750195, 552.52677...</td>\n      <td>[834.7437145205006, 834.8114117760572, 834.862...</td>\n      <td>[992.6009208943169, 992.3279207918432, 991.817...</td>\n      <td>[814.9471805979799, 814.8547176790896, 814.792...</td>\n      <td>[80.2691479289311, 80.08612476973009, 79.86481...</td>\n      <td>[35.6694158126001, 35.87566041317584, 35.93452...</td>\n      <td>[140.37094735694427, 140.51121251508826, 140.6...</td>\n      <td>[916.750845734431, 916.6986183008103, 916.6570...</td>\n    </tr>\n    <tr>\n      <th>6</th>\n      <td>239032</td>\n      <td>239423</td>\n      <td>Fly05182022_5d</td>\n      <td>[776.0454722593228, 778.9373902493354, 782.008...</td>\n      <td>[150.7809226910273, 151.3586023172053, 151.936...</td>\n      <td>[671.3068369229635, 671.4367252190908, 671.419...</td>\n      <td>[249.69610353310904, 249.648293197155, 249.600...</td>\n      <td>[689.2612283627192, 689.3716955383619, 689.482...</td>\n      <td>[279.55273779233295, 279.5597091118495, 279.56...</td>\n      <td>[716.2408906360565, 716.3459682787288, 716.313...</td>\n      <td>[790.557690280572, 793.5067009319224, 796.6316...</td>\n      <td>[743.7948468033866, 743.8998357091751, 744.004...</td>\n      <td>[91.30274461131012, 89.34207770989212, 87.9098...</td>\n      <td>[34.83932808280083, 34.876295135449425, 34.988...</td>\n      <td>[171.73368616488108, 171.6765076885806, 171.47...</td>\n      <td>[723.1491109784207, 723.1614998435169, 723.173...</td>\n    </tr>\n    <tr>\n      <th>7</th>\n      <td>239857</td>\n      <td>240276</td>\n      <td>Fly05182022_5d</td>\n      <td>[794.0693646768729, 794.1094507177671, 794.353...</td>\n      <td>[156.76418046156564, 156.6704297264417, 156.57...</td>\n      <td>[665.6782191644112, 665.4777902762095, 665.361...</td>\n      <td>[252.4083529661099, 252.5441803187132, 252.680...</td>\n      <td>[684.5835049549738, 684.7260815103849, 684.853...</td>\n      <td>[285.2859474023183, 285.1660426855087, 285.133...</td>\n      <td>[711.9251843536414, 711.785959656242, 711.7258...</td>\n      <td>[809.3955548396092, 809.4167302878917, 809.637...</td>\n      <td>[741.6486007818494, 741.7341023584393, 741.839...</td>\n      <td>[80.87340018588213, 80.82176150310579, 80.7530...</td>\n      <td>[37.92553291299478, 37.877204486521784, 37.857...</td>\n      <td>[180.8238502322246, 180.4373524747588, 180.035...</td>\n      <td>[702.4987081885932, 702.0522609730224, 701.625...</td>\n    </tr>\n    <tr>\n      <th>8</th>\n      <td>240561</td>\n      <td>240987</td>\n      <td>Fly05182022_5d</td>\n      <td>[803.4494095395008, 803.504308650891, 803.6652...</td>\n      <td>[167.89062529802322, 167.97879003485045, 168.0...</td>\n      <td>[656.6225496431192, 656.7063519308964, 656.942...</td>\n      <td>[259.36573167641956, 259.16207685073215, 258.8...</td>\n      <td>[671.929959932963, 671.9721517562866, 672.0678...</td>\n      <td>[293.8973509147763, 293.64235663910705, 293.31...</td>\n      <td>[705.9913281817809, 705.9944863410557, 706.087...</td>\n      <td>[820.8033965282635, 820.8751719488894, 821.045...</td>\n      <td>[733.3931578152584, 733.3296709860732, 733.285...</td>\n      <td>[87.87655069149038, 87.65897208523322, 87.3342...</td>\n      <td>[37.772338251748025, 37.70854463637517, 37.666...</td>\n      <td>[188.14489910010477, 188.04981271375445, 187.8...</td>\n      <td>[706.6168531057662, 706.658657180681, 706.7099...</td>\n    </tr>\n    <tr>\n      <th>9</th>\n      <td>242662</td>\n      <td>243375</td>\n      <td>Fly05182022_5d</td>\n      <td>[794.571901957194, 794.7476263046265, 794.7316...</td>\n      <td>[171.93233853578568, 171.88155408700308, 171.9...</td>\n      <td>[654.8781910439333, 654.9950656120976, 655.085...</td>\n      <td>[263.42030596733093, 263.3985363642375, 263.39...</td>\n      <td>[668.1787179311117, 668.2209820747375, 668.207...</td>\n      <td>[297.816536039114, 297.96799887220067, 298.186...</td>\n      <td>[705.8722991454592, 705.9726091960074, 706.056...</td>\n      <td>[812.960784056806, 813.1217978582307, 813.1150...</td>\n      <td>[731.5445907355211, 731.6448655166183, 731.721...</td>\n      <td>[84.8295133878834, 84.86673738097633, 84.84990...</td>\n      <td>[36.878240991505955, 37.01314096866412, 37.180...</td>\n      <td>[187.417860281631, 187.49183413721107, 187.651...</td>\n      <td>[704.5707927053072, 704.6318569660649, 704.658...</td>\n    </tr>\n    <tr>\n      <th>10</th>\n      <td>247726</td>\n      <td>248497</td>\n      <td>Fly05182022_5d</td>\n      <td>[277.34384231766063, 277.5435997049014, 277.71...</td>\n      <td>[175.87658816576004, 175.63861854871115, 175.5...</td>\n      <td>[424.9882451693217, 425.09938820203143, 425.21...</td>\n      <td>[243.24663479439914, 243.1104249842465, 242.97...</td>\n      <td>[429.3101900915305, 429.46806317567825, 429.61...</td>\n      <td>[270.28729073206586, 270.05476236343384, 269.9...</td>\n      <td>[489.67737733215665, 489.7062063990637, 489.73...</td>\n      <td>[328.40855825686356, 328.44995671008115, 328.5...</td>\n      <td>[507.30903682834816, 507.318826738215, 507.399...</td>\n      <td>[79.51854195347123, 79.94554563849883, 80.2148...</td>\n      <td>[27.38386900074342, 27.29620189383205, 27.3509...</td>\n      <td>[162.24611611015322, 161.93286940219016, 161.9...</td>\n      <td>[392.18051329056334, 392.20825498721547, 392.3...</td>\n    </tr>\n    <tr>\n      <th>11</th>\n      <td>319408</td>\n      <td>320219</td>\n      <td>Fly05182022_5d</td>\n      <td>[632.4637533028921, 632.6559468110403, 633.329...</td>\n      <td>[199.06202824910483, 199.06869792938232, 198.9...</td>\n      <td>[791.7854805787405, 791.5248389840126, 791.517...</td>\n      <td>[242.6285574833552, 242.6283479332924, 242.501...</td>\n      <td>[785.610911766688, 785.3116054137548, 785.3477...</td>\n      <td>[275.61123550186556, 275.5341631695628, 275.59...</td>\n      <td>[828.1261160969148, 827.8768543385579, 827.832...</td>\n      <td>[663.0505940971842, 663.2359259951721, 663.836...</td>\n      <td>[832.5539368844229, 832.2459928837628, 832.299...</td>\n      <td>[71.52372083911801, 71.50390015215245, 71.4938...</td>\n      <td>[33.55566046567253, 33.48726545662015, 33.6611...</td>\n      <td>[169.0267340009979, 168.91969973975924, 168.91...</td>\n      <td>[767.6450352682032, 767.542065321555, 767.6233...</td>\n    </tr>\n    <tr>\n      <th>12</th>\n      <td>331975</td>\n      <td>333226</td>\n      <td>Fly05182022_5d</td>\n      <td>[623.8969354629517, 623.8536516427994, 623.722...</td>\n      <td>[195.53179674595594, 195.51225631808242, 195.5...</td>\n      <td>[785.0987470895052, 785.0471597860256, 785.009...</td>\n      <td>[230.69644331932068, 230.6148909330368, 230.57...</td>\n      <td>[785.3819104333719, 785.3345517280201, 785.287...</td>\n      <td>[264.87140105168027, 264.61696767807007, 264.6...</td>\n      <td>[818.2914466384793, 818.2189627527354, 818.170...</td>\n      <td>[653.8196002100001, 653.7724535636561, 653.659...</td>\n      <td>[828.8435342880182, 828.7173810901922, 828.671...</td>\n      <td>[73.37655121639098, 73.36554922223169, 73.6592...</td>\n      <td>[34.17613081505679, 34.003291268691264, 34.043...</td>\n      <td>[161.33438198123415, 161.14924440446626, 161.1...</td>\n      <td>[754.4346786393213, 754.2613166584123, 754.305...</td>\n    </tr>\n    <tr>\n      <th>13</th>\n      <td>350453</td>\n      <td>350932</td>\n      <td>Fly05182022_5d</td>\n      <td>[633.6370299259821, 633.6872559785843, 633.374...</td>\n      <td>[190.84422194957733, 190.70116877555847, 190.5...</td>\n      <td>[802.7654727846384, 802.7235368192196, 802.631...</td>\n      <td>[225.3466184536616, 225.27216778198877, 225.38...</td>\n      <td>[794.6224561134974, 794.5239035685858, 794.437...</td>\n      <td>[257.45850270986557, 257.26318102081615, 257.3...</td>\n      <td>[833.7946406301999, 833.7341459606614, 833.675...</td>\n      <td>[661.753279360941, 661.7601334033593, 661.4264...</td>\n      <td>[835.2902060825644, 835.1362629240887, 835.091...</td>\n      <td>[77.63571151322331, 77.68255681163167, 77.8842...</td>\n      <td>[33.128263325902275, 33.02512548790282, 33.037...</td>\n      <td>[157.0551402464048, 156.99069665323717, 157.08...</td>\n      <td>[763.0680561234145, 762.9871230455824, 762.944...</td>\n    </tr>\n    <tr>\n      <th>14</th>\n      <td>386015</td>\n      <td>387782</td>\n      <td>Fly05182022_5d</td>\n      <td>[632.4714070012172, 632.1141226440668, 631.793...</td>\n      <td>[184.20729307333627, 183.90937316417694, 183.7...</td>\n      <td>[802.6162367661794, 802.2742930452029, 802.133...</td>\n      <td>[222.0084795554479, 221.94424402713776, 221.92...</td>\n      <td>[795.2844945987066, 794.9844816823801, 794.923...</td>\n      <td>[254.1436693072319, 254.028994957606, 253.9558...</td>\n      <td>[832.7548189684798, 832.4081263046137, 832.266...</td>\n      <td>[658.7506413625002, 658.3243285674006, 657.959...</td>\n      <td>[834.9050437014163, 834.5843614608256, 834.503...</td>\n      <td>[78.4619325927953, 78.73715594316087, 79.07506...</td>\n      <td>[32.96095968859922, 32.902470909883384, 32.835...</td>\n      <td>[173.63698068010368, 173.50438353226582, 173.4...</td>\n      <td>[758.8242518326833, 758.8030853676431, 758.773...</td>\n    </tr>\n    <tr>\n      <th>15</th>\n      <td>447068</td>\n      <td>448221</td>\n      <td>Fly05182022_5d</td>\n      <td>[632.1491978764534, 631.961159735918, 632.0730...</td>\n      <td>[193.33504605293274, 193.31787798802057, 193.2...</td>\n      <td>[797.4763005673885, 797.5054052372774, 797.653...</td>\n      <td>[229.489899456501, 229.50340822339058, 229.487...</td>\n      <td>[793.0879441301028, 792.9508422017097, 792.990...</td>\n      <td>[263.47585519154865, 263.68375839789707, 263.7...</td>\n      <td>[829.839782077964, 829.8714875020266, 830.0095...</td>\n      <td>[661.0529845694164, 660.8681482448354, 660.953...</td>\n      <td>[835.7080910182879, 835.6435619277165, 835.699...</td>\n      <td>[74.79621874399942, 74.82371275832126, 75.0100...</td>\n      <td>[34.268102653127514, 34.482464855297756, 34.57...</td>\n      <td>[175.3247529466627, 174.86410934099538, 174.34...</td>\n      <td>[742.3939284167587, 742.3378211120036, 742.338...</td>\n    </tr>\n    <tr>\n      <th>16</th>\n      <td>517209</td>\n      <td>517721</td>\n      <td>Fly05182022_5d</td>\n      <td>[633.1778450012207, 633.1735335985819, 633.169...</td>\n      <td>[208.4911611278852, 208.63673162460327, 208.55...</td>\n      <td>[808.2598917285601, 808.5147679845492, 808.588...</td>\n      <td>[244.82004015147686, 244.91950024167696, 244.9...</td>\n      <td>[799.5534758840998, 799.7985577583313, 799.714...</td>\n      <td>[275.523891672492, 275.49473917484283, 275.482...</td>\n      <td>[844.5240698978535, 844.7968345393715, 844.871...</td>\n      <td>[666.6203924789908, 666.6618403903971, 666.633...</td>\n      <td>[845.6944931124365, 845.9167123927282, 845.832...</td>\n      <td>[81.87034397663042, 81.83219303443413, 81.9036...</td>\n      <td>[31.914388214114553, 31.793357113205385, 31.81...</td>\n      <td>[169.719226417382, 169.698524143197, 169.67298...</td>\n      <td>[758.6603572522193, 758.8540709556237, 758.840...</td>\n    </tr>\n    <tr>\n      <th>17</th>\n      <td>598929</td>\n      <td>599329</td>\n      <td>Fly05182022_5d</td>\n      <td>[652.6434857000908, 652.556431889534, 652.1994...</td>\n      <td>[174.0350201924642, 173.85298784573874, 174.11...</td>\n      <td>[778.4344340587655, 778.4559727733334, 778.190...</td>\n      <td>[198.4152613480886, 198.27476263046265, 198.37...</td>\n      <td>[793.801680525144, 793.7369753022989, 793.5555...</td>\n      <td>[235.11593122780323, 235.12655080854893, 235.3...</td>\n      <td>[803.3235861495795, 803.3097677998464, 803.076...</td>\n      <td>[675.4492635869522, 675.318264363767, 675.0399...</td>\n      <td>[827.8892493091452, 827.830224657911, 827.7215...</td>\n      <td>[74.39159150246003, 74.55543028009411, 74.3916...</td>\n      <td>[39.78808155186945, 39.894402241577566, 40.049...</td>\n      <td>[152.5347959095433, 152.40643328905742, 152.50...</td>\n      <td>[730.1060742675767, 729.8356148257039, 729.421...</td>\n    </tr>\n    <tr>\n      <th>18</th>\n      <td>599643</td>\n      <td>600050</td>\n      <td>Fly05182022_5d</td>\n      <td>[638.3746841081107, 638.2871019300073, 638.199...</td>\n      <td>[178.08403872450194, 177.8978779812654, 177.44...</td>\n      <td>[773.4471476078033, 773.4058021306992, 773.596...</td>\n      <td>[197.00070015589395, 197.18103909492493, 197.4...</td>\n      <td>[794.411412914594, 794.3659940461317, 794.3393...</td>\n      <td>[235.6802014708519, 235.648222108682, 235.8074...</td>\n      <td>[798.1414448608465, 798.1459120661989, 798.386...</td>\n      <td>[662.7489435363591, 662.6145783790489, 662.408...</td>\n      <td>[828.6342077987747, 828.5815693580697, 828.601...</td>\n      <td>[73.42287927119204, 73.75884438938694, 74.7206...</td>\n      <td>[43.99550251818181, 43.80700645040296, 43.6435...</td>\n      <td>[153.43437450564804, 153.48117874951103, 153.6...</td>\n      <td>[724.5966216887413, 724.3300054716645, 724.041...</td>\n    </tr>\n    <tr>\n      <th>19</th>\n      <td>672814</td>\n      <td>674404</td>\n      <td>Fly05182022_5d</td>\n      <td>[628.2447902957598, 628.2989924748739, 628.353...</td>\n      <td>[155.56894326210022, 155.7837305267652, 155.99...</td>\n      <td>[786.1865109006563, 786.1407417754332, 785.749...</td>\n      <td>[196.86641892790794, 197.17053028941154, 197.5...</td>\n      <td>[786.6807822187742, 786.5193472703298, 786.141...</td>\n      <td>[229.7547708749771, 230.07828279336294, 230.36...</td>\n      <td>[810.4601266093517, 810.4896568703614, 810.192...</td>\n      <td>[647.2196015584276, 647.3238715216498, 647.428...</td>\n      <td>[819.5449394951785, 819.4807501361386, 819.197...</td>\n      <td>[84.78955444648727, 84.81191901032253, 84.7440...</td>\n      <td>[32.892065881154416, 32.909930370362154, 32.85...</td>\n      <td>[152.1735345037937, 152.14512450753134, 152.15...</td>\n      <td>[754.3103014121389, 754.3859318600686, 754.337...</td>\n    </tr>\n    <tr>\n      <th>20</th>\n      <td>699216</td>\n      <td>700306</td>\n      <td>Fly05182022_5d</td>\n      <td>[612.9632729192575, 612.6525548398495, 612.341...</td>\n      <td>[169.14798925320306, 169.2336807847023, 169.31...</td>\n      <td>[784.031018336614, 783.8103747367859, 783.5897...</td>\n      <td>[203.22068762779236, 203.4147359530131, 203.47...</td>\n      <td>[784.6368352174759, 784.5393249591192, 784.312...</td>\n      <td>[236.93934520085654, 236.98745075861612, 236.9...</td>\n      <td>[809.9402975490606, 809.7754369872273, 809.576...</td>\n      <td>[635.8734278268671, 635.5967209353217, 635.320...</td>\n      <td>[819.6311466045609, 819.5517093047748, 819.332...</td>\n      <td>[89.64614369650434, 89.79025548687099, 89.9232...</td>\n      <td>[33.72409943382767, 33.58062756776586, 33.5169...</td>\n      <td>[144.30826840564933, 144.16636301031437, 144.0...</td>\n      <td>[769.9145965501493, 769.926553285428, 769.8586...</td>\n    </tr>\n    <tr>\n      <th>21</th>\n      <td>712546</td>\n      <td>713018</td>\n      <td>Fly05182022_5d</td>\n      <td>[626.458322490255, 626.5941529472669, 626.8175...</td>\n      <td>[205.33512302239737, 205.60454054673514, 205.7...</td>\n      <td>[804.1685733795166, 804.208340148131, 804.2463...</td>\n      <td>[236.77683715025583, 237.10014069080353, 237.0...</td>\n      <td>[795.3636760363976, 795.3475085745255, 795.351...</td>\n      <td>[269.30977380275726, 269.6142761707306, 269.84...</td>\n      <td>[838.3020726576582, 838.4315899818009, 838.467...</td>\n      <td>[659.2515017532592, 659.4645248996621, 659.707...</td>\n      <td>[839.7208651830821, 839.8032610741469, 839.879...</td>\n      <td>[81.45019745242644, 81.3992682373581, 81.36022...</td>\n      <td>[33.70338535605193, 33.69990121918545, 33.9306...</td>\n      <td>[178.9138109623526, 178.89189516227955, 178.77...</td>\n      <td>[759.9655920223892, 760.0181201055858, 760.184...</td>\n    </tr>\n    <tr>\n      <th>22</th>\n      <td>728627</td>\n      <td>732591</td>\n      <td>Fly05182022_5d</td>\n      <td>[631.5622665286064, 631.6042859653631, 631.419...</td>\n      <td>[205.54612175623575, 205.90421668688455, 206.0...</td>\n      <td>[805.534535219272, 805.5184231698513, 805.5178...</td>\n      <td>[232.08210833867392, 232.36059180895487, 232.5...</td>\n      <td>[797.9127123573174, 797.7824939110627, 797.797...</td>\n      <td>[269.6715641816457, 269.8069674173991, 269.846...</td>\n      <td>[838.3006575458786, 838.3623170752913, 838.403...</td>\n      <td>[664.168732079266, 664.319592138645, 664.19735...</td>\n      <td>[842.251416780991, 842.1714239143527, 842.1980...</td>\n      <td>[81.52025495889524, 81.2756689317863, 81.35223...</td>\n      <td>[38.354391851647684, 38.23709779397058, 38.124...</td>\n      <td>[162.66739523633512, 162.52713756687544, 162.5...</td>\n      <td>[778.8519096927084, 778.8679675907651, 778.822...</td>\n    </tr>\n    <tr>\n      <th>23</th>\n      <td>789913</td>\n      <td>790645</td>\n      <td>Fly05182022_5d</td>\n      <td>[611.385766034325, 611.6261665821075, 611.6615...</td>\n      <td>[181.83716785907745, 182.33783650398254, 182.8...</td>\n      <td>[763.6702656870087, 763.9671032155553, 764.317...</td>\n      <td>[212.78667805592218, 212.84157401323318, 213.0...</td>\n      <td>[777.0475923617681, 777.1539882421494, 777.244...</td>\n      <td>[243.63332851727804, 243.7110728820165, 243.78...</td>\n      <td>[792.7612787293166, 793.0619587547984, 793.456...</td>\n      <td>[637.853674853715, 638.2269614086175, 638.3970...</td>\n      <td>[814.3464616240611, 814.471244726284, 814.5813...</td>\n      <td>[79.20548623901476, 78.88711364063789, 78.6938...</td>\n      <td>[33.62244360019502, 33.56813812403698, 33.3408...</td>\n      <td>[155.20747676371906, 155.1775703144017, 155.18...</td>\n      <td>[717.5184119405662, 717.7023201044585, 717.963...</td>\n    </tr>\n    <tr>\n      <th>24</th>\n      <td>791023</td>\n      <td>792883</td>\n      <td>Fly05182022_5d</td>\n      <td>[613.625085880359, 613.4451269805431, 613.2044...</td>\n      <td>[182.96357146898904, 183.23749136924744, 183.5...</td>\n      <td>[764.9947490145763, 764.661602601409, 764.1835...</td>\n      <td>[214.62277162075043, 214.81572624047598, 215.1...</td>\n      <td>[775.9623447259268, 775.937823176384, 775.7478...</td>\n      <td>[246.05509297053018, 246.34941832224527, 246.6...</td>\n      <td>[794.5312455265981, 794.2626534926455, 793.890...</td>\n      <td>[640.3213369132454, 640.2272268964119, 640.090...</td>\n      <td>[814.0397221323382, 814.1053625566004, 814.021...</td>\n      <td>[77.27550243725928, 77.30296580922158, 77.3092...</td>\n      <td>[33.29082427822196, 33.489205526009854, 33.582...</td>\n      <td>[153.87931052943446, 154.05179286001055, 154.2...</td>\n      <td>[720.523226720019, 720.4363502624761, 720.3136...</td>\n    </tr>\n    <tr>\n      <th>25</th>\n      <td>809634</td>\n      <td>810066</td>\n      <td>Fly05182022_5d</td>\n      <td>[615.1691812972227, 614.9017111957073, 614.587...</td>\n      <td>[175.69617593288422, 175.58754042784372, 175.4...</td>\n      <td>[764.5568095048269, 764.5014495849609, 764.061...</td>\n      <td>[215.1367613474528, 215.2460251649221, 215.355...</td>\n      <td>[771.5048348226895, 771.5164129454643, 771.166...</td>\n      <td>[252.76095402240753, 252.726941883564, 252.690...</td>\n      <td>[794.2486644894475, 794.2249793143029, 793.831...</td>\n      <td>[639.7673544776526, 639.4803349477673, 639.148...</td>\n      <td>[811.8545498013194, 811.8549640163903, 811.510...</td>\n      <td>[74.94019626172246, 75.01302954115279, 75.0634...</td>\n      <td>[38.26035716325422, 38.13172995051463, 38.0052...</td>\n      <td>[163.54572607844304, 163.6272671993878, 163.61...</td>\n      <td>[735.7565238826483, 735.7304621909311, 735.524...</td>\n    </tr>\n    <tr>\n      <th>26</th>\n      <td>837510</td>\n      <td>838258</td>\n      <td>Fly05182022_5d</td>\n      <td>[614.5088415145874, 614.4643047650655, 614.238...</td>\n      <td>[186.75273470083872, 186.99537259340286, 186.9...</td>\n      <td>[771.7335662841797, 771.5703420837721, 771.334...</td>\n      <td>[219.98312494158745, 220.38225094477335, 220.4...</td>\n      <td>[777.4930911858877, 777.2517401774725, 776.974...</td>\n      <td>[256.2114908198516, 256.5422347287337, 256.608...</td>\n      <td>[802.4744684965151, 802.4270242923989, 802.226...</td>\n      <td>[642.2598385527793, 642.2878258240311, 642.069...</td>\n      <td>[818.6206904726498, 818.4950737839062, 818.252...</td>\n      <td>[79.20164697746283, 79.11323130902409, 79.0045...</td>\n      <td>[36.683328928857684, 36.60358877972732, 36.570...</td>\n      <td>[169.4634783476093, 169.67257174396735, 169.67...</td>\n      <td>[736.1546589866065, 736.0055849146875, 735.797...</td>\n    </tr>\n    <tr>\n      <th>27</th>\n      <td>854575</td>\n      <td>856199</td>\n      <td>Fly05182022_5d</td>\n      <td>[615.9772973060608, 616.1435537338257, 616.309...</td>\n      <td>[190.38250374794006, 190.47932263215384, 190.5...</td>\n      <td>[773.2201968058944, 773.2390102172891, 773.339...</td>\n      <td>[223.64260894060135, 223.66679642597833, 223.5...</td>\n      <td>[779.1681407193342, 779.5948290179173, 780.015...</td>\n      <td>[260.4128201007843, 260.70985130469006, 260.57...</td>\n      <td>[804.9133427160372, 804.9381359739846, 805.006...</td>\n      <td>[644.727483926204, 644.9149177667949, 645.0852...</td>\n      <td>[821.5338266832765, 822.0326781818283, 822.390...</td>\n      <td>[79.86412613483373, 79.89496628711456, 79.8833...</td>\n      <td>[37.24817398963162, 37.584363069947955, 37.611...</td>\n      <td>[171.4637162294283, 171.82121079868776, 171.88...</td>\n      <td>[737.032975275332, 737.1399437775017, 737.2370...</td>\n    </tr>\n    <tr>\n      <th>28</th>\n      <td>895796</td>\n      <td>896942</td>\n      <td>Fly05182022_5d</td>\n      <td>[631.9464137206475, 631.7031472971042, 631.292...</td>\n      <td>[192.910717792809, 193.1535320157806, 193.6682...</td>\n      <td>[777.9420357545217, 777.8841240406036, 777.868...</td>\n      <td>[223.1099929412206, 223.45437109470367, 223.82...</td>\n      <td>[786.5719879865646, 786.5792047679424, 786.573...</td>\n      <td>[260.21784083048504, 260.2884424527486, 260.29...</td>\n      <td>[809.3033299969309, 809.3426755063314, 809.429...</td>\n      <td>[660.7350564740185, 660.5733518960919, 660.331...</td>\n      <td>[828.4979281637438, 828.5269571038992, 828.522...</td>\n      <td>[74.47124098208673, 74.58010616609471, 74.4563...</td>\n      <td>[38.09814234972788, 37.84644291957282, 37.4930...</td>\n      <td>[159.57332385249353, 161.01975390813382, 162.4...</td>\n      <td>[753.2753990739592, 751.4420411172181, 749.539...</td>\n    </tr>\n    <tr>\n      <th>29</th>\n      <td>923161</td>\n      <td>923608</td>\n      <td>Fly05182022_5d</td>\n      <td>[622.7009754727284, 622.708009754618, 622.7150...</td>\n      <td>[224.19721993803978, 224.4604733089606, 224.72...</td>\n      <td>[782.5045413635671, 782.3094651661813, 782.114...</td>\n      <td>[229.75553413232169, 229.88779799143472, 229.8...</td>\n      <td>[793.6533025503159, 793.4318836132685, 793.206...</td>\n      <td>[269.7157757282257, 269.7677713235219, 269.819...</td>\n      <td>[815.5372233804138, 815.387330631245, 815.1949...</td>\n      <td>[661.8314727199314, 661.9273143560704, 662.023...</td>\n      <td>[838.2315696307923, 838.0386652052274, 837.841...</td>\n      <td>[79.1583966945352, 78.78550545488355, 78.41400...</td>\n      <td>[41.48633250122471, 41.4019379387015, 41.46171...</td>\n      <td>[171.7662136242719, 171.71027867917869, 171.67...</td>\n      <td>[747.7187758811962, 747.6552423597242, 747.504...</td>\n    </tr>\n    <tr>\n      <th>30</th>\n      <td>959506</td>\n      <td>960266</td>\n      <td>Fly05182022_5d</td>\n      <td>[644.2749670843283, 645.3773735066255, 646.549...</td>\n      <td>[179.83023717006049, 180.44879519939423, 180.9...</td>\n      <td>[804.3057213226954, 804.2790681918462, 804.324...</td>\n      <td>[257.2240908543269, 257.055628101031, 256.8871...</td>\n      <td>[786.9411469300588, 786.8131757974625, 786.743...</td>\n      <td>[291.2649683107932, 291.16558058559895, 290.89...</td>\n      <td>[844.435862732189, 844.3591744453068, 844.3512...</td>\n      <td>[668.9014482060512, 670.1296306859019, 671.385...</td>\n      <td>[839.1136100056319, 838.9590984823024, 838.800...</td>\n      <td>[86.93496629564336, 86.11927665881254, 85.3862...</td>\n      <td>[38.21399981477424, 38.321616036274825, 38.283...</td>\n      <td>[167.66386857405533, 167.64746168428434, 167.5...</td>\n      <td>[810.145191589083, 810.1866647003086, 810.2839...</td>\n    </tr>\n  </tbody>\n</table>\n</div>"
     },
     "execution_count": 77,
     "metadata": {},
     "output_type": "execute_result"
    }
   ],
   "source": [
    "bouts_dict[expt_name]"
   ],
   "metadata": {
    "collapsed": false,
    "ExecuteTime": {
     "start_time": "2023-04-12T18:08:27.108916Z",
     "end_time": "2023-04-12T18:08:27.369936Z"
    }
   }
  },
  {
   "cell_type": "code",
   "execution_count": null,
   "outputs": [],
   "source": [],
   "metadata": {
    "collapsed": false
   }
  },
  {
   "cell_type": "code",
   "execution_count": null,
   "metadata": {
    "ExecuteTime": {
     "start_time": "2023-04-11T09:21:51.209402Z",
     "end_time": "2023-04-11T09:23:09.108511Z"
    },
    "collapsed": false,
    "jupyter": {
     "outputs_hidden": false
    }
   },
   "outputs": [],
   "source": [
    "newDf = pd.merge(df_data, expt_info_df, left_on=\"ExptNames\", right_on=\"ExptNames\")"
   ]
  },
  {
   "cell_type": "code",
   "execution_count": null,
   "metadata": {
    "collapsed": false,
    "jupyter": {
     "outputs_hidden": false
    },
    "ExecuteTime": {
     "start_time": "2023-04-11T09:23:09.108511Z",
     "end_time": "2023-04-11T09:23:09.411596Z"
    }
   },
   "outputs": [],
   "source": [
    "# Create a folder named binary mask and a subfolder for each predicted behavior.\n",
    "# Within that folder save binary mask generated using the likelihood score"
   ]
  },
  {
   "cell_type": "code",
   "execution_count": null,
   "metadata": {
    "ExecuteTime": {
     "start_time": "2023-04-11T09:23:09.411596Z",
     "end_time": "2023-04-11T09:23:09.430020Z"
    },
    "collapsed": false,
    "jupyter": {
     "outputs_hidden": false
    }
   },
   "outputs": [],
   "source": [
    "wt_all = newDf[newDf[\"SD\"] == False]\n",
    "male_wt = wt_all[wt_all[\"Sex\"] == \"M\"]\n",
    "female_wt = wt_all[wt_all[\"Sex\"] == \"F\"]"
   ]
  },
  {
   "cell_type": "code",
   "execution_count": null,
   "metadata": {
    "ExecuteTime": {
     "start_time": "2023-04-11T15:27:10.383044Z",
     "end_time": "2023-04-11T15:27:10.398672Z"
    },
    "collapsed": false,
    "jupyter": {
     "outputs_hidden": false
    }
   },
   "outputs": [],
   "source": [
    "newDf"
   ]
  },
  {
   "cell_type": "code",
   "execution_count": null,
   "metadata": {
    "ExecuteTime": {
     "start_time": "2023-04-11T15:37:33.723749Z",
     "end_time": "2023-04-11T15:37:33.958276Z"
    },
    "collapsed": false,
    "jupyter": {
     "outputs_hidden": false
    }
   },
   "outputs": [],
   "source": [
    "filterer = FilterData(newDf, llh)"
   ]
  },
  {
   "cell_type": "code",
   "execution_count": null,
   "metadata": {
    "ExecuteTime": {
     "start_time": "2023-04-07T13:31:30.769099Z",
     "end_time": "2023-04-07T13:31:31.105199Z"
    },
    "collapsed": false,
    "jupyter": {
     "outputs_hidden": false
    }
   },
   "outputs": [],
   "source": [
    "filterer.plot_mean_likelihood()"
   ]
  },
  {
   "cell_type": "code",
   "execution_count": null,
   "metadata": {
    "ExecuteTime": {
     "start_time": "2023-04-07T13:32:03.923372Z",
     "end_time": "2023-04-07T13:32:04.254912Z"
    },
    "collapsed": false,
    "jupyter": {
     "outputs_hidden": false
    }
   },
   "outputs": [],
   "source": [
    "binary_mask = filterer.create_binary_masks(llh, BODY_PART_SETS, 0.7)"
   ]
  },
  {
   "cell_type": "code",
   "execution_count": null,
   "metadata": {
    "ExecuteTime": {
     "end_time": "2023-04-04T21:31:22.895378Z",
     "start_time": "2023-04-04T21:30:53.991830Z"
    },
    "collapsed": false,
    "jupyter": {
     "outputs_hidden": false
    }
   },
   "outputs": [],
   "source": [
    "masked_data_df = filterer.apply_binary_masks(binary_mask, newDf)"
   ]
  },
  {
   "cell_type": "code",
   "execution_count": null,
   "metadata": {
    "ExecuteTime": {
     "end_time": "2023-04-04T08:39:18.478504Z",
     "start_time": "2023-04-04T08:39:18.468658Z"
    },
    "collapsed": false,
    "jupyter": {
     "outputs_hidden": false
    }
   },
   "outputs": [],
   "source": [
    "masked_data_df"
   ]
  },
  {
   "cell_type": "code",
   "execution_count": null,
   "metadata": {
    "ExecuteTime": {
     "end_time": "2023-04-04T08:17:51.471252Z",
     "start_time": "2023-04-04T08:17:51.437764Z"
    },
    "collapsed": false,
    "jupyter": {
     "outputs_hidden": false
    }
   },
   "outputs": [],
   "source": [
    "binary_mask"
   ]
  },
  {
   "cell_type": "code",
   "execution_count": null,
   "metadata": {
    "ExecuteTime": {
     "end_time": "2023-04-04T08:39:23.731518Z",
     "start_time": "2023-04-04T08:39:23.721518Z"
    },
    "collapsed": false,
    "jupyter": {
     "outputs_hidden": false
    }
   },
   "outputs": [],
   "source": [
    "masked_data_df"
   ]
  },
  {
   "cell_type": "code",
   "execution_count": null,
   "metadata": {
    "ExecuteTime": {
     "end_time": "2023-04-04T09:53:03.149746Z",
     "start_time": "2023-04-04T09:33:16.208548Z"
    },
    "collapsed": false,
    "jupyter": {
     "outputs_hidden": false
    }
   },
   "outputs": [],
   "source": [
    "import pandas as pd\n",
    "import seaborn as sns\n",
    "import matplotlib.pyplot as plt\n",
    "\n",
    "# Assuming your DataFrame is called 'masked_data_df'\n",
    "# and has columns 'ExptNames', 'ValueColumn' (replace with your actual column name)\n",
    "# Add row numbers if they don't exist\n",
    "masked_data_df[\"Row\"] = masked_data_df.index\n",
    "\n",
    "# Pivot the DataFrame\n",
    "pivoted_df = masked_data_df.pivot(\n",
    "    index=\"ExptNames\", columns=\"Row\", values=\"ProboscisPumping\"\n",
    ")\n",
    "\n",
    "# Create a heatmap using Seaborn, handling NaN values with a different color (e.g., gray)\n",
    "plt.figure(figsize=(16, 9))\n",
    "sns.heatmap(\n",
    "    pivoted_df,\n",
    "    cmap=\"coolwarm\",\n",
    "    linewidths=0.5,\n",
    "    cbar_kws={\"ticks\": [0, 1]},\n",
    "    mask=pivoted_df.isna(),\n",
    "    linecolor=\"gray\",\n",
    ")\n",
    "\n",
    "# Set plot attributes\n",
    "plt.xlabel(\"Rows\")\n",
    "plt.ylabel(\"ExptNames\")\n",
    "plt.title(\"Heatmap of Data\")\n",
    "\n",
    "# Save the plot as a PNG file\n",
    "FIG_PATH = r\"C:\\Users\\Grover\\Documents\\GitHub\\deepsleepfigs\"\n",
    "plt.savefig(f\"{FIG_PATH}\\\\heatmap.png\", dpi=300, bbox_inches=\"tight\")\n",
    "\n",
    "# Display the plot in the notebook (optional)\n",
    "plt.show()"
   ]
  },
  {
   "cell_type": "code",
   "execution_count": null,
   "metadata": {
    "ExecuteTime": {
     "end_time": "2023-04-04T21:17:07.622165Z",
     "start_time": "2023-04-04T21:17:07.605162Z"
    },
    "collapsed": false,
    "jupyter": {
     "outputs_hidden": false
    }
   },
   "outputs": [],
   "source": [
    "plot_folder = r\"C:\\Users\\Grover\\Documents\\GitHub\\deepsleepfigs\\score_plots\"\n",
    "if not os.path.isdir(plot_folder):\n",
    "    os.makedirs(plot_folder)"
   ]
  },
  {
   "cell_type": "code",
   "execution_count": null,
   "metadata": {
    "ExecuteTime": {
     "end_time": "2023-04-04T21:18:18.025577Z",
     "start_time": "2023-04-04T21:17:07.619165Z"
    },
    "collapsed": false,
    "jupyter": {
     "outputs_hidden": false
    }
   },
   "outputs": [],
   "source": [
    "male_wt[\"Time\"] = male_wt[\"Idx\"].apply(BehaviorData.get_time_stamp)\n",
    "male_wt.index = pd.to_datetime(list(male_wt[\"Time\"]))\n",
    "rate = \"1S\"\n",
    "male_wt_rs = BehaviorData.resample_df(male_wt, rate, BEHAVIORS)\n",
    "male_wt_rs[\"TimeStamp\"] = male_wt_rs.index"
   ]
  },
  {
   "cell_type": "code",
   "execution_count": null,
   "metadata": {
    "ExecuteTime": {
     "end_time": "2023-04-04T15:36:53.791586Z",
     "start_time": "2023-04-04T15:36:53.741585Z"
    },
    "collapsed": false,
    "jupyter": {
     "outputs_hidden": false
    }
   },
   "outputs": [],
   "source": [
    "male_wt"
   ]
  },
  {
   "cell_type": "code",
   "execution_count": null,
   "metadata": {
    "ExecuteTime": {
     "end_time": "2023-04-04T12:25:54.326013Z",
     "start_time": "2023-04-04T12:25:54.298730Z"
    },
    "collapsed": false,
    "jupyter": {
     "outputs_hidden": false
    }
   },
   "outputs": [],
   "source": [
    "llh[\"Time\"] = llh[\"Idx\"].apply(BehaviorData.get_time_stamp)"
   ]
  },
  {
   "cell_type": "code",
   "execution_count": null,
   "metadata": {
    "ExecuteTime": {
     "end_time": "2023-04-04T21:30:52.769212Z",
     "start_time": "2023-04-04T21:18:18.053583Z"
    },
    "collapsed": false,
    "jupyter": {
     "outputs_hidden": false
    }
   },
   "outputs": [],
   "source": [
    "BehaviorData.pivot_and_plot(male_wt_rs, \"mal_b_scr_\", plot_folder, rate, BEHAVIORS)"
   ]
  },
  {
   "cell_type": "code",
   "execution_count": null,
   "metadata": {
    "ExecuteTime": {
     "end_time": "2023-04-04T15:30:16.892051Z",
     "start_time": "2023-04-04T15:30:16.862051Z"
    },
    "collapsed": false,
    "jupyter": {
     "outputs_hidden": false
    }
   },
   "outputs": [],
   "source": [
    "import os"
   ]
  },
  {
   "cell_type": "code",
   "execution_count": null,
   "metadata": {
    "ExecuteTime": {
     "end_time": "2023-04-04T15:32:09.208182Z",
     "start_time": "2023-04-04T15:32:09.178182Z"
    },
    "collapsed": false,
    "jupyter": {
     "outputs_hidden": false
    }
   },
   "outputs": [],
   "source": [
    "os.listdir(plot_folder)"
   ]
  },
  {
   "cell_type": "code",
   "execution_count": null,
   "metadata": {
    "ExecuteTime": {
     "end_time": "2023-04-04T15:36:19.689442Z",
     "start_time": "2023-04-04T15:36:16.560783Z"
    },
    "collapsed": false,
    "jupyter": {
     "outputs_hidden": false
    }
   },
   "outputs": [],
   "source": [
    "df_pivoted = male_wt_rs.pivot(\n",
    "    index=\"ExptNames\", columns=\"TimeStamp\", values=\"ProboscisPumping\"\n",
    ")\n",
    "a4_dims = (25.7, 5.27)\n",
    "fig, ax = plt.subplots(figsize=a4_dims)\n",
    "plt.title(\"ProboscisPumping\")\n",
    "ax = sns.heatmap(df_pivoted, cmap=\"YlGnBu\")"
   ]
  },
  {
   "cell_type": "code",
   "execution_count": null,
   "metadata": {
    "ExecuteTime": {
     "end_time": "2023-04-04T15:36:28.774090Z",
     "start_time": "2023-04-04T15:36:28.704090Z"
    },
    "collapsed": false,
    "jupyter": {
     "outputs_hidden": false
    }
   },
   "outputs": [],
   "source": [
    "male_wt_rs"
   ]
  },
  {
   "cell_type": "code",
   "execution_count": null,
   "metadata": {
    "ExecuteTime": {
     "end_time": "2023-04-05T10:24:16.158940Z",
     "start_time": "2023-04-05T10:24:16.128940Z"
    },
    "collapsed": false,
    "jupyter": {
     "outputs_hidden": false
    }
   },
   "outputs": [],
   "source": [
    "result_df_parallel = BehaviorData.process_expt_names_parallel(male_wt, llh)\n",
    "print(result_df_parallel)"
   ]
  },
  {
   "cell_type": "markdown",
   "source": [
    "unique_expt_names = male_wt[\"ExptNames\"].unique()\n",
    "\n",
    "unmasked_data = np.vstack(\n",
    "    [result_df_parallel[f\"{expt_name}_unmasked\"] for expt_name in unique_expt_names]\n",
    ")\n",
    "masked_data = np.vstack(\n",
    "    [result_df_parallel[f\"{expt_name}_masked\"] for expt_name in unique_expt_names]\n",
    ")\n",
    "\n",
    "# Plot the heatmap\n",
    "plt.figure(figsize=(10, 3))\n",
    "sns.heatmap(data, cmap=\"YlGnBu\")\n",
    "plt.xlabel(\"Data\")\n",
    "plt.ylabel(\"Arrays\")\n",
    "plt.yticks([0.5, 1.5], [\"Array 1\", \"Array 2\"], rotation=0)\n",
    "plt.show()"
   ],
   "metadata": {
    "collapsed": false
   }
  },
  {
   "cell_type": "code",
   "execution_count": null,
   "metadata": {
    "ExecuteTime": {
     "end_time": "2023-04-05T13:13:12.747942Z",
     "start_time": "2023-04-05T13:13:11.844120Z"
    },
    "collapsed": false,
    "jupyter": {
     "outputs_hidden": false
    }
   },
   "outputs": [],
   "source": [
    "unique_expt_names = male_wt[\"ExptNames\"].unique()\n",
    "\n",
    "a4_dims = (25.7, 5.27)\n",
    "# Plot the unmasked data heatmap\n",
    "# plt.figure(figsize=(a4_dims))\n",
    "# sns.heatmap(unmasked_data, cmap='YlGnBu', yticklabels=unique_expt_names)\n",
    "# plt.xlabel('Data')\n",
    "# plt.ylabel('ExptNames')\n",
    "# plt.title('Unmasked Data')\n",
    "# plt.savefig(os.path.join(plot_folder,'unmasked_data_heatmap_full_07.png'), dpi=300)  # Save the figure as a PNG file\n",
    "# plt.show()"
   ]
  },
  {
   "cell_type": "code",
   "execution_count": null,
   "metadata": {
    "ExecuteTime": {
     "end_time": "2023-04-05T13:15:44.991104Z",
     "start_time": "2023-04-05T13:13:19.470299Z"
    },
    "collapsed": false,
    "jupyter": {
     "outputs_hidden": false
    }
   },
   "outputs": [],
   "source": [
    "# Plot the masked data heatmap\n",
    "plt.figure(figsize=(a4_dims))\n",
    "sns.heatmap(masked_data, cmap=\"YlGnBu\", yticklabels=unique_expt_names)\n",
    "plt.xlabel(\"Data\")\n",
    "plt.ylabel(\"ExptNames\")\n",
    "plt.title(\"Masked Data\")\n",
    "plt.savefig(os.path.join(plot_folder, \"masked_data_heatmap_full_09.png\"), dpi=300)\n",
    "plt.show()"
   ]
  },
  {
   "cell_type": "code",
   "execution_count": null,
   "metadata": {
    "ExecuteTime": {
     "end_time": "2023-04-05T22:05:54.402754Z",
     "start_time": "2023-04-05T22:05:54.377485Z"
    },
    "collapsed": false,
    "jupyter": {
     "outputs_hidden": false
    }
   },
   "outputs": [],
   "source": [
    "snap_paths = [\n",
    "    {expt_names: os.path.join(project.project_path, expt_names, \"snap_stft.pkl\")}\n",
    "    for expt_names in project.expt_names\n",
    "]\n",
    "snap_col_names = [\n",
    "    os.path.join(project.project_path, expt_names, \"ftname_to_snapft.yaml\")\n",
    "    for expt_names in project.expt_names\n",
    "]"
   ]
  },
  {
   "cell_type": "code",
   "execution_count": null,
   "metadata": {
    "ExecuteTime": {
     "end_time": "2023-04-06T09:39:04.845527Z",
     "start_time": "2023-04-06T09:39:04.806500Z"
    },
    "collapsed": false,
    "jupyter": {
     "outputs_hidden": false
    }
   },
   "outputs": [],
   "source": [
    "df_data"
   ]
  },
  {
   "cell_type": "code",
   "execution_count": null,
   "metadata": {
    "ExecuteTime": {
     "end_time": "2023-04-06T09:39:56.867058Z",
     "start_time": "2023-04-06T09:39:56.827057Z"
    },
    "collapsed": false,
    "jupyter": {
     "outputs_hidden": false
    }
   },
   "outputs": [],
   "source": [
    "df_data"
   ]
  },
  {
   "cell_type": "code",
   "execution_count": null,
   "metadata": {
    "collapsed": false,
    "jupyter": {
     "outputs_hidden": false
    }
   },
   "outputs": [],
   "source": []
  }
 ],
 "metadata": {
  "kernelspec": {
   "display_name": "Python 3 (ipykernel)",
   "language": "python",
   "name": "python3"
  },
  "language_info": {
   "codemirror_mode": {
    "name": "ipython",
    "version": 3
   },
   "file_extension": ".py",
   "mimetype": "text/x-python",
   "name": "python",
   "nbconvert_exporter": "python",
   "pygments_lexer": "ipython3",
   "version": "3.9.0"
  }
 },
 "nbformat": 4,
 "nbformat_minor": 4
}
