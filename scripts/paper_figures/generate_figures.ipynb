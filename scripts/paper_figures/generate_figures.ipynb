{
 "cells": [
  {
   "cell_type": "code",
   "execution_count": null,
   "metadata": {
    "collapsed": true,
    "ExecuteTime": {
     "start_time": "2023-04-04T15:16:19.110500Z",
     "end_time": "2023-04-04T15:16:19.490448Z"
    }
   },
   "outputs": [],
   "source": [
    "\n",
    "import joblib as jb\n",
    "import pandas as pd\n",
    "import numpy as np\n",
    "import re\n",
    "import os\n",
    "import matplotlib\n",
    "import matplotlib.pyplot as plt\n",
    "plt.rcParams['svg.fonttype'] = 'none'\n",
    "plt.rcParams['pdf.fonttype'] = 42\n",
    "import basty.project.experiment_processing as experiment_processing\n",
    "import seaborn as sns\n",
    "sns.set_theme(style = 'dark')\n",
    "import datetime\n",
    "from dateutil import parser\n",
    "import matplotlib.dates as mdates\n",
    "\n",
    "from pathlib import Path\n",
    "from basty.utils import misc\n",
    "from process_results import BehaviorData\n",
    "from filter_flies import FilterData\n",
    "import sys\n",
    "sys.path.append(\"/home/grover/Desktop/gitDLC/basty\")"
   ]
  },
  {
   "cell_type": "code",
   "execution_count": null,
   "outputs": [],
   "source": [
    "CONFIG_PATH = r\"Z:\\mfk\\basty-projects\\main_cfg.yaml\"\n",
    "project = experiment_processing.Project(\n",
    "   CONFIG_PATH\n",
    ")\n",
    "FPS = project.fps\n",
    "FIG_PATH = r'C:\\Users\\Grover\\Documents\\GitHub\\deepsleepfigs'"
   ],
   "metadata": {
    "collapsed": false,
    "ExecuteTime": {
     "start_time": "2023-04-04T15:16:19.493794Z",
     "end_time": "2023-04-04T15:16:20.052463Z"
    }
   }
  },
  {
   "cell_type": "code",
   "execution_count": null,
   "outputs": [],
   "source": [
    "data_path_dict = project.data_path_dict\n",
    "df = misc.parse_experiment_names(data_path_dict)\n",
    "flysexpath = r'Y:\\DeepSleepPaperData\\flysexinfo.yaml'\n",
    "df = misc.update_expt_info_df(df,flysexpath)"
   ],
   "metadata": {
    "collapsed": false,
    "ExecuteTime": {
     "start_time": "2023-04-04T15:16:20.052463Z",
     "end_time": "2023-04-04T15:16:20.221438Z"
    }
   }
  },
  {
   "cell_type": "code",
   "execution_count": null,
   "outputs": [],
   "source": [
    "df"
   ],
   "metadata": {
    "collapsed": false,
    "ExecuteTime": {
     "start_time": "2023-04-04T15:16:20.754391Z",
     "end_time": "2023-04-04T15:16:20.774391Z"
    }
   }
  },
  {
   "cell_type": "code",
   "execution_count": null,
   "outputs": [],
   "source": [
    "llh = misc.get_likelihood(data_path_dict,CONFIG_PATH,n_workers=None)"
   ],
   "metadata": {
    "collapsed": false,
    "ExecuteTime": {
     "start_time": "2023-04-04T15:16:20.942707Z",
     "end_time": "2023-04-04T15:20:35.801210Z"
    }
   }
  },
  {
   "cell_type": "code",
   "execution_count": null,
   "outputs": [],
   "source": [
    "results_folder = r\"Z:\\mfk\\basty-projects\\backup-allnohaltere\\results\\semisupervised_pair_kNN\\predictions.15NN.neighbor_weights-distance.neighbor_weights_norm-log_count.activation-standard.voting-soft.voting_weights-None\\exports\""
   ],
   "metadata": {
    "collapsed": false,
    "ExecuteTime": {
     "start_time": "2023-04-04T15:28:20.510886Z",
     "end_time": "2023-04-04T15:28:20.530886Z"
    }
   }
  },
  {
   "cell_type": "code",
   "execution_count": null,
   "outputs": [],
   "source": [
    "csv_files = [file for file in os.listdir(results_folder) if file.endswith('.csv')]"
   ],
   "metadata": {
    "collapsed": false,
    "ExecuteTime": {
     "start_time": "2023-04-04T15:20:35.811279Z",
     "end_time": "2023-04-04T15:20:35.821386Z"
    }
   }
  },
  {
   "cell_type": "code",
   "execution_count": null,
   "outputs": [],
   "source": [
    "dfs = list()\n",
    "for file in csv_files:\n",
    "    data = pd.read_csv(os.path.join(results_folder,file))\n",
    "    data['ExptNames'] = os.path.splitext(file)[0]\n",
    "    dfs.append(data)\n",
    "\n",
    "df_data = pd.concat(dfs, ignore_index = True)\n",
    "df_data = df_data.rename(columns = {'Unnamed: 0': 'Idx'})"
   ],
   "metadata": {
    "collapsed": false,
    "ExecuteTime": {
     "start_time": "2023-04-04T15:20:35.821386Z",
     "end_time": "2023-04-04T15:21:20.445057Z"
    }
   }
  },
  {
   "cell_type": "code",
   "execution_count": null,
   "outputs": [],
   "source": [
    "#Remove unnecessary columns\n",
    "df_data.drop(['HaltereSwitch','Noise'],axis=1,inplace=True)"
   ],
   "metadata": {
    "collapsed": false,
    "ExecuteTime": {
     "start_time": "2023-04-04T15:21:20.445057Z",
     "end_time": "2023-04-04T15:21:21.948903Z"
    }
   }
  },
  {
   "cell_type": "code",
   "execution_count": null,
   "outputs": [],
   "source": [
    "llh  = llh[llh['ExptNames'].isin(df_data.ExptNames.unique())]"
   ],
   "metadata": {
    "collapsed": false,
    "ExecuteTime": {
     "start_time": "2023-04-04T15:21:21.948903Z",
     "end_time": "2023-04-04T15:21:37.696635Z"
    }
   }
  },
  {
   "cell_type": "code",
   "execution_count": null,
   "outputs": [],
   "source": [
    "llh"
   ],
   "metadata": {
    "collapsed": false,
    "ExecuteTime": {
     "start_time": "2023-04-04T15:21:37.696635Z",
     "end_time": "2023-04-04T15:21:49.662687Z"
    }
   }
  },
  {
   "cell_type": "code",
   "execution_count": null,
   "outputs": [],
   "source": [
    "BODY_PART_SETS = {'ProboscisPumping':'prob'}\n",
    "\n",
    "BEHAVIORS = [\n",
    "'Idle&Other',\n",
    "'PosturalAdjustment&Moving',\n",
    "'Feeding',\n",
    "'Grooming',\n",
    "'ProboscisPumping']"
   ],
   "metadata": {
    "collapsed": false,
    "ExecuteTime": {
     "start_time": "2023-04-04T15:21:49.662687Z",
     "end_time": "2023-04-04T15:21:49.672728Z"
    }
   }
  },
  {
   "cell_type": "code",
   "execution_count": null,
   "outputs": [],
   "source": [
    "newDf = pd.merge(df_data,df,left_on = 'ExptNames',right_on = 'ExptNames')"
   ],
   "metadata": {
    "collapsed": false,
    "ExecuteTime": {
     "start_time": "2023-04-04T15:21:49.672728Z",
     "end_time": "2023-04-04T15:22:00.931706Z"
    }
   }
  },
  {
   "cell_type": "code",
   "execution_count": null,
   "outputs": [],
   "source": [
    "wt_all = newDf[newDf['SD']==False]\n",
    "male_wt = wt_all[wt_all['Sex'] == 'M']\n",
    "female_wt = wt_all[wt_all['Sex'] == 'F']"
   ],
   "metadata": {
    "collapsed": false,
    "ExecuteTime": {
     "start_time": "2023-04-04T15:22:00.931706Z",
     "end_time": "2023-04-04T15:22:13.569200Z"
    }
   }
  },
  {
   "cell_type": "code",
   "execution_count": null,
   "outputs": [],
   "source": [
    "data = BehaviorData(behaviors=BEHAVIORS)"
   ],
   "metadata": {
    "collapsed": false,
    "ExecuteTime": {
     "start_time": "2023-04-04T15:22:13.569200Z",
     "end_time": "2023-04-04T15:22:13.579166Z"
    }
   }
  },
  {
   "cell_type": "code",
   "execution_count": null,
   "outputs": [],
   "source": [
    "newDf"
   ],
   "metadata": {
    "collapsed": false,
    "ExecuteTime": {
     "start_time": "2023-04-04T10:12:19.783521Z",
     "end_time": "2023-04-04T10:12:19.813522Z"
    }
   }
  },
  {
   "cell_type": "code",
   "execution_count": null,
   "outputs": [],
   "source": [
    "newDf"
   ],
   "metadata": {
    "collapsed": false,
    "ExecuteTime": {
     "start_time": "2023-04-04T10:12:26.789985Z",
     "end_time": "2023-04-04T10:12:26.809985Z"
    }
   }
  },
  {
   "cell_type": "code",
   "execution_count": null,
   "outputs": [],
   "source": [
    "filterer = FilterData(newDf,llh)"
   ],
   "metadata": {
    "collapsed": false,
    "ExecuteTime": {
     "start_time": "2023-04-04T08:36:39.132624Z",
     "end_time": "2023-04-04T08:36:39.162565Z"
    }
   }
  },
  {
   "cell_type": "code",
   "execution_count": null,
   "outputs": [],
   "source": [
    "filterer.plot_mean_likelihood()"
   ],
   "metadata": {
    "collapsed": false,
    "ExecuteTime": {
     "start_time": "2023-04-03T22:47:17.352540Z",
     "end_time": "2023-04-03T22:49:59.567435Z"
    }
   }
  },
  {
   "cell_type": "code",
   "execution_count": null,
   "outputs": [],
   "source": [
    "binary_mask = filterer.create_binary_masks(llh, BODY_PART_SETS, 0.7)"
   ],
   "metadata": {
    "collapsed": false,
    "ExecuteTime": {
     "start_time": "2023-04-04T08:36:47.841972Z",
     "end_time": "2023-04-04T08:36:48.894361Z"
    }
   }
  },
  {
   "cell_type": "code",
   "execution_count": null,
   "outputs": [],
   "source": [
    "masked_data_df = filterer.apply_binary_masks(binary_mask,newDf)"
   ],
   "metadata": {
    "collapsed": false,
    "ExecuteTime": {
     "start_time": "2023-04-04T08:36:54.984221Z",
     "end_time": "2023-04-04T08:37:21.286281Z"
    }
   }
  },
  {
   "cell_type": "code",
   "execution_count": null,
   "outputs": [],
   "source": [
    "masked_data_df"
   ],
   "metadata": {
    "collapsed": false,
    "ExecuteTime": {
     "start_time": "2023-04-04T08:39:18.468658Z",
     "end_time": "2023-04-04T08:39:18.478504Z"
    }
   }
  },
  {
   "cell_type": "code",
   "execution_count": null,
   "outputs": [],
   "source": [
    "binary_mask"
   ],
   "metadata": {
    "collapsed": false,
    "ExecuteTime": {
     "start_time": "2023-04-04T08:17:51.437764Z",
     "end_time": "2023-04-04T08:17:51.471252Z"
    }
   }
  },
  {
   "cell_type": "code",
   "execution_count": null,
   "outputs": [],
   "source": [
    "masked_data_df"
   ],
   "metadata": {
    "collapsed": false,
    "ExecuteTime": {
     "start_time": "2023-04-04T08:39:23.721518Z",
     "end_time": "2023-04-04T08:39:23.731518Z"
    }
   }
  },
  {
   "cell_type": "code",
   "execution_count": null,
   "outputs": [],
   "source": [
    "import pandas as pd\n",
    "import seaborn as sns\n",
    "import matplotlib.pyplot as plt\n",
    "\n",
    "# Assuming your DataFrame is called 'masked_data_df'\n",
    "# and has columns 'ExptNames', 'ValueColumn' (replace with your actual column name)\n",
    "# Add row numbers if they don't exist\n",
    "masked_data_df['Row'] = masked_data_df.index\n",
    "\n",
    "# Pivot the DataFrame\n",
    "pivoted_df = masked_data_df.pivot(index='ExptNames', columns='Row', values='ProboscisPumping')\n",
    "\n",
    "# Create a heatmap using Seaborn, handling NaN values with a different color (e.g., gray)\n",
    "plt.figure(figsize=(16, 9))\n",
    "sns.heatmap(pivoted_df, cmap='coolwarm', linewidths=0.5, cbar_kws={'ticks': [0, 1]}, mask=pivoted_df.isna(), linecolor='gray')\n",
    "\n",
    "# Set plot attributes\n",
    "plt.xlabel('Rows')\n",
    "plt.ylabel('ExptNames')\n",
    "plt.title('Heatmap of Data')\n",
    "\n",
    "# Save the plot as a PNG file\n",
    "FIG_PATH = r'C:\\Users\\Grover\\Documents\\GitHub\\deepsleepfigs'\n",
    "plt.savefig(f\"{FIG_PATH}\\\\heatmap.png\", dpi=300, bbox_inches='tight')\n",
    "\n",
    "# Display the plot in the notebook (optional)\n",
    "plt.show()\n",
    "\n"
   ],
   "metadata": {
    "collapsed": false,
    "ExecuteTime": {
     "start_time": "2023-04-04T09:33:16.208548Z",
     "end_time": "2023-04-04T09:53:03.149746Z"
    }
   }
  },
  {
   "cell_type": "code",
   "execution_count": null,
   "outputs": [],
   "source": [
    "plot_folder = r\"C:\\Users\\Grover\\Documents\\GitHub\\deepsleepfigs\\score_plots\"\n",
    "if not os.path.isdir(plot_folder):\n",
    "    os.makedirs(plot_folder)"
   ],
   "metadata": {
    "collapsed": false,
    "ExecuteTime": {
     "start_time": "2023-04-04T15:33:04.019912Z",
     "end_time": "2023-04-04T15:33:04.049912Z"
    }
   }
  },
  {
   "cell_type": "code",
   "execution_count": null,
   "outputs": [],
   "source": [
    "male_wt['Time'] = male_wt['Idx'].apply(BehaviorData.get_time_stamp)\n",
    "male_wt.index = pd.to_datetime(list(male_wt[\"Time\"]))\n",
    "rate = '1S'\n",
    "male_wt_rs = BehaviorData.resample_df(male_wt,rate,BEHAVIORS)\n",
    "male_wt_rs['TimeStamp'] = male_wt_rs.index"
   ],
   "metadata": {
    "collapsed": false,
    "ExecuteTime": {
     "start_time": "2023-04-04T15:22:13.589166Z",
     "end_time": "2023-04-04T15:22:57.205404Z"
    }
   }
  },
  {
   "cell_type": "code",
   "execution_count": null,
   "outputs": [],
   "source": [
    "male_wt"
   ],
   "metadata": {
    "collapsed": false,
    "ExecuteTime": {
     "start_time": "2023-04-04T15:36:53.741585Z",
     "end_time": "2023-04-04T15:36:53.791586Z"
    }
   }
  },
  {
   "cell_type": "code",
   "execution_count": null,
   "outputs": [],
   "source": [
    "llh['Time'] = llh['Idx'].apply(BehaviorData.get_time_stamp)"
   ],
   "metadata": {
    "collapsed": false,
    "ExecuteTime": {
     "start_time": "2023-04-04T12:25:54.298730Z",
     "end_time": "2023-04-04T12:25:54.326013Z"
    }
   }
  },
  {
   "cell_type": "code",
   "execution_count": null,
   "outputs": [],
   "source": [
    "BehaviorData.pivot_and_plot(male_wt_rs,'mal_b_scr_',plot_folder,rate,BEHAVIORS)"
   ],
   "metadata": {
    "collapsed": false,
    "ExecuteTime": {
     "start_time": "2023-04-04T15:33:09.339442Z",
     "end_time": "2023-04-04T15:34:05.156731Z"
    }
   }
  },
  {
   "cell_type": "code",
   "execution_count": null,
   "outputs": [],
   "source": [
    "import os"
   ],
   "metadata": {
    "collapsed": false,
    "ExecuteTime": {
     "start_time": "2023-04-04T15:30:16.862051Z",
     "end_time": "2023-04-04T15:30:16.892051Z"
    }
   }
  },
  {
   "cell_type": "code",
   "execution_count": null,
   "outputs": [],
   "source": [
    "os.listdir(plot_folder)"
   ],
   "metadata": {
    "collapsed": false,
    "ExecuteTime": {
     "start_time": "2023-04-04T15:32:09.178182Z",
     "end_time": "2023-04-04T15:32:09.208182Z"
    }
   }
  },
  {
   "cell_type": "code",
   "execution_count": null,
   "outputs": [],
   "source": [
    "df_pivoted = male_wt_rs.pivot(index='ExptNames', columns='TimeStamp', values='ProboscisPumping')\n",
    "a4_dims = (25.7, 5.27)\n",
    "fig, ax = plt.subplots(figsize=a4_dims)\n",
    "plt.title('ProboscisPumping')\n",
    "ax = sns.heatmap(df_pivoted, cmap='YlGnBu')"
   ],
   "metadata": {
    "collapsed": false,
    "ExecuteTime": {
     "start_time": "2023-04-04T15:36:16.560783Z",
     "end_time": "2023-04-04T15:36:19.689442Z"
    }
   }
  },
  {
   "cell_type": "code",
   "execution_count": null,
   "outputs": [],
   "source": [
    "male_wt_rs"
   ],
   "metadata": {
    "collapsed": false,
    "ExecuteTime": {
     "start_time": "2023-04-04T15:36:28.704090Z",
     "end_time": "2023-04-04T15:36:28.774090Z"
    }
   }
  },
  {
   "cell_type": "code",
   "execution_count": null,
   "outputs": [],
   "source": [
    "male_wt_rs"
   ],
   "metadata": {
    "collapsed": false,
    "ExecuteTime": {
     "start_time": "2023-04-04T15:36:32.999264Z",
     "end_time": "2023-04-04T15:36:33.049265Z"
    }
   }
  },
  {
   "cell_type": "code",
   "execution_count": null,
   "outputs": [],
   "source": [],
   "metadata": {
    "collapsed": false
   }
  }
 ],
 "metadata": {
  "kernelspec": {
   "name": "python3",
   "language": "python",
   "display_name": "Python 3 (ipykernel)"
  },
  "language_info": {
   "codemirror_mode": {
    "name": "ipython",
    "version": 2
   },
   "file_extension": ".py",
   "mimetype": "text/x-python",
   "name": "python",
   "nbconvert_exporter": "python",
   "pygments_lexer": "ipython2",
   "version": "2.7.6"
  }
 },
 "nbformat": 4,
 "nbformat_minor": 0
}
