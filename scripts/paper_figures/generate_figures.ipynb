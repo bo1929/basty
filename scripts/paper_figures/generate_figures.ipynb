{
 "cells": [
  {
   "cell_type": "code",
   "execution_count": 1,
   "metadata": {
    "collapsed": true,
    "ExecuteTime": {
     "start_time": "2023-04-06T10:00:09.785376Z",
     "end_time": "2023-04-06T10:00:10.155948Z"
    }
   },
   "outputs": [],
   "source": [
    "import pandas as pd\n",
    "import numpy as np\n",
    "import os\n",
    "import matplotlib.pyplot as plt\n",
    "plt.rcParams['svg.fonttype'] = 'none'\n",
    "plt.rcParams['pdf.fonttype'] = 42\n",
    "import basty.project.experiment_processing as experiment_processing\n",
    "import seaborn as sns\n",
    "sns.set_theme(style = 'dark')\n",
    "from basty.utils import misc\n",
    "from process_results import BehaviorData\n",
    "from filter_flies import FilterData\n",
    "from input import Input\n",
    "\n",
    "import sys\n",
    "sys.path.append(\"/home/grover/Desktop/gitDLC/basty\")"
   ]
  },
  {
   "cell_type": "code",
   "execution_count": 2,
   "outputs": [],
   "source": [
    "CONFIG_PATH = r\"Z:\\mfk\\basty-projects\\main_cfg.yaml\"\n",
    "project = experiment_processing.Project(\n",
    "   CONFIG_PATH\n",
    ")\n",
    "FPS = project.fps\n",
    "FIG_PATH = r'C:\\Users\\Grover\\Documents\\GitHub\\deepsleepfigs'\n",
    "\n",
    "RESULTS_FOLDER = r\"Z:\\mfk\\basty-projects\\backup-allnohaltere\\results\\semisupervised_pair_kNN\\predictions.15NN.neighbor_weights-distance.neighbor_weights_norm-log_count.activation-standard.voting-soft.voting_weights-None\\exports\"\n",
    "\n",
    "BODY_PART_SETS = {'ProboscisPumping':'prob'}\n",
    "\n",
    "BEHAVIORS = [\n",
    "'Idle&Other',\n",
    "'PosturalAdjustment&Moving',\n",
    "'Feeding',\n",
    "'Grooming',\n",
    "'ProboscisPumping']"
   ],
   "metadata": {
    "collapsed": false,
    "ExecuteTime": {
     "start_time": "2023-04-06T10:00:10.159602Z",
     "end_time": "2023-04-06T10:00:10.669803Z"
    }
   }
  },
  {
   "cell_type": "code",
   "execution_count": 3,
   "outputs": [],
   "source": [
    "io_process = Input(project, RESULTS_FOLDER)\n",
    "expt_info_df = io_process.load_expt_info()\n",
    "df_data = io_process.load_predictions()\n",
    "df_data.drop(['HaltereSwitch','Noise'],axis=1,inplace=True)\n",
    "io_process.create_binary_masks_subfolders(BEHAVIORS)"
   ],
   "metadata": {
    "collapsed": false,
    "ExecuteTime": {
     "start_time": "2023-04-06T10:00:10.669803Z",
     "end_time": "2023-04-06T10:00:53.282655Z"
    }
   }
  },
  {
   "cell_type": "code",
   "execution_count": 4,
   "outputs": [
    {
     "name": "stdout",
     "output_type": "stream",
     "text": [
      "Loading existing llh_df.pickle file...\n"
     ]
    }
   ],
   "source": [
    "llh = misc.get_likelihood(project.data_path_dict,CONFIG_PATH,n_workers=None)"
   ],
   "metadata": {
    "collapsed": false,
    "ExecuteTime": {
     "start_time": "2023-04-06T10:00:53.286878Z",
     "end_time": "2023-04-06T10:05:08.522028Z"
    }
   }
  },
  {
   "cell_type": "code",
   "execution_count": 5,
   "outputs": [],
   "source": [
    "process_data = BehaviorData(df_data,binary_mask_threshold=0.8)"
   ],
   "metadata": {
    "collapsed": false,
    "ExecuteTime": {
     "start_time": "2023-04-06T10:05:08.523352Z",
     "end_time": "2023-04-06T10:05:08.529885Z"
    }
   }
  },
  {
   "cell_type": "code",
   "execution_count": null,
   "outputs": [],
   "source": [
    "process_data.process_expt_names_parallel(llh,io_process.get_binary_mask_subfolder('ProboscisPumping'))"
   ],
   "metadata": {
    "collapsed": false,
    "ExecuteTime": {
     "start_time": "2023-04-04T21:16:15.353679Z",
     "end_time": "2023-04-04T21:16:16.785001Z"
    },
    "pycharm": {
     "is_executing": true
    }
   }
  },
  {
   "cell_type": "code",
   "execution_count": null,
   "outputs": [],
   "source": [
    "llh  = llh[llh['ExptNames'].isin(df_data.ExptNames.unique())]"
   ],
   "metadata": {
    "collapsed": false,
    "ExecuteTime": {
     "start_time": "2023-04-04T21:16:16.786001Z",
     "end_time": "2023-04-04T21:16:32.517080Z"
    }
   }
  },
  {
   "cell_type": "code",
   "execution_count": null,
   "outputs": [],
   "source": [
    "newDf = pd.merge(df_data,expt_info_df,left_on = 'ExptNames',right_on = 'ExptNames')"
   ],
   "metadata": {
    "collapsed": false,
    "ExecuteTime": {
     "start_time": "2023-04-04T21:16:44.221352Z",
     "end_time": "2023-04-04T21:16:55.349884Z"
    }
   }
  },
  {
   "cell_type": "code",
   "execution_count": null,
   "outputs": [],
   "source": [
    "# Create a folder named binary mask and a subfolder for each predicted behavior.\n",
    "# Within that folder save binary mask generated using the likelihood score\n"
   ],
   "metadata": {
    "collapsed": false
   }
  },
  {
   "cell_type": "code",
   "execution_count": null,
   "outputs": [],
   "source": [
    "wt_all = newDf[newDf['SD']==False]\n",
    "male_wt = wt_all[wt_all['Sex'] == 'M']\n",
    "female_wt = wt_all[wt_all['Sex'] == 'F']"
   ],
   "metadata": {
    "collapsed": false,
    "ExecuteTime": {
     "start_time": "2023-04-04T21:16:55.352885Z",
     "end_time": "2023-04-04T21:17:07.587158Z"
    }
   }
  },
  {
   "cell_type": "code",
   "execution_count": null,
   "outputs": [],
   "source": [
    "data = BehaviorData(behaviors=BEHAVIORS)"
   ],
   "metadata": {
    "collapsed": false,
    "ExecuteTime": {
     "start_time": "2023-04-04T21:17:07.589158Z",
     "end_time": "2023-04-04T21:17:07.603161Z"
    }
   }
  },
  {
   "cell_type": "code",
   "execution_count": null,
   "outputs": [],
   "source": [
    "newDf"
   ],
   "metadata": {
    "collapsed": false,
    "ExecuteTime": {
     "start_time": "2023-04-04T10:12:19.783521Z",
     "end_time": "2023-04-04T10:12:19.813522Z"
    }
   }
  },
  {
   "cell_type": "code",
   "execution_count": null,
   "outputs": [],
   "source": [
    "newDf"
   ],
   "metadata": {
    "collapsed": false,
    "ExecuteTime": {
     "start_time": "2023-04-04T10:12:26.789985Z",
     "end_time": "2023-04-04T10:12:26.809985Z"
    }
   }
  },
  {
   "cell_type": "code",
   "execution_count": null,
   "outputs": [],
   "source": [
    "filterer = FilterData(newDf,llh)"
   ],
   "metadata": {
    "collapsed": false,
    "ExecuteTime": {
     "start_time": "2023-04-04T21:30:52.771213Z",
     "end_time": "2023-04-04T21:30:52.910244Z"
    }
   }
  },
  {
   "cell_type": "code",
   "execution_count": null,
   "outputs": [],
   "source": [
    "filterer.plot_mean_likelihood()"
   ],
   "metadata": {
    "collapsed": false,
    "ExecuteTime": {
     "start_time": "2023-04-03T22:47:17.352540Z",
     "end_time": "2023-04-03T22:49:59.567435Z"
    }
   }
  },
  {
   "cell_type": "code",
   "execution_count": null,
   "outputs": [],
   "source": [
    "binary_mask = filterer.create_binary_masks(llh, BODY_PART_SETS, 0.7)"
   ],
   "metadata": {
    "collapsed": false,
    "ExecuteTime": {
     "start_time": "2023-04-04T21:30:52.786217Z",
     "end_time": "2023-04-04T21:30:53.990492Z"
    }
   }
  },
  {
   "cell_type": "code",
   "execution_count": null,
   "outputs": [],
   "source": [
    "masked_data_df = filterer.apply_binary_masks(binary_mask,newDf)"
   ],
   "metadata": {
    "collapsed": false,
    "ExecuteTime": {
     "start_time": "2023-04-04T21:30:53.991830Z",
     "end_time": "2023-04-04T21:31:22.895378Z"
    }
   }
  },
  {
   "cell_type": "code",
   "execution_count": null,
   "outputs": [],
   "source": [
    "masked_data_df"
   ],
   "metadata": {
    "collapsed": false,
    "ExecuteTime": {
     "start_time": "2023-04-04T08:39:18.468658Z",
     "end_time": "2023-04-04T08:39:18.478504Z"
    }
   }
  },
  {
   "cell_type": "code",
   "execution_count": null,
   "outputs": [],
   "source": [
    "binary_mask"
   ],
   "metadata": {
    "collapsed": false,
    "ExecuteTime": {
     "start_time": "2023-04-04T08:17:51.437764Z",
     "end_time": "2023-04-04T08:17:51.471252Z"
    }
   }
  },
  {
   "cell_type": "code",
   "execution_count": null,
   "outputs": [],
   "source": [
    "masked_data_df"
   ],
   "metadata": {
    "collapsed": false,
    "ExecuteTime": {
     "start_time": "2023-04-04T08:39:23.721518Z",
     "end_time": "2023-04-04T08:39:23.731518Z"
    }
   }
  },
  {
   "cell_type": "code",
   "execution_count": null,
   "outputs": [],
   "source": [
    "import pandas as pd\n",
    "import seaborn as sns\n",
    "import matplotlib.pyplot as plt\n",
    "\n",
    "# Assuming your DataFrame is called 'masked_data_df'\n",
    "# and has columns 'ExptNames', 'ValueColumn' (replace with your actual column name)\n",
    "# Add row numbers if they don't exist\n",
    "masked_data_df['Row'] = masked_data_df.index\n",
    "\n",
    "# Pivot the DataFrame\n",
    "pivoted_df = masked_data_df.pivot(index='ExptNames', columns='Row', values='ProboscisPumping')\n",
    "\n",
    "# Create a heatmap using Seaborn, handling NaN values with a different color (e.g., gray)\n",
    "plt.figure(figsize=(16, 9))\n",
    "sns.heatmap(pivoted_df, cmap='coolwarm', linewidths=0.5, cbar_kws={'ticks': [0, 1]}, mask=pivoted_df.isna(), linecolor='gray')\n",
    "\n",
    "# Set plot attributes\n",
    "plt.xlabel('Rows')\n",
    "plt.ylabel('ExptNames')\n",
    "plt.title('Heatmap of Data')\n",
    "\n",
    "# Save the plot as a PNG file\n",
    "FIG_PATH = r'C:\\Users\\Grover\\Documents\\GitHub\\deepsleepfigs'\n",
    "plt.savefig(f\"{FIG_PATH}\\\\heatmap.png\", dpi=300, bbox_inches='tight')\n",
    "\n",
    "# Display the plot in the notebook (optional)\n",
    "plt.show()\n",
    "\n"
   ],
   "metadata": {
    "collapsed": false,
    "ExecuteTime": {
     "start_time": "2023-04-04T09:33:16.208548Z",
     "end_time": "2023-04-04T09:53:03.149746Z"
    }
   }
  },
  {
   "cell_type": "code",
   "execution_count": null,
   "outputs": [],
   "source": [
    "plot_folder = r\"C:\\Users\\Grover\\Documents\\GitHub\\deepsleepfigs\\score_plots\"\n",
    "if not os.path.isdir(plot_folder):\n",
    "    os.makedirs(plot_folder)"
   ],
   "metadata": {
    "collapsed": false,
    "ExecuteTime": {
     "start_time": "2023-04-04T21:17:07.605162Z",
     "end_time": "2023-04-04T21:17:07.622165Z"
    }
   }
  },
  {
   "cell_type": "code",
   "execution_count": null,
   "outputs": [],
   "source": [
    "male_wt['Time'] = male_wt['Idx'].apply(BehaviorData.get_time_stamp)\n",
    "male_wt.index = pd.to_datetime(list(male_wt[\"Time\"]))\n",
    "rate = '1S'\n",
    "male_wt_rs = BehaviorData.resample_df(male_wt,rate,BEHAVIORS)\n",
    "male_wt_rs['TimeStamp'] = male_wt_rs.index"
   ],
   "metadata": {
    "collapsed": false,
    "ExecuteTime": {
     "start_time": "2023-04-04T21:17:07.619165Z",
     "end_time": "2023-04-04T21:18:18.025577Z"
    }
   }
  },
  {
   "cell_type": "code",
   "execution_count": null,
   "outputs": [],
   "source": [
    "male_wt"
   ],
   "metadata": {
    "collapsed": false,
    "ExecuteTime": {
     "start_time": "2023-04-04T15:36:53.741585Z",
     "end_time": "2023-04-04T15:36:53.791586Z"
    }
   }
  },
  {
   "cell_type": "code",
   "execution_count": null,
   "outputs": [],
   "source": [
    "llh['Time'] = llh['Idx'].apply(BehaviorData.get_time_stamp)"
   ],
   "metadata": {
    "collapsed": false,
    "ExecuteTime": {
     "start_time": "2023-04-04T12:25:54.298730Z",
     "end_time": "2023-04-04T12:25:54.326013Z"
    }
   }
  },
  {
   "cell_type": "code",
   "execution_count": null,
   "outputs": [],
   "source": [
    "BehaviorData.pivot_and_plot(male_wt_rs,'mal_b_scr_',plot_folder,rate,BEHAVIORS)"
   ],
   "metadata": {
    "collapsed": false,
    "ExecuteTime": {
     "start_time": "2023-04-04T21:18:18.053583Z",
     "end_time": "2023-04-04T21:30:52.769212Z"
    }
   }
  },
  {
   "cell_type": "code",
   "execution_count": null,
   "outputs": [],
   "source": [
    "import os"
   ],
   "metadata": {
    "collapsed": false,
    "ExecuteTime": {
     "start_time": "2023-04-04T15:30:16.862051Z",
     "end_time": "2023-04-04T15:30:16.892051Z"
    }
   }
  },
  {
   "cell_type": "code",
   "execution_count": null,
   "outputs": [],
   "source": [
    "os.listdir(plot_folder)"
   ],
   "metadata": {
    "collapsed": false,
    "ExecuteTime": {
     "start_time": "2023-04-04T15:32:09.178182Z",
     "end_time": "2023-04-04T15:32:09.208182Z"
    }
   }
  },
  {
   "cell_type": "code",
   "execution_count": null,
   "outputs": [],
   "source": [
    "df_pivoted = male_wt_rs.pivot(index='ExptNames', columns='TimeStamp', values='ProboscisPumping')\n",
    "a4_dims = (25.7, 5.27)\n",
    "fig, ax = plt.subplots(figsize=a4_dims)\n",
    "plt.title('ProboscisPumping')\n",
    "ax = sns.heatmap(df_pivoted, cmap='YlGnBu')"
   ],
   "metadata": {
    "collapsed": false,
    "ExecuteTime": {
     "start_time": "2023-04-04T15:36:16.560783Z",
     "end_time": "2023-04-04T15:36:19.689442Z"
    }
   }
  },
  {
   "cell_type": "code",
   "execution_count": null,
   "outputs": [],
   "source": [
    "male_wt_rs"
   ],
   "metadata": {
    "collapsed": false,
    "ExecuteTime": {
     "start_time": "2023-04-04T15:36:28.704090Z",
     "end_time": "2023-04-04T15:36:28.774090Z"
    }
   }
  },
  {
   "cell_type": "code",
   "execution_count": null,
   "outputs": [],
   "source": [
    "result_df_parallel = BehaviorData.process_expt_names_parallel(male_wt, llh)\n",
    "print(result_df_parallel)"
   ],
   "metadata": {
    "collapsed": false,
    "ExecuteTime": {
     "start_time": "2023-04-05T10:24:16.128940Z",
     "end_time": "2023-04-05T10:24:16.158940Z"
    }
   }
  },
  {
   "cell_type": "code",
   "execution_count": null,
   "outputs": [],
   "source": [
    "\n",
    "unique_expt_names = male_wt['ExptNames'].unique()\n",
    "\n",
    "unmasked_data = np.vstack([result_df_parallel[f'{expt_name}_unmasked'] for expt_name in unique_expt_names])\n",
    "masked_data = np.vstack([result_df_parallel[f'{expt_name}_masked'] for expt_name in unique_expt_names])\n",
    "\n",
    "# Plot the heatmap\n",
    "plt.figure(figsize=(10, 3))\n",
    "sns.heatmap(data, cmap='YlGnBu')\n",
    "plt.xlabel('Data')\n",
    "plt.ylabel('Arrays')\n",
    "plt.yticks([0.5, 1.5], ['Array 1', 'Array 2'], rotation=0)\n",
    "plt.show()\n"
   ],
   "metadata": {
    "collapsed": false
   }
  },
  {
   "cell_type": "code",
   "execution_count": null,
   "outputs": [],
   "source": [
    "unique_expt_names = male_wt['ExptNames'].unique()\n",
    "\n",
    "a4_dims = (25.7, 5.27)\n",
    "# Plot the unmasked data heatmap\n",
    "#plt.figure(figsize=(a4_dims))\n",
    "#sns.heatmap(unmasked_data, cmap='YlGnBu', yticklabels=unique_expt_names)\n",
    "#plt.xlabel('Data')\n",
    "#plt.ylabel('ExptNames')\n",
    "#plt.title('Unmasked Data')\n",
    "#plt.savefig(os.path.join(plot_folder,'unmasked_data_heatmap_full_07.png'), dpi=300)  # Save the figure as a PNG file\n",
    "#plt.show()\n",
    "\n"
   ],
   "metadata": {
    "collapsed": false,
    "ExecuteTime": {
     "start_time": "2023-04-05T13:13:11.844120Z",
     "end_time": "2023-04-05T13:13:12.747942Z"
    }
   }
  },
  {
   "cell_type": "code",
   "execution_count": null,
   "outputs": [],
   "source": [
    "\n",
    "# Plot the masked data heatmap\n",
    "plt.figure(figsize=(a4_dims))\n",
    "sns.heatmap(masked_data, cmap='YlGnBu', yticklabels=unique_expt_names)\n",
    "plt.xlabel('Data')\n",
    "plt.ylabel('ExptNames')\n",
    "plt.title('Masked Data')\n",
    "plt.savefig(os.path.join(plot_folder,'masked_data_heatmap_full_09.png'), dpi=300)\n",
    "plt.show()"
   ],
   "metadata": {
    "collapsed": false,
    "ExecuteTime": {
     "start_time": "2023-04-05T13:13:19.470299Z",
     "end_time": "2023-04-05T13:15:44.991104Z"
    }
   }
  },
  {
   "cell_type": "code",
   "execution_count": null,
   "outputs": [],
   "source": [
    "snap_paths = [{expt_names : os.path.join(project.project_path,expt_names,'snap_stft.pkl')} for expt_names in project.expt_names]\n",
    "snap_col_names = [os.path.join(project.project_path,expt_names,'ftname_to_snapft.yaml') for expt_names in project.expt_names]"
   ],
   "metadata": {
    "collapsed": false,
    "ExecuteTime": {
     "start_time": "2023-04-05T22:05:54.377485Z",
     "end_time": "2023-04-05T22:05:54.402754Z"
    }
   }
  },
  {
   "cell_type": "code",
   "execution_count": null,
   "outputs": [],
   "source": [
    "df_data"
   ],
   "metadata": {
    "collapsed": false,
    "ExecuteTime": {
     "start_time": "2023-04-06T09:39:04.806500Z",
     "end_time": "2023-04-06T09:39:04.845527Z"
    }
   }
  },
  {
   "cell_type": "code",
   "execution_count": null,
   "outputs": [],
   "source": [
    "df_data"
   ],
   "metadata": {
    "collapsed": false,
    "ExecuteTime": {
     "start_time": "2023-04-06T09:39:56.827057Z",
     "end_time": "2023-04-06T09:39:56.867058Z"
    }
   }
  },
  {
   "cell_type": "code",
   "execution_count": null,
   "outputs": [],
   "source": [],
   "metadata": {
    "collapsed": false
   }
  }
 ],
 "metadata": {
  "kernelspec": {
   "name": "python3",
   "language": "python",
   "display_name": "Python 3 (ipykernel)"
  },
  "language_info": {
   "codemirror_mode": {
    "name": "ipython",
    "version": 2
   },
   "file_extension": ".py",
   "mimetype": "text/x-python",
   "name": "python",
   "nbconvert_exporter": "python",
   "pygments_lexer": "ipython2",
   "version": "2.7.6"
  }
 },
 "nbformat": 4,
 "nbformat_minor": 0
}
