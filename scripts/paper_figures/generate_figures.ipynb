{
 "cells": [
  {
   "cell_type": "code",
   "execution_count": 1,
   "metadata": {
    "collapsed": true,
    "ExecuteTime": {
     "start_time": "2023-04-03T15:13:18.489525Z",
     "end_time": "2023-04-03T15:13:18.858582Z"
    }
   },
   "outputs": [],
   "source": [
    "\n",
    "import joblib as jb\n",
    "import pandas as pd\n",
    "import numpy as np\n",
    "import re\n",
    "import os\n",
    "import matplotlib\n",
    "import matplotlib.pyplot as plt\n",
    "plt.rcParams['svg.fonttype'] = 'none'\n",
    "plt.rcParams['pdf.fonttype'] = 42\n",
    "import basty.project.experiment_processing as experiment_processing\n",
    "import seaborn as sns\n",
    "sns.set_theme(style = 'dark')\n",
    "import datetime\n",
    "from dateutil import parser\n",
    "import matplotlib.dates as mdates\n",
    "\n",
    "from pathlib import Path\n",
    "from basty.utils import misc\n",
    "\n",
    "import sys\n",
    "sys.path.append(\"/home/grover/Desktop/gitDLC/basty\")"
   ]
  },
  {
   "cell_type": "code",
   "execution_count": 2,
   "outputs": [],
   "source": [
    "CONFIG_PATH = r\"Z:\\mfk\\basty-projects\\main_cfg.yaml\"\n",
    "project = experiment_processing.Project(\n",
    "   CONFIG_PATH\n",
    ")\n",
    "FPS = project.fps\n",
    "FIG_PATH = r'C:\\Users\\Grover\\Documents\\GitHub\\deepsleepfigs'"
   ],
   "metadata": {
    "collapsed": false,
    "ExecuteTime": {
     "start_time": "2023-04-03T15:13:19.490814Z",
     "end_time": "2023-04-03T15:13:20.059743Z"
    }
   }
  },
  {
   "cell_type": "code",
   "execution_count": 3,
   "outputs": [],
   "source": [
    "data_path_dict = project.data_path_dict\n",
    "df = misc.parse_experiment_names(data_path_dict)\n",
    "flysexpath = r'Y:\\DeepSleepPaperData\\flysexinfo.yaml'\n",
    "df = misc.update_expt_info_df(df,flysexpath)"
   ],
   "metadata": {
    "collapsed": false,
    "ExecuteTime": {
     "start_time": "2023-04-03T15:13:20.660672Z",
     "end_time": "2023-04-03T15:13:20.839086Z"
    }
   }
  },
  {
   "cell_type": "code",
   "execution_count": 4,
   "outputs": [
    {
     "data": {
      "text/plain": "                    ExptNames  \\\n0         Fly01182022_F_A_8am   \n1         Fly01192022_F_B_8am   \n2         Fly01202022_F_A_8am   \n3         Fly01232022_M_B_8am   \n4         Fly01242022_F_A_8am   \n..                        ...   \n72     Fly08182021_F_B_6d_8am   \n73  Fly11052021_F_A_SD_5D_8am   \n74           Fly11152020_F_SD   \n75  Fly11192021_F_A_SD_5D_9am   \n76  Fly11242021_F_B_SD_5D_9am   \n\n                                                 Path     SD  Age Sex  \\\n0   Y:\\DeepSleepPaperData\\Annotated\\WT\\Fly01182022...  False  5.0   F   \n1   Y:\\DeepSleepPaperData\\Annotated\\WT\\Fly01192022...  False  5.0   F   \n2   Y:\\DeepSleepPaperData\\Annotated\\WT\\Fly01202022...  False  5.0   F   \n3   Y:\\DeepSleepPaperData\\Annotated\\WT\\Fly01232022...  False  5.0   M   \n4   Y:\\DeepSleepPaperData\\Annotated\\WT\\Fly01242022...  False  5.0   F   \n..                                                ...    ...  ...  ..   \n72  Y:\\DeepSleepPaperData\\Annotated\\WT\\Fly08182021...  False  6.0   F   \n73  Y:\\DeepSleepPaperData\\Annotated\\SD\\Fly11052021...   True  5.0   F   \n74  Y:\\DeepSleepPaperData\\Annotated\\SD\\Fly11152020...   True  5.0   F   \n75  Y:\\DeepSleepPaperData\\Annotated\\SD\\Fly11192021...   True  5.0   F   \n76  Y:\\DeepSleepPaperData\\Annotated\\SD\\Fly11242021...   True  5.0   F   \n\n   Experimenter  \n0            MK  \n1            MK  \n2            MK  \n3            MK  \n4            MK  \n..          ...  \n72           MK  \n73           MK  \n74           MK  \n75           MK  \n76           MK  \n\n[77 rows x 6 columns]",
      "text/html": "<div>\n<style scoped>\n    .dataframe tbody tr th:only-of-type {\n        vertical-align: middle;\n    }\n\n    .dataframe tbody tr th {\n        vertical-align: top;\n    }\n\n    .dataframe thead th {\n        text-align: right;\n    }\n</style>\n<table border=\"1\" class=\"dataframe\">\n  <thead>\n    <tr style=\"text-align: right;\">\n      <th></th>\n      <th>ExptNames</th>\n      <th>Path</th>\n      <th>SD</th>\n      <th>Age</th>\n      <th>Sex</th>\n      <th>Experimenter</th>\n    </tr>\n  </thead>\n  <tbody>\n    <tr>\n      <th>0</th>\n      <td>Fly01182022_F_A_8am</td>\n      <td>Y:\\DeepSleepPaperData\\Annotated\\WT\\Fly01182022...</td>\n      <td>False</td>\n      <td>5.0</td>\n      <td>F</td>\n      <td>MK</td>\n    </tr>\n    <tr>\n      <th>1</th>\n      <td>Fly01192022_F_B_8am</td>\n      <td>Y:\\DeepSleepPaperData\\Annotated\\WT\\Fly01192022...</td>\n      <td>False</td>\n      <td>5.0</td>\n      <td>F</td>\n      <td>MK</td>\n    </tr>\n    <tr>\n      <th>2</th>\n      <td>Fly01202022_F_A_8am</td>\n      <td>Y:\\DeepSleepPaperData\\Annotated\\WT\\Fly01202022...</td>\n      <td>False</td>\n      <td>5.0</td>\n      <td>F</td>\n      <td>MK</td>\n    </tr>\n    <tr>\n      <th>3</th>\n      <td>Fly01232022_M_B_8am</td>\n      <td>Y:\\DeepSleepPaperData\\Annotated\\WT\\Fly01232022...</td>\n      <td>False</td>\n      <td>5.0</td>\n      <td>M</td>\n      <td>MK</td>\n    </tr>\n    <tr>\n      <th>4</th>\n      <td>Fly01242022_F_A_8am</td>\n      <td>Y:\\DeepSleepPaperData\\Annotated\\WT\\Fly01242022...</td>\n      <td>False</td>\n      <td>5.0</td>\n      <td>F</td>\n      <td>MK</td>\n    </tr>\n    <tr>\n      <th>...</th>\n      <td>...</td>\n      <td>...</td>\n      <td>...</td>\n      <td>...</td>\n      <td>...</td>\n      <td>...</td>\n    </tr>\n    <tr>\n      <th>72</th>\n      <td>Fly08182021_F_B_6d_8am</td>\n      <td>Y:\\DeepSleepPaperData\\Annotated\\WT\\Fly08182021...</td>\n      <td>False</td>\n      <td>6.0</td>\n      <td>F</td>\n      <td>MK</td>\n    </tr>\n    <tr>\n      <th>73</th>\n      <td>Fly11052021_F_A_SD_5D_8am</td>\n      <td>Y:\\DeepSleepPaperData\\Annotated\\SD\\Fly11052021...</td>\n      <td>True</td>\n      <td>5.0</td>\n      <td>F</td>\n      <td>MK</td>\n    </tr>\n    <tr>\n      <th>74</th>\n      <td>Fly11152020_F_SD</td>\n      <td>Y:\\DeepSleepPaperData\\Annotated\\SD\\Fly11152020...</td>\n      <td>True</td>\n      <td>5.0</td>\n      <td>F</td>\n      <td>MK</td>\n    </tr>\n    <tr>\n      <th>75</th>\n      <td>Fly11192021_F_A_SD_5D_9am</td>\n      <td>Y:\\DeepSleepPaperData\\Annotated\\SD\\Fly11192021...</td>\n      <td>True</td>\n      <td>5.0</td>\n      <td>F</td>\n      <td>MK</td>\n    </tr>\n    <tr>\n      <th>76</th>\n      <td>Fly11242021_F_B_SD_5D_9am</td>\n      <td>Y:\\DeepSleepPaperData\\Annotated\\SD\\Fly11242021...</td>\n      <td>True</td>\n      <td>5.0</td>\n      <td>F</td>\n      <td>MK</td>\n    </tr>\n  </tbody>\n</table>\n<p>77 rows × 6 columns</p>\n</div>"
     },
     "execution_count": 4,
     "metadata": {},
     "output_type": "execute_result"
    }
   ],
   "source": [
    "df"
   ],
   "metadata": {
    "collapsed": false,
    "ExecuteTime": {
     "start_time": "2023-04-03T15:13:22.248044Z",
     "end_time": "2023-04-03T15:13:22.272352Z"
    }
   }
  },
  {
   "cell_type": "code",
   "execution_count": 5,
   "outputs": [],
   "source": [
    "llh = misc.get_likelihood(data_path_dict)"
   ],
   "metadata": {
    "collapsed": false,
    "ExecuteTime": {
     "start_time": "2023-04-03T15:13:23.286544Z",
     "end_time": "2023-04-03T15:17:30.283395Z"
    }
   }
  },
  {
   "cell_type": "code",
   "execution_count": 7,
   "outputs": [],
   "source": [
    "results_folder = r\"Z:\\mfk\\basty-projects\\backup-allnohaltere\\results\\semisupervised_pair_kNN\\predictions.15NN.neighbor_weights-distance.neighbor_weights_norm-log_count.activation-standard.voting-soft.voting_weights-None\\exports\""
   ],
   "metadata": {
    "collapsed": false,
    "ExecuteTime": {
     "start_time": "2023-04-03T15:18:20.072833Z",
     "end_time": "2023-04-03T15:18:20.098483Z"
    }
   }
  },
  {
   "cell_type": "code",
   "execution_count": 8,
   "outputs": [],
   "source": [
    "csv_files = [file for file in os.listdir(results_folder) if file.endswith('.csv')]"
   ],
   "metadata": {
    "collapsed": false,
    "ExecuteTime": {
     "start_time": "2023-04-03T15:18:20.098483Z",
     "end_time": "2023-04-03T15:18:20.176614Z"
    }
   }
  },
  {
   "cell_type": "code",
   "execution_count": 9,
   "outputs": [],
   "source": [
    "dfs = list()\n",
    "for file in csv_files:\n",
    "    data = pd.read_csv(os.path.join(results_folder,file))\n",
    "    data['ExptNames'] = os.path.splitext(file)[0]\n",
    "    dfs.append(data)\n",
    "\n",
    "df_data = pd.concat(dfs, ignore_index = True)\n",
    "df_data = df_data.rename(columns = {'Unnamed: 0': 'Idx'})"
   ],
   "metadata": {
    "collapsed": false,
    "ExecuteTime": {
     "start_time": "2023-04-03T15:18:28.647416Z",
     "end_time": "2023-04-03T15:19:12.746199Z"
    }
   }
  },
  {
   "cell_type": "code",
   "execution_count": 10,
   "outputs": [],
   "source": [
    "#Remove unnecessary columns\n",
    "df_data.drop(['HaltereSwitch','Noise'],axis=1,inplace=True)"
   ],
   "metadata": {
    "collapsed": false,
    "ExecuteTime": {
     "start_time": "2023-04-03T15:19:20.190010Z",
     "end_time": "2023-04-03T15:19:22.105887Z"
    }
   }
  },
  {
   "cell_type": "code",
   "execution_count": 11,
   "outputs": [],
   "source": [
    "llh  = llh[llh['ExptNames'].isin(df_data.ExptNames.unique())]"
   ],
   "metadata": {
    "collapsed": false,
    "ExecuteTime": {
     "start_time": "2023-04-03T15:19:22.126020Z",
     "end_time": "2023-04-03T15:19:34.637816Z"
    }
   }
  },
  {
   "cell_type": "code",
   "execution_count": null,
   "outputs": [],
   "source": [],
   "metadata": {
    "collapsed": false
   }
  },
  {
   "cell_type": "code",
   "execution_count": 12,
   "outputs": [],
   "source": [
    "BEHAVIORS = [\n",
    "'Idle&Other',\n",
    "'PosturalAdjustment&Moving',\n",
    "'Feeding',\n",
    "'Grooming',\n",
    "'ProboscisPumping']"
   ],
   "metadata": {
    "collapsed": false,
    "ExecuteTime": {
     "start_time": "2023-04-03T15:19:39.871191Z",
     "end_time": "2023-04-03T15:19:39.909495Z"
    }
   }
  },
  {
   "cell_type": "code",
   "execution_count": 13,
   "outputs": [],
   "source": [
    "newDf = pd.merge(df_data,df,left_on = 'ExptNames',right_on = 'ExptNames')"
   ],
   "metadata": {
    "collapsed": false,
    "ExecuteTime": {
     "start_time": "2023-04-03T15:19:54.609045Z",
     "end_time": "2023-04-03T15:20:05.886099Z"
    }
   }
  },
  {
   "cell_type": "code",
   "execution_count": 14,
   "outputs": [
    {
     "data": {
      "text/plain": "             Idx  Idle&Other  PosturalAdjustment&Moving  Feeding  Grooming  \\\n0              0         1.0                        0.0      0.0       0.0   \n1              1         1.0                        0.0      0.0       0.0   \n2              2         1.0                        0.0      0.0       0.0   \n3              3         1.0                        0.0      0.0       0.0   \n4              4         1.0                        0.0      0.0       0.0   \n...          ...         ...                        ...      ...       ...   \n69652104  647995         1.0                        0.0      0.0       0.0   \n69652105  647996         1.0                        0.0      0.0       0.0   \n69652106  647997         1.0                        0.0      0.0       0.0   \n69652107  647998         1.0                        0.0      0.0       0.0   \n69652108  647999         1.0                        0.0      0.0       0.0   \n\n          ProboscisPumping            ExptNames  \\\n0                      0.0       Fly05182022_5d   \n1                      0.0       Fly05182022_5d   \n2                      0.0       Fly05182022_5d   \n3                      0.0       Fly05182022_5d   \n4                      0.0       Fly05182022_5d   \n...                    ...                  ...   \n69652104               0.0  Fly08032022_6d_SD_B   \n69652105               0.0  Fly08032022_6d_SD_B   \n69652106               0.0  Fly08032022_6d_SD_B   \n69652107               0.0  Fly08032022_6d_SD_B   \n69652108               0.0  Fly08032022_6d_SD_B   \n\n                                                       Path     SD  Age Sex  \\\n0              Y:\\DeepSleepPaperData\\Data\\WT\\Fly05182022_5d  False  5.0   M   \n1              Y:\\DeepSleepPaperData\\Data\\WT\\Fly05182022_5d  False  5.0   M   \n2              Y:\\DeepSleepPaperData\\Data\\WT\\Fly05182022_5d  False  5.0   M   \n3              Y:\\DeepSleepPaperData\\Data\\WT\\Fly05182022_5d  False  5.0   M   \n4              Y:\\DeepSleepPaperData\\Data\\WT\\Fly05182022_5d  False  5.0   M   \n...                                                     ...    ...  ...  ..   \n69652104  Y:\\DeepSleepPaperData\\Data\\SD\\Fly08032022_6d_SD_B   True  6.0   F   \n69652105  Y:\\DeepSleepPaperData\\Data\\SD\\Fly08032022_6d_SD_B   True  6.0   F   \n69652106  Y:\\DeepSleepPaperData\\Data\\SD\\Fly08032022_6d_SD_B   True  6.0   F   \n69652107  Y:\\DeepSleepPaperData\\Data\\SD\\Fly08032022_6d_SD_B   True  6.0   F   \n69652108  Y:\\DeepSleepPaperData\\Data\\SD\\Fly08032022_6d_SD_B   True  6.0   F   \n\n         Experimenter  \n0                  MK  \n1                  MK  \n2                  MK  \n3                  MK  \n4                  MK  \n...               ...  \n69652104           CB  \n69652105           CB  \n69652106           CB  \n69652107           CB  \n69652108           CB  \n\n[69652109 rows x 12 columns]",
      "text/html": "<div>\n<style scoped>\n    .dataframe tbody tr th:only-of-type {\n        vertical-align: middle;\n    }\n\n    .dataframe tbody tr th {\n        vertical-align: top;\n    }\n\n    .dataframe thead th {\n        text-align: right;\n    }\n</style>\n<table border=\"1\" class=\"dataframe\">\n  <thead>\n    <tr style=\"text-align: right;\">\n      <th></th>\n      <th>Idx</th>\n      <th>Idle&amp;Other</th>\n      <th>PosturalAdjustment&amp;Moving</th>\n      <th>Feeding</th>\n      <th>Grooming</th>\n      <th>ProboscisPumping</th>\n      <th>ExptNames</th>\n      <th>Path</th>\n      <th>SD</th>\n      <th>Age</th>\n      <th>Sex</th>\n      <th>Experimenter</th>\n    </tr>\n  </thead>\n  <tbody>\n    <tr>\n      <th>0</th>\n      <td>0</td>\n      <td>1.0</td>\n      <td>0.0</td>\n      <td>0.0</td>\n      <td>0.0</td>\n      <td>0.0</td>\n      <td>Fly05182022_5d</td>\n      <td>Y:\\DeepSleepPaperData\\Data\\WT\\Fly05182022_5d</td>\n      <td>False</td>\n      <td>5.0</td>\n      <td>M</td>\n      <td>MK</td>\n    </tr>\n    <tr>\n      <th>1</th>\n      <td>1</td>\n      <td>1.0</td>\n      <td>0.0</td>\n      <td>0.0</td>\n      <td>0.0</td>\n      <td>0.0</td>\n      <td>Fly05182022_5d</td>\n      <td>Y:\\DeepSleepPaperData\\Data\\WT\\Fly05182022_5d</td>\n      <td>False</td>\n      <td>5.0</td>\n      <td>M</td>\n      <td>MK</td>\n    </tr>\n    <tr>\n      <th>2</th>\n      <td>2</td>\n      <td>1.0</td>\n      <td>0.0</td>\n      <td>0.0</td>\n      <td>0.0</td>\n      <td>0.0</td>\n      <td>Fly05182022_5d</td>\n      <td>Y:\\DeepSleepPaperData\\Data\\WT\\Fly05182022_5d</td>\n      <td>False</td>\n      <td>5.0</td>\n      <td>M</td>\n      <td>MK</td>\n    </tr>\n    <tr>\n      <th>3</th>\n      <td>3</td>\n      <td>1.0</td>\n      <td>0.0</td>\n      <td>0.0</td>\n      <td>0.0</td>\n      <td>0.0</td>\n      <td>Fly05182022_5d</td>\n      <td>Y:\\DeepSleepPaperData\\Data\\WT\\Fly05182022_5d</td>\n      <td>False</td>\n      <td>5.0</td>\n      <td>M</td>\n      <td>MK</td>\n    </tr>\n    <tr>\n      <th>4</th>\n      <td>4</td>\n      <td>1.0</td>\n      <td>0.0</td>\n      <td>0.0</td>\n      <td>0.0</td>\n      <td>0.0</td>\n      <td>Fly05182022_5d</td>\n      <td>Y:\\DeepSleepPaperData\\Data\\WT\\Fly05182022_5d</td>\n      <td>False</td>\n      <td>5.0</td>\n      <td>M</td>\n      <td>MK</td>\n    </tr>\n    <tr>\n      <th>...</th>\n      <td>...</td>\n      <td>...</td>\n      <td>...</td>\n      <td>...</td>\n      <td>...</td>\n      <td>...</td>\n      <td>...</td>\n      <td>...</td>\n      <td>...</td>\n      <td>...</td>\n      <td>...</td>\n      <td>...</td>\n    </tr>\n    <tr>\n      <th>69652104</th>\n      <td>647995</td>\n      <td>1.0</td>\n      <td>0.0</td>\n      <td>0.0</td>\n      <td>0.0</td>\n      <td>0.0</td>\n      <td>Fly08032022_6d_SD_B</td>\n      <td>Y:\\DeepSleepPaperData\\Data\\SD\\Fly08032022_6d_SD_B</td>\n      <td>True</td>\n      <td>6.0</td>\n      <td>F</td>\n      <td>CB</td>\n    </tr>\n    <tr>\n      <th>69652105</th>\n      <td>647996</td>\n      <td>1.0</td>\n      <td>0.0</td>\n      <td>0.0</td>\n      <td>0.0</td>\n      <td>0.0</td>\n      <td>Fly08032022_6d_SD_B</td>\n      <td>Y:\\DeepSleepPaperData\\Data\\SD\\Fly08032022_6d_SD_B</td>\n      <td>True</td>\n      <td>6.0</td>\n      <td>F</td>\n      <td>CB</td>\n    </tr>\n    <tr>\n      <th>69652106</th>\n      <td>647997</td>\n      <td>1.0</td>\n      <td>0.0</td>\n      <td>0.0</td>\n      <td>0.0</td>\n      <td>0.0</td>\n      <td>Fly08032022_6d_SD_B</td>\n      <td>Y:\\DeepSleepPaperData\\Data\\SD\\Fly08032022_6d_SD_B</td>\n      <td>True</td>\n      <td>6.0</td>\n      <td>F</td>\n      <td>CB</td>\n    </tr>\n    <tr>\n      <th>69652107</th>\n      <td>647998</td>\n      <td>1.0</td>\n      <td>0.0</td>\n      <td>0.0</td>\n      <td>0.0</td>\n      <td>0.0</td>\n      <td>Fly08032022_6d_SD_B</td>\n      <td>Y:\\DeepSleepPaperData\\Data\\SD\\Fly08032022_6d_SD_B</td>\n      <td>True</td>\n      <td>6.0</td>\n      <td>F</td>\n      <td>CB</td>\n    </tr>\n    <tr>\n      <th>69652108</th>\n      <td>647999</td>\n      <td>1.0</td>\n      <td>0.0</td>\n      <td>0.0</td>\n      <td>0.0</td>\n      <td>0.0</td>\n      <td>Fly08032022_6d_SD_B</td>\n      <td>Y:\\DeepSleepPaperData\\Data\\SD\\Fly08032022_6d_SD_B</td>\n      <td>True</td>\n      <td>6.0</td>\n      <td>F</td>\n      <td>CB</td>\n    </tr>\n  </tbody>\n</table>\n<p>69652109 rows × 12 columns</p>\n</div>"
     },
     "execution_count": 14,
     "metadata": {},
     "output_type": "execute_result"
    }
   ],
   "source": [
    "newDf"
   ],
   "metadata": {
    "collapsed": false,
    "ExecuteTime": {
     "start_time": "2023-04-03T15:20:05.886099Z",
     "end_time": "2023-04-03T15:20:05.906258Z"
    }
   }
  },
  {
   "cell_type": "code",
   "execution_count": 15,
   "outputs": [],
   "source": [
    "wt_all = newDf[newDf['SD']==False]\n",
    "male_wt = wt_all[wt_all['Sex'] == 'M']\n",
    "female_wt = wt_all[wt_all['Sex'] == 'F']"
   ],
   "metadata": {
    "collapsed": false,
    "ExecuteTime": {
     "start_time": "2023-04-03T15:20:43.825216Z",
     "end_time": "2023-04-03T15:20:56.512029Z"
    }
   }
  },
  {
   "cell_type": "code",
   "execution_count": null,
   "outputs": [],
   "source": [],
   "metadata": {
    "collapsed": false
   }
  }
 ],
 "metadata": {
  "kernelspec": {
   "name": "python3",
   "language": "python",
   "display_name": "Python 3 (ipykernel)"
  },
  "language_info": {
   "codemirror_mode": {
    "name": "ipython",
    "version": 2
   },
   "file_extension": ".py",
   "mimetype": "text/x-python",
   "name": "python",
   "nbconvert_exporter": "python",
   "pygments_lexer": "ipython2",
   "version": "2.7.6"
  }
 },
 "nbformat": 4,
 "nbformat_minor": 0
}
