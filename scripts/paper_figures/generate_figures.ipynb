{
 "cells": [
  {
   "cell_type": "code",
   "execution_count": null,
   "outputs": [],
   "source": [
    "import pandas as pd\n",
    "import numpy as np\n",
    "import os\n",
    "import matplotlib.pyplot as plt\n",
    "\n",
    "plt.rcParams[\"svg.fonttype\"] = \"none\"\n",
    "plt.rcParams[\"pdf.fonttype\"] = 42\n",
    "\n",
    "import seaborn as sns\n",
    "\n",
    "sns.set_theme(style=\"dark\")\n",
    "import sys\n",
    "\n",
    "\n",
    "\n",
    "from scripts.paper_figures.data_processing.data_processing import main as init_data\n",
    "from scripts.paper_figures.data_processing.process_pumping import ProboscisProcessing\n"
   ],
   "metadata": {
    "collapsed": false
   }
  },
  {
   "cell_type": "code",
   "execution_count": null,
   "outputs": [],
   "source": [
    "# Initialize Data\n",
    "llh, process_data, io_process,expt_info_df = init_data()"
   ],
   "metadata": {
    "collapsed": false
   }
  },
  {
   "cell_type": "code",
   "execution_count": null,
   "outputs": [],
   "source": [
    "# Process proboscis bouts, change \"load_bouts=True\" if you want to load\n",
    "proboscis = ProboscisProcessing(process_data, llh, io_process,force_recalculate=False)\n",
    "proboscis.generate_prob_bouts(load_bouts=True)"
   ],
   "metadata": {
    "collapsed": false
   }
  },
  {
   "cell_type": "code",
   "execution_count": null,
   "outputs": [],
   "source": [
    "expt_info_df.ExptNames[1]"
   ],
   "metadata": {
    "collapsed": false
   }
  },
  {
   "cell_type": "code",
   "execution_count": null,
   "outputs": [],
   "source": [
    "from importlib import reload\n",
    "import scripts.paper_figures.data_processing.process_macro_micro  # Import the module first\n",
    "\n",
    "from importlib import reload\n",
    "\n",
    "import basty.utils.misc\n",
    "reload(basty.utils.misc)\n",
    "\n",
    "\n",
    "# Now reload the module\n",
    "reload(scripts.paper_figures.data_processing.process_macro_micro)\n",
    "\n",
    "# Re-import your specific class/function\n",
    "from scripts.paper_figures.data_processing.process_macro_micro import ExperimentOutline\n",
    "\n",
    "expt_outline = ExperimentOutline(io_process.project.project_path)\n",
    "\n",
    "bout_df_all, outline_df_all = expt_outline.outline_expt_all(expt_info_df)\n",
    "\n",
    "merged_df = pd.merge(bout_df_all, expt_info_df, left_on='Experiment Name', right_on='ExptNames')\n",
    "\n",
    "FIG_PATH = r\"C:\\Users\\Grover\\Documents\\GitHub\\deepsleepfigs\"\n",
    "save_micro_macro = os.path.join(FIG_PATH, \"micro_macro_v2.pdf\")\n",
    "\n",
    "ExperimentOutline.plot_ethogram(merged_df,save_path=save_micro_macro)"
   ],
   "metadata": {
    "collapsed": false
   }
  },
  {
   "cell_type": "code",
   "execution_count": null,
   "outputs": [],
   "source": [
    "newDf = pd.merge(df_data, expt_info_df, left_on=\"ExptNames\", right_on=\"ExptNames\")"
   ],
   "metadata": {
    "collapsed": false
   }
  },
  {
   "cell_type": "code",
   "execution_count": null,
   "metadata": {
    "collapsed": false
   },
   "outputs": [],
   "source": [
    "wt_all = newDf[newDf[\"SD\"] == False]\n",
    "male_wt = wt_all[wt_all[\"Sex\"] == \"M\"]\n",
    "female_wt = wt_all[wt_all[\"Sex\"] == \"F\"]"
   ]
  },
  {
   "cell_type": "code",
   "execution_count": null,
   "metadata": {
    "collapsed": false
   },
   "outputs": [],
   "source": [
    "newDf"
   ]
  },
  {
   "cell_type": "code",
   "execution_count": null,
   "metadata": {
    "collapsed": false
   },
   "outputs": [],
   "source": [
    "filterer = FilterData(newDf, llh)"
   ]
  },
  {
   "cell_type": "code",
   "execution_count": null,
   "metadata": {
    "collapsed": false
   },
   "outputs": [],
   "source": [
    "filterer.plot_mean_likelihood()"
   ]
  },
  {
   "cell_type": "code",
   "execution_count": null,
   "metadata": {
    "collapsed": false
   },
   "outputs": [],
   "source": [
    "binary_mask = filterer.create_binary_masks(llh, BODY_PART_SETS, 0.7)"
   ]
  },
  {
   "cell_type": "code",
   "execution_count": null,
   "metadata": {
    "collapsed": false
   },
   "outputs": [],
   "source": [
    "masked_data_df = filterer.apply_binary_masks(binary_mask, newDf)"
   ]
  },
  {
   "cell_type": "code",
   "execution_count": null,
   "metadata": {
    "collapsed": false
   },
   "outputs": [],
   "source": [
    "masked_data_df"
   ]
  },
  {
   "cell_type": "code",
   "execution_count": null,
   "metadata": {
    "collapsed": false
   },
   "outputs": [],
   "source": [
    "binary_mask"
   ]
  },
  {
   "cell_type": "code",
   "execution_count": null,
   "metadata": {
    "collapsed": false
   },
   "outputs": [],
   "source": [
    "masked_data_df"
   ]
  },
  {
   "cell_type": "code",
   "execution_count": null,
   "metadata": {
    "collapsed": false
   },
   "outputs": [],
   "source": [
    "import pandas as pd\n",
    "import seaborn as sns\n",
    "import matplotlib.pyplot as plt\n",
    "\n",
    "# Assuming your DataFrame is called 'masked_data_df'\n",
    "# and has columns 'ExptNames', 'ValueColumn' (replace with your actual column name)\n",
    "# Add row numbers if they don't exist\n",
    "masked_data_df[\"Row\"] = masked_data_df.index\n",
    "\n",
    "# Pivot the DataFrame\n",
    "pivoted_df = masked_data_df.pivot(\n",
    "    index=\"ExptNames\", columns=\"Row\", values=\"ProboscisPumping\"\n",
    ")\n",
    "\n",
    "# Create a heatmap using Seaborn, handling NaN values with a different color (e.g., gray)\n",
    "plt.figure(figsize=(16, 9))\n",
    "sns.heatmap(\n",
    "    pivoted_df,\n",
    "    cmap=\"coolwarm\",\n",
    "    linewidths=0.5,\n",
    "    cbar_kws={\"ticks\": [0, 1]},\n",
    "    mask=pivoted_df.isna(),\n",
    "    linecolor=\"gray\",\n",
    ")\n",
    "\n",
    "# Set plot attributes\n",
    "plt.xlabel(\"Rows\")\n",
    "plt.ylabel(\"ExptNames\")\n",
    "plt.title(\"Heatmap of Data\")\n",
    "\n",
    "# Save the plot as a PNG file\n",
    "FIG_PATH = r\"C:\\Users\\Grover\\Documents\\GitHub\\deepsleepfigs\"\n",
    "plt.savefig(f\"{FIG_PATH}\\\\heatmap.png\", dpi=300, bbox_inches=\"tight\")\n",
    "\n",
    "# Display the plot in the notebook (optional)\n",
    "plt.show()"
   ]
  },
  {
   "cell_type": "code",
   "execution_count": null,
   "metadata": {
    "collapsed": false
   },
   "outputs": [],
   "source": [
    "plot_folder = r\"C:\\Users\\Grover\\Documents\\GitHub\\deepsleepfigs\\score_plots\"\n",
    "if not os.path.isdir(plot_folder):\n",
    "    os.makedirs(plot_folder)"
   ]
  },
  {
   "cell_type": "code",
   "execution_count": null,
   "metadata": {
    "collapsed": false
   },
   "outputs": [],
   "source": [
    "male_wt[\"Time\"] = male_wt[\"Idx\"].apply(BehaviorData.get_time_stamp)\n",
    "male_wt.index = pd.to_datetime(list(male_wt[\"Time\"]))\n",
    "rate = \"1S\"\n",
    "male_wt_rs = BehaviorData.resample_df(male_wt, rate, BEHAVIORS)\n",
    "male_wt_rs[\"TimeStamp\"] = male_wt_rs.index"
   ]
  },
  {
   "cell_type": "code",
   "execution_count": null,
   "metadata": {
    "collapsed": false
   },
   "outputs": [],
   "source": [
    "male_wt"
   ]
  },
  {
   "cell_type": "code",
   "execution_count": null,
   "metadata": {
    "collapsed": false
   },
   "outputs": [],
   "source": [
    "llh[\"Time\"] = llh[\"Idx\"].apply(BehaviorData.get_time_stamp)"
   ]
  },
  {
   "cell_type": "code",
   "execution_count": null,
   "metadata": {
    "collapsed": false
   },
   "outputs": [],
   "source": [
    "BehaviorData.pivot_and_plot(male_wt_rs, \"mal_b_scr_\", plot_folder, rate, BEHAVIORS)"
   ]
  },
  {
   "cell_type": "code",
   "execution_count": null,
   "metadata": {
    "collapsed": false
   },
   "outputs": [],
   "source": [
    "import os"
   ]
  },
  {
   "cell_type": "code",
   "execution_count": null,
   "metadata": {
    "collapsed": false
   },
   "outputs": [],
   "source": [
    "os.listdir(plot_folder)"
   ]
  },
  {
   "cell_type": "code",
   "execution_count": null,
   "metadata": {
    "collapsed": false
   },
   "outputs": [],
   "source": [
    "df_pivoted = male_wt_rs.pivot(\n",
    "    index=\"ExptNames\", columns=\"TimeStamp\", values=\"ProboscisPumping\"\n",
    ")\n",
    "a4_dims = (25.7, 5.27)\n",
    "fig, ax = plt.subplots(figsize=a4_dims)\n",
    "plt.title(\"ProboscisPumping\")\n",
    "ax = sns.heatmap(df_pivoted, cmap=\"YlGnBu\")"
   ]
  },
  {
   "cell_type": "code",
   "execution_count": null,
   "metadata": {
    "collapsed": false
   },
   "outputs": [],
   "source": [
    "male_wt_rs"
   ]
  },
  {
   "cell_type": "code",
   "execution_count": null,
   "metadata": {
    "collapsed": false
   },
   "outputs": [],
   "source": [
    "unique_expt_names = male_wt[\"ExptNames\"].unique()\n",
    "\n",
    "a4_dims = (25.7, 5.27)\n",
    "# Plot the unmasked data heatmap\n",
    "# plt.figure(figsize=(a4_dims))\n",
    "# sns.heatmap(unmasked_data, cmap='YlGnBu', yticklabels=unique_expt_names)\n",
    "# plt.xlabel('Data')\n",
    "# plt.ylabel('ExptNames')\n",
    "# plt.title('Unmasked Data')\n",
    "# plt.savefig(os.path.join(plot_folder,'unmasked_data_heatmap_full_07.png'), dpi=300)  # Save the figure as a PNG file\n",
    "# plt.show()"
   ]
  },
  {
   "cell_type": "code",
   "execution_count": null,
   "metadata": {
    "collapsed": false
   },
   "outputs": [],
   "source": [
    "# Plot the masked data heatmap\n",
    "plt.figure(figsize=(a4_dims))\n",
    "sns.heatmap(masked_data, cmap=\"YlGnBu\", yticklabels=unique_expt_names)\n",
    "plt.xlabel(\"Data\")\n",
    "plt.ylabel(\"ExptNames\")\n",
    "plt.title(\"Masked Data\")\n",
    "plt.savefig(os.path.join(plot_folder, \"masked_data_heatmap_full_09.png\"), dpi=300)\n",
    "plt.show()"
   ]
  },
  {
   "cell_type": "code",
   "execution_count": null,
   "metadata": {
    "collapsed": false
   },
   "outputs": [],
   "source": [
    "snap_paths = [\n",
    "    {expt_names: os.path.join(project.project_path, expt_names, \"snap_stft.pkl\")}\n",
    "    for expt_names in project.expt_names\n",
    "]\n",
    "snap_col_names = [\n",
    "    os.path.join(project.project_path, expt_names, \"ftname_to_snapft.yaml\")\n",
    "    for expt_names in project.expt_names\n",
    "]"
   ]
  },
  {
   "cell_type": "code",
   "execution_count": null,
   "metadata": {
    "collapsed": false
   },
   "outputs": [],
   "source": [
    "df_data"
   ]
  },
  {
   "cell_type": "code",
   "execution_count": null,
   "metadata": {
    "collapsed": false
   },
   "outputs": [],
   "source": [
    "df_data"
   ]
  },
  {
   "cell_type": "code",
   "execution_count": null,
   "metadata": {
    "collapsed": false
   },
   "outputs": [],
   "source": []
  }
 ],
 "metadata": {
  "kernelspec": {
   "display_name": "Python 3 (ipykernel)",
   "language": "python",
   "name": "python3"
  },
  "language_info": {
   "codemirror_mode": {
    "name": "ipython",
    "version": 3
   },
   "file_extension": ".py",
   "mimetype": "text/x-python",
   "name": "python",
   "nbconvert_exporter": "python",
   "pygments_lexer": "ipython3",
   "version": "3.9.0"
  }
 },
 "nbformat": 4,
 "nbformat_minor": 4
}
