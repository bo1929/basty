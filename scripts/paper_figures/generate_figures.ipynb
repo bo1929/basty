{
 "cells": [
  {
   "cell_type": "code",
   "execution_count": 1,
   "metadata": {
    "ExecuteTime": {
     "start_time": "2023-04-07T17:04:49.950116Z",
     "end_time": "2023-04-07T17:04:50.439361Z"
    },
    "collapsed": true,
    "jupyter": {
     "outputs_hidden": true
    },
    "tags": []
   },
   "outputs": [],
   "source": [
    "import pandas as pd\n",
    "import numpy as np\n",
    "import os\n",
    "import matplotlib.pyplot as plt\n",
    "plt.rcParams['svg.fonttype'] = 'none'\n",
    "plt.rcParams['pdf.fonttype'] = 42\n",
    "import basty.project.experiment_processing as experiment_processing\n",
    "import seaborn as sns\n",
    "sns.set_theme(style = 'dark')\n",
    "from basty.utils import misc\n",
    "from process_results import BehaviorData\n",
    "from filter_flies import FilterData\n",
    "from input import Input\n",
    "\n",
    "import sys\n",
    "sys.path.append(r\"C:\\Users\\Grover\\Documents\\GitHub>basty\")"
   ]
  },
  {
   "cell_type": "code",
   "execution_count": 2,
   "metadata": {
    "ExecuteTime": {
     "start_time": "2023-04-07T17:04:50.796964Z",
     "end_time": "2023-04-07T17:04:51.399552Z"
    },
    "collapsed": false,
    "jupyter": {
     "outputs_hidden": false
    },
    "tags": []
   },
   "outputs": [],
   "source": [
    "CONFIG_PATH = r\"Z:\\mfk\\basty-projects\\main_cfg.yaml\"\n",
    "project = experiment_processing.Project(\n",
    "   CONFIG_PATH\n",
    ")\n",
    "FPS = project.fps\n",
    "FIG_PATH = r'C:\\Users\\Grover\\Documents\\GitHub\\deepsleepfigs'\n",
    "\n",
    "RESULTS_FOLDER = r\"Z:\\mfk\\basty-projects\\backup-allnohaltere\\results\\semisupervised_pair_kNN\\predictions.15NN.neighbor_weights-distance.neighbor_weights_norm-log_count.activation-standard.voting-soft.voting_weights-None\\exports\"\n",
    "\n",
    "BODY_PART_SETS = {'ProboscisPumping':'prob'}\n",
    "\n",
    "TMP_RESULT_FOLDER = r\"Z:\\mfk\\basty-projects\"\n",
    "\n",
    "BEHAVIORS = [\n",
    "'Idle&Other',\n",
    "'PosturalAdjustment&Moving',\n",
    "'Feeding',\n",
    "'Grooming',\n",
    "'ProboscisPumping']"
   ]
  },
  {
   "cell_type": "code",
   "execution_count": 3,
   "metadata": {
    "ExecuteTime": {
     "start_time": "2023-04-07T17:04:51.399552Z",
     "end_time": "2023-04-07T17:05:37.527256Z"
    },
    "collapsed": false,
    "jupyter": {
     "outputs_hidden": false
    },
    "tags": []
   },
   "outputs": [],
   "source": [
    "io_process = Input(project, RESULTS_FOLDER,TMP_RESULT_FOLDER)\n",
    "expt_info_df = io_process.load_expt_info()\n",
    "df_data = io_process.load_predictions()\n",
    "df_data.drop(['HaltereSwitch','Noise'],axis=1,inplace=True)\n",
    "io_process.create_binary_masks_subfolders(BEHAVIORS)"
   ]
  },
  {
   "cell_type": "code",
   "execution_count": 4,
   "metadata": {
    "ExecuteTime": {
     "start_time": "2023-04-07T17:05:37.527256Z",
     "end_time": "2023-04-07T17:10:07.749914Z"
    },
    "collapsed": false,
    "jupyter": {
     "outputs_hidden": false
    },
    "tags": []
   },
   "outputs": [
    {
     "name": "stdout",
     "output_type": "stream",
     "text": [
      "Loading existing llh_df.pickle file...\n"
     ]
    }
   ],
   "source": [
    "llh = misc.get_likelihood(project.data_path_dict,CONFIG_PATH,n_worked)"
   ]
  },
  {
   "cell_type": "code",
   "execution_count": 5,
   "metadata": {
    "ExecuteTime": {
     "start_time": "2023-04-07T17:10:07.749914Z",
     "end_time": "2023-04-07T17:10:07.760066Z"
    },
    "collapsed": false,
    "jupyter": {
     "outputs_hidden": false
    },
    "tags": []
   },
   "outputs": [],
   "source": [
    "process_data = BehaviorData(df_data,binary_mask_threshold=0.8)"
   ]
  },
  {
   "cell_type": "code",
   "execution_count": 6,
   "metadata": {
    "ExecuteTime": {
     "start_time": "2023-04-07T17:10:07.760066Z",
     "end_time": "2023-04-07T17:10:11.229394Z"
    },
    "collapsed": false,
    "jupyter": {
     "outputs_hidden": false
    },
    "tags": []
   },
   "outputs": [
    {
     "name": "stdout",
     "output_type": "stream",
     "text": [
      "File Fly05182022_5d_median6_threshold0.8.pkl already exists. Skipping calculation.File Fly05202022_5d_median6_threshold0.8.pkl already exists. Skipping calculation.\n",
      "File Fly05222022_5d_median6_threshold0.8.pkl already exists. Skipping calculation.\n",
      "File Fly05252022_SD_5d_median6_threshold0.8.pkl already exists. Skipping calculation.\n",
      "File Fly05272022_SD_5d_median6_threshold0.8.pkl already exists. Skipping calculation.\n",
      "File Fly06072022_5d_median6_threshold0.8.pkl already exists. Skipping calculation.\n",
      "\n",
      "File Fly06082022_5d_median6_threshold0.8.pkl already exists. Skipping calculation.\n",
      "File Fly06142022_SD_5d_median6_threshold0.8.pkl already exists. Skipping calculation.\n",
      "File Fly06152022_6d_median6_threshold0.8.pkl already exists. Skipping calculation.\n",
      "File Fly06182022_4d_median6_threshold0.8.pkl already exists. Skipping calculation.\n",
      "File Fly06202022_5d_median6_threshold0.8.pkl already exists. Skipping calculation.\n",
      "File Fly06212022_5d_median6_threshold0.8.pkl already exists. Skipping calculation.\n",
      "File Fly06232022_4d_B_median6_threshold0.8.pkl already exists. Skipping calculation.\n",
      "File Fly06232022_5d_A_SD_median6_threshold0.8.pkl already exists. Skipping calculation.\n",
      "File Fly06232022_5d_B_SD_median6_threshold0.8.pkl already exists. Skipping calculation.\n",
      "File Fly06242022_5d_SD_B_median6_threshold0.8.pkl already exists. Skipping calculation.\n",
      "File Fly06252022_5d_SD_A_median6_threshold0.8.pkl already exists. Skipping calculation.\n",
      "File Fly06242022_5_SD_A_median6_threshold0.8.pkl already exists. Skipping calculation.\n",
      "File Fly06252022_5d_SD_B_median6_threshold0.8.pkl already exists. Skipping calculation.\n",
      "File Fly06262022_5d_SD_A_median6_threshold0.8.pkl already exists. Skipping calculation.\n",
      "File Fly06272022_5d_A_median6_threshold0.8.pkl already exists. Skipping calculation.\n",
      "File Fly06272022_5d_SD_A_median6_threshold0.8.pkl already exists. Skipping calculation.\n",
      "File Fly06282022_5d_B_median6_threshold0.8.pkl already exists. Skipping calculation.\n",
      "File Fly06282022_5d_SD_B_median6_threshold0.8.pkl already exists. Skipping calculation.\n",
      "File Fly06292022_5d_A_median6_threshold0.8.pkl already exists. Skipping calculation.\n",
      "File Fly06292022_5d_B_median6_threshold0.8.pkl already exists. Skipping calculation.\n",
      "File Fly06302022_5d_A_median6_threshold0.8.pkl already exists. Skipping calculation.\n",
      "File Fly06302022_5d_B_median6_threshold0.8.pkl already exists. Skipping calculation.\n",
      "File Fly06302022_5d_SD_A_median6_threshold0.8.pkl already exists. Skipping calculation.\n",
      "File Fly06302022_5d_SD_B_median6_threshold0.8.pkl already exists. Skipping calculation.\n",
      "File Fly07012022_5d_A_median6_threshold0.8.pkl already exists. Skipping calculation.\n",
      "File Fly07012022_5d_B_median6_threshold0.8.pkl already exists. Skipping calculation.\n",
      "File Fly07052022_5d_A_median6_threshold0.8.pkl already exists. Skipping calculation.\n",
      "File Fly07052022_5d_SD_A_median6_threshold0.8.pkl already exists. Skipping calculation.\n",
      "File Fly07062022_5d_A_median6_threshold0.8.pkl already exists. Skipping calculation.\n",
      "File Fly07062022_5d_B_median6_threshold0.8.pkl already exists. Skipping calculation.\n",
      "File Fly07062022_5d_SD_A_median6_threshold0.8.pkl already exists. Skipping calculation.\n",
      "File Fly07062022_5d_SD_B_median6_threshold0.8.pkl already exists. Skipping calculation.\n",
      "File Fly07082022_5d_B_median6_threshold0.8.pkl already exists. Skipping calculation.\n",
      "File Fly07112022_5d_A_median6_threshold0.8.pkl already exists. Skipping calculation.\n",
      "File Fly07122022_5d_A_median6_threshold0.8.pkl already exists. Skipping calculation.\n",
      "File Fly07122022_5d_SD_A_median6_threshold0.8.pkl already exists. Skipping calculation.\n",
      "File Fly07132022_5d_SD_A_median6_threshold0.8.pkl already exists. Skipping calculation.\n",
      "File Fly07132022_5d_SD_B_median6_threshold0.8.pkl already exists. Skipping calculation.\n",
      "File Fly07142022_5d_SD_A_median6_threshold0.8.pkl already exists. Skipping calculation.\n",
      "File Fly07152022_4d_SD_A_median6_threshold0.8.pkl already exists. Skipping calculation.\n",
      "File Fly07182022_7d_SD_A_median6_threshold0.8.pkl already exists. Skipping calculation.\n",
      "File Fly07192022_5d_SD_B_median6_threshold0.8.pkl already exists. Skipping calculation.\n",
      "File Fly07202022_6d_SD_B_median6_threshold0.8.pkl already exists. Skipping calculation.\n",
      "File Fly07212022_6d_SD_A_median6_threshold0.8.pkl already exists. Skipping calculation.\n",
      "File Fly07222022_6d_SD_A_median6_threshold0.8.pkl already exists. Skipping calculation.\n",
      "File Fly07222022_6d_SD_B_median6_threshold0.8.pkl already exists. Skipping calculation.\n",
      "File Fly07252022_6d_A_median6_threshold0.8.pkl already exists. Skipping calculation.\n",
      "File Fly07262022_6d_SD_A_median6_threshold0.8.pkl already exists. Skipping calculation.\n",
      "File Fly07282022_6d_SD_A_median6_threshold0.8.pkl already exists. Skipping calculation.\n",
      "File Fly07282022_6d_SD_B_median6_threshold0.8.pkl already exists. Skipping calculation.\n",
      "File Fly08012022_6d_B_median6_threshold0.8.pkl already exists. Skipping calculation.\n",
      "File Fly08022022_6d_B_median6_threshold0.8.pkl already exists. Skipping calculation.\n",
      "File Fly08032022_6d_B_median6_threshold0.8.pkl already exists. Skipping calculation.\n",
      "File Fly08022022_6d_SD_B_median6_threshold0.8.pkl already exists. Skipping calculation.\n",
      "File Fly08032022_6d_SD_B_median6_threshold0.8.pkl already exists. Skipping calculation.\n"
     ]
    }
   ],
   "source": [
    "process_data.process_expt_names_parallel(llh,io_process.get_binary_mask_subfolder('ProboscisPumping'))"
   ]
  },
  {
   "cell_type": "code",
   "execution_count": 7,
   "metadata": {
    "ExecuteTime": {
     "start_time": "2023-04-07T17:10:11.225116Z",
     "end_time": "2023-04-07T17:10:23.729800Z"
    },
    "collapsed": false,
    "jupyter": {
     "outputs_hidden": false
    }
   },
   "outputs": [],
   "source": [
    "llh  = llh[llh['ExptNames'].isin(df_data.ExptNames.unique())]"
   ]
  },
  {
   "cell_type": "code",
   "execution_count": 8,
   "metadata": {
    "ExecuteTime": {
     "start_time": "2023-04-07T17:10:23.729800Z",
     "end_time": "2023-04-07T17:11:41.009533Z"
    },
    "collapsed": false,
    "jupyter": {
     "outputs_hidden": false
    }
   },
   "outputs": [],
   "source": [
    "newDf = pd.merge(df_data,expt_info_df,left_on = 'ExptNames',right_on = 'ExptNames')"
   ]
  },
  {
   "cell_type": "code",
   "execution_count": 9,
   "metadata": {
    "collapsed": false,
    "jupyter": {
     "outputs_hidden": false
    },
    "ExecuteTime": {
     "start_time": "2023-04-07T17:11:41.009533Z",
     "end_time": "2023-04-07T17:11:41.258041Z"
    }
   },
   "outputs": [],
   "source": [
    "# Create a folder named binary mask and a subfolder for each predicted behavior.\n",
    "# Within that folder save binary mask generated using the likelihood score\n"
   ]
  },
  {
   "cell_type": "code",
   "execution_count": null,
   "metadata": {
    "ExecuteTime": {
     "start_time": "2023-04-07T14:37:17.262500Z",
     "end_time": "2023-04-07T14:37:17.505606Z"
    },
    "collapsed": false,
    "jupyter": {
     "outputs_hidden": false
    }
   },
   "outputs": [],
   "source": [
    "wt_all = newDf[newDf['SD']==False]\n",
    "male_wt = wt_all[wt_all['Sex'] == 'M']\n",
    "female_wt = wt_all[wt_all['Sex'] == 'F']"
   ]
  },
  {
   "cell_type": "code",
   "execution_count": null,
   "metadata": {
    "ExecuteTime": {
     "start_time": "2023-04-07T14:37:30.672394Z",
     "end_time": "2023-04-07T14:37:30.900565Z"
    },
    "collapsed": false,
    "jupyter": {
     "outputs_hidden": false
    }
   },
   "outputs": [],
   "source": [
    "data = BehaviorData(behaviors=BEHAVIORS)"
   ]
  },
  {
   "cell_type": "code",
   "execution_count": null,
   "metadata": {
    "ExecuteTime": {
     "start_time": "2023-04-07T14:37:58.651712Z",
     "end_time": "2023-04-07T14:37:58.950257Z"
    },
    "collapsed": false,
    "jupyter": {
     "outputs_hidden": false
    }
   },
   "outputs": [],
   "source": [
    "newDf"
   ]
  },
  {
   "cell_type": "code",
   "execution_count": 10,
   "metadata": {
    "ExecuteTime": {
     "start_time": "2023-04-07T17:20:59.823795Z",
     "end_time": "2023-04-07T17:28:02.175309Z"
    },
    "collapsed": false,
    "jupyter": {
     "outputs_hidden": false
    }
   },
   "outputs": [
    {
     "name": "stderr",
     "output_type": "stream",
     "text": [
      "100%|██████████| 61/61 [07:02<00:00,  6.92s/it]\n"
     ]
    }
   ],
   "source": [
    "newDf"
   ]
  },
  {
   "cell_type": "code",
   "execution_count": null,
   "metadata": {
    "ExecuteTime": {
     "start_time": "2023-04-07T13:31:18.564515Z",
     "end_time": "2023-04-07T13:31:18.594528Z"
    },
    "collapsed": false,
    "jupyter": {
     "outputs_hidden": false
    }
   },
   "outputs": [],
   "source": [
    "filterer = FilterData(newDf,llh)"
   ]
  },
  {
   "cell_type": "code",
   "execution_count": null,
   "metadata": {
    "ExecuteTime": {
     "start_time": "2023-04-07T13:31:30.769099Z",
     "end_time": "2023-04-07T13:31:31.105199Z"
    },
    "collapsed": false,
    "jupyter": {
     "outputs_hidden": false
    }
   },
   "outputs": [],
   "source": [
    "filterer.plot_mean_likelihood()"
   ]
  },
  {
   "cell_type": "code",
   "execution_count": null,
   "metadata": {
    "ExecuteTime": {
     "start_time": "2023-04-07T13:32:03.923372Z",
     "end_time": "2023-04-07T13:32:04.254912Z"
    },
    "collapsed": false,
    "jupyter": {
     "outputs_hidden": false
    }
   },
   "outputs": [],
   "source": [
    "binary_mask = filterer.create_binary_masks(llh, BODY_PART_SETS, 0.7)"
   ]
  },
  {
   "cell_type": "code",
   "execution_count": null,
   "metadata": {
    "ExecuteTime": {
     "end_time": "2023-04-04T21:31:22.895378Z",
     "start_time": "2023-04-04T21:30:53.991830Z"
    },
    "collapsed": false,
    "jupyter": {
     "outputs_hidden": false
    }
   },
   "outputs": [],
   "source": [
    "masked_data_df = filterer.apply_binary_masks(binary_mask,newDf)"
   ]
  },
  {
   "cell_type": "code",
   "execution_count": null,
   "metadata": {
    "ExecuteTime": {
     "end_time": "2023-04-04T08:39:18.478504Z",
     "start_time": "2023-04-04T08:39:18.468658Z"
    },
    "collapsed": false,
    "jupyter": {
     "outputs_hidden": false
    }
   },
   "outputs": [],
   "source": [
    "masked_data_df"
   ]
  },
  {
   "cell_type": "code",
   "execution_count": null,
   "metadata": {
    "ExecuteTime": {
     "end_time": "2023-04-04T08:17:51.471252Z",
     "start_time": "2023-04-04T08:17:51.437764Z"
    },
    "collapsed": false,
    "jupyter": {
     "outputs_hidden": false
    }
   },
   "outputs": [],
   "source": [
    "binary_mask"
   ]
  },
  {
   "cell_type": "code",
   "execution_count": null,
   "metadata": {
    "ExecuteTime": {
     "end_time": "2023-04-04T08:39:23.731518Z",
     "start_time": "2023-04-04T08:39:23.721518Z"
    },
    "collapsed": false,
    "jupyter": {
     "outputs_hidden": false
    }
   },
   "outputs": [],
   "source": [
    "masked_data_df"
   ]
  },
  {
   "cell_type": "code",
   "execution_count": null,
   "metadata": {
    "ExecuteTime": {
     "end_time": "2023-04-04T09:53:03.149746Z",
     "start_time": "2023-04-04T09:33:16.208548Z"
    },
    "collapsed": false,
    "jupyter": {
     "outputs_hidden": false
    }
   },
   "outputs": [],
   "source": [
    "import pandas as pd\n",
    "import seaborn as sns\n",
    "import matplotlib.pyplot as plt\n",
    "\n",
    "# Assuming your DataFrame is called 'masked_data_df'\n",
    "# and has columns 'ExptNames', 'ValueColumn' (replace with your actual column name)\n",
    "# Add row numbers if they don't exist\n",
    "masked_data_df['Row'] = masked_data_df.index\n",
    "\n",
    "# Pivot the DataFrame\n",
    "pivoted_df = masked_data_df.pivot(index='ExptNames', columns='Row', values='ProboscisPumping')\n",
    "\n",
    "# Create a heatmap using Seaborn, handling NaN values with a different color (e.g., gray)\n",
    "plt.figure(figsize=(16, 9))\n",
    "sns.heatmap(pivoted_df, cmap='coolwarm', linewidths=0.5, cbar_kws={'ticks': [0, 1]}, mask=pivoted_df.isna(), linecolor='gray')\n",
    "\n",
    "# Set plot attributes\n",
    "plt.xlabel('Rows')\n",
    "plt.ylabel('ExptNames')\n",
    "plt.title('Heatmap of Data')\n",
    "\n",
    "# Save the plot as a PNG file\n",
    "FIG_PATH = r'C:\\Users\\Grover\\Documents\\GitHub\\deepsleepfigs'\n",
    "plt.savefig(f\"{FIG_PATH}\\\\heatmap.png\", dpi=300, bbox_inches='tight')\n",
    "\n",
    "# Display the plot in the notebook (optional)\n",
    "plt.show()\n",
    "\n"
   ]
  },
  {
   "cell_type": "code",
   "execution_count": null,
   "metadata": {
    "ExecuteTime": {
     "end_time": "2023-04-04T21:17:07.622165Z",
     "start_time": "2023-04-04T21:17:07.605162Z"
    },
    "collapsed": false,
    "jupyter": {
     "outputs_hidden": false
    }
   },
   "outputs": [],
   "source": [
    "plot_folder = r\"C:\\Users\\Grover\\Documents\\GitHub\\deepsleepfigs\\score_plots\"\n",
    "if not os.path.isdir(plot_folder):\n",
    "    os.makedirs(plot_folder)"
   ]
  },
  {
   "cell_type": "code",
   "execution_count": null,
   "metadata": {
    "ExecuteTime": {
     "end_time": "2023-04-04T21:18:18.025577Z",
     "start_time": "2023-04-04T21:17:07.619165Z"
    },
    "collapsed": false,
    "jupyter": {
     "outputs_hidden": false
    }
   },
   "outputs": [],
   "source": [
    "male_wt['Time'] = male_wt['Idx'].apply(BehaviorData.get_time_stamp)\n",
    "male_wt.index = pd.to_datetime(list(male_wt[\"Time\"]))\n",
    "rate = '1S'\n",
    "male_wt_rs = BehaviorData.resample_df(male_wt,rate,BEHAVIORS)\n",
    "male_wt_rs['TimeStamp'] = male_wt_rs.index"
   ]
  },
  {
   "cell_type": "code",
   "execution_count": null,
   "metadata": {
    "ExecuteTime": {
     "end_time": "2023-04-04T15:36:53.791586Z",
     "start_time": "2023-04-04T15:36:53.741585Z"
    },
    "collapsed": false,
    "jupyter": {
     "outputs_hidden": false
    }
   },
   "outputs": [],
   "source": [
    "male_wt"
   ]
  },
  {
   "cell_type": "code",
   "execution_count": null,
   "metadata": {
    "ExecuteTime": {
     "end_time": "2023-04-04T12:25:54.326013Z",
     "start_time": "2023-04-04T12:25:54.298730Z"
    },
    "collapsed": false,
    "jupyter": {
     "outputs_hidden": false
    }
   },
   "outputs": [],
   "source": [
    "llh['Time'] = llh['Idx'].apply(BehaviorData.get_time_stamp)"
   ]
  },
  {
   "cell_type": "code",
   "execution_count": null,
   "metadata": {
    "ExecuteTime": {
     "end_time": "2023-04-04T21:30:52.769212Z",
     "start_time": "2023-04-04T21:18:18.053583Z"
    },
    "collapsed": false,
    "jupyter": {
     "outputs_hidden": false
    }
   },
   "outputs": [],
   "source": [
    "BehaviorData.pivot_and_plot(male_wt_rs,'mal_b_scr_',plot_folder,rate,BEHAVIORS)"
   ]
  },
  {
   "cell_type": "code",
   "execution_count": null,
   "metadata": {
    "ExecuteTime": {
     "end_time": "2023-04-04T15:30:16.892051Z",
     "start_time": "2023-04-04T15:30:16.862051Z"
    },
    "collapsed": false,
    "jupyter": {
     "outputs_hidden": false
    }
   },
   "outputs": [],
   "source": [
    "import os"
   ]
  },
  {
   "cell_type": "code",
   "execution_count": null,
   "metadata": {
    "ExecuteTime": {
     "end_time": "2023-04-04T15:32:09.208182Z",
     "start_time": "2023-04-04T15:32:09.178182Z"
    },
    "collapsed": false,
    "jupyter": {
     "outputs_hidden": false
    }
   },
   "outputs": [],
   "source": [
    "os.listdir(plot_folder)"
   ]
  },
  {
   "cell_type": "code",
   "execution_count": null,
   "metadata": {
    "ExecuteTime": {
     "end_time": "2023-04-04T15:36:19.689442Z",
     "start_time": "2023-04-04T15:36:16.560783Z"
    },
    "collapsed": false,
    "jupyter": {
     "outputs_hidden": false
    }
   },
   "outputs": [],
   "source": [
    "df_pivoted = male_wt_rs.pivot(index='ExptNames', columns='TimeStamp', values='ProboscisPumping')\n",
    "a4_dims = (25.7, 5.27)\n",
    "fig, ax = plt.subplots(figsize=a4_dims)\n",
    "plt.title('ProboscisPumping')\n",
    "ax = sns.heatmap(df_pivoted, cmap='YlGnBu')"
   ]
  },
  {
   "cell_type": "code",
   "execution_count": null,
   "metadata": {
    "ExecuteTime": {
     "end_time": "2023-04-04T15:36:28.774090Z",
     "start_time": "2023-04-04T15:36:28.704090Z"
    },
    "collapsed": false,
    "jupyter": {
     "outputs_hidden": false
    }
   },
   "outputs": [],
   "source": [
    "male_wt_rs"
   ]
  },
  {
   "cell_type": "code",
   "execution_count": null,
   "metadata": {
    "ExecuteTime": {
     "end_time": "2023-04-05T10:24:16.158940Z",
     "start_time": "2023-04-05T10:24:16.128940Z"
    },
    "collapsed": false,
    "jupyter": {
     "outputs_hidden": false
    }
   },
   "outputs": [],
   "source": [
    "result_df_parallel = BehaviorData.process_expt_names_parallel(male_wt, llh)\n",
    "print(result_df_parallel)"
   ]
  },
  {
   "cell_type": "code",
   "execution_count": null,
   "metadata": {
    "collapsed": false,
    "jupyter": {
     "outputs_hidden": false
    }
   },
   "outputs": [],
   "source": [
    "\n",
    "unique_expt_names = male_wt['ExptNames'].unique()\n",
    "\n",
    "unmasked_data = np.vstack([result_df_parallel[f'{expt_name}_unmasked'] for expt_name in unique_expt_names])\n",
    "masked_data = np.vstack([result_df_parallel[f'{expt_name}_masked'] for expt_name in unique_expt_names])\n",
    "\n",
    "# Plot the heatmap\n",
    "plt.figure(figsize=(10, 3))\n",
    "sns.heatmap(data, cmap='YlGnBu')\n",
    "plt.xlabel('Data')\n",
    "plt.ylabel('Arrays')\n",
    "plt.yticks([0.5, 1.5], ['Array 1', 'Array 2'], rotation=0)\n",
    "plt.show()\n"
   ]
  },
  {
   "cell_type": "code",
   "execution_count": null,
   "metadata": {
    "ExecuteTime": {
     "end_time": "2023-04-05T13:13:12.747942Z",
     "start_time": "2023-04-05T13:13:11.844120Z"
    },
    "collapsed": false,
    "jupyter": {
     "outputs_hidden": false
    }
   },
   "outputs": [],
   "source": [
    "unique_expt_names = male_wt['ExptNames'].unique()\n",
    "\n",
    "a4_dims = (25.7, 5.27)\n",
    "# Plot the unmasked data heatmap\n",
    "#plt.figure(figsize=(a4_dims))\n",
    "#sns.heatmap(unmasked_data, cmap='YlGnBu', yticklabels=unique_expt_names)\n",
    "#plt.xlabel('Data')\n",
    "#plt.ylabel('ExptNames')\n",
    "#plt.title('Unmasked Data')\n",
    "#plt.savefig(os.path.join(plot_folder,'unmasked_data_heatmap_full_07.png'), dpi=300)  # Save the figure as a PNG file\n",
    "#plt.show()\n",
    "\n"
   ]
  },
  {
   "cell_type": "code",
   "execution_count": null,
   "metadata": {
    "ExecuteTime": {
     "end_time": "2023-04-05T13:15:44.991104Z",
     "start_time": "2023-04-05T13:13:19.470299Z"
    },
    "collapsed": false,
    "jupyter": {
     "outputs_hidden": false
    }
   },
   "outputs": [],
   "source": [
    "\n",
    "# Plot the masked data heatmap\n",
    "plt.figure(figsize=(a4_dims))\n",
    "sns.heatmap(masked_data, cmap='YlGnBu', yticklabels=unique_expt_names)\n",
    "plt.xlabel('Data')\n",
    "plt.ylabel('ExptNames')\n",
    "plt.title('Masked Data')\n",
    "plt.savefig(os.path.join(plot_folder,'masked_data_heatmap_full_09.png'), dpi=300)\n",
    "plt.show()"
   ]
  },
  {
   "cell_type": "code",
   "execution_count": null,
   "metadata": {
    "ExecuteTime": {
     "end_time": "2023-04-05T22:05:54.402754Z",
     "start_time": "2023-04-05T22:05:54.377485Z"
    },
    "collapsed": false,
    "jupyter": {
     "outputs_hidden": false
    }
   },
   "outputs": [],
   "source": [
    "snap_paths = [{expt_names : os.path.join(project.project_path,expt_names,'snap_stft.pkl')} for expt_names in project.expt_names]\n",
    "snap_col_names = [os.path.join(project.project_path,expt_names,'ftname_to_snapft.yaml') for expt_names in project.expt_names]"
   ]
  },
  {
   "cell_type": "code",
   "execution_count": null,
   "metadata": {
    "ExecuteTime": {
     "end_time": "2023-04-06T09:39:04.845527Z",
     "start_time": "2023-04-06T09:39:04.806500Z"
    },
    "collapsed": false,
    "jupyter": {
     "outputs_hidden": false
    }
   },
   "outputs": [],
   "source": [
    "df_data"
   ]
  },
  {
   "cell_type": "code",
   "execution_count": null,
   "metadata": {
    "ExecuteTime": {
     "end_time": "2023-04-06T09:39:56.867058Z",
     "start_time": "2023-04-06T09:39:56.827057Z"
    },
    "collapsed": false,
    "jupyter": {
     "outputs_hidden": false
    }
   },
   "outputs": [],
   "source": [
    "df_data"
   ]
  },
  {
   "cell_type": "code",
   "execution_count": null,
   "metadata": {
    "collapsed": false,
    "jupyter": {
     "outputs_hidden": false
    }
   },
   "outputs": [],
   "source": []
  }
 ],
 "metadata": {
  "kernelspec": {
   "display_name": "Python 3 (ipykernel)",
   "language": "python",
   "name": "python3"
  },
  "language_info": {
   "codemirror_mode": {
    "name": "ipython",
    "version": 3
   },
   "file_extension": ".py",
   "mimetype": "text/x-python",
   "name": "python",
   "nbconvert_exporter": "python",
   "pygments_lexer": "ipython3",
   "version": "3.9.0"
  }
 },
 "nbformat": 4,
 "nbformat_minor": 4
}
