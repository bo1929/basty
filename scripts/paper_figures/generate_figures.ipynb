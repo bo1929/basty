{
 "cells": [
  {
   "cell_type": "code",
   "execution_count": 1,
   "metadata": {
    "collapsed": true,
    "ExecuteTime": {
     "start_time": "2023-04-03T22:39:04.763218Z",
     "end_time": "2023-04-03T22:39:05.146783Z"
    }
   },
   "outputs": [],
   "source": [
    "\n",
    "import joblib as jb\n",
    "import pandas as pd\n",
    "import numpy as np\n",
    "import re\n",
    "import os\n",
    "import matplotlib\n",
    "import matplotlib.pyplot as plt\n",
    "plt.rcParams['svg.fonttype'] = 'none'\n",
    "plt.rcParams['pdf.fonttype'] = 42\n",
    "import basty.project.experiment_processing as experiment_processing\n",
    "import seaborn as sns\n",
    "sns.set_theme(style = 'dark')\n",
    "import datetime\n",
    "from dateutil import parser\n",
    "import matplotlib.dates as mdates\n",
    "\n",
    "from pathlib import Path\n",
    "from basty.utils import misc\n",
    "from process_results import BehaviorData\n",
    "from filter_flies import FilterData\n",
    "import sys\n",
    "sys.path.append(\"/home/grover/Desktop/gitDLC/basty\")"
   ]
  },
  {
   "cell_type": "code",
   "execution_count": 2,
   "outputs": [],
   "source": [
    "CONFIG_PATH = r\"Z:\\mfk\\basty-projects\\main_cfg.yaml\"\n",
    "project = experiment_processing.Project(\n",
    "   CONFIG_PATH\n",
    ")\n",
    "FPS = project.fps\n",
    "FIG_PATH = r'C:\\Users\\Grover\\Documents\\GitHub\\deepsleepfigs'"
   ],
   "metadata": {
    "collapsed": false,
    "ExecuteTime": {
     "start_time": "2023-04-03T22:39:05.146305Z",
     "end_time": "2023-04-03T22:39:05.647779Z"
    }
   }
  },
  {
   "cell_type": "code",
   "execution_count": 3,
   "outputs": [],
   "source": [
    "data_path_dict = project.data_path_dict\n",
    "df = misc.parse_experiment_names(data_path_dict)\n",
    "flysexpath = r'Y:\\DeepSleepPaperData\\flysexinfo.yaml'\n",
    "df = misc.update_expt_info_df(df,flysexpath)"
   ],
   "metadata": {
    "collapsed": false,
    "ExecuteTime": {
     "start_time": "2023-04-03T22:39:06.251419Z",
     "end_time": "2023-04-03T22:39:06.527628Z"
    }
   }
  },
  {
   "cell_type": "code",
   "execution_count": 4,
   "outputs": [
    {
     "data": {
      "text/plain": "                    ExptNames  \\\n0         Fly01182022_F_A_8am   \n1         Fly01192022_F_B_8am   \n2         Fly01202022_F_A_8am   \n3         Fly01232022_M_B_8am   \n4         Fly01242022_F_A_8am   \n..                        ...   \n72     Fly08182021_F_B_6d_8am   \n73  Fly11052021_F_A_SD_5D_8am   \n74           Fly11152020_F_SD   \n75  Fly11192021_F_A_SD_5D_9am   \n76  Fly11242021_F_B_SD_5D_9am   \n\n                                                 Path     SD  Age Sex  \\\n0   Y:\\DeepSleepPaperData\\Annotated\\WT\\Fly01182022...  False  5.0   F   \n1   Y:\\DeepSleepPaperData\\Annotated\\WT\\Fly01192022...  False  5.0   F   \n2   Y:\\DeepSleepPaperData\\Annotated\\WT\\Fly01202022...  False  5.0   F   \n3   Y:\\DeepSleepPaperData\\Annotated\\WT\\Fly01232022...  False  5.0   M   \n4   Y:\\DeepSleepPaperData\\Annotated\\WT\\Fly01242022...  False  5.0   F   \n..                                                ...    ...  ...  ..   \n72  Y:\\DeepSleepPaperData\\Annotated\\WT\\Fly08182021...  False  6.0   F   \n73  Y:\\DeepSleepPaperData\\Annotated\\SD\\Fly11052021...   True  5.0   F   \n74  Y:\\DeepSleepPaperData\\Annotated\\SD\\Fly11152020...   True  5.0   F   \n75  Y:\\DeepSleepPaperData\\Annotated\\SD\\Fly11192021...   True  5.0   F   \n76  Y:\\DeepSleepPaperData\\Annotated\\SD\\Fly11242021...   True  5.0   F   \n\n   Experimenter  \n0            MK  \n1            MK  \n2            MK  \n3            MK  \n4            MK  \n..          ...  \n72           MK  \n73           MK  \n74           MK  \n75           MK  \n76           MK  \n\n[77 rows x 6 columns]",
      "text/html": "<div>\n<style scoped>\n    .dataframe tbody tr th:only-of-type {\n        vertical-align: middle;\n    }\n\n    .dataframe tbody tr th {\n        vertical-align: top;\n    }\n\n    .dataframe thead th {\n        text-align: right;\n    }\n</style>\n<table border=\"1\" class=\"dataframe\">\n  <thead>\n    <tr style=\"text-align: right;\">\n      <th></th>\n      <th>ExptNames</th>\n      <th>Path</th>\n      <th>SD</th>\n      <th>Age</th>\n      <th>Sex</th>\n      <th>Experimenter</th>\n    </tr>\n  </thead>\n  <tbody>\n    <tr>\n      <th>0</th>\n      <td>Fly01182022_F_A_8am</td>\n      <td>Y:\\DeepSleepPaperData\\Annotated\\WT\\Fly01182022...</td>\n      <td>False</td>\n      <td>5.0</td>\n      <td>F</td>\n      <td>MK</td>\n    </tr>\n    <tr>\n      <th>1</th>\n      <td>Fly01192022_F_B_8am</td>\n      <td>Y:\\DeepSleepPaperData\\Annotated\\WT\\Fly01192022...</td>\n      <td>False</td>\n      <td>5.0</td>\n      <td>F</td>\n      <td>MK</td>\n    </tr>\n    <tr>\n      <th>2</th>\n      <td>Fly01202022_F_A_8am</td>\n      <td>Y:\\DeepSleepPaperData\\Annotated\\WT\\Fly01202022...</td>\n      <td>False</td>\n      <td>5.0</td>\n      <td>F</td>\n      <td>MK</td>\n    </tr>\n    <tr>\n      <th>3</th>\n      <td>Fly01232022_M_B_8am</td>\n      <td>Y:\\DeepSleepPaperData\\Annotated\\WT\\Fly01232022...</td>\n      <td>False</td>\n      <td>5.0</td>\n      <td>M</td>\n      <td>MK</td>\n    </tr>\n    <tr>\n      <th>4</th>\n      <td>Fly01242022_F_A_8am</td>\n      <td>Y:\\DeepSleepPaperData\\Annotated\\WT\\Fly01242022...</td>\n      <td>False</td>\n      <td>5.0</td>\n      <td>F</td>\n      <td>MK</td>\n    </tr>\n    <tr>\n      <th>...</th>\n      <td>...</td>\n      <td>...</td>\n      <td>...</td>\n      <td>...</td>\n      <td>...</td>\n      <td>...</td>\n    </tr>\n    <tr>\n      <th>72</th>\n      <td>Fly08182021_F_B_6d_8am</td>\n      <td>Y:\\DeepSleepPaperData\\Annotated\\WT\\Fly08182021...</td>\n      <td>False</td>\n      <td>6.0</td>\n      <td>F</td>\n      <td>MK</td>\n    </tr>\n    <tr>\n      <th>73</th>\n      <td>Fly11052021_F_A_SD_5D_8am</td>\n      <td>Y:\\DeepSleepPaperData\\Annotated\\SD\\Fly11052021...</td>\n      <td>True</td>\n      <td>5.0</td>\n      <td>F</td>\n      <td>MK</td>\n    </tr>\n    <tr>\n      <th>74</th>\n      <td>Fly11152020_F_SD</td>\n      <td>Y:\\DeepSleepPaperData\\Annotated\\SD\\Fly11152020...</td>\n      <td>True</td>\n      <td>5.0</td>\n      <td>F</td>\n      <td>MK</td>\n    </tr>\n    <tr>\n      <th>75</th>\n      <td>Fly11192021_F_A_SD_5D_9am</td>\n      <td>Y:\\DeepSleepPaperData\\Annotated\\SD\\Fly11192021...</td>\n      <td>True</td>\n      <td>5.0</td>\n      <td>F</td>\n      <td>MK</td>\n    </tr>\n    <tr>\n      <th>76</th>\n      <td>Fly11242021_F_B_SD_5D_9am</td>\n      <td>Y:\\DeepSleepPaperData\\Annotated\\SD\\Fly11242021...</td>\n      <td>True</td>\n      <td>5.0</td>\n      <td>F</td>\n      <td>MK</td>\n    </tr>\n  </tbody>\n</table>\n<p>77 rows × 6 columns</p>\n</div>"
     },
     "execution_count": 4,
     "metadata": {},
     "output_type": "execute_result"
    }
   ],
   "source": [
    "df"
   ],
   "metadata": {
    "collapsed": false,
    "ExecuteTime": {
     "start_time": "2023-04-03T22:39:07.592895Z",
     "end_time": "2023-04-03T22:39:07.611899Z"
    }
   }
  },
  {
   "cell_type": "code",
   "execution_count": null,
   "outputs": [
    {
     "name": "stdout",
     "output_type": "stream",
     "text": [
      "Loading existing llh_df.pickle file...\n"
     ]
    }
   ],
   "source": [
    "llh = misc.get_likelihood(data_path_dict,CONFIG_PATH,n_workers=None)"
   ],
   "metadata": {
    "collapsed": false,
    "ExecuteTime": {
     "start_time": "2023-04-03T22:08:17.574307Z",
     "end_time": "2023-04-03T22:22:44.388372Z"
    },
    "pycharm": {
     "is_executing": true
    }
   }
  },
  {
   "cell_type": "code",
   "execution_count": null,
   "outputs": [],
   "source": [
    "results_folder = r\"Z:\\mfk\\basty-projects\\backup-allnohaltere\\results\\semisupervised_pair_kNN\\predictions.15NN.neighbor_weights-distance.neighbor_weights_norm-log_count.activation-standard.voting-soft.voting_weights-None\\exports\""
   ],
   "metadata": {
    "collapsed": false,
    "ExecuteTime": {
     "start_time": "2023-04-03T22:23:51.580828Z",
     "end_time": "2023-04-03T22:23:51.600832Z"
    },
    "pycharm": {
     "is_executing": true
    }
   }
  },
  {
   "cell_type": "code",
   "execution_count": null,
   "outputs": [],
   "source": [
    "csv_files = [file for file in os.listdir(results_folder) if file.endswith('.csv')]"
   ],
   "metadata": {
    "collapsed": false,
    "ExecuteTime": {
     "start_time": "2023-04-03T22:23:59.639670Z",
     "end_time": "2023-04-03T22:23:59.654672Z"
    },
    "pycharm": {
     "is_executing": true
    }
   }
  },
  {
   "cell_type": "code",
   "execution_count": null,
   "outputs": [],
   "source": [
    "dfs = list()\n",
    "for file in csv_files:\n",
    "    data = pd.read_csv(os.path.join(results_folder,file))\n",
    "    data['ExptNames'] = os.path.splitext(file)[0]\n",
    "    dfs.append(data)\n",
    "\n",
    "df_data = pd.concat(dfs, ignore_index = True)\n",
    "df_data = df_data.rename(columns = {'Unnamed: 0': 'Idx'})"
   ],
   "metadata": {
    "collapsed": false,
    "ExecuteTime": {
     "start_time": "2023-04-03T22:23:59.654672Z",
     "end_time": "2023-04-03T22:24:44.050256Z"
    },
    "pycharm": {
     "is_executing": true
    }
   }
  },
  {
   "cell_type": "code",
   "execution_count": null,
   "outputs": [],
   "source": [
    "#Remove unnecessary columns\n",
    "df_data.drop(['HaltereSwitch','Noise'],axis=1,inplace=True)"
   ],
   "metadata": {
    "collapsed": false,
    "ExecuteTime": {
     "start_time": "2023-04-03T22:24:44.052257Z",
     "end_time": "2023-04-03T22:24:45.523588Z"
    }
   }
  },
  {
   "cell_type": "code",
   "execution_count": null,
   "outputs": [],
   "source": [
    "llh  = llh[llh['ExptNames'].isin(df_data.ExptNames.unique())]"
   ],
   "metadata": {
    "collapsed": false,
    "ExecuteTime": {
     "start_time": "2023-04-03T22:24:45.539592Z",
     "end_time": "2023-04-03T22:24:59.204703Z"
    }
   }
  },
  {
   "cell_type": "code",
   "execution_count": null,
   "outputs": [],
   "source": [],
   "metadata": {
    "collapsed": false,
    "ExecuteTime": {
     "start_time": "2023-04-03T22:24:59.205699Z",
     "end_time": "2023-04-03T22:24:59.219702Z"
    }
   }
  },
  {
   "cell_type": "code",
   "execution_count": null,
   "outputs": [],
   "source": [
    "BODY_PART_SETS = {'ProboscisPumping':'prob'}\n",
    "\n",
    "BEHAVIORS = [\n",
    "'Idle&Other',\n",
    "'PosturalAdjustment&Moving',\n",
    "'Feeding',\n",
    "'Grooming',\n",
    "'ProboscisPumping']"
   ],
   "metadata": {
    "collapsed": false,
    "ExecuteTime": {
     "start_time": "2023-04-03T22:24:59.221702Z",
     "end_time": "2023-04-03T22:24:59.239707Z"
    }
   }
  },
  {
   "cell_type": "code",
   "execution_count": null,
   "outputs": [],
   "source": [
    "newDf = pd.merge(df_data,df,left_on = 'ExptNames',right_on = 'ExptNames')"
   ],
   "metadata": {
    "collapsed": false,
    "ExecuteTime": {
     "start_time": "2023-04-03T22:24:59.236706Z",
     "end_time": "2023-04-03T22:25:10.119707Z"
    }
   }
  },
  {
   "cell_type": "code",
   "execution_count": null,
   "outputs": [],
   "source": [
    "wt_all = newDf[newDf['SD']==False]\n",
    "male_wt = wt_all[wt_all['Sex'] == 'M']\n",
    "female_wt = wt_all[wt_all['Sex'] == 'F']"
   ],
   "metadata": {
    "collapsed": false,
    "ExecuteTime": {
     "start_time": "2023-04-03T22:25:10.121707Z",
     "end_time": "2023-04-03T22:25:22.751488Z"
    }
   }
  },
  {
   "cell_type": "code",
   "execution_count": null,
   "outputs": [],
   "source": [
    "data = BehaviorData(behaviors=BEHAVIORS)"
   ],
   "metadata": {
    "collapsed": false,
    "ExecuteTime": {
     "start_time": "2023-04-03T22:25:22.752490Z",
     "end_time": "2023-04-03T22:25:22.766492Z"
    }
   }
  },
  {
   "cell_type": "code",
   "execution_count": null,
   "outputs": [],
   "source": [
    "llh"
   ],
   "metadata": {
    "collapsed": false,
    "ExecuteTime": {
     "start_time": "2023-04-03T16:14:22.580022Z",
     "end_time": "2023-04-03T16:14:33.180192Z"
    }
   }
  },
  {
   "cell_type": "code",
   "execution_count": null,
   "outputs": [],
   "source": [
    "newDf"
   ],
   "metadata": {
    "collapsed": false,
    "ExecuteTime": {
     "start_time": "2023-04-03T16:16:55.958862Z",
     "end_time": "2023-04-03T16:16:56.005740Z"
    }
   }
  },
  {
   "cell_type": "code",
   "execution_count": null,
   "outputs": [],
   "source": [
    "filterer = FilterData(newDf,llh)"
   ],
   "metadata": {
    "collapsed": false,
    "ExecuteTime": {
     "start_time": "2023-04-03T22:25:22.767492Z",
     "end_time": "2023-04-03T22:25:22.785497Z"
    }
   }
  },
  {
   "cell_type": "code",
   "execution_count": null,
   "outputs": [],
   "source": [
    "filterer.plot_mean_likelihood()"
   ],
   "metadata": {
    "collapsed": false,
    "ExecuteTime": {
     "start_time": "2023-04-03T16:29:20.616946Z",
     "end_time": "2023-04-03T16:32:01.654793Z"
    }
   }
  },
  {
   "cell_type": "code",
   "execution_count": null,
   "outputs": [],
   "source": [
    "binary_mask = filterer.create_binary_masks(llh, BODY_PART_SETS, 0.6)"
   ],
   "metadata": {
    "collapsed": false,
    "ExecuteTime": {
     "start_time": "2023-04-03T22:25:22.783495Z",
     "end_time": "2023-04-03T22:25:23.801725Z"
    }
   }
  },
  {
   "cell_type": "code",
   "execution_count": null,
   "outputs": [],
   "source": [
    "filterer.apply_binary_masks(binary_mask,newDf)"
   ],
   "metadata": {
    "collapsed": false,
    "ExecuteTime": {
     "start_time": "2023-04-03T21:57:39.077048Z",
     "end_time": "2023-04-03T21:57:39.084050Z"
    }
   }
  },
  {
   "cell_type": "code",
   "execution_count": null,
   "outputs": [],
   "source": [
    "binary_mask"
   ],
   "metadata": {
    "collapsed": false
   }
  },
  {
   "cell_type": "code",
   "execution_count": null,
   "outputs": [],
   "source": [],
   "metadata": {
    "collapsed": false
   }
  }
 ],
 "metadata": {
  "kernelspec": {
   "name": "python3",
   "language": "python",
   "display_name": "Python 3 (ipykernel)"
  },
  "language_info": {
   "codemirror_mode": {
    "name": "ipython",
    "version": 2
   },
   "file_extension": ".py",
   "mimetype": "text/x-python",
   "name": "python",
   "nbconvert_exporter": "python",
   "pygments_lexer": "ipython2",
   "version": "2.7.6"
  }
 },
 "nbformat": 4,
 "nbformat_minor": 0
}
