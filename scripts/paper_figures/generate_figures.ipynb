{
 "cells": [
  {
   "cell_type": "code",
   "execution_count": 1,
   "metadata": {
    "ExecuteTime": {
     "start_time": "2023-04-10T17:01:08.592299Z",
     "end_time": "2023-04-10T17:01:08.962524Z"
    },
    "collapsed": true,
    "jupyter": {
     "outputs_hidden": true
    },
    "tags": []
   },
   "outputs": [],
   "source": [
    "import pandas as pd\n",
    "import numpy as np\n",
    "import os\n",
    "import matplotlib.pyplot as plt\n",
    "\n",
    "plt.rcParams[\"svg.fonttype\"] = \"none\"\n",
    "plt.rcParams[\"pdf.fonttype\"] = 42\n",
    "import basty.project.experiment_processing as experiment_processing\n",
    "import seaborn as sns\n",
    "\n",
    "sns.set_theme(style=\"dark\")\n",
    "from basty.utils import misc\n",
    "from process_results import BehaviorData\n",
    "from filter_flies import FilterData\n",
    "from input import Input\n",
    "\n",
    "import sys\n",
    "\n",
    "sys.path.append(r\"C:\\Users\\Grover\\Documents\\GitHub>basty\")"
   ]
  },
  {
   "cell_type": "code",
   "execution_count": 2,
   "metadata": {
    "ExecuteTime": {
     "start_time": "2023-04-10T17:01:08.962524Z",
     "end_time": "2023-04-10T17:01:09.473128Z"
    },
    "collapsed": false,
    "jupyter": {
     "outputs_hidden": false
    },
    "tags": []
   },
   "outputs": [],
   "source": [
    "CONFIG_PATH = r\"Z:\\mfk\\basty-projects\\main_cfg.yaml\"\n",
    "project = experiment_processing.Project(CONFIG_PATH)\n",
    "FPS = project.fps\n",
    "FIG_PATH = r\"C:\\Users\\Grover\\Documents\\GitHub\\deepsleepfigs\"\n",
    "\n",
    "RESULTS_FOLDER = r\"Z:\\mfk\\basty-projects\\backup-allnohaltere\\results\\semisupervised_pair_kNN\\predictions.15NN.neighbor_weights-distance.neighbor_weights_norm-log_count.activation-standard.voting-soft.voting_weights-None\\exports\"\n",
    "\n",
    "BODY_PART_SETS = {\"ProboscisPumping\": \"prob\"}\n",
    "\n",
    "TMP_RESULT_FOLDER = r\"Z:\\mfk\\basty-projects\"\n",
    "\n",
    "BEHAVIORS = [\n",
    "    \"Idle&Other\",\n",
    "    \"PosturalAdjustment&Moving\",\n",
    "    \"Feeding\",\n",
    "    \"Grooming\",\n",
    "    \"ProboscisPumping\",\n",
    "]"
   ]
  },
  {
   "cell_type": "code",
   "execution_count": 3,
   "metadata": {
    "ExecuteTime": {
     "start_time": "2023-04-10T17:01:09.473128Z",
     "end_time": "2023-04-10T17:01:55.028425Z"
    },
    "collapsed": false,
    "jupyter": {
     "outputs_hidden": false
    },
    "tags": []
   },
   "outputs": [],
   "source": [
    "io_process = Input(project, RESULTS_FOLDER, TMP_RESULT_FOLDER)\n",
    "expt_info_df = io_process.load_expt_info()\n",
    "df_data = io_process.load_predictions()\n",
    "df_data.drop([\"HaltereSwitch\", \"Noise\"], axis=1, inplace=True)\n",
    "io_process.create_binary_masks_subfolders(BEHAVIORS)"
   ]
  },
  {
   "cell_type": "code",
   "execution_count": 4,
   "metadata": {
    "ExecuteTime": {
     "start_time": "2023-04-10T17:01:55.031919Z",
     "end_time": "2023-04-10T17:06:24.471159Z"
    },
    "collapsed": false,
    "jupyter": {
     "outputs_hidden": false
    },
    "tags": []
   },
   "outputs": [
    {
     "name": "stdout",
     "output_type": "stream",
     "text": [
      "Loading existing llh_df.pickle file...\n"
     ]
    }
   ],
   "source": [
    "llh = misc.get_likelihood(project.data_path_dict, CONFIG_PATH, n_worked)"
   ]
  },
  {
   "cell_type": "code",
   "execution_count": 5,
   "metadata": {
    "ExecuteTime": {
     "start_time": "2023-04-10T17:06:24.472299Z",
     "end_time": "2023-04-10T17:06:24.479386Z"
    },
    "collapsed": false,
    "jupyter": {
     "outputs_hidden": false
    },
    "tags": []
   },
   "outputs": [],
   "source": [
    "process_data = BehaviorData(df_data, binary_mask_threshold=0.8)"
   ]
  },
  {
   "cell_type": "code",
   "execution_count": 6,
   "metadata": {
    "ExecuteTime": {
     "start_time": "2023-04-10T17:06:24.481417Z",
     "end_time": "2023-04-10T17:06:27.962764Z"
    },
    "collapsed": false,
    "jupyter": {
     "outputs_hidden": false
    },
    "tags": []
   },
   "outputs": [
    {
     "name": "stdout",
     "output_type": "stream",
     "text": [
      "File Fly05182022_5d_median6_threshold0.8.pkl already exists. Skipping calculation.File Fly06142022_SD_5d_median6_threshold0.8.pkl already exists. Skipping calculation.\n",
      "File Fly05202022_5d_median6_threshold0.8.pkl already exists. Skipping calculation.\n",
      "File Fly05222022_5d_median6_threshold0.8.pkl already exists. Skipping calculation.\n",
      "File Fly05252022_SD_5d_median6_threshold0.8.pkl already exists. Skipping calculation.\n",
      "File Fly05272022_SD_5d_median6_threshold0.8.pkl already exists. Skipping calculation.\n",
      "File Fly06072022_5d_median6_threshold0.8.pkl already exists. Skipping calculation.\n",
      "File Fly06082022_5d_median6_threshold0.8.pkl already exists. Skipping calculation.\n",
      "\n",
      "File Fly06152022_6d_median6_threshold0.8.pkl already exists. Skipping calculation.\n",
      "File Fly06202022_5d_median6_threshold0.8.pkl already exists. Skipping calculation.\n",
      "File Fly06212022_5d_median6_threshold0.8.pkl already exists. Skipping calculation.\n",
      "File Fly06182022_4d_median6_threshold0.8.pkl already exists. Skipping calculation.\n",
      "File Fly06232022_4d_B_median6_threshold0.8.pkl already exists. Skipping calculation.\n",
      "File Fly06232022_5d_A_SD_median6_threshold0.8.pkl already exists. Skipping calculation.\n",
      "File Fly06232022_5d_B_SD_median6_threshold0.8.pkl already exists. Skipping calculation.\n",
      "File Fly06242022_5d_SD_B_median6_threshold0.8.pkl already exists. Skipping calculation.\n",
      "File Fly06252022_5d_SD_A_median6_threshold0.8.pkl already exists. Skipping calculation.\n",
      "File Fly06242022_5_SD_A_median6_threshold0.8.pkl already exists. Skipping calculation.\n",
      "File Fly06252022_5d_SD_B_median6_threshold0.8.pkl already exists. Skipping calculation.\n",
      "File Fly06262022_5d_SD_A_median6_threshold0.8.pkl already exists. Skipping calculation.\n",
      "File Fly06272022_5d_A_median6_threshold0.8.pkl already exists. Skipping calculation.\n",
      "File Fly06272022_5d_SD_A_median6_threshold0.8.pkl already exists. Skipping calculation.\n",
      "File Fly06282022_5d_B_median6_threshold0.8.pkl already exists. Skipping calculation.\n",
      "File Fly06282022_5d_SD_B_median6_threshold0.8.pkl already exists. Skipping calculation.\n",
      "File Fly06292022_5d_A_median6_threshold0.8.pkl already exists. Skipping calculation.\n",
      "File Fly06292022_5d_B_median6_threshold0.8.pkl already exists. Skipping calculation.\n",
      "File Fly06302022_5d_A_median6_threshold0.8.pkl already exists. Skipping calculation.\n",
      "File Fly06302022_5d_B_median6_threshold0.8.pkl already exists. Skipping calculation.\n",
      "File Fly06302022_5d_SD_A_median6_threshold0.8.pkl already exists. Skipping calculation.\n",
      "File Fly06302022_5d_SD_B_median6_threshold0.8.pkl already exists. Skipping calculation.\n",
      "File Fly07012022_5d_A_median6_threshold0.8.pkl already exists. Skipping calculation.\n",
      "File Fly07012022_5d_B_median6_threshold0.8.pkl already exists. Skipping calculation.\n",
      "File Fly07052022_5d_A_median6_threshold0.8.pkl already exists. Skipping calculation.\n",
      "File Fly07052022_5d_SD_A_median6_threshold0.8.pkl already exists. Skipping calculation.\n",
      "File Fly07062022_5d_A_median6_threshold0.8.pkl already exists. Skipping calculation.\n",
      "File Fly07062022_5d_B_median6_threshold0.8.pkl already exists. Skipping calculation.\n",
      "File Fly07062022_5d_SD_A_median6_threshold0.8.pkl already exists. Skipping calculation.\n",
      "File Fly07062022_5d_SD_B_median6_threshold0.8.pkl already exists. Skipping calculation.\n",
      "File Fly07082022_5d_B_median6_threshold0.8.pkl already exists. Skipping calculation.\n",
      "File Fly07112022_5d_A_median6_threshold0.8.pkl already exists. Skipping calculation.\n",
      "File Fly07122022_5d_A_median6_threshold0.8.pkl already exists. Skipping calculation.\n",
      "File Fly07122022_5d_SD_A_median6_threshold0.8.pkl already exists. Skipping calculation.\n",
      "File Fly07132022_5d_SD_A_median6_threshold0.8.pkl already exists. Skipping calculation.\n",
      "File Fly07132022_5d_SD_B_median6_threshold0.8.pkl already exists. Skipping calculation.\n",
      "File Fly07142022_5d_SD_A_median6_threshold0.8.pkl already exists. Skipping calculation.\n",
      "File Fly07182022_7d_SD_A_median6_threshold0.8.pkl already exists. Skipping calculation.\n",
      "File Fly07152022_4d_SD_A_median6_threshold0.8.pkl already exists. Skipping calculation.\n",
      "File Fly07192022_5d_SD_B_median6_threshold0.8.pkl already exists. Skipping calculation.\n",
      "File Fly07202022_6d_SD_B_median6_threshold0.8.pkl already exists. Skipping calculation.\n",
      "File Fly07212022_6d_SD_A_median6_threshold0.8.pkl already exists. Skipping calculation.\n",
      "File Fly07222022_6d_SD_A_median6_threshold0.8.pkl already exists. Skipping calculation.\n",
      "File Fly07222022_6d_SD_B_median6_threshold0.8.pkl already exists. Skipping calculation.\n",
      "File Fly07252022_6d_A_median6_threshold0.8.pkl already exists. Skipping calculation.\n",
      "File Fly07262022_6d_SD_A_median6_threshold0.8.pkl already exists. Skipping calculation.\n",
      "File Fly07282022_6d_SD_A_median6_threshold0.8.pkl already exists. Skipping calculation.\n",
      "File Fly07282022_6d_SD_B_median6_threshold0.8.pkl already exists. Skipping calculation.\n",
      "File Fly08012022_6d_B_median6_threshold0.8.pkl already exists. Skipping calculation.\n",
      "File Fly08022022_6d_B_median6_threshold0.8.pkl already exists. Skipping calculation.\n",
      "File Fly08022022_6d_SD_B_median6_threshold0.8.pkl already exists. Skipping calculation.\n",
      "File Fly08032022_6d_B_median6_threshold0.8.pkl already exists. Skipping calculation.\n",
      "File Fly08032022_6d_SD_B_median6_threshold0.8.pkl already exists. Skipping calculation.\n"
     ]
    }
   ],
   "source": [
    "process_data.process_expt_names_parallel(\n",
    "    llh, io_process.get_binary_mask_subfolder(\"ProboscisPumping\")\n",
    ")"
   ]
  },
  {
   "cell_type": "code",
   "execution_count": 7,
   "metadata": {
    "ExecuteTime": {
     "start_time": "2023-04-10T17:06:27.962764Z",
     "end_time": "2023-04-10T17:06:40.333180Z"
    },
    "collapsed": false,
    "jupyter": {
     "outputs_hidden": false
    }
   },
   "outputs": [],
   "source": [
    "llh = llh[llh[\"ExptNames\"].isin(df_data.ExptNames.unique())]"
   ]
  },
  {
   "cell_type": "code",
   "execution_count": 8,
   "metadata": {
    "ExecuteTime": {
     "start_time": "2023-04-10T17:06:40.333180Z",
     "end_time": "2023-04-10T17:07:58.009358Z"
    },
    "collapsed": false,
    "jupyter": {
     "outputs_hidden": false
    }
   },
   "outputs": [],
   "source": [
    "newDf = pd.merge(df_data, expt_info_df, left_on=\"ExptNames\", right_on=\"ExptNames\")"
   ]
  },
  {
   "cell_type": "code",
   "execution_count": 9,
   "metadata": {
    "collapsed": false,
    "jupyter": {
     "outputs_hidden": false
    },
    "ExecuteTime": {
     "start_time": "2023-04-10T17:07:58.009358Z",
     "end_time": "2023-04-10T17:07:58.257225Z"
    }
   },
   "outputs": [],
   "source": [
    "# Create a folder named binary mask and a subfolder for each predicted behavior.\n",
    "# Within that folder save binary mask generated using the likelihood score"
   ]
  },
  {
   "cell_type": "code",
   "execution_count": 10,
   "metadata": {
    "ExecuteTime": {
     "start_time": "2023-04-10T17:07:58.260019Z",
     "end_time": "2023-04-10T17:23:27.925618Z"
    },
    "collapsed": false,
    "jupyter": {
     "outputs_hidden": false
    }
   },
   "outputs": [],
   "source": [
    "wt_all = newDf[newDf[\"SD\"] == False]\n",
    "male_wt = wt_all[wt_all[\"Sex\"] == \"M\"]\n",
    "female_wt = wt_all[wt_all[\"Sex\"] == \"F\"]"
   ]
  },
  {
   "cell_type": "code",
   "execution_count": 14,
   "metadata": {
    "ExecuteTime": {
     "start_time": "2023-04-10T17:27:33.774703Z",
     "end_time": "2023-04-10T17:27:33.872717Z"
    },
    "collapsed": false,
    "jupyter": {
     "outputs_hidden": false
    }
   },
   "outputs": [
    {
     "data": {
      "text/plain": "     start_index  stop_index          region  \\\n0           2921        3268  Fly05182022_5d   \n1           3015        3337  Fly05182022_5d   \n2           3049        3354  Fly05182022_5d   \n3           3060        3394  Fly05182022_5d   \n4           3104        3468  Fly05182022_5d   \n..           ...         ...             ...   \n118       959717      960142  Fly05182022_5d   \n119       959869      960173  Fly05182022_5d   \n120       959900      960236  Fly05182022_5d   \n121      1018205     1018519  Fly05182022_5d   \n122      1018721     1019039  Fly05182022_5d   \n\n                                            bf98aa1786  \\\n0    [758.6258810125291, 758.6896228554348, 758.773...   \n1    [758.2635271946589, 758.6790062983831, 759.343...   \n2    [759.3077299942573, 757.4862793236971, 755.999...   \n3    [755.6794727966189, 755.4996426254511, 755.274...   \n4    [755.4611857831478, 755.8999953369299, 756.153...   \n..                                                 ...   \n118  [647.7980016767979, 648.0658544053634, 648.468...   \n119  [648.8443532387415, 649.0289256572723, 649.594...   \n120  [650.0055337647597, 650.0785303339362, 650.267...   \n121  [667.9027558118105, 667.4446874211231, 667.739...   \n122  [672.111951460441, 671.4573952257633, 671.0761...   \n\n                                            6b6b013840  \\\n0    [638.0838725566864, 637.9911467234293, 637.647...   \n1    [636.865932226181, 636.4138186573982, 636.0373...   \n2    [648.1716264088949, 646.2815745075544, 644.155...   \n3    [640.9506965478262, 641.2885080178579, 641.608...   \n4    [636.1042799552282, 636.549527088801, 636.3900...   \n..                                                 ...   \n118  [178.37109940250716, 178.47062985102335, 178.3...   \n119  [180.03096689780554, 180.12566620111465, 180.2...   \n120  [180.46540133158365, 180.3740152915319, 180.13...   \n121  [148.2845848004023, 148.24023167292276, 148.46...   \n122  [153.05976098775864, 153.20198665062586, 153.1...   \n\n                                            736e0c8583  \\\n0    [592.2871385216713, 592.0673806567987, 591.939...   \n1    [593.3076470692953, 593.0660186211268, 592.824...   \n2    [591.0555632462105, 590.8307492683331, 590.619...   \n3    [590.7927434444427, 590.7230416735014, 590.627...   \n4    [591.4155917068323, 591.635134935379, 591.6537...   \n..                                                 ...   \n118  [803.6159871816635, 803.8594224452972, 803.894...   \n119  [803.157877445221, 803.420283873876, 803.64269...   \n120  [803.456662774086, 803.3875011205673, 803.4771...   \n121  [792.0398577451706, 791.7777921358744, 791.726...   \n122  [795.2515601019064, 795.3763533433279, 795.292...   \n\n                                            80c4b09f71  \\\n0    [587.5258777538935, 587.4953110615412, 587.329...   \n1    [587.2004273037115, 587.2150823126236, 587.452...   \n2    [587.6654513676962, 587.3899451295534, 587.471...   \n3    [587.3997285366058, 587.3868263562521, 587.157...   \n4    [587.4608536909024, 587.8117415805658, 587.998...   \n..                                                 ...   \n118  [256.122812350591, 255.98054448763529, 255.699...   \n119  [255.3273297548294, 255.3039653301239, 255.269...   \n120  [255.60729831457138, 255.6647991935412, 255.69...   \n121  [242.87715063492456, 242.47512891888618, 242.2...   \n122  [243.04925104478994, 243.05869947373867, 243.0...   \n\n                                            e38dd6300f  \\\n0    [600.2830431461334, 600.0328272978464, 599.782...   \n1    [600.8599585294724, 600.7712555428346, 600.682...   \n2    [599.7426815629005, 599.6975306272507, 599.539...   \n3    [599.5620582501093, 599.3672413627306, 599.129...   \n4    [598.88236442705, 598.8248790999254, 598.58449...   \n..                                                 ...   \n118  [784.9624249239763, 784.9267788765331, 784.956...   \n119  [785.4493019779524, 785.6817349394163, 785.666...   \n120  [786.8366565108299, 786.7898837924004, 786.749...   \n121  [786.6918577750524, 786.668248206377, 786.6614...   \n122  [789.2718741794428, 789.2680533975363, 789.264...   \n\n                                            9e57f9fab8  \\\n0    [549.4471956032017, 549.7231232660512, 549.810...   \n1    [550.5488957961401, 550.5602042873701, 550.771...   \n2    [547.6847516496977, 547.3742707421383, 547.173...   \n3    [547.0130272946941, 546.8283525121709, 546.609...   \n4    [549.2257466316223, 549.2965656121572, 549.302...   \n..                                                 ...   \n118  [291.164989978075, 290.94647958378, 290.727969...   \n119  [290.5833921978871, 290.6189355154832, 290.641...   \n120  [289.7978567977746, 289.9107415427764, 290.008...   \n121  [280.466199486206, 280.28442756769556, 280.378...   \n122  [280.0803060270846, 280.4134398835401, 280.454...   \n\n                                            b11bab0d11  \\\n0    [834.2605776906113, 834.0830436815627, 833.875...   \n1    [834.756435073468, 834.5950247506487, 834.5905...   \n2    [833.4850697975897, 833.1313953514654, 833.038...   \n3    [833.1113411732489, 833.052816897502, 832.8232...   \n4    [833.5962192411781, 833.9992664445108, 834.143...   \n..                                                 ...   \n118  [843.443862898021, 843.6326275164286, 843.5805...   \n119  [842.7660537907562, 843.009055261724, 843.2104...   \n120  [843.1356355342512, 843.0871642383267, 843.180...   \n121  [828.4421805760073, 828.0738253705345, 827.962...   \n122  [831.5635768105464, 831.6856827237051, 831.607...   \n\n                                            4edfe1945a  \\\n0    [991.2942326872347, 991.2833334249085, 991.126...   \n1    [990.2332009703613, 990.260765241153, 990.5284...   \n2    [998.3359585382989, 995.7235243337489, 993.213...   \n3    [990.8931632680284, 990.9746013510915, 991.009...   \n4    [987.5982271157837, 988.2206754502492, 988.311...   \n..                                                 ...   \n118  [671.9066155936491, 672.1912803403319, 672.539...   \n119  [673.357367058503, 673.5605406822972, 674.1314...   \n120  [674.592436218032, 674.6383334746998, 674.7565...   \n121  [684.1654838636912, 683.7086931238498, 684.044...   \n122  [689.319784809338, 688.7132075959234, 688.3319...   \n\n                                            f06a9e0a70  \\\n0    [813.7763529649935, 813.7781676159844, 813.652...   \n1    [814.9458733108527, 814.8881150387854, 814.965...   \n2    [812.1883225446237, 811.9456388890268, 811.693...   \n3    [811.6020661156631, 811.3336780449489, 811.010...   \n4    [812.5939989839926, 812.5995033362691, 812.426...   \n..                                                 ...   \n118  [837.2234229472211, 837.1140317660938, 837.066...   \n119  [837.4779482463307, 837.7082751755313, 837.702...   \n120  [838.5074369579111, 838.502569644209, 838.4985...   \n121  [835.1918151800816, 835.1085516704046, 835.133...   \n122  [837.4933248659092, 837.6011923232057, 837.611...   \n\n                                            42b3adc018  \\\n0    [80.44709750226653, 80.42179532363298, 80.3016...   \n1    [78.73572879168856, 78.52161695230708, 78.5408...   \n2    [89.87807457742481, 87.83315904313895, 85.4491...   \n3    [83.57850051151549, 84.06557854057206, 84.1606...   \n4    [77.93312728272355, 78.09147833400941, 77.6735...   \n..                                                 ...   \n118  [85.68380143987255, 85.42776700722955, 85.3333...   \n119  [86.23981479511784, 86.18721546030643, 85.9734...   \n120  [85.56546272705215, 85.63691250321956, 85.8433...   \n121  [83.43289061040161, 83.2609476955067, 82.84345...   \n122  [81.91471960615907, 81.96595723439029, 82.1244...   \n\n                                            2bbee6c03d  \\\n0    [38.90913164151707, 38.60293396944258, 38.3294...   \n1    [37.421546871315, 37.455984289107455, 37.51377...   \n2    [40.91359645141134, 40.98626609422336, 41.2731...   \n3    [41.3277935458006, 41.46941027827967, 41.42932...   \n4    [38.95736267626434, 39.18049516059115, 39.3118...   \n..                                                 ...   \n118  [39.69772786668722, 39.76256543093854, 39.8195...   \n119  [39.453562374882345, 39.519656343306394, 39.67...   \n120  [38.01603474303983, 38.05608319782016, 38.1766...   \n121  [37.96758745593939, 38.15298813307185, 38.4503...   \n122  [37.510740819571126, 37.850864710220414, 37.87...   \n\n                                            bfe5b3e481  \\\n0    [145.5113712455229, 145.17950994787546, 145.02...   \n1    [144.91461752756064, 145.00640634170725, 144.9...   \n2    [146.02003278362406, 146.11778886238469, 146.2...   \n3    [145.88928557810198, 146.00388473621297, 146.1...   \n4    [144.13879219048002, 144.2031883319876, 144.17...   \n..                                                 ...   \n118  [167.17931265265693, 167.24028132979683, 167.3...   \n119  [166.40357442438446, 166.3974591802742, 166.43...   \n120  [166.24080302768243, 166.36615971596964, 166.4...   \n121  [172.81457658567672, 172.69582162768495, 172.8...   \n122  [171.25267220294452, 171.3449983687149, 171.26...   \n\n                                            3a8fb82d45  \n0    [915.7810046516133, 915.6801057550965, 915.637...  \n1    [916.8529863615873, 916.8515164922247, 916.901...  \n2    [914.9604916392724, 914.903447254525, 914.9340...  \n3    [913.8551437732976, 913.7154755493824, 913.535...  \n4    [914.6203983077863, 914.7134187691836, 914.802...  \n..                                                 ...  \n118  [811.3494979130488, 811.3926751586415, 811.403...  \n119  [810.4924965331542, 810.7545766468393, 810.945...  \n120  [810.5220865835017, 810.4386875501344, 810.521...  \n121  [810.8048709771107, 810.5560081570607, 810.463...  \n122  [811.3138919392985, 811.5001621426009, 811.697...  \n\n[123 rows x 16 columns]",
      "text/html": "<div>\n<style scoped>\n    .dataframe tbody tr th:only-of-type {\n        vertical-align: middle;\n    }\n\n    .dataframe tbody tr th {\n        vertical-align: top;\n    }\n\n    .dataframe thead th {\n        text-align: right;\n    }\n</style>\n<table border=\"1\" class=\"dataframe\">\n  <thead>\n    <tr style=\"text-align: right;\">\n      <th></th>\n      <th>start_index</th>\n      <th>stop_index</th>\n      <th>region</th>\n      <th>bf98aa1786</th>\n      <th>6b6b013840</th>\n      <th>736e0c8583</th>\n      <th>80c4b09f71</th>\n      <th>e38dd6300f</th>\n      <th>9e57f9fab8</th>\n      <th>b11bab0d11</th>\n      <th>4edfe1945a</th>\n      <th>f06a9e0a70</th>\n      <th>42b3adc018</th>\n      <th>2bbee6c03d</th>\n      <th>bfe5b3e481</th>\n      <th>3a8fb82d45</th>\n    </tr>\n  </thead>\n  <tbody>\n    <tr>\n      <th>0</th>\n      <td>2921</td>\n      <td>3268</td>\n      <td>Fly05182022_5d</td>\n      <td>[758.6258810125291, 758.6896228554348, 758.773...</td>\n      <td>[638.0838725566864, 637.9911467234293, 637.647...</td>\n      <td>[592.2871385216713, 592.0673806567987, 591.939...</td>\n      <td>[587.5258777538935, 587.4953110615412, 587.329...</td>\n      <td>[600.2830431461334, 600.0328272978464, 599.782...</td>\n      <td>[549.4471956032017, 549.7231232660512, 549.810...</td>\n      <td>[834.2605776906113, 834.0830436815627, 833.875...</td>\n      <td>[991.2942326872347, 991.2833334249085, 991.126...</td>\n      <td>[813.7763529649935, 813.7781676159844, 813.652...</td>\n      <td>[80.44709750226653, 80.42179532363298, 80.3016...</td>\n      <td>[38.90913164151707, 38.60293396944258, 38.3294...</td>\n      <td>[145.5113712455229, 145.17950994787546, 145.02...</td>\n      <td>[915.7810046516133, 915.6801057550965, 915.637...</td>\n    </tr>\n    <tr>\n      <th>1</th>\n      <td>3015</td>\n      <td>3337</td>\n      <td>Fly05182022_5d</td>\n      <td>[758.2635271946589, 758.6790062983831, 759.343...</td>\n      <td>[636.865932226181, 636.4138186573982, 636.0373...</td>\n      <td>[593.3076470692953, 593.0660186211268, 592.824...</td>\n      <td>[587.2004273037115, 587.2150823126236, 587.452...</td>\n      <td>[600.8599585294724, 600.7712555428346, 600.682...</td>\n      <td>[550.5488957961401, 550.5602042873701, 550.771...</td>\n      <td>[834.756435073468, 834.5950247506487, 834.5905...</td>\n      <td>[990.2332009703613, 990.260765241153, 990.5284...</td>\n      <td>[814.9458733108527, 814.8881150387854, 814.965...</td>\n      <td>[78.73572879168856, 78.52161695230708, 78.5408...</td>\n      <td>[37.421546871315, 37.455984289107455, 37.51377...</td>\n      <td>[144.91461752756064, 145.00640634170725, 144.9...</td>\n      <td>[916.8529863615873, 916.8515164922247, 916.901...</td>\n    </tr>\n    <tr>\n      <th>2</th>\n      <td>3049</td>\n      <td>3354</td>\n      <td>Fly05182022_5d</td>\n      <td>[759.3077299942573, 757.4862793236971, 755.999...</td>\n      <td>[648.1716264088949, 646.2815745075544, 644.155...</td>\n      <td>[591.0555632462105, 590.8307492683331, 590.619...</td>\n      <td>[587.6654513676962, 587.3899451295534, 587.471...</td>\n      <td>[599.7426815629005, 599.6975306272507, 599.539...</td>\n      <td>[547.6847516496977, 547.3742707421383, 547.173...</td>\n      <td>[833.4850697975897, 833.1313953514654, 833.038...</td>\n      <td>[998.3359585382989, 995.7235243337489, 993.213...</td>\n      <td>[812.1883225446237, 811.9456388890268, 811.693...</td>\n      <td>[89.87807457742481, 87.83315904313895, 85.4491...</td>\n      <td>[40.91359645141134, 40.98626609422336, 41.2731...</td>\n      <td>[146.02003278362406, 146.11778886238469, 146.2...</td>\n      <td>[914.9604916392724, 914.903447254525, 914.9340...</td>\n    </tr>\n    <tr>\n      <th>3</th>\n      <td>3060</td>\n      <td>3394</td>\n      <td>Fly05182022_5d</td>\n      <td>[755.6794727966189, 755.4996426254511, 755.274...</td>\n      <td>[640.9506965478262, 641.2885080178579, 641.608...</td>\n      <td>[590.7927434444427, 590.7230416735014, 590.627...</td>\n      <td>[587.3997285366058, 587.3868263562521, 587.157...</td>\n      <td>[599.5620582501093, 599.3672413627306, 599.129...</td>\n      <td>[547.0130272946941, 546.8283525121709, 546.609...</td>\n      <td>[833.1113411732489, 833.052816897502, 832.8232...</td>\n      <td>[990.8931632680284, 990.9746013510915, 991.009...</td>\n      <td>[811.6020661156631, 811.3336780449489, 811.010...</td>\n      <td>[83.57850051151549, 84.06557854057206, 84.1606...</td>\n      <td>[41.3277935458006, 41.46941027827967, 41.42932...</td>\n      <td>[145.88928557810198, 146.00388473621297, 146.1...</td>\n      <td>[913.8551437732976, 913.7154755493824, 913.535...</td>\n    </tr>\n    <tr>\n      <th>4</th>\n      <td>3104</td>\n      <td>3468</td>\n      <td>Fly05182022_5d</td>\n      <td>[755.4611857831478, 755.8999953369299, 756.153...</td>\n      <td>[636.1042799552282, 636.549527088801, 636.3900...</td>\n      <td>[591.4155917068323, 591.635134935379, 591.6537...</td>\n      <td>[587.4608536909024, 587.8117415805658, 587.998...</td>\n      <td>[598.88236442705, 598.8248790999254, 598.58449...</td>\n      <td>[549.2257466316223, 549.2965656121572, 549.302...</td>\n      <td>[833.5962192411781, 833.9992664445108, 834.143...</td>\n      <td>[987.5982271157837, 988.2206754502492, 988.311...</td>\n      <td>[812.5939989839926, 812.5995033362691, 812.426...</td>\n      <td>[77.93312728272355, 78.09147833400941, 77.6735...</td>\n      <td>[38.95736267626434, 39.18049516059115, 39.3118...</td>\n      <td>[144.13879219048002, 144.2031883319876, 144.17...</td>\n      <td>[914.6203983077863, 914.7134187691836, 914.802...</td>\n    </tr>\n    <tr>\n      <th>...</th>\n      <td>...</td>\n      <td>...</td>\n      <td>...</td>\n      <td>...</td>\n      <td>...</td>\n      <td>...</td>\n      <td>...</td>\n      <td>...</td>\n      <td>...</td>\n      <td>...</td>\n      <td>...</td>\n      <td>...</td>\n      <td>...</td>\n      <td>...</td>\n      <td>...</td>\n      <td>...</td>\n    </tr>\n    <tr>\n      <th>118</th>\n      <td>959717</td>\n      <td>960142</td>\n      <td>Fly05182022_5d</td>\n      <td>[647.7980016767979, 648.0658544053634, 648.468...</td>\n      <td>[178.37109940250716, 178.47062985102335, 178.3...</td>\n      <td>[803.6159871816635, 803.8594224452972, 803.894...</td>\n      <td>[256.122812350591, 255.98054448763529, 255.699...</td>\n      <td>[784.9624249239763, 784.9267788765331, 784.956...</td>\n      <td>[291.164989978075, 290.94647958378, 290.727969...</td>\n      <td>[843.443862898021, 843.6326275164286, 843.5805...</td>\n      <td>[671.9066155936491, 672.1912803403319, 672.539...</td>\n      <td>[837.2234229472211, 837.1140317660938, 837.066...</td>\n      <td>[85.68380143987255, 85.42776700722955, 85.3333...</td>\n      <td>[39.69772786668722, 39.76256543093854, 39.8195...</td>\n      <td>[167.17931265265693, 167.24028132979683, 167.3...</td>\n      <td>[811.3494979130488, 811.3926751586415, 811.403...</td>\n    </tr>\n    <tr>\n      <th>119</th>\n      <td>959869</td>\n      <td>960173</td>\n      <td>Fly05182022_5d</td>\n      <td>[648.8443532387415, 649.0289256572723, 649.594...</td>\n      <td>[180.03096689780554, 180.12566620111465, 180.2...</td>\n      <td>[803.157877445221, 803.420283873876, 803.64269...</td>\n      <td>[255.3273297548294, 255.3039653301239, 255.269...</td>\n      <td>[785.4493019779524, 785.6817349394163, 785.666...</td>\n      <td>[290.5833921978871, 290.6189355154832, 290.641...</td>\n      <td>[842.7660537907562, 843.009055261724, 843.2104...</td>\n      <td>[673.357367058503, 673.5605406822972, 674.1314...</td>\n      <td>[837.4779482463307, 837.7082751755313, 837.702...</td>\n      <td>[86.23981479511784, 86.18721546030643, 85.9734...</td>\n      <td>[39.453562374882345, 39.519656343306394, 39.67...</td>\n      <td>[166.40357442438446, 166.3974591802742, 166.43...</td>\n      <td>[810.4924965331542, 810.7545766468393, 810.945...</td>\n    </tr>\n    <tr>\n      <th>120</th>\n      <td>959900</td>\n      <td>960236</td>\n      <td>Fly05182022_5d</td>\n      <td>[650.0055337647597, 650.0785303339362, 650.267...</td>\n      <td>[180.46540133158365, 180.3740152915319, 180.13...</td>\n      <td>[803.456662774086, 803.3875011205673, 803.4771...</td>\n      <td>[255.60729831457138, 255.6647991935412, 255.69...</td>\n      <td>[786.8366565108299, 786.7898837924004, 786.749...</td>\n      <td>[289.7978567977746, 289.9107415427764, 290.008...</td>\n      <td>[843.1356355342512, 843.0871642383267, 843.180...</td>\n      <td>[674.592436218032, 674.6383334746998, 674.7565...</td>\n      <td>[838.5074369579111, 838.502569644209, 838.4985...</td>\n      <td>[85.56546272705215, 85.63691250321956, 85.8433...</td>\n      <td>[38.01603474303983, 38.05608319782016, 38.1766...</td>\n      <td>[166.24080302768243, 166.36615971596964, 166.4...</td>\n      <td>[810.5220865835017, 810.4386875501344, 810.521...</td>\n    </tr>\n    <tr>\n      <th>121</th>\n      <td>1018205</td>\n      <td>1018519</td>\n      <td>Fly05182022_5d</td>\n      <td>[667.9027558118105, 667.4446874211231, 667.739...</td>\n      <td>[148.2845848004023, 148.24023167292276, 148.46...</td>\n      <td>[792.0398577451706, 791.7777921358744, 791.726...</td>\n      <td>[242.87715063492456, 242.47512891888618, 242.2...</td>\n      <td>[786.6918577750524, 786.668248206377, 786.6614...</td>\n      <td>[280.466199486206, 280.28442756769556, 280.378...</td>\n      <td>[828.4421805760073, 828.0738253705345, 827.962...</td>\n      <td>[684.1654838636912, 683.7086931238498, 684.044...</td>\n      <td>[835.1918151800816, 835.1085516704046, 835.133...</td>\n      <td>[83.43289061040161, 83.2609476955067, 82.84345...</td>\n      <td>[37.96758745593939, 38.15298813307185, 38.4503...</td>\n      <td>[172.81457658567672, 172.69582162768495, 172.8...</td>\n      <td>[810.8048709771107, 810.5560081570607, 810.463...</td>\n    </tr>\n    <tr>\n      <th>122</th>\n      <td>1018721</td>\n      <td>1019039</td>\n      <td>Fly05182022_5d</td>\n      <td>[672.111951460441, 671.4573952257633, 671.0761...</td>\n      <td>[153.05976098775864, 153.20198665062586, 153.1...</td>\n      <td>[795.2515601019064, 795.3763533433279, 795.292...</td>\n      <td>[243.04925104478994, 243.05869947373867, 243.0...</td>\n      <td>[789.2718741794428, 789.2680533975363, 789.264...</td>\n      <td>[280.0803060270846, 280.4134398835401, 280.454...</td>\n      <td>[831.5635768105464, 831.6856827237051, 831.607...</td>\n      <td>[689.319784809338, 688.7132075959234, 688.3319...</td>\n      <td>[837.4933248659092, 837.6011923232057, 837.611...</td>\n      <td>[81.91471960615907, 81.96595723439029, 82.1244...</td>\n      <td>[37.510740819571126, 37.850864710220414, 37.87...</td>\n      <td>[171.25267220294452, 171.3449983687149, 171.26...</td>\n      <td>[811.3138919392985, 811.5001621426009, 811.697...</td>\n    </tr>\n  </tbody>\n</table>\n<p>123 rows × 16 columns</p>\n</div>"
     },
     "execution_count": 14,
     "metadata": {},
     "output_type": "execute_result"
    }
   ],
   "source": [
    "data = BehaviorData(behaviors=BEHAVIORS)"
   ]
  },
  {
   "cell_type": "code",
   "execution_count": null,
   "metadata": {
    "ExecuteTime": {
     "start_time": "2023-04-10T16:59:21.159418Z",
     "end_time": "2023-04-10T16:59:21.187701Z"
    },
    "collapsed": false,
    "jupyter": {
     "outputs_hidden": false
    }
   },
   "outputs": [],
   "source": [
    "newDf"
   ]
  },
  {
   "cell_type": "code",
   "execution_count": null,
   "metadata": {
    "ExecuteTime": {
     "start_time": "2023-04-07T17:20:59.823795Z",
     "end_time": "2023-04-07T17:28:02.175309Z"
    },
    "collapsed": false,
    "jupyter": {
     "outputs_hidden": false
    }
   },
   "outputs": [],
   "source": [
    "newDf"
   ]
  },
  {
   "cell_type": "code",
   "execution_count": null,
   "metadata": {
    "ExecuteTime": {
     "start_time": "2023-04-07T13:31:18.564515Z",
     "end_time": "2023-04-07T13:31:18.594528Z"
    },
    "collapsed": false,
    "jupyter": {
     "outputs_hidden": false
    }
   },
   "outputs": [],
   "source": [
    "filterer = FilterData(newDf, llh)"
   ]
  },
  {
   "cell_type": "code",
   "execution_count": null,
   "metadata": {
    "ExecuteTime": {
     "start_time": "2023-04-07T13:31:30.769099Z",
     "end_time": "2023-04-07T13:31:31.105199Z"
    },
    "collapsed": false,
    "jupyter": {
     "outputs_hidden": false
    }
   },
   "outputs": [],
   "source": [
    "filterer.plot_mean_likelihood()"
   ]
  },
  {
   "cell_type": "code",
   "execution_count": null,
   "metadata": {
    "ExecuteTime": {
     "start_time": "2023-04-07T13:32:03.923372Z",
     "end_time": "2023-04-07T13:32:04.254912Z"
    },
    "collapsed": false,
    "jupyter": {
     "outputs_hidden": false
    }
   },
   "outputs": [],
   "source": [
    "binary_mask = filterer.create_binary_masks(llh, BODY_PART_SETS, 0.7)"
   ]
  },
  {
   "cell_type": "code",
   "execution_count": null,
   "metadata": {
    "ExecuteTime": {
     "end_time": "2023-04-04T21:31:22.895378Z",
     "start_time": "2023-04-04T21:30:53.991830Z"
    },
    "collapsed": false,
    "jupyter": {
     "outputs_hidden": false
    }
   },
   "outputs": [],
   "source": [
    "masked_data_df = filterer.apply_binary_masks(binary_mask, newDf)"
   ]
  },
  {
   "cell_type": "code",
   "execution_count": null,
   "metadata": {
    "ExecuteTime": {
     "end_time": "2023-04-04T08:39:18.478504Z",
     "start_time": "2023-04-04T08:39:18.468658Z"
    },
    "collapsed": false,
    "jupyter": {
     "outputs_hidden": false
    }
   },
   "outputs": [],
   "source": [
    "masked_data_df"
   ]
  },
  {
   "cell_type": "code",
   "execution_count": null,
   "metadata": {
    "ExecuteTime": {
     "end_time": "2023-04-04T08:17:51.471252Z",
     "start_time": "2023-04-04T08:17:51.437764Z"
    },
    "collapsed": false,
    "jupyter": {
     "outputs_hidden": false
    }
   },
   "outputs": [],
   "source": [
    "binary_mask"
   ]
  },
  {
   "cell_type": "code",
   "execution_count": null,
   "metadata": {
    "ExecuteTime": {
     "end_time": "2023-04-04T08:39:23.731518Z",
     "start_time": "2023-04-04T08:39:23.721518Z"
    },
    "collapsed": false,
    "jupyter": {
     "outputs_hidden": false
    }
   },
   "outputs": [],
   "source": [
    "masked_data_df"
   ]
  },
  {
   "cell_type": "code",
   "execution_count": null,
   "metadata": {
    "ExecuteTime": {
     "end_time": "2023-04-04T09:53:03.149746Z",
     "start_time": "2023-04-04T09:33:16.208548Z"
    },
    "collapsed": false,
    "jupyter": {
     "outputs_hidden": false
    }
   },
   "outputs": [],
   "source": [
    "import pandas as pd\n",
    "import seaborn as sns\n",
    "import matplotlib.pyplot as plt\n",
    "\n",
    "# Assuming your DataFrame is called 'masked_data_df'\n",
    "# and has columns 'ExptNames', 'ValueColumn' (replace with your actual column name)\n",
    "# Add row numbers if they don't exist\n",
    "masked_data_df[\"Row\"] = masked_data_df.index\n",
    "\n",
    "# Pivot the DataFrame\n",
    "pivoted_df = masked_data_df.pivot(\n",
    "    index=\"ExptNames\", columns=\"Row\", values=\"ProboscisPumping\"\n",
    ")\n",
    "\n",
    "# Create a heatmap using Seaborn, handling NaN values with a different color (e.g., gray)\n",
    "plt.figure(figsize=(16, 9))\n",
    "sns.heatmap(\n",
    "    pivoted_df,\n",
    "    cmap=\"coolwarm\",\n",
    "    linewidths=0.5,\n",
    "    cbar_kws={\"ticks\": [0, 1]},\n",
    "    mask=pivoted_df.isna(),\n",
    "    linecolor=\"gray\",\n",
    ")\n",
    "\n",
    "# Set plot attributes\n",
    "plt.xlabel(\"Rows\")\n",
    "plt.ylabel(\"ExptNames\")\n",
    "plt.title(\"Heatmap of Data\")\n",
    "\n",
    "# Save the plot as a PNG file\n",
    "FIG_PATH = r\"C:\\Users\\Grover\\Documents\\GitHub\\deepsleepfigs\"\n",
    "plt.savefig(f\"{FIG_PATH}\\\\heatmap.png\", dpi=300, bbox_inches=\"tight\")\n",
    "\n",
    "# Display the plot in the notebook (optional)\n",
    "plt.show()"
   ]
  },
  {
   "cell_type": "code",
   "execution_count": null,
   "metadata": {
    "ExecuteTime": {
     "end_time": "2023-04-04T21:17:07.622165Z",
     "start_time": "2023-04-04T21:17:07.605162Z"
    },
    "collapsed": false,
    "jupyter": {
     "outputs_hidden": false
    }
   },
   "outputs": [],
   "source": [
    "plot_folder = r\"C:\\Users\\Grover\\Documents\\GitHub\\deepsleepfigs\\score_plots\"\n",
    "if not os.path.isdir(plot_folder):\n",
    "    os.makedirs(plot_folder)"
   ]
  },
  {
   "cell_type": "code",
   "execution_count": null,
   "metadata": {
    "ExecuteTime": {
     "end_time": "2023-04-04T21:18:18.025577Z",
     "start_time": "2023-04-04T21:17:07.619165Z"
    },
    "collapsed": false,
    "jupyter": {
     "outputs_hidden": false
    }
   },
   "outputs": [],
   "source": [
    "male_wt[\"Time\"] = male_wt[\"Idx\"].apply(BehaviorData.get_time_stamp)\n",
    "male_wt.index = pd.to_datetime(list(male_wt[\"Time\"]))\n",
    "rate = \"1S\"\n",
    "male_wt_rs = BehaviorData.resample_df(male_wt, rate, BEHAVIORS)\n",
    "male_wt_rs[\"TimeStamp\"] = male_wt_rs.index"
   ]
  },
  {
   "cell_type": "code",
   "execution_count": null,
   "metadata": {
    "ExecuteTime": {
     "end_time": "2023-04-04T15:36:53.791586Z",
     "start_time": "2023-04-04T15:36:53.741585Z"
    },
    "collapsed": false,
    "jupyter": {
     "outputs_hidden": false
    }
   },
   "outputs": [],
   "source": [
    "male_wt"
   ]
  },
  {
   "cell_type": "code",
   "execution_count": null,
   "metadata": {
    "ExecuteTime": {
     "end_time": "2023-04-04T12:25:54.326013Z",
     "start_time": "2023-04-04T12:25:54.298730Z"
    },
    "collapsed": false,
    "jupyter": {
     "outputs_hidden": false
    }
   },
   "outputs": [],
   "source": [
    "llh[\"Time\"] = llh[\"Idx\"].apply(BehaviorData.get_time_stamp)"
   ]
  },
  {
   "cell_type": "code",
   "execution_count": null,
   "metadata": {
    "ExecuteTime": {
     "end_time": "2023-04-04T21:30:52.769212Z",
     "start_time": "2023-04-04T21:18:18.053583Z"
    },
    "collapsed": false,
    "jupyter": {
     "outputs_hidden": false
    }
   },
   "outputs": [],
   "source": [
    "BehaviorData.pivot_and_plot(male_wt_rs, \"mal_b_scr_\", plot_folder, rate, BEHAVIORS)"
   ]
  },
  {
   "cell_type": "code",
   "execution_count": null,
   "metadata": {
    "ExecuteTime": {
     "end_time": "2023-04-04T15:30:16.892051Z",
     "start_time": "2023-04-04T15:30:16.862051Z"
    },
    "collapsed": false,
    "jupyter": {
     "outputs_hidden": false
    }
   },
   "outputs": [],
   "source": [
    "import os"
   ]
  },
  {
   "cell_type": "code",
   "execution_count": null,
   "metadata": {
    "ExecuteTime": {
     "end_time": "2023-04-04T15:32:09.208182Z",
     "start_time": "2023-04-04T15:32:09.178182Z"
    },
    "collapsed": false,
    "jupyter": {
     "outputs_hidden": false
    }
   },
   "outputs": [],
   "source": [
    "os.listdir(plot_folder)"
   ]
  },
  {
   "cell_type": "code",
   "execution_count": null,
   "metadata": {
    "ExecuteTime": {
     "end_time": "2023-04-04T15:36:19.689442Z",
     "start_time": "2023-04-04T15:36:16.560783Z"
    },
    "collapsed": false,
    "jupyter": {
     "outputs_hidden": false
    }
   },
   "outputs": [],
   "source": [
    "df_pivoted = male_wt_rs.pivot(\n",
    "    index=\"ExptNames\", columns=\"TimeStamp\", values=\"ProboscisPumping\"\n",
    ")\n",
    "a4_dims = (25.7, 5.27)\n",
    "fig, ax = plt.subplots(figsize=a4_dims)\n",
    "plt.title(\"ProboscisPumping\")\n",
    "ax = sns.heatmap(df_pivoted, cmap=\"YlGnBu\")"
   ]
  },
  {
   "cell_type": "code",
   "execution_count": null,
   "metadata": {
    "ExecuteTime": {
     "end_time": "2023-04-04T15:36:28.774090Z",
     "start_time": "2023-04-04T15:36:28.704090Z"
    },
    "collapsed": false,
    "jupyter": {
     "outputs_hidden": false
    }
   },
   "outputs": [],
   "source": [
    "male_wt_rs"
   ]
  },
  {
   "cell_type": "code",
   "execution_count": null,
   "metadata": {
    "ExecuteTime": {
     "end_time": "2023-04-05T10:24:16.158940Z",
     "start_time": "2023-04-05T10:24:16.128940Z"
    },
    "collapsed": false,
    "jupyter": {
     "outputs_hidden": false
    }
   },
   "outputs": [],
   "source": [
    "result_df_parallel = BehaviorData.process_expt_names_parallel(male_wt, llh)\n",
    "print(result_df_parallel)"
   ]
  },
  {
   "cell_type": "code",
   "execution_count": null,
   "metadata": {
    "collapsed": false,
    "jupyter": {
     "outputs_hidden": false
    }
   },
   "outputs": [],
   "source": [
    "unique_expt_names = male_wt[\"ExptNames\"].unique()\n",
    "\n",
    "unmasked_data = np.vstack(\n",
    "    [result_df_parallel[f\"{expt_name}_unmasked\"] for expt_name in unique_expt_names]\n",
    ")\n",
    "masked_data = np.vstack(\n",
    "    [result_df_parallel[f\"{expt_name}_masked\"] for expt_name in unique_expt_names]\n",
    ")\n",
    "\n",
    "# Plot the heatmap\n",
    "plt.figure(figsize=(10, 3))\n",
    "sns.heatmap(data, cmap=\"YlGnBu\")\n",
    "plt.xlabel(\"Data\")\n",
    "plt.ylabel(\"Arrays\")\n",
    "plt.yticks([0.5, 1.5], [\"Array 1\", \"Array 2\"], rotation=0)\n",
    "plt.show()"
   ]
  },
  {
   "cell_type": "code",
   "execution_count": null,
   "metadata": {
    "ExecuteTime": {
     "end_time": "2023-04-05T13:13:12.747942Z",
     "start_time": "2023-04-05T13:13:11.844120Z"
    },
    "collapsed": false,
    "jupyter": {
     "outputs_hidden": false
    }
   },
   "outputs": [],
   "source": [
    "unique_expt_names = male_wt[\"ExptNames\"].unique()\n",
    "\n",
    "a4_dims = (25.7, 5.27)\n",
    "# Plot the unmasked data heatmap\n",
    "# plt.figure(figsize=(a4_dims))\n",
    "# sns.heatmap(unmasked_data, cmap='YlGnBu', yticklabels=unique_expt_names)\n",
    "# plt.xlabel('Data')\n",
    "# plt.ylabel('ExptNames')\n",
    "# plt.title('Unmasked Data')\n",
    "# plt.savefig(os.path.join(plot_folder,'unmasked_data_heatmap_full_07.png'), dpi=300)  # Save the figure as a PNG file\n",
    "# plt.show()"
   ]
  },
  {
   "cell_type": "code",
   "execution_count": null,
   "metadata": {
    "ExecuteTime": {
     "end_time": "2023-04-05T13:15:44.991104Z",
     "start_time": "2023-04-05T13:13:19.470299Z"
    },
    "collapsed": false,
    "jupyter": {
     "outputs_hidden": false
    }
   },
   "outputs": [],
   "source": [
    "# Plot the masked data heatmap\n",
    "plt.figure(figsize=(a4_dims))\n",
    "sns.heatmap(masked_data, cmap=\"YlGnBu\", yticklabels=unique_expt_names)\n",
    "plt.xlabel(\"Data\")\n",
    "plt.ylabel(\"ExptNames\")\n",
    "plt.title(\"Masked Data\")\n",
    "plt.savefig(os.path.join(plot_folder, \"masked_data_heatmap_full_09.png\"), dpi=300)\n",
    "plt.show()"
   ]
  },
  {
   "cell_type": "code",
   "execution_count": null,
   "metadata": {
    "ExecuteTime": {
     "end_time": "2023-04-05T22:05:54.402754Z",
     "start_time": "2023-04-05T22:05:54.377485Z"
    },
    "collapsed": false,
    "jupyter": {
     "outputs_hidden": false
    }
   },
   "outputs": [],
   "source": [
    "snap_paths = [\n",
    "    {expt_names: os.path.join(project.project_path, expt_names, \"snap_stft.pkl\")}\n",
    "    for expt_names in project.expt_names\n",
    "]\n",
    "snap_col_names = [\n",
    "    os.path.join(project.project_path, expt_names, \"ftname_to_snapft.yaml\")\n",
    "    for expt_names in project.expt_names\n",
    "]"
   ]
  },
  {
   "cell_type": "code",
   "execution_count": null,
   "metadata": {
    "ExecuteTime": {
     "end_time": "2023-04-06T09:39:04.845527Z",
     "start_time": "2023-04-06T09:39:04.806500Z"
    },
    "collapsed": false,
    "jupyter": {
     "outputs_hidden": false
    }
   },
   "outputs": [],
   "source": [
    "df_data"
   ]
  },
  {
   "cell_type": "code",
   "execution_count": null,
   "metadata": {
    "ExecuteTime": {
     "end_time": "2023-04-06T09:39:56.867058Z",
     "start_time": "2023-04-06T09:39:56.827057Z"
    },
    "collapsed": false,
    "jupyter": {
     "outputs_hidden": false
    }
   },
   "outputs": [],
   "source": [
    "df_data"
   ]
  },
  {
   "cell_type": "code",
   "execution_count": null,
   "metadata": {
    "collapsed": false,
    "jupyter": {
     "outputs_hidden": false
    }
   },
   "outputs": [],
   "source": []
  }
 ],
 "metadata": {
  "kernelspec": {
   "display_name": "Python 3 (ipykernel)",
   "language": "python",
   "name": "python3"
  },
  "language_info": {
   "codemirror_mode": {
    "name": "ipython",
    "version": 3
   },
   "file_extension": ".py",
   "mimetype": "text/x-python",
   "name": "python",
   "nbconvert_exporter": "python",
   "pygments_lexer": "ipython3",
   "version": "3.9.0"
  }
 },
 "nbformat": 4,
 "nbformat_minor": 4
}
